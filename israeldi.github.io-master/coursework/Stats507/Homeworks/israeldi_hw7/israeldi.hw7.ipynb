{
 "cells": [
  {
   "cell_type": "markdown",
   "metadata": {},
   "source": [
    "## Stats507 Homework 7, March 13, 2019\n",
    "### Israel Diego  [(Go to Home Page)](https://israeldi.github.io/Stats507/) \n",
    "#### israeldi@umich.edu\n",
    "\n",
    "This notebook shows solutions to homework 7 for Stats507\n",
    "\n",
    "## Table of Contents\n",
    "\n",
    "1. [Problem 1: Regular Expressions: Warmup](#Problem-1:-Regular-Expressions:-Warmup)\n",
    "2. [Problem 2: Exploring Internet Traffic with Regexes](#Problem-2:-Exploring-Internet-Traffic-with-Regexes)\n",
    "3. [Problem 3: Retrieving Data from the Web](#Problem-3:-Retrieving-Data-from-the-Web)\n",
    "4. [Problem 4: Retrieving Data from the Web](#Problem-4:-Relational-Databases-and-SQL)"
   ]
  },
  {
   "cell_type": "markdown",
   "metadata": {},
   "source": [
    "### Problem 1: Regular Expressions: Warmup\n",
    "#### Time Spent: 2 hours\n",
    "#### ([Back to Top](#Table-of-Contents))\n",
    "In this problem, you'll get practice with basic regular expressions. Pay particular attention to edge cases such as the empty string and single-character strings when writing your regexes. At the URL http://www.greenteapress.com/thinkpython/code/words.txt is a list of about $100,000$ English words.\n",
    "1. Use `urllib` to open the URL and read the file, and produce a list of ASCII strings so that each line of the file corresponds to an element of the list. You will likely need to convert the raw bytes read from the webpage to ASCII characters, for which you should see the documentation for the string methods `encode` and `decode`. How many words are in the file?"
   ]
  },
  {
   "cell_type": "code",
   "execution_count": 61,
   "metadata": {},
   "outputs": [
    {
     "data": {
      "text/plain": [
       "113809"
      ]
     },
     "execution_count": 61,
     "metadata": {},
     "output_type": "execute_result"
    }
   ],
   "source": [
    "import urllib.request\n",
    "import re\n",
    "\n",
    "response = urllib.request.urlopen('http://www.greenteapress.com/thinkpython/code/words.txt')\n",
    "words = []\n",
    "for line in response:\n",
    "    words.append(line.decode(\"ascii\").replace('\\r\\n', ''))\n",
    "\n",
    "numWords = len(words)\n",
    "numWords"
   ]
  },
  {
   "cell_type": "markdown",
   "metadata": {},
   "source": [
    "2. It is a good habit to always look at your data to check that it makes sense. Have a look at the words in the list. Does anything jump out at you? **Note:** I am not requiring you to do anything specific, here. Just look at the data!"
   ]
  },
  {
   "cell_type": "markdown",
   "metadata": {},
   "source": [
    "- *After removing unwanted characters, `\\r\\n`, each element in the list represents a word of type string*"
   ]
  },
  {
   "cell_type": "markdown",
   "metadata": {},
   "source": [
    "3. Write a regular expression that matches any string containing exactly four consecutive consonants. Compile this regular expression, and assign it to a variable called `four_consecutive_consonants`. Use this regex to determine how many words from the list start with exactly four consecutive consonants. For the purposes of this **specific** problem, the vowels are `a, e, i, o, u, y`. All other letters are consonants. Produce a list of all such words."
   ]
  },
  {
   "cell_type": "code",
   "execution_count": 62,
   "metadata": {
    "scrolled": true
   },
   "outputs": [
    {
     "data": {
      "text/plain": [
       "1629"
      ]
     },
     "execution_count": 62,
     "metadata": {},
     "output_type": "execute_result"
    }
   ],
   "source": [
    "four_consecutive_consonants = re.compile(r'[^aeiouy]{4}')\n",
    "filterWords = list(filter(four_consecutive_consonants.search, words))\n",
    "\n",
    "num_four_consonants = len(filterWords)\n",
    "num_four_consonants"
   ]
  },
  {
   "cell_type": "markdown",
   "metadata": {},
   "source": [
    "4. Write a regular expression that matches any string that contains no instances of the letter `e`. Compile this regular expression, and assign it to a variable called `gadsby`. (*Gadsby* is the title of an English novel written in the $1930$s that contains *almost* no instances of the letter `e`). How many words in the list do not contain the letter `e`?"
   ]
  },
  {
   "cell_type": "code",
   "execution_count": 63,
   "metadata": {},
   "outputs": [
    {
     "data": {
      "text/plain": [
       "37641"
      ]
     },
     "execution_count": 63,
     "metadata": {},
     "output_type": "execute_result"
    }
   ],
   "source": [
    "gadsby = re.compile(r'^[^e]*$')\n",
    "filterWords = list(filter(gadsby.search, words))\n",
    "\n",
    "numGadsby = len(filterWords)\n",
    "numGadsby"
   ]
  },
  {
   "cell_type": "markdown",
   "metadata": {
    "scrolled": false
   },
   "source": [
    "5. Write a regular expression that matches any string that begins and ends with a vowel and has no vowels in between. For the purposes of this specific problem, y is neither consonant nor vowel, so consonants are the $20$ letters that are not one of `a, e, i, o, u, y` and vowels are `a, e, i, o, u`. The words need not begin and end with the *same* vowel, so `angle` is a valid match. Compile this regular expression, and assign it to a variable called `vowel_vowel`. How many words begin and end with a vowel with no vowels in between?"
   ]
  },
  {
   "cell_type": "code",
   "execution_count": 64,
   "metadata": {},
   "outputs": [
    {
     "data": {
      "text/plain": [
       "169"
      ]
     },
     "execution_count": 64,
     "metadata": {},
     "output_type": "execute_result"
    }
   ],
   "source": [
    "vowel_vowel = re.compile(r'^[aeiou]{1}[^aeiouy]*[aeiou]{1}$')\n",
    "filterWords = list(filter(vowel_vowel.search, words))\n",
    "\n",
    "# vowel_vowel\n",
    "num_vowel_vowel = len(filterWords)\n",
    "num_vowel_vowel"
   ]
  },
  {
   "cell_type": "markdown",
   "metadata": {},
   "source": [
    "6. Write a regular expression that matches any string whose last two characters are the first two characters in reverse order. So, for example, your regex should match `repeater` and `stats`, but not `neoprene`. Compile this regular expression and assign it to a variable called `bookends`. How many words in the list have this property? **Hint:** be careful of the cases in which the word is length less or equal to $3$. You may handle the case of a single character (e.g., `a`), as you like, but please give an explanation for your choice."
   ]
  },
  {
   "cell_type": "code",
   "execution_count": 65,
   "metadata": {},
   "outputs": [
    {
     "data": {
      "text/plain": [
       "886"
      ]
     },
     "execution_count": 65,
     "metadata": {},
     "output_type": "execute_result"
    }
   ],
   "source": [
    "bookends = re.compile(r'^(\\w)(\\w).*\\2\\1$|^(\\w).\\3$|^(\\w)\\4$|^.$')\n",
    "filterWords = list(filter(r.search, words))\n",
    "\n",
    "numBookends = len(filterWords)\n",
    "numBookends"
   ]
  },
  {
   "cell_type": "markdown",
   "metadata": {},
   "source": [
    "* *I chose to include all single characters as part of the bookends list*"
   ]
  },
  {
   "cell_type": "markdown",
   "metadata": {},
   "source": [
    "### Problem 2: Exploring Internet Traffic with Regexes\n",
    "#### Time Spent: 2 hours\n",
    "#### ([Back to Top](#Table-of-Contents))\n",
    "In this problem, you'll get a taste of a more realistic application of regular expressions. The\n",
    "file http://umich.edu/~klevin/teaching/Winter2019/STATS507/SkypeIRC.txt contains data generated by web traffic associated with Skype and IRC, captured using the Wireshark program, a common tool for analyzing web traffic. The original data file can be found on the Wireshark wiki, https://wiki.wireshark.org/SampleCaptures, but please use the file provided on my website for this assignment.\n",
    "1. Download the file from the URL above (or use `urllib` or `requests` to open it directly, being careful to convert the raw bytes back to UTF-8) and read its contents into a string. Each line of this file corresponds to a single packet sent over the internet. How many packets are in this file? Save the answer in a variable `n_packets`. **Note:** if you decide to download the file, don't forget to include a copy of it in your submission so that we can run your code."
   ]
  },
  {
   "cell_type": "code",
   "execution_count": 66,
   "metadata": {},
   "outputs": [
    {
     "data": {
      "text/plain": [
       "2263"
      ]
     },
     "execution_count": 66,
     "metadata": {},
     "output_type": "execute_result"
    }
   ],
   "source": [
    "response = urllib.request.urlopen('http://umich.edu/~klevin/teaching/Winter2019/STATS507/SkypeIRC.txt')\n",
    "packets = []\n",
    "for line in response:\n",
    "    packets.append(line.decode('utf-8'))\n",
    "    \n",
    "n_packets = len(packets)\n",
    "n_packets"
   ]
  },
  {
   "cell_type": "markdown",
   "metadata": {},
   "source": [
    "2. Use regular expressions to extract all the IP addresses from the file and collect them in a Python list. An IP address consists of four numbers, which are displayed as `A.B.C.D` where `A,B,C` and `D` are each numbers between $0$ and $255$. How many unique IP addresses appear in the data set? Save the answer in a variable `ip_addresses`"
   ]
  },
  {
   "cell_type": "code",
   "execution_count": 67,
   "metadata": {},
   "outputs": [
    {
     "data": {
      "text/plain": [
       "368"
      ]
     },
     "execution_count": 67,
     "metadata": {},
     "output_type": "execute_result"
    }
   ],
   "source": [
    "ip_addresses_set = set()\n",
    "for line in packets:\n",
    "    [ip_addresses_set.add(x) for x in re.findall(r'\\d+\\.\\d+\\.\\d+\\.\\d+', line)]\n",
    "\n",
    "ip_addresses = len(ip_addresses_set)\n",
    "ip_addresses"
   ]
  },
  {
   "cell_type": "markdown",
   "metadata": {},
   "source": [
    "3. Write a function called `get_packets_by_regex` that takes a single raw string as its argument and returns all lines of the input file that match the input raw string as a regular expression. So, for example, `get_packets_by_regex(r'comcast')` will return all lines from the file containing the string `'comcast'`. Your function should perform appropriate error checking to ensure that the input is a string, but you do not need to check that it is a raw string."
   ]
  },
  {
   "cell_type": "code",
   "execution_count": 68,
   "metadata": {},
   "outputs": [],
   "source": [
    "def get_packets_by_regex(string):\n",
    "    # Perform Error-checking\n",
    "    if not isinstance(string, str):\n",
    "        raise TypeError('Should a string!')\n",
    "    \n",
    "    r = re.compile(string)\n",
    "    return list(filter(r.search, packets))\n",
    "\n",
    "# get_packets_by_regex('comcast')"
   ]
  },
  {
   "cell_type": "markdown",
   "metadata": {},
   "source": [
    "4. The second piece of text (i.e., non-whitespace) on each line is a time stamp, counting the time (in seconds) since the beginning of the traffic recording. Using `matplotlib`, create a plot displaying how many packets appeared in each second of the recording. A histogram or line plot is the most obvious way to do this, but you should feel free to use a more creative way of displaying this information if you wish to do so. **Note:** in case it wasn't obvious, there is no need to use a regular expression for this subproblem if you do not want to."
   ]
  },
  {
   "cell_type": "code",
   "execution_count": 69,
   "metadata": {},
   "outputs": [
    {
     "data": {
      "image/png": "[encoded data removed]",
      "text/plain": [
       "<Figure size 504x504 with 1 Axes>"
      ]
     },
     "metadata": {},
     "output_type": "display_data"
    }
   ],
   "source": [
    "import matplotlib.pyplot as plt\n",
    "%matplotlib inline\n",
    "import math\n",
    "import numpy as np\n",
    "\n",
    "# Get list of Time Stamps\n",
    "timeStamps = []\n",
    "for line in packets:\n",
    "    timeStamps.append(float(re.findall(r'\\d+\\.\\d+', line)[0]))\n",
    "\n",
    "# Specify the bins for each second\n",
    "bins = np.linspace(0, math.ceil(timeStamps[-1]), math.ceil(timeStamps[-1]))\n",
    "\n",
    "# Plot the histogram showing web traffic per second\n",
    "plt.rcParams['figure.figsize'] = [7, 7]\n",
    "plt.hist(timeStamps, bins, facecolor = 'blue')\n",
    "plt.title('Skype and IRC WebTraffic', fontsize = 14)\n",
    "plt.xlabel('Time (seconds)', fontsize = 12)\n",
    "plt.ylabel('Number of Packets', fontsize = 12)\n",
    "_ = plt.tight_layout()"
   ]
  },
  {
   "cell_type": "markdown",
   "metadata": {},
   "source": [
    "### Problem 3: Retrieving Data from the Web\n",
    "#### Time Spent: 3 hours\n",
    "#### ([Back to Top](#Table-of-Contents))"
   ]
  },
  {
   "cell_type": "markdown",
   "metadata": {},
   "source": [
    "In this problem, we'll scrape data from Wikipedia using BeautifulSoup. Documentation for BeauitfulSoup can be found at https://www.crummy.com/software/BeautifulSoup/bs4/doc/. As mentioned in lecture, there is another package, called requests, which is becoming quite popular, which you are welcome to use for this problem instead, if you wish. Documentation for the requests package can be found at http://docs.python-requests.org/en/master/ .\n",
    "\n",
    "Suppose you are trying to choose a city to vacation in. A major factor in your decision is weather. Conveniently, lots of weather information is present in the Wikipedia articles for most world cities. Your job in this problem is to use `BeautifulSoup` to retrieve weather information from Wikipedia articles. We should note that in practice, such information is typically more easily obtained from, for example, the National Oceanic and Atmospheric Administration (NOAA), in the case of American cities, and from analogous organizations in other countries.\n",
    "1. Look at a few Wikipedia pages corresponding to cities. For example:\n",
    "    * https://en.wikipedia.org/wiki/Ann_Arbor,_Michigan\n",
    "    * https://en.wikipedia.org/wiki/Buenos_Aires\n",
    "    * https://en.wikipedia.org/wiki/Harbin\n",
    "\n",
    "Note that most city pages include a table titled something like \"Climate data for \\[Cityname\\] (normals YYYY-YYYY, extremes YYYY-YYYY)\" Find a Wikipedia page for a city that includes such a table (such as one of the three above). In your jupyter notebook, open the URL and read the HTML using either `urllib` or `requests`, and parse it with `BeautifulSoup` using the standard parser, `html.parser`. Have a look at the parsed HTML and find the climate data table, which will have the tag `table` and will contain a child tag `th` containing a string similar to\n",
    "\n",
    "`Climate data for \\[Cityname\\] (normals YYYY-YYYY, extremes YYYY-YYYY)`. \n",
    "\n",
    "Find the node in the `BeautifulSoup` object corresponding to this table. What is the structure of this node of the tree (e.g., how many children does the table have, what are their tags, etc.)? You may want to learn a bit about the structure of HTML tables by looking at the resources available on these websites:\n",
    "- https://developer.mozilla.org/en-US/docs/Web/HTML/Element/table\n",
    "- https://www.w3schools.com/html/html_tables.asp\n",
    "- https://www.w3.org/TR/html401/struct/tables.html"
   ]
  },
  {
   "cell_type": "code",
   "execution_count": 70,
   "metadata": {},
   "outputs": [],
   "source": [
    "from bs4 import BeautifulSoup\n",
    "\n",
    "response = urllib.request.urlopen('https://en.wikipedia.org/wiki/Ann_Arbor,_Michigan')\n",
    "parsed = BeautifulSoup(response, 'html.parser')\n",
    "soup = parsed.find('table', {'class': 'wikitable collapsible'})\n",
    "\n",
    "# Direct Children of tBody\n",
    "tBodyChildren = [child.name for child in soup.tbody.children if child != '\\n']\n",
    "\n",
    "# All the children of tBody\n",
    "tBodyTotChildren = [child.name for child in soup.tbody.descendants if child.name != None]\n",
    "\n",
    "# Number of direct children of tBody\n",
    "n_tBodyChildren = len(tBodyChildren)\n",
    "\n",
    "# Total number of children of tBodyTotChildren\n",
    "n_tBodyTotChildren = len(tBodyTotChildren)"
   ]
  },
  {
   "cell_type": "markdown",
   "metadata": {},
   "source": [
    "- *A `table` node has only one `tbody` tag. This `tbody` tag has 12 children which represent its table rows. Each table row even more children of their own. In total, the `tbody` tag has 252 total number of children.*"
   ]
  },
  {
   "cell_type": "markdown",
   "metadata": {},
   "source": [
    "2. Write a function `retrieve_climate_table` that takes as its only argument a Wikipedia URL, and returns the `BeautifulSoup` object corresponding to the climate data table (if it exists in the page) and returns `None` if no such table exists on the page. You should check that the URL is retrieved successfully, and raise an error if `urllib2` fails to successfully read the website. You may notice that some city pages include more than one climate data table or several nested tables (see, for example, https://en.wikipedia.org/wiki/Los_Angeles). In this case, your function may arbitrarily choose one of the tables to return as a `BeautifulSoup` object. **Note:** a good way to check for edge cases is to test your script on the Wikipedia pages for a few of your favorite cities. The pages for Los Angeles, Hyderabad and Boston will give good examples of edge cases that you should be able to handle, but note that these are by no means exhaustive of all the possible edge cases. **Hint:** make use of the `contents` attribute of the `BeautifulSoup` objects and the ability to change the elements of the contents list to Unicode."
   ]
  },
  {
   "cell_type": "code",
   "execution_count": 71,
   "metadata": {},
   "outputs": [],
   "source": [
    "import urllib\n",
    "\n",
    "def retrieve_climate_table(url):\n",
    "    try:\n",
    "        response = urllib.request.urlopen(url)\n",
    "    except:\n",
    "        raise urllib.error.URLError('Unable to read website!')\n",
    "    parsed = BeautifulSoup(response, 'html.parser')\n",
    "    return(parsed.find('table', {'class': 'wikitable collapsible'}))\n",
    "\n",
    "# s = 'https://en.wikipedia.org/wiki/Los_Angeles'\n",
    "# parsed = retrieve_climate_table(s)\n",
    "# parsed"
   ]
  },
  {
   "cell_type": "markdown",
   "metadata": {},
   "source": [
    "3. As you look at some of the climate data tables, you may notice that different cities' tables contain different information. For example, not all cities include snowfall data. Write a function `list_climate_table_row_names` that takes as its only argument a Wikipedia URL and returns a list of the row names of the climate data table, or returns `None` if no such table exists. The list returned by your function should, ideally, consist solely of Python strings (either Unicode or ASCII), and should not include any `BeautifulSoup` objects or HTML (**Hint:** see the `BeautifulSoup` method `get_text()`). The list returned by your script should *not* include an entry corresponding to the `Climate data for`... row in the table. **Second hint:** you are looking for HTML table header (`th`) objects. The HTML attribute `scope` is your friend here, because in the context of an HTML table it tells you when a `th` tag is the header of a row or a column."
   ]
  },
  {
   "cell_type": "code",
   "execution_count": 72,
   "metadata": {},
   "outputs": [],
   "source": [
    "def list_climate_table_row_names(url):\n",
    "    climateTable = retrieve_climate_table(url)\n",
    "    tableRows = [line for line in climateTable.find_all('th') if line.get('scope') == 'row']\n",
    "    rowNames = [row.get_text().replace('\\n', '') for row in tableRows]\n",
    "    return(rowNames)\n",
    "\n",
    "# url = 'https://en.wikipedia.org/wiki/Los_Angeles'\n",
    "# list_climate_table_row_names(url)"
   ]
  },
  {
   "cell_type": "markdown",
   "metadata": {},
   "source": [
    "4. The next natural step would be to write a function that takes a URL and a row name and retrieves the data from that row of the climate data table (if the table exists and has that row name). Doing this would require some complicated string wrangling to get right, so I'll spare you the trouble. Instead, please **briefly** describe either in pseudo code or in plain English how you would accomplish this, using the two functions you wrote above and the tools available to you in the `BeautifulSoup` package. **Note:** just to be clear, you **do not** have to write any code for this last step."
   ]
  },
  {
   "cell_type": "markdown",
   "metadata": {},
   "source": [
    "* For each `th` tag that has a row attribute, we can extract the climate data from each `td` tag that follows it. We can use a regular expression to get the temperature stored inside of each `td` tag. "
   ]
  },
  {
   "cell_type": "markdown",
   "metadata": {},
   "source": [
    "### Problem 4: Relational Databases and SQL\n",
    "#### Time Spent: 2 hours\n",
    "#### ([Back to Top](#Table-of-Contents))\n",
    "In this problem, you'll interact with a toy SQL database using Python's built-in `sqlite3` package. Documentation can be found at https://docs.python.org/3/library/sqlite3.html . For this problem, we'll use a popular toy SQLite database, called Chinook, which represents a digital music collection. See the documentation at \n",
    "\n",
    "https://github.com/lerocha/chinook-database/blob/master/ChinookDatabase/DataSources/Chinook_Sqlite.sqlite \n",
    "\n",
    "for a more detailed explanation. We'll use the `.sqlite` file `Chinook_Sqlite.sqlite`, which you should download from the GitHub page above. **Note:** Don't forget to save the file in the directory that you're going to compress and hand in, and make sure that you use a relative path when referring to the file, so that when we try to run your code on our machines the file path will still work! \n",
    "1. Load the database using the Python `sqlite3` package. How many tables are in the database? Save the answer in the variable `n_tables`."
   ]
  },
  {
   "cell_type": "code",
   "execution_count": 80,
   "metadata": {},
   "outputs": [],
   "source": [
    "import sqlite3\n",
    "\n",
    "conn = sqlite3.connect('Chinook_Sqlite.sqlite')\n",
    "c = conn.cursor()\n",
    "\n",
    "tables = []\n",
    "for table in c.execute(\"SELECT name FROM sqlite_master WHERE type = 'table'\"):\n",
    "    tables.append(table)\n",
    "\n",
    "n_tables = len(tables)\n",
    "# n_tables"
   ]
  },
  {
   "cell_type": "markdown",
   "metadata": {},
   "source": [
    "2. What are the names of the tables in the database? Save the answer as a list of strings, `table_names`. **Note:** you should write Python `sqlite3` code to answer this; don't just look up the answer in the documentation!"
   ]
  },
  {
   "cell_type": "code",
   "execution_count": 81,
   "metadata": {
    "scrolled": true
   },
   "outputs": [],
   "source": [
    "# SQL query is done in previous problem\n",
    "table_names = [tup[0] for tup in tables]\n",
    "# table_names"
   ]
  },
  {
   "cell_type": "markdown",
   "metadata": {},
   "source": [
    "3. Write a function `list_album_ids_by_letter` that takes as an argument a single character and returns a list of the primary keys of all the albums whose titles start with that character. Your function should ignore case, so that the inputs \"a\" and \"A\" yield the same results. Include error checking that raises an error in the event that the input is not a single character."
   ]
  },
  {
   "cell_type": "code",
   "execution_count": 87,
   "metadata": {},
   "outputs": [],
   "source": [
    "def list_album_ids_by_letter(char):\n",
    "    # Perform Error-checking\n",
    "    if not isinstance(char, str) or len(char) != 1:\n",
    "        raise ValueError('Should provide a single character!')\n",
    "\n",
    "    c.execute('SELECT AlbumId FROM Album WHERE Title LIKE \"' + char + '%\"')\n",
    "    return([tup[0] for tup in c.fetchall()])\n",
    "\n",
    "# list_album_ids_by_letter('a')"
   ]
  },
  {
   "cell_type": "markdown",
   "metadata": {},
   "source": [
    "4. Write a function `list_song_ids_by_album_letter` that takes as an argument a single character and returns a list of the primary keys of all the songs whose album names begin with that letter. Again, your function should ignore case and perform error checking as in `list_album_ids_by_letter`. (again ignoring case). **Hint:** you'll need a JOIN statement here. Don't forget that you can use the `cursor.description` attribute to find out about tables and the names of their columns."
   ]
  },
  {
   "cell_type": "code",
   "execution_count": 76,
   "metadata": {
    "scrolled": true
   },
   "outputs": [],
   "source": [
    "def list_song_ids_by_album_letter(char):\n",
    "    # Perform Error-checking\n",
    "    if not isinstance(char, str):\n",
    "        raise TypeError('Input should be a string!')\n",
    "    elif len(char) != 1:\n",
    "        raise ValueError('Input should be a single letter!')\n",
    "    \n",
    "    script = 'SELECT TrackId FROM Track JOIN (SELECT AlbumId FROM Album WHERE Title LIKE \"' + char + '%\") t_album ON t_album.AlbumId = Track.AlbumId' \n",
    "    c.execute(script)\n",
    "    return([tup[0] for tup in c.fetchall()])\n",
    "\n",
    "# list_song_ids_by_album_letter('A')"
   ]
  },
  {
   "cell_type": "markdown",
   "metadata": {},
   "source": [
    "5. Write a function `total_cost_by_album_letter` that takes as an argument a single character and returns the cost of buying every song whose album begins with that letter. This cost should be based on the tracks' unit prices, so that the cost of buying a set of tracks is simply the sum of the unit prices of all the tracks in the set. Again your function should ignore case and perform appropriate error checking."
   ]
  },
  {
   "cell_type": "code",
   "execution_count": 77,
   "metadata": {},
   "outputs": [],
   "source": [
    "def total_cost_by_album_letter(char):\n",
    "    # Perform Error-checking\n",
    "    if not isinstance(char, str):\n",
    "        raise TypeError('Input should be a string!')\n",
    "    elif len(char) != 1:\n",
    "        raise ValueError('Input should be a single letter!')\n",
    "        \n",
    "    char.upper()\n",
    "    script = 'SELECT UnitPrice FROM Track JOIN (SELECT AlbumId FROM Album WHERE Title LIKE \"' + char + '%\") t_album ON t_album.AlbumId = Track.AlbumId' \n",
    "    c.execute(script)\n",
    "    return(sum([tup[0] for tup in c.fetchall()]))\n",
    "\n",
    "# total_cost_by_album_letter('F')"
   ]
  }
 ],
 "metadata": {
  "kernelspec": {
   "display_name": "Python 3",
   "language": "python",
   "name": "python3"
  },
  "language_info": {
   "codemirror_mode": {
    "name": "ipython",
    "version": 3
   },
   "file_extension": ".py",
   "mimetype": "text/x-python",
   "name": "python",
   "nbconvert_exporter": "python",
   "pygments_lexer": "ipython3",
   "version": "3.6.8"
  }
 },
 "nbformat": 4,
 "nbformat_minor": 2
}
