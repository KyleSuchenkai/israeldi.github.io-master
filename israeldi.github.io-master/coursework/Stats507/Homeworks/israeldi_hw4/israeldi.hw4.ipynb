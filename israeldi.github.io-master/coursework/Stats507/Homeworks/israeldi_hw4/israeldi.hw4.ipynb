{
 "cells": [
  {
   "cell_type": "markdown",
   "metadata": {},
   "source": [
    "## Stats507 Homework 4, February 15th, 2019\n",
    "### Israel Diego  [(Go to Home Page)](https://israeldi.github.io/Stats507/) \n",
    "#### israeldi@umich.edu\n",
    "\n",
    "This notebook shows solutions to homework 4 for Stats507\n",
    "\n",
    "## Table of Contents\n",
    "\n",
    "1. [Problem 1: Iterators and Generators](#Problem-1:-Iterators-and-Generators)\n",
    "2. [Problem 2: List Comprehensions and Generator Expressions](#Problem-2:-List-Comprehensions-and-Generator-Expressions)\n",
    "3. [Problem 3: Map, Filter and Reduce](#Problem-3:-Map,-Filter-and-Reduce)\n",
    "4. [Problem 4: Fun with Polynomials](#Problem-4:-Fun-with-Polynomials)"
   ]
  },
  {
   "cell_type": "markdown",
   "metadata": {},
   "source": [
    "### Problem 1: Iterators and Generators \n",
    "#### ([Back to Top](#Table-of-Contents))\n",
    "#### Time Spent: 2 hours\n",
    "In this exercise, you’ll get some practice working with iterators and generators. **Note:** in this problem, the word *enumerate* is meant in the sense of returning elements, not in the sense of the Python function `enumerate`. So, if I say that an iterator enumerates a sequence $a_0,a_1,a_2,\\dots,$ I mean that these are the elements that it returns upon calls to the `__next__` method, *not* that it returns pairs $(i,a_i)$ like the `enumerate` function.\n",
    "\n",
    "1. Define a class `Fibo` of iterators that enumerate the Fibonacci numbers. For the purposes of this problem, the Fibonacci sequence begins $0,1,1,2,3,\\dots,$ with the $n$-th Fibonacci number $F_n$ given by the recursive formula $F_n = F_{n−1} + F_{n−2}$. Your solution should not make use of any function aside from addition (i.e., you should not need to use the function `fibo()` defined in lecture a few weeks ago). Your class should support, at a minimum, an initialization method, a `__iter__` method (so that we can get an iterator) and a `__next__` method. **Note:** there is an especially simple solution to this problem that can be expressed in just a few lines using tuple assignment."
   ]
  },
  {
   "cell_type": "code",
   "execution_count": 15,
   "metadata": {},
   "outputs": [],
   "source": [
    "class Fibo:\n",
    "    def __init__(self):\n",
    "        self.f_n2 = 0\n",
    "        self.f_n1 = 1\n",
    "    def __next__(self):\n",
    "        self.fibNum = self.f_n2\n",
    "        self.f_n = self.f_n1 + self.f_n2\n",
    "        (self.f_n1, self.f_n2) = (self.f_n, self.f_n1)\n",
    "        return(self.fibNum)\n",
    "    def __iter__(self):\n",
    "        return(self)\n",
    "\n",
    "# f = Fibo()\n",
    "# print([next(f) for _ in range(12)])"
   ]
  },
  {
   "cell_type": "markdown",
   "metadata": {},
   "source": [
    "2. We can generalize the Fibonacci sequence by following the same recursive procedure $F_n = F_{n−1} + F_{n−2}$, but using a different choice of initial two values for $F_0$ and $F_1$. For example, if we take $F_0 = 2$ and $F_1 = 1$, then we obtain the Lucas numbers, which are closely related to the Fibonacci numbers (https://en.wikipedia.org/wiki/Lucas_number ). Define a class `GenFibo` of iterators that enumerate *generalized* Fibonacci numbers. Your class should inherit from the `Fibo` class defined in the previous subproblem. The initialization method for the `GenFibo` class should take two *optional* arguments that specify the values of $F_0$ and $F_1$, in that order, and their values should default so that `F = GenFibo()` results in an enumerator equivalent to the one that would have been created if you had called `F = Fibo()` (i.e., `GenFibo()` should produce an iterator over the Fibonacci numbers)."
   ]
  },
  {
   "cell_type": "code",
   "execution_count": 16,
   "metadata": {},
   "outputs": [],
   "source": [
    "class GenFibo(Fibo):\n",
    "        def __init__(self, f_n2 = 0, f_n1 = 1):\n",
    "            self.f_n2 = f_n2\n",
    "            self.f_n1 = f_n1\n",
    "\n",
    "# g = GenFibo(2, 1)\n",
    "# [next(g) for _ in range(12)]"
   ]
  },
  {
   "cell_type": "markdown",
   "metadata": {},
   "source": [
    "3. Define a generator `primes` that enumerates the prime numbers. Recall that a prime number is any integer $p > 1$ whose only divisors are $p$ and 1. **Note:** you may use the function `is_prime` that we defined in class (or something similar to it), but such solutions will not receive full credit, as there is a more graceful solution that avoids declaring a separate function or method for directly checking primality. **Hint:** consider a pattern similar to the one seen in lecture using the `any` and/or `all` functions."
   ]
  },
  {
   "cell_type": "code",
   "execution_count": 17,
   "metadata": {},
   "outputs": [],
   "source": [
    "def primes():\n",
    "    (primesList, num) = ([], 2)\n",
    "    while(True):\n",
    "        while(any(num % x == 0 for x in primesList)):\n",
    "            num += 1\n",
    "        primesList.append(num)\n",
    "        yield num\n",
    "\n",
    "# p = primes()\n",
    "# [next(p) for _ in range(12)]"
   ]
  },
  {
   "cell_type": "markdown",
   "metadata": {},
   "source": [
    "4. This one is good practice for coding interview questions. The *Ulam numbers* are a sequence $u_1, u_2, u_3,\\dots$ of positive integers, defined in the following way: $u_1 = 1$, and $u_2 = 2$. For all $n > 2$, $u_n$ is the smallest integer that is expressible as a sum of two *distinct* terms from earlier in the sequence in *exactly one way*. See the Examples section of the Wikipedia page for an illustration: https://en.wikipedia.org/wiki/Ulam_number . Define a generator `ulam` that enumerates the Ulam numbers. **Hint:** it will be helpful to try and break this problem into smaller, simpler subproblems. In particular, you may find it helpful to write a function that takes a list of integers `t` and one additional integer `u`, and determines whether or not `u` is expressible as a sum of two distinct elements of `t` in exactly one way."
   ]
  },
  {
   "cell_type": "code",
   "execution_count": 18,
   "metadata": {
    "scrolled": false
   },
   "outputs": [],
   "source": [
    "def updateUlamNums(ulamNums, sumSet, index):\n",
    "    currentNum = ulamNums[index]\n",
    "    i = 0\n",
    "    while i < index:\n",
    "        # Initialize new number to insert\n",
    "        newNum = currentNum + ulamNums[i]\n",
    "        \n",
    "        # Check if we have already seen this newNum and add it to our\n",
    "        # Sums Set if we haven't seen it\n",
    "        if (newNum not in sumSet):\n",
    "            sumSet.add(newNum)\n",
    "            \n",
    "            # Insert the newNum in a sorted way from the tail of our Ulam Nums list\n",
    "            j = len(ulamNums) - 1\n",
    "            while newNum < ulamNums[j]:\n",
    "                j -=1\n",
    "            ulamNums.insert(j + 1, newNum)\n",
    "            \n",
    "        # Otherwise remove the newNum from our Ulam Nums List\n",
    "        elif newNum in ulamNums[index + 1:]:\n",
    "            ulamNums.remove(newNum)\n",
    "        i += 1\n",
    "            \n",
    "def ulam():\n",
    "    (ulamNums, sumSet, index) = ([1, 2], {1, 2}, 1)\n",
    "    while(True):\n",
    "        updateUlamNums(ulamNums, sumSet, index)\n",
    "        yield ulamNums[index - 1]\n",
    "        index += 1\n",
    "        \n",
    "# u = ulam()\n",
    "# [next(u) for _ in range(20)]"
   ]
  },
  {
   "cell_type": "markdown",
   "metadata": {},
   "source": [
    "### Problem 2: List Comprehensions and Generator Expressions\n",
    "#### ([Back to Top](#Table-of-Contents))\n",
    "#### Time Spent: 1 hour\n",
    "In this exercise you’ll write a few simple list comprehensions and generator expressions. Again in this problem I use the term *enumerate* to mean that a list comprehension or generator expression returns certain elements, rather than in the sense of the Python function `enumerate`.\n",
    "1. Write a list comprehension that enumerates the sequence $2^{n}-1$ for $n=1,2,3,\\dots,20$. For ease of grading, please assign this list comprehension to a variable called `pow2minus1`."
   ]
  },
  {
   "cell_type": "code",
   "execution_count": 19,
   "metadata": {},
   "outputs": [],
   "source": [
    "pow2minus1 = [2**(n) - 1 for n in range(1,21)]"
   ]
  },
  {
   "cell_type": "markdown",
   "metadata": {},
   "source": [
    "2. The *Lazy Caterer’s sequence* is a sequence of numbers that counts, for each $n = 0,1,2,\\dots,$ the largest number of pieces that can be cut from a disk with at most $n$ cuts (https://en.wikipedia.org/wiki/Lazy_caterer’s_sequence). The $n$-th number in this sequence is given by $p_n =(n^2+n+2)/2$, where $n=0,1,2,....$ Write a generator expression that enumerates the Lazy Caterer’s sequence. For ease of grading, please assign this generator expression to a variable called `caterer`. **Hint:** you may find it useful to define a generator that enumerates the non-negative integers."
   ]
  },
  {
   "cell_type": "code",
   "execution_count": 20,
   "metadata": {},
   "outputs": [],
   "source": [
    "def nonNegNums():\n",
    "    n = -1\n",
    "    while True:\n",
    "        n += 1\n",
    "        yield n\n",
    "\n",
    "n = nonNegNums()\n",
    "caterer = ((i**2 + i + 2) // 2 for i in n)"
   ]
  },
  {
   "cell_type": "markdown",
   "metadata": {},
   "source": [
    "3. Write a generator expression that enumerates the tetrahedral numbers. The n-th tetrahedral number $(n = 1, 2,\\dots)$ is given by $T_{n}={n+2 \\choose 3}$, where ${x \\choose y}$ is the binomial coefficient\n",
    "<center>$${x \\choose y}=\\frac{x!}{y!(x-y)!}$$</center>\n",
    "\n",
    "For ease of grading, please assign this generator expression to a variable called `tetra`. **Hint:** you may find it useful to define a generator that enumerates the positive integers."
   ]
  },
  {
   "cell_type": "code",
   "execution_count": 21,
   "metadata": {},
   "outputs": [],
   "source": [
    "import scipy.special\n",
    "\n",
    "def positiveIntegers():\n",
    "    z = 0\n",
    "    while True:\n",
    "        z += 1\n",
    "        yield z\n",
    "\n",
    "pos = positiveIntegers()\n",
    "tetra = (int(scipy.special.binom(i + 2, 3)) for i in pos)"
   ]
  },
  {
   "cell_type": "markdown",
   "metadata": {},
   "source": [
    "### Problem 3: Map, Filter and Reduce\n",
    "#### ([Back to Top](#Table-of-Contents))\n",
    "#### Time Spent: 1 hour"
   ]
  },
  {
   "cell_type": "markdown",
   "metadata": {},
   "source": [
    "In this exercise, you’ll learn a bit about map, filter and reduce operations. We will revisit these operations in a few weeks when we discuss MapReduce and related frameworks in distributed computing. In this problem, I expect that you will use only the functions `map`, `filter` and functions from the `functools` and `itertools` modules, along with the `range` function (and similar list-related functions) and a sprinkling of lambda expressions.\n",
    "1. Write a one-line expression that computes the sum of the first 10 even square numbers (starting from 4). For ease of grading, please assign the output of this expression to a variable called `sum_of_even_squares`."
   ]
  },
  {
   "cell_type": "code",
   "execution_count": 22,
   "metadata": {},
   "outputs": [],
   "source": [
    "import functools, itertools\n",
    "sum_of_even_squares = functools.reduce(lambda x,y: x + y, map(lambda x: x**2, (2*i for i in range(1, 11))))"
   ]
  },
  {
   "cell_type": "markdown",
   "metadata": {},
   "source": [
    "2. Write a one-line expression that computes the product of the first 13 primes. You may use the `primes` generator that you defined above. For ease of grading, please assign the output of this expression to a variable called `product_of_primes`."
   ]
  },
  {
   "cell_type": "code",
   "execution_count": 23,
   "metadata": {},
   "outputs": [],
   "source": [
    "p = primes()\n",
    "product_of_primes = functools.reduce(lambda x,y: x * y, (next(p) for _ in range(13)))"
   ]
  },
  {
   "cell_type": "markdown",
   "metadata": {},
   "source": [
    "3. Write a one-line expression that computes the sum of the squares of the first 31 primes. You may use the `primes` generator that you defined above. For ease of grading, please assign the output of this expression to a variable called `squared_primes`."
   ]
  },
  {
   "cell_type": "code",
   "execution_count": 24,
   "metadata": {},
   "outputs": [],
   "source": [
    "p = primes()\n",
    "squared_primes = functools.reduce(lambda x,y: x + y, map(lambda x: x**2, (next(p) for _ in range(31))))"
   ]
  },
  {
   "cell_type": "markdown",
   "metadata": {},
   "source": [
    "4. Write a one-line expression that computes a list of the first twenty harmonic numbers. Recall that the $n$-th harmonic number is given by $H_n = \\sum^{n}_{k=1}1/k􏰄$. For ease of grading, please assign the output of this expression to a variable called `harmonics`."
   ]
  },
  {
   "cell_type": "code",
   "execution_count": 25,
   "metadata": {
    "scrolled": false
   },
   "outputs": [],
   "source": [
    "harmonics = list(itertools.accumulate(range(1, 21), lambda x,y: x + (1 / y)))"
   ]
  },
  {
   "cell_type": "markdown",
   "metadata": {},
   "source": [
    "5. Write a one-line expression that computes the geometric mean of the first 12 tetrahedral numbers. You may use the generator that you wrote in the previous problem. Recall that the geometric mean of a collection of $n$ numbers $a_1,a_2,\\dots,a_n$ is given by $(􏰅\\prod_{i=1}^{n}a_i)^{1/n}$. For ease of grading, please assign the output of this expression to a variable called `tetra_geom`."
   ]
  },
  {
   "cell_type": "code",
   "execution_count": 26,
   "metadata": {},
   "outputs": [],
   "source": [
    "pos = positiveIntegers()\n",
    "t = (int(scipy.special.binom(i + 2, 3)) for i in pos)\n",
    "\n",
    "tetra_geom = functools.reduce(lambda x,y: x * y, (next(t) for _ in range(12)))**(1 / 12)"
   ]
  },
  {
   "cell_type": "markdown",
   "metadata": {},
   "source": [
    "### Problem 4: Fun with Polynomials\n",
    "#### ([Back to Top](#Table-of-Contents))\n",
    "#### Time Spent: 1 hour"
   ]
  },
  {
   "cell_type": "markdown",
   "metadata": {},
   "source": [
    "In this exercise you’ll get a bit of experience writing higher-order functions. You may ignore error checking in this problem.\n",
    "1. Write a function `make_poly` that takes a list of numbers (ints and/or floats) `coeffs` as its only argument and returns a function `p`. The list `coeffs` encodes the coefficients of a polynomial, $p(x) = a_0 + a_1x + a_2x^2 + \\dotsm + a_nx^n$, with $a_i$ given by `coeffs[i]`. The function `p` should take a single number (int or float) `x` as its argument, and return the value of the polynomial $p$ evaluated at `x`."
   ]
  },
  {
   "cell_type": "code",
   "execution_count": 27,
   "metadata": {},
   "outputs": [],
   "source": [
    "def make_poly(coeffs):\n",
    "    def p(x):\n",
    "        return sum(coeffs[i] * (x**i) for i in range(len(coeffs)))\n",
    "    return p\n",
    "\n",
    "# coeffs = [1, 2, 3]\n",
    "# p = make_poly(coeffs)"
   ]
  },
  {
   "cell_type": "markdown",
   "metadata": {},
   "source": [
    "2. Write a function `eval_poly` that takes two lists of numbers (ints and/or floats), `coeffs` and `args`. `coeffs` encodes the coefficients of polynomial $p$, and your function should return the list of numbers (ints and/or floats) representing the result of evaluating the polynomial $p$ on each of the elements in `args`, in order. You should be able to express the solution to this problem in a single line (not including the function definition header, of course). Your function should make use of `make_poly` from the previous part to receive full credit."
   ]
  },
  {
   "cell_type": "code",
   "execution_count": 28,
   "metadata": {},
   "outputs": [],
   "source": [
    "def eval_poly(coeffs, args):\n",
    "    return list(map(make_poly(coeffs), args))\n",
    "\n",
    "# args = [1, 2, 3]\n",
    "# eval_poly(coeffs, args)"
   ]
  }
 ],
 "metadata": {
  "kernelspec": {
   "display_name": "Python 3",
   "language": "python",
   "name": "python3"
  },
  "language_info": {
   "codemirror_mode": {
    "name": "ipython",
    "version": 3
   },
   "file_extension": ".py",
   "mimetype": "text/x-python",
   "name": "python",
   "nbconvert_exporter": "python",
   "pygments_lexer": "ipython3",
   "version": "3.6.8"
  }
 },
 "nbformat": 4,
 "nbformat_minor": 2
}
