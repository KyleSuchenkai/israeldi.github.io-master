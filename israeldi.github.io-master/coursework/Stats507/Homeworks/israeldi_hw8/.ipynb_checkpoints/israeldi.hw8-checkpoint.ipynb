{
 "cells": [
  {
   "cell_type": "markdown",
   "metadata": {},
   "source": [
    "## Stats507 Homework 8, April 3, 2019\n",
    "### Israel Diego  [(Go to Home Page)](https://israeldi.github.io/Stats507/) \n",
    "#### israeldi@umich.edu\n",
    "\n",
    "This notebook shows solutions to homework 8 for Stats507\n",
    "\n",
    "## Table of Contents\n",
    "\n",
    "1. [Problem 1: counting words with mrjob](#Problem-1:-counting-words-with-mrjob)\n",
    "2. [Problem 2: Computing Sample Statistics with mrjob](#Problem-2:-Computing-Sample-Statistics-with-mrjob)\n",
    "3. [Problem 3: Graph Processing: Counting Triangles with PySpark](#Problem-3:-Graph-Processing:-Counting-Triangles-with-PySpark)"
   ]
  },
  {
   "cell_type": "markdown",
   "metadata": {},
   "source": [
    "### Problem 1: counting words with mrjob\n",
    "#### Time Spent: 3 hours\n",
    "#### ([Back to Top](#Table-of-Contents))\n",
    "In this problem, you'll get a gentle introduction to `mrjob` and running `mrjob` on the Fladoop cluster. I have uploaded a large text file to the Fladoop cluster. Your job is to count how many times each word occurs in this file.\n",
    "1. Write an `mrjob` job that takes text as input and counts how many times each word occurs in the text. Your script should strip punctuation like full stops, commas and semicolons, but you may treat hyphens, apostrophes, etc. as you wish. Simplest is to treat, e.g., \"John's\" as two words, \"John\" and \"s\", but feel free to do more complicated processing if you wish. Your script should ignore case, so that \"Cat\" and \"cat\" are considered the same word. Your output should be a collection of (word,count) pairs. Please save your script in a file called `mr_word_count.py` and include it in your submission."
   ]
  },
  {
   "cell_type": "raw",
   "metadata": {},
   "source": [
    "from mrjob.job import MRJob\n",
    "import string\n",
    "\n",
    "\n",
    "class MRWordCounts(MRJob):\n",
    "\n",
    "    def mapper(self, _, line):\n",
    "        # yield each word in the line\n",
    "        for word in line.split():\n",
    "        \tyield (word.strip(string.punctuation).lower(), 1)\n",
    "\n",
    "    def combiner(self, word, counts):\n",
    "        # optimization: sum the words we've seen so far\n",
    "        yield (word, sum(counts))\n",
    "\n",
    "    def reducer(self, word, counts):\n",
    "        # optimization: sum the words we've seen so far\n",
    "        yield (word, sum(counts))\n",
    "\n",
    "\n",
    "if __name__ == '__main__':\n",
    "    MRWordCounts.run()"
   ]
  },
  {
   "cell_type": "markdown",
   "metadata": {},
   "source": [
    "2. To test your code, I have uploaded a simple text file to the course webpage:\n",
    "[http://www-personal.umich.edu/~klevin/teaching/Winter2019/STATS507/simple.txt](http://www-personal.umich.edu/~klevin/teaching/Winter2019/STATS507/simple.txt)\n",
    "Download this file and test your code either on your local machine or on the Fladoop grid. The file is small enough that you should be able to check by hand whether your code is behaving correctly. Save the output of running your script on this small file to a file called `simple_word_counts.txt` and include it in your submission. **Note:** use the redirect arrow > to send the Hadoop output to a file. This will only send the `stdout` output to the file, while still printing the Hadoop error/status messages to the terminal."
   ]
  },
  {
   "cell_type": "raw",
   "metadata": {},
   "source": [
    "# Command line: \n",
    "\n",
    "python mr_word_count.py simple.txt > simple_word_counts.txt"
   ]
  },
  {
   "cell_type": "markdown",
   "metadata": {},
   "source": [
    "3. Once you are confident in the correctness of your program, run your mrjob script on the file\n",
    "[hdfs:/var/stat507w19/darwin.txt](hdfs:/var/stat507w19/darwin.txt)\n",
    "on the Fladoop grid (this file is the Project Gutenberg plain text version of Charles Darwin's scientific work *On the Origin of Species*). Note that this file is on `hdfs`, not the local file system, so you'll have to run your script accordingly. Save the output to a file called `darwin_word_counts.txt`, and include it in your submission."
   ]
  },
  {
   "cell_type": "raw",
   "metadata": {},
   "source": [
    "# Command line (in Flux): \n",
    "\n",
    "python Stats_507/mr_word_count.py -r hadoop hdfs:///var/stats507w19/darwin.txt > Stats_507/darwin_word_counts.txt"
   ]
  },
  {
   "cell_type": "markdown",
   "metadata": {},
   "source": [
    "4. Zipf's law states, roughly, that if one plots word frequency against frequency rank (i.e., most frequent word, second most frequent word, etc.), the resulting line is (approximately) linear on a log-log scale. Using the information in `darwin_word_counts.txt`, make a plot of word frequency as a function of word rank on a log-log scale for all words in the file\n",
    "[hdfs:/var/stats507w19/darwin.txt](hdfs:/var/stats507w19/darwin.txt)\n",
    "Give an appropriate title to your plot and include axis labels. Save the plot as a pdf file called `zipf.pdf`, and include it in your submission."
   ]
  },
  {
   "cell_type": "code",
   "execution_count": 1,
   "metadata": {},
   "outputs": [
    {
     "data": {
      "image/png": "[encoded data removed]",
      "text/plain": [
       "<Figure size 432x288 with 1 Axes>"
      ]
     },
     "metadata": {},
     "output_type": "display_data"
    }
   ],
   "source": [
    "import matplotlib.pyplot as plt\n",
    "%matplotlib inline\n",
    "import math\n",
    "import pandas as pd\n",
    "\n",
    "file = \"darwin_word_counts.txt\"\n",
    "\n",
    "data = []\n",
    "rank = 1\n",
    "with open(file) as f:\n",
    "    # Extract input from file\n",
    "    for line in f:\n",
    "        word, freq = line.split()\n",
    "        freq = int(freq)\n",
    "        data.append([word, freq])\n",
    "    \n",
    "# Sort the Data by frequency, highest to lowest\n",
    "data = sorted(data, key = lambda x: int(x[1]), reverse = True)\n",
    "\n",
    "# Add rank to sorted data\n",
    "for i in range(len(data)):\n",
    "    data[i].insert(0, i + 1)\n",
    "    \n",
    "# Convert to dataframe to access columns easily\n",
    "data = pd.DataFrame(data, columns = [\"rank\", \"word\", \"frequency\"])\n",
    "\n",
    "# Plot our figure and save plot\n",
    "f = plt.figure()\n",
    "plt.plot(data[\"rank\"].apply(math.log), data[\"frequency\"].apply(math.log), 'r')\n",
    "plt.title(\"Most common words in 'On the Origin of Species'\", fontsize = 14)\n",
    "plt.xlabel('log(Rank)', fontsize = 14)\n",
    "plt.ylabel('log(Frequency)', fontsize = 14)\n",
    "_ = plt.tight_layout()\n",
    "\n",
    "f.savefig(\"zipf.pdf\", bbox_inches='tight')"
   ]
  },
  {
   "cell_type": "markdown",
   "metadata": {
    "scrolled": false
   },
   "source": [
    "5. How \"Zipfian\" does the resulting plot look (It suffices for you to state whether or not your plot looks approximately like a line)? You can read more about Zipf's law and about power laws generally at the respective Wikipedia pages (https://en.wikipedia.org/wiki/Zipf's_law, https://en.wikipedia.org/wiki/Power_law). For more about power laws, I recommend this survey paper by Mark Newman, a faculty member here at University of Michigan https://arxiv.org/pdf/cond-mat/0412004.pdf."
   ]
  },
  {
   "cell_type": "markdown",
   "metadata": {},
   "source": [
    "- *It is safe to say that the plot from Problem 1.4 is linear.*"
   ]
  },
  {
   "cell_type": "markdown",
   "metadata": {},
   "source": [
    "### Problem 2: Computing Sample Statistics with mrjob\n",
    "#### Time Spent: 5 hours\n",
    "#### ([Back to Top](#Table-of-Contents))\n",
    "In this problem, we'll compile some very basic statistics summarizing a toy dataset. The file \n",
    "\n",
    "http://www-personal.umich.edu/~klevin/teaching/Winter2019/STATS507/populations_small.txt\n",
    "\n",
    "contains a collection of (class,value) pairs, one per line, with each line taking the form `class_label, value`, where `class_label` is a nonnegative integer and `value` is a float. Each pair corresponds to an observation, with the class labels corresponding to different populations, and the values corresponding to some measured quantity.\n",
    "1. Write a `mrjob` program called `mr_summary_stats.py` that takes as input a sequence of (label,value) pairs like in the file at http://www-personal.umich.edu/~klevin/teaching/Winter2019/STATS507/populations_small.txt, and outputs a collection of (label, number of samples, mean, variance) $4$-tuples, in which one $4$-tuple appears for each class label in the data, and the mean and variance are the sample mean and variance, respectively, of all the values for that class label. Thus, if $25$ unique class labels are present in the input then your program should output $25$ lines, one for each class label. **Note:** I don't care whether you use $n$ or $n-1$ in the denominator of your sample variance formula, just be clear which one you are using. **Note:** you don't need to do any special formatting of the Hadoop output. That is, your output is fine if it consists of lines of the form `label` `[number,mean,variance]` or similar.\n",
    "\n",
    "Think carefully about what your key-value pairs should be here, as well as what your mappers, reducers, etc. should be. Should there be more than one step in your job? Sit down with pen and paper first! **Hint:** to compute the sample mean and sample variance of a collection of numbers, it suffices to know their sum, the sum of their squares, and the size of the collection.\n",
    "\n",
    "Please include a copy of `mr_summary_stats.py` in your submission."
   ]
  },
  {
   "cell_type": "raw",
   "metadata": {},
   "source": [
    "from mrjob.job import MRJob\n",
    "import functools\n",
    "\n",
    "class MRSummaryStats(MRJob):\n",
    "\n",
    "    def mapper(self, _, line):\n",
    "        # yield label as the key, and a tuple of values necessary for computation of mean and sample variance\n",
    "        label, value = line.split()\n",
    "        value = float(value)\n",
    "        yield (label, (1, value, value**2))\n",
    "\n",
    "    def combiner(self, label, values):\n",
    "        # calculate our sample mean and sample variance\n",
    "        n, sumX, sumX2 = functools.reduce(lambda x,y:[x[i] + y[i] for i in range(len(y))], values)\n",
    "        yield label, (n, sumX / n, (sumX2 / n) - (sumX / n)**2)\n",
    "\n",
    "    def reducer(self, label, values):\n",
    "        # calculate our sample mean and sample variance\n",
    "        n, sumX, sumX2 = functools.reduce(lambda x,y:[x[i] + y[i] for i in range(len(y))], values)\n",
    "        yield label, (n, sumX / n, (sumX2 / n) - (sumX / n)**2)\n",
    "\n",
    "\n",
    "if __name__ == '__main__':\n",
    "    MRSummaryStats.run()"
   ]
  },
  {
   "cell_type": "markdown",
   "metadata": {},
   "source": [
    "2. Download the small file at http://www-personal.umich.edu/~klevin/teaching/Winter2019/STATS507/populations_small.txt. Run your `mrjob` script on this file, either on your local machine or on Fladoop, and write the output to a file called `summary_small.txt`. Please include this file in your submission. Inspect your program's output and verify that it is behaving as expected."
   ]
  },
  {
   "cell_type": "raw",
   "metadata": {},
   "source": [
    "# Command Line: \n",
    "\n",
    "python mr_summary_stats.py populations_small.txt > summary_small.txt"
   ]
  },
  {
   "cell_type": "markdown",
   "metadata": {},
   "source": [
    "3. I have uploaded to the Fladoop cluster a much larger data file, located on the HDFS file system at [hdfs:/var/stats507w19/populations_large.txt](hdfs:/var/stats507w19/populations_large.txt). Once you are *sure* that your script is doing what you want, run it on this file. Be sure to use the `-r hadoop` command to tell `mrjob` to run on the Hadoop server rather than on the login node. Save the output to a file called `summary_large.txt`. Download this file and include it in your submission. Please also include in your notebook file a copy-paste of your shell session on Fladoop in a markdown cell (i.e., a cell that will display as code but will not be executed by the interpreter)."
   ]
  },
  {
   "cell_type": "raw",
   "metadata": {},
   "source": [
    "# Command Line:\n",
    "\n",
    "python Stats_507/mr_summary_stats.py -r hadoop hdfs:///var/stats507w19/populations_large.txt > Stats_507/summary_large.txt"
   ]
  },
  {
   "cell_type": "raw",
   "metadata": {},
   "source": [
    "[israeldi@flux-hadoop-login2 ~]$ python Stats_507/mr_summary_stats.py -r hadoop hdfs:///var/stats507w19/populations_large.txt > Stats_507/summary_large.txt\n",
    "Using configs in /etc/mrjob.conf\n",
    "Looking for hadoop binary in $PATH...\n",
    "Found hadoop binary: /usr/bin/hadoop\n",
    "Using Hadoop version 2.7.3.2.6.3.0\n",
    "Looking for Hadoop streaming jar in /home/hadoop/contrib...\n",
    "Looking for Hadoop streaming jar in /usr/lib/hadoop-mapreduce...\n",
    "Found Hadoop streaming jar: /usr/lib/hadoop-mapreduce/hadoop-streaming.jar\n",
    "Creating temp directory /tmp/mr_summary_stats.israeldi.20190405.205834.347413\n",
    "Copying local files to hdfs:///user/israeldi/tmp/mrjob/mr_summary_stats.israeldi.20190405.205834.347413/files/...\n",
    "Running step 1 of 1...\n",
    "  packageJobJar: [] [/usr/hdp/2.6.3.0-235/hadoop-mapreduce/hadoop-streaming-2.7.3.2.6.3.0-235.jar] /tmp/streamjob7344297405908316377.jar tmpDir=null\n",
    "  Connecting to ResourceManager at fladoop-rm01.arc-ts.umich.edu/10.164.5.157:8050\n",
    "  Connecting to Application History server at fladoop-rm01.arc-ts.umich.edu/10.164.5.157:10200\n",
    "  Connecting to ResourceManager at fladoop-rm01.arc-ts.umich.edu/10.164.5.157:8050\n",
    "  Connecting to Application History server at fladoop-rm01.arc-ts.umich.edu/10.164.5.157:10200\n",
    "  Created HDFS_DELEGATION_TOKEN token 139614 for israeldi on 10.164.5.158:8020\n",
    "  Got dt for hdfs://fladoop-nn02.arc-ts.umich.edu:8020; Kind: HDFS_DELEGATION_TOKEN, Service: 10.164.5.158:8020, Ident: (HDFS_DELEGATION_TOKEN token 139614 for israeldi)\n",
    "  Total input paths to process : 1\n",
    "  Adding a new node: /default-rack/10.164.1.144:1019\n",
    "  Adding a new node: /default-rack/10.164.1.140:1019\n",
    "  Adding a new node: /default-rack/10.164.1.143:1019\n",
    "  Adding a new node: /default-rack/10.164.1.141:1019\n",
    "  Adding a new node: /default-rack/10.164.1.142:1019\n",
    "  Adding a new node: /default-rack/10.164.1.145:1019\n",
    "  number of splits:2\n",
    "  Submitting tokens for job: job_1547074859606_16460\n",
    "  Kind: HDFS_DELEGATION_TOKEN, Service: 10.164.5.158:8020, Ident: (HDFS_DELEGATION_TOKEN token 139614 for israeldi)\n",
    "  Timeline service address: http://fladoop-rm01.arc-ts.umich.edu:8188/ws/v1/timeline/\n",
    "  Submitted application application_1547074859606_16460\n",
    "  The url to track the job: http://fladoop-rm01.arc-ts.umich.edu:8088/proxy/application_1547074859606_16460/\n",
    "  Running job: job_1547074859606_16460\n",
    "  Job job_1547074859606_16460 running in uber mode : false\n",
    "   map 0% reduce 0%\n",
    "   map 8% reduce 0%\n",
    "   map 13% reduce 0%\n",
    "   map 19% reduce 0%\n",
    "   map 24% reduce 0%\n",
    "   map 29% reduce 0%\n",
    "   map 35% reduce 0%\n",
    "   map 40% reduce 0%\n",
    "   map 45% reduce 0%\n",
    "   map 51% reduce 0%\n",
    "   map 56% reduce 0%\n",
    "   map 61% reduce 0%\n",
    "   map 66% reduce 0%\n",
    "   map 67% reduce 0%\n",
    "   map 83% reduce 0%\n",
    "   map 100% reduce 0%\n",
    "   map 100% reduce 100%\n",
    "  Job job_1547074859606_16460 completed successfully\n",
    "  Output directory: hdfs:///user/israeldi/tmp/mrjob/mr_summary_stats.israeldi.20190405.205834.347413/output\n",
    "Counters: 49\n",
    "\tFile Input Format Counters \n",
    "\t\tBytes Read=153028684\n",
    "\tFile Output Format Counters \n",
    "\t\tBytes Written=1056\n",
    "\tFile System Counters\n",
    "\t\tFILE: Number of bytes read=2476\n",
    "\t\tFILE: Number of bytes written=489934\n",
    "\t\tFILE: Number of large read operations=0\n",
    "\t\tFILE: Number of read operations=0\n",
    "\t\tFILE: Number of write operations=0\n",
    "\t\tHDFS: Number of bytes read=153028946\n",
    "\t\tHDFS: Number of bytes written=1056\n",
    "\t\tHDFS: Number of large read operations=0\n",
    "\t\tHDFS: Number of read operations=9\n",
    "\t\tHDFS: Number of write operations=2\n",
    "\tJob Counters \n",
    "\t\tLaunched map tasks=2\n",
    "\t\tLaunched reduce tasks=1\n",
    "\t\tRack-local map tasks=2\n",
    "\t\tTotal megabyte-milliseconds taken by all map tasks=277889024\n",
    "\t\tTotal megabyte-milliseconds taken by all reduce tasks=22872064\n",
    "\t\tTotal time spent by all map tasks (ms)=135688\n",
    "\t\tTotal time spent by all maps in occupied slots (ms)=271376\n",
    "\t\tTotal time spent by all reduce tasks (ms)=5584\n",
    "\t\tTotal time spent by all reduces in occupied slots (ms)=22336\n",
    "\t\tTotal vcore-milliseconds taken by all map tasks=135688\n",
    "\t\tTotal vcore-milliseconds taken by all reduce tasks=5584\n",
    "\tMap-Reduce Framework\n",
    "\t\tCPU time spent (ms)=150370\n",
    "\t\tCombine input records=10000000\n",
    "\t\tCombine output records=50\n",
    "\t\tFailed Shuffles=0\n",
    "\t\tGC time elapsed (ms)=731\n",
    "\t\tInput split bytes=262\n",
    "\t\tMap input records=10000000\n",
    "\t\tMap output bytes=409729324\n",
    "\t\tMap output materialized bytes=2482\n",
    "\t\tMap output records=10000000\n",
    "\t\tMerged Map outputs=2\n",
    "\t\tPhysical memory (bytes) snapshot=3372437504\n",
    "\t\tReduce input groups=25\n",
    "\t\tReduce input records=50\n",
    "\t\tReduce output records=25\n",
    "\t\tReduce shuffle bytes=2482\n",
    "\t\tShuffled Maps =2\n",
    "\t\tSpilled Records=100\n",
    "\t\tTotal committed heap usage (bytes)=3726114816\n",
    "\t\tVirtual memory (bytes) snapshot=13179109376\n",
    "\tShuffle Errors\n",
    "\t\tBAD_ID=0\n",
    "\t\tCONNECTION=0\n",
    "\t\tIO_ERROR=0\n",
    "\t\tWRONG_LENGTH=0\n",
    "\t\tWRONG_MAP=0\n",
    "\t\tWRONG_REDUCE=0\n",
    "job output is in hdfs:///user/israeldi/tmp/mrjob/mr_summary_stats.israeldi.20190405.205834.347413/output\n",
    "Streaming final output from hdfs:///user/israeldi/tmp/mrjob/mr_summary_stats.israeldi.20190405.205834.347413/output...\n",
    "Removing HDFS temp directory hdfs:///user/israeldi/tmp/mrjob/mr_summary_stats.israeldi.20190405.205834.347413...\n",
    "Removing temp directory /tmp/mr_summary_stats.israeldi.20190405.205834.347413..."
   ]
  },
  {
   "cell_type": "markdown",
   "metadata": {},
   "source": [
    "4. Use `matplotlib` and the results in `summary_large.txt` to create a plot displaying $95\\%$ confidence intervals for the sample means of the populations given by the class labels in file [hdfs:/var/stats507w19/populations_large.txt](hdfs:/var/stats507w19/populations_large.txt). You will probably want to make a boxplot for this, but feel free to get creative if you think you have a better way to display the information. Make sure your plot has a sensible title and axis labels. Save your plot as a pdf called `populations.pdf` and include it in your submission."
   ]
  },
  {
   "cell_type": "code",
   "execution_count": 2,
   "metadata": {},
   "outputs": [
    {
     "data": {
      "image/png": "[encoded data removed]",
      "text/plain": [
       "<Figure size 432x288 with 1 Axes>"
      ]
     },
     "metadata": {},
     "output_type": "display_data"
    }
   ],
   "source": [
    "import pandas as pd\n",
    "import matplotlib.pyplot as plt, numpy as np\n",
    "%matplotlib inline\n",
    "\n",
    "cols = ['n', 's_mean', 's_var']\n",
    "\n",
    "# Read Data\n",
    "df = pd.read_table('summary_large.txt', delim_whitespace = True, names = ('label', 'Stats'))\n",
    "df\n",
    "\n",
    "# Separate into separate columns from our Stats column\n",
    "df['Stats'] = df['Stats'].apply(lambda x: pd.Series(str(x).replace('[', '')))\n",
    "df['Stats'] = df['Stats'].apply(lambda x: pd.Series(str(x).replace(']', '')))\n",
    "df[cols] = df['Stats'].apply(lambda x: pd.Series(str(x).split(',')))\n",
    "\n",
    "# Convert columns to numeric\n",
    "df[cols] = df[cols].apply(pd.to_numeric, errors = 'coerce', axis = 1)\n",
    "\n",
    "# Sort by population labels\n",
    "df = df.sort_values(by = ['label'])\n",
    "\n",
    "# Set up Error bars for our plot\n",
    "x_pos = np.arange(len(df))\n",
    "error = ((df['s_var'] / df['n']).apply(np.sqrt))* 1.96\n",
    "\n",
    "# Plot our Bar chart with 95% confidence bands\n",
    "f = plt.figure()\n",
    "plt.errorbar(x_pos, df['s_mean'], yerr = error, capsize = 5, fmt = 'o')\n",
    "plt.title('Sample Means for each Population')\n",
    "plt.ylabel('Sample Mean')\n",
    "plt.xlabel('Population Label')\n",
    "_=plt.xticks(x_pos, df['label'])\n",
    "\n",
    "\n",
    "f.savefig(\"populations.pdf\", bbox_inches='tight')"
   ]
  },
  {
   "cell_type": "markdown",
   "metadata": {},
   "source": [
    "### Problem 3: Graph Processing: Counting Triangles with PySpark\n",
    "#### Time Spent: 6 hours\n",
    "#### ([Back to Top](#Table-of-Contents))"
   ]
  },
  {
   "cell_type": "markdown",
   "metadata": {},
   "source": [
    "A classic task in graph processing is called \"triangle counting\". If you have never heard of graphs, that's okay! It suffices to know that a graph is a set of *nodes* (also called *vertices*), pairs of which are joined by *edges* (see https://en.wikipedia.org/wiki/Graph_theory for more). A *triangle* in graph theory is a set of three nodes, say $\\{a, b, c\\}$, such that all three nodes are joined by edges. Triangle counting is closely related to a fundamental task for social media companies, who may wish to suggest new \"friends\" to users based on their existing social network. In this problem, you'll implement triangle counting in the MapReduce framework using PySpark. We should note that in practice, the MapReduce framework is rather poorly-suited to the problem of counting triangles, but it's a good problem to get you practice with the framework, so we'll leave that be.\n",
    "\n",
    "The input for this problem will be a collection of files representing users' friend lists in a social network. Each user in the network is assigned a numeric ID, and that user's friend list is contained in a file called `n.txt`, where `n` is the user's ID. Each such file contains a single space-separated line, of the form\n",
    "\n",
    "`n f1 f2 ... fK`\n",
    "\n",
    "where `n` is the node and `f1,f2,...,fK` are the IDs of the friends of `n`. So, if node $1$ is friends with nodes $2,5$ and $6$, there will be a file `1.txt`, containing only the line `1 2 5 6`. If node $10$ has no friends, then there will be a file `10.txt`, containing only the line `10`, or perhaps no file at all. Note that just because an ID appears in a friend list, that doesn't necessarily mean that there will be a file listing that user's friends, but you may assume (1) **symmetry:** if $100$ is a friend of $200$, then $200$ is a friend of $100$. (2) **no duplication**: each friend appears in a given friend list at most once (i.e., every file will contain a given number at most once).\n",
    "\n",
    "Once again, before you dive in and write a bunch of code, sit down and think about the problem. What is the right \"fundamental unit\" of the problem? What should your keys and values look like? **Hint:** the simplest solution to this problem involves multiple steps, involving a standard map-reduce pattern and a subsequent filtering operation. As usual, overly complicated solutions will not receive full credit.\n",
    "1. Write a PySpark job that takes the described input and produces a list of all the triangles in the network, one per line. Each triangle should be listed as a space-separated line `node1 node2 node3`, with the entries sorted numerically in ascending order. So, if nodes $2$, $5$ and $15$ form a triangle, the output should include the triple $(2,5,15)$, but not $(2,15,5)$, $(15,2,5)$, etc. Save your script in a file called `ps_fof.py` and include it in your submission."
   ]
  },
  {
   "cell_type": "raw",
   "metadata": {},
   "source": [
    "from pyspark import SparkConf,SparkContext\n",
    "import sys\n",
    "import itertools, functools\n",
    "\n",
    "# At first are the configuration settings so we can run it through the terminal\n",
    "# then we set up configuration for the PySpark job\n",
    "if len(sys.argv) != 3:\n",
    "    print('Usage: ' + sys.argv[0] + ' <in> <out>') # [0] will be the .py file\n",
    "    sys.exit(1)\n",
    "inputlocation = sys.argv[1] # [1] will be the input file(i.e. the txt files here)\n",
    "outputlocation = sys.argv[2] # [2] where we save the output of the program\n",
    "\n",
    "# Set up the configuration and job context\n",
    "conf = SparkConf().setAppName('Triangles') \n",
    "sc = SparkContext(conf = conf) \n",
    "\n",
    "# Read Files ----------------------------------------------------------------------------------------------------\n",
    "data = sc.textFile(inputlocation)\n",
    "\n",
    "# Split line, convert to ints, format as (key,value) pairs where node n is the key, and its friends are the values\n",
    "data = data.map(lambda line: [num for num in line.split()]).map(lambda numList: [int(num) for num in numList]).map(lambda numList: (numList[0], numList[1:]))\n",
    "\n",
    "# Get all combinations of pairs of friends for each key. (n choose 2)\n",
    "combs = data.map(lambda w: [w[0], list(itertools.combinations(w[1], 2))])\n",
    "\n",
    "# Create all possible triangles\n",
    "triangles = combs.flatMapValues(lambda x: x).map(lambda w: (w[0], w[1][0], w[1][1]))\n",
    "\n",
    "# Sort each tuple\n",
    "triangles = triangles.map(lambda w: tuple(sorted(w)))\n",
    "\n",
    "# Set up to be used as dictionary and count by key/ filter out the \"fake\" triangles that only show up once\n",
    "triangles = triangles.map(lambda w: (w, 0))\n",
    "triangles = triangles.countByKey()\n",
    "triangles = list(filter(lambda x: x[1] > 1, triangles.items()))\n",
    "\n",
    "# Convert list to RDD again in order to sort output and convert data to string\n",
    "triangles = sc.parallelize(triangles)\n",
    "data_final = triangles.map(lambda w: w[0]).collect()\n",
    "data_final = sorted(data_final)\n",
    "\n",
    "# Convert to space-separated\n",
    "data_final = sc.parallelize(data_final)\n",
    "data_final = data_final.map(str).map(lambda w: w.strip('(),'))\n",
    "data_final = data_final.map(lambda w: w.replace(',', ''))\n",
    "\n",
    "# Save Output ----------------------------------------------------------------------------------------------------\n",
    "data_final.saveAsTextFile(outputlocation)\n",
    "sc.stop() # Let Spark know that the job is done."
   ]
  },
  {
   "cell_type": "markdown",
   "metadata": {},
   "source": [
    "2. Test your script on the set of 5 simple files in the HDFS directory\n",
    "[hdfs:/var/stats507w19/fof/friends.simple](hdfs:/var/stats507w19/fof/friends.simple)\n",
    "which is small enough that you should be able to work out by hand what the correct output is. How many triangles are there? List them in a file called `small_triangle_list.txt` and include it in your submission."
   ]
  },
  {
   "cell_type": "raw",
   "metadata": {},
   "source": [
    "# COMMAND LINE:\n",
    "\n",
    "# spark-submit --master yarn --queue stats507w19 Stats_507/ps_fof.py /var/stats507w19/fof/friends.simple Stats_507/small_triangle_list"
   ]
  },
  {
   "cell_type": "code",
   "execution_count": 3,
   "metadata": {},
   "outputs": [
    {
     "name": "stdout",
     "output_type": "stream",
     "text": [
      "Number of Triangles in Small List =  6\n"
     ]
    }
   ],
   "source": [
    "# Get number of triangles\n",
    "df = pd.read_table('small_triangle_list.txt', delim_whitespace = True, header = None)\n",
    "numTriangles = len(df)\n",
    "\n",
    "print(\"Number of Triangles in Small List = \", numTriangles)"
   ]
  },
  {
   "cell_type": "markdown",
   "metadata": {},
   "source": [
    "3. Once you are confident that your script is correct, run it on the larger data set, stored on HDFS at [hdfs:/var/stats507w19/fof/friends1000](hdfs:/var/stats507w19/fof/friends1000) Save the list of triangles to a file called big `big_triangle_list.txt`, and include it in your submission. Don't forget to include in your notebook file a copy-paste of the commands you used to launch your job along with their outputs."
   ]
  },
  {
   "cell_type": "raw",
   "metadata": {},
   "source": [
    "# COMMAND LINE:\n",
    "\n",
    "# spark-submit --master yarn --queue stats507w19 Stats_507/ps_fof.py /var/stats507w19/fof/friends1000 Stats_507/big_triangle_list"
   ]
  },
  {
   "cell_type": "code",
   "execution_count": 4,
   "metadata": {},
   "outputs": [
    {
     "name": "stdout",
     "output_type": "stream",
     "text": [
      "Number of Triangles in Big List =  144120\n"
     ]
    }
   ],
   "source": [
    "# Get number of triangles\n",
    "df = pd.read_table('big_triangle_list.txt', delim_whitespace = True, header = None)\n",
    "numTriangles = len(df)\n",
    "\n",
    "print(\"Number of Triangles in Big List = \", numTriangles)"
   ]
  }
 ],
 "metadata": {
  "kernelspec": {
   "display_name": "Python 3",
   "language": "python",
   "name": "python3"
  },
  "language_info": {
   "codemirror_mode": {
    "name": "ipython",
    "version": 3
   },
   "file_extension": ".py",
   "mimetype": "text/x-python",
   "name": "python",
   "nbconvert_exporter": "python",
   "pygments_lexer": "ipython3",
   "version": "3.6.8"
  }
 },
 "nbformat": 4,
 "nbformat_minor": 2
}
