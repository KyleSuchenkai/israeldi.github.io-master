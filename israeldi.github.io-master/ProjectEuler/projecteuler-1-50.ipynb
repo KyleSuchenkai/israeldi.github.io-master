{
 "cells": [
  {
   "cell_type": "markdown",
   "metadata": {},
   "source": [
    "# Project Euler: 1-50\n",
    "### Israel Diego [(Go to Home Page)](https://israeldi.github.io/project-euler/)\n",
    " What follows are Python-based solutions to <a href=\"https://projecteuler.net\">Project Euler</a> problems. In writing the code, I have aimed for a balance between readability and being concise, for which Python is well-suited. Efficiency is only considered if necessary to get reasonable runtime. To check your answers, create an account on Project Euler, where you can submit answers for validation and track your progress.\n",
    " ## Table of Contents\n",
    " 1. [1. Multiples of 3 and 5](#1.-Multiples-of-3-and-5)\n",
    " 2. [2. Even Fibonacci numbers](#2.-Even-Fibonacci-numbers)\n",
    " 3. [3. Largest prime factor](#3.-Largest-prime-factor)\n",
    " 4. [4. Largest palindrome product](#4.-Largest-palindrome-product)\n",
    " 5. [5. Smallest multiple](#5.-Smallest-multiple)\n",
    " 6. [6. Sum square difference](#6.-Sum-square-difference)\n",
    " 7. [7. 10001st prime](#7.-10001st-prime)\n",
    " 8. [8. Largest product in a series](#8.-Largest-product-in-a-series)\n",
    " 9. [9. Special Pythagorean triplet](#9.-Special-Pythagorean-triplet)\n",
    " 10. [10. Summation of primes](#10.-Summation-of-primes)\n",
    " 11. [11. Largest product in a grid](#11.-Largest-product-in-a-grid)\n",
    " 12. [12. Highly divisible triangular number](#12.-Highly-divisible-triangular-number)\n",
    " 13. [13. Large sum](#13.-Large-sum)\n",
    " 14. [14. Longest Collatz sequence](#14.-Longest-Collatz-sequence)\n",
    " 15. [15. Lattice paths](#15.-Lattice-paths)\n",
    " 16. [16. Power digit sum](#16.-Power-digit-sum)\n",
    " 17. [17. Number letter counts](#17.-Number-letter-counts)\n",
    " 18. [18. Maximum path sum I](#18.-Maximum-path-sum-I)\n",
    " 19. [19. Counting Sundays](#19.-Counting-Sundays)\n",
    " 20. [20. Factorial digit sum](#20.-Factorial-digit-sum)\n",
    " 21. [21. Amicable numbers](#21.-Amicable-numbers)\n",
    " 22. [22. Names scores](#22.-Names-scores)\n",
    " 23. [23. Non-abundant sums](#23.-Non-abundant-sums)\n",
    " 24. [24. Lexicographic permutations](#24.-Lexicographic-permutations)\n",
    " 25. [25. 1000-digit Fibonacci number](#25.-1000-digit-Fibonacci-number)\n",
    " 26. [26. Reciprocal cycles](#26.-Reciprocal-cycles)\n",
    " 27. [27. Quadratic primes](#27.-Quadratic-primes)\n",
    " 28. [28. Number spiral diagonals](#28.-Number-spiral-diagonals)\n",
    " 29. [29. Distinct powers](#29.-Distinct-powers)\n",
    " 30. [30. Digit fifth powers](#30.-Digit-fifth-powers)\n",
    " 31. [31. Coin sums](#31.-Coin-sums)\n",
    " 32. [32. Pandigital products](#32.-Pandigital-products)\n",
    " 33. [33. Digit cancelling fractions](#33.-Digit-cancelling-fractions)\n",
    " 34. [34. Digit factorials](#34.-Digit-factorials)\n",
    " 35. [35. Circular primes](#35.-Circular-primes)\n",
    " 36. [36. Double-base palindromes](#36.-Double-base-palindromes)\n",
    " 37. [37. Truncatable primes](#37.-Truncatable-primes)\n",
    " 38. [38. Pandigital multiples](#38.-Pandigital-multiples)\n",
    " 39. [39. Integer right triangles](#39.-Integer-right-triangles)\n",
    " 40. [40. Champernowne's constant](#40.-Champernowne's-constant)\n",
    " 41. [41. Pandigital prime](#41.-Pandigital-prime)\n",
    " 42. [42. Coded triangle numbers](#42.-Coded-triangle-numbers)\n",
    " 43. [43. Sub-string divisibility](#43.-Sub-string-divisibility)\n",
    " 44. [44. Pentagon numbers](#44.-Pentagon-numbers)\n",
    " 45. [45. Triangular, pentagonal, and hexagonal](#45.-Triangular,-pentagonal,-and-hexagonal)\n",
    " 46. [46. Goldbach's other conjecture](#46.-Goldbach's-other-conjecture)\n",
    " 47. [47. Distinct primes factors](#47.-Distinct-primes-factors)\n",
    " 48. [48. Self powers](#48.-Self-powers)\n",
    " 49. [49. Prime permutations](#49.-Prime-permutations)\n",
    " 0. [50. Consecutive prime sum](#50.-Consecutive-prime-sum)"
   ]
  },
  {
   "cell_type": "code",
   "execution_count": null,
   "metadata": {},
   "outputs": [],
   "source": [
    "# Modules to load\n"
   ]
  },
  {
   "cell_type": "markdown",
   "metadata": {},
   "source": [
    "### 1. Multiples of 3 and 5\n",
    "#### ([Back to Top](#Table-of-Contents)) ([Webpage](https://projecteuler.net/problem=1))<div class=\"problem_content\" role=\"problem\">\n",
    "<p>If we list all the natural numbers below 10 that are multiples of 3 or 5, we get 3, 5, 6 and 9. The sum of these multiples is 23.</p>\n",
    "<p>Find the sum of all the multiples of 3 or 5 below 1000.</p>\n",
    "</div>"
   ]
  },
  {
   "cell_type": "code",
   "execution_count": null,
   "metadata": {},
   "outputs": [],
   "source": []
  },
  {
   "cell_type": "markdown",
   "metadata": {},
   "source": [
    "### 2. Even Fibonacci numbers\n",
    "#### ([Back to Top](#Table-of-Contents)) ([Webpage](https://projecteuler.net/problem=2))<div class=\"problem_content\" role=\"problem\">\n",
    "<p>Each new term in the Fibonacci sequence is generated by adding the previous two terms. By starting with 1 and 2, the first 10 terms will be:</p>\n",
    "<p style=\"text-align:center;\">1, 2, 3, 5, 8, 13, 21, 34, 55, 89, ...</p>\n",
    "<p>By considering the terms in the Fibonacci sequence whose values do not exceed four million, find the sum of the even-valued terms.</p>\n",
    "</div>"
   ]
  },
  {
   "cell_type": "code",
   "execution_count": null,
   "metadata": {},
   "outputs": [],
   "source": []
  },
  {
   "cell_type": "markdown",
   "metadata": {},
   "source": [
    "### 3. Largest prime factor\n",
    "#### ([Back to Top](#Table-of-Contents)) ([Webpage](https://projecteuler.net/problem=3))<div class=\"problem_content\" role=\"problem\">\n",
    "<p>The prime factors of 13195 are 5, 7, 13 and 29.</p>\n",
    "<p>What is the largest prime factor of the number 600851475143 ?</p>\n",
    "</div>"
   ]
  },
  {
   "cell_type": "code",
   "execution_count": null,
   "metadata": {},
   "outputs": [],
   "source": []
  },
  {
   "cell_type": "markdown",
   "metadata": {},
   "source": [
    "### 4. Largest palindrome product\n",
    "#### ([Back to Top](#Table-of-Contents)) ([Webpage](https://projecteuler.net/problem=4))<div class=\"problem_content\" role=\"problem\">\n",
    "<p>A palindromic number reads the same both ways. The largest palindrome made from the product of two 2-digit numbers is 9009 = 91 × 99.</p>\n",
    "<p>Find the largest palindrome made from the product of two 3-digit numbers.</p>\n",
    "</div>"
   ]
  },
  {
   "cell_type": "code",
   "execution_count": null,
   "metadata": {},
   "outputs": [],
   "source": []
  },
  {
   "cell_type": "markdown",
   "metadata": {},
   "source": [
    "### 5. Smallest multiple\n",
    "#### ([Back to Top](#Table-of-Contents)) ([Webpage](https://projecteuler.net/problem=5))<div class=\"problem_content\" role=\"problem\">\n",
    "<p>2520 is the smallest number that can be divided by each of the numbers from 1 to 10 without any remainder.</p>\n",
    "<p>What is the smallest positive number that is <dfn title=\"divisible with no remainder\">evenly divisible</dfn> by all of the numbers from 1 to 20?</p>\n",
    "</div>"
   ]
  },
  {
   "cell_type": "code",
   "execution_count": null,
   "metadata": {},
   "outputs": [],
   "source": []
  },
  {
   "cell_type": "markdown",
   "metadata": {},
   "source": [
    "### 6. Sum square difference\n",
    "#### ([Back to Top](#Table-of-Contents)) ([Webpage](https://projecteuler.net/problem=6))<div class=\"problem_content\" role=\"problem\">\n",
    "<p>The sum of the squares of the first ten natural numbers is,</p>\n",
    "<div style=\"text-align:center;\">1<sup>2</sup> + 2<sup>2</sup> + ... + 10<sup>2</sup> = 385</div>\n",
    "<p>The square of the sum of the first ten natural numbers is,</p>\n",
    "<div style=\"text-align:center;\">(1 + 2 + ... + 10)<sup>2</sup> = 55<sup>2</sup> = 3025</div>\n",
    "<p>Hence the difference between the sum of the squares of the first ten natural numbers and the square of the sum is 3025 − 385 = 2640.</p>\n",
    "<p>Find the difference between the sum of the squares of the first one hundred natural numbers and the square of the sum.</p>\n",
    "</div>"
   ]
  },
  {
   "cell_type": "code",
   "execution_count": null,
   "metadata": {},
   "outputs": [],
   "source": []
  },
  {
   "cell_type": "markdown",
   "metadata": {},
   "source": [
    "### 7. 10001st prime\n",
    "#### ([Back to Top](#Table-of-Contents)) ([Webpage](https://projecteuler.net/problem=7))<div class=\"problem_content\" role=\"problem\">\n",
    "<p>By listing the first six prime numbers: 2, 3, 5, 7, 11, and 13, we can see that the 6th prime is 13.</p>\n",
    "<p>What is the 10 001st prime number?</p>\n",
    "</div>"
   ]
  },
  {
   "cell_type": "code",
   "execution_count": null,
   "metadata": {},
   "outputs": [],
   "source": []
  },
  {
   "cell_type": "markdown",
   "metadata": {},
   "source": [
    "### 8. Largest product in a series\n",
    "#### ([Back to Top](#Table-of-Contents)) ([Webpage](https://projecteuler.net/problem=8))<div class=\"problem_content\" role=\"problem\">\n",
    "<p>The four adjacent digits in the 1000-digit number that have the greatest product are 9 × 9 × 8 × 9 = 5832.</p>\n",
    "<p style=\"font-family:'courier new';text-align:center;\">\n",
    "73167176531330624919225119674426574742355349194934<br>\n",
    "96983520312774506326239578318016984801869478851843<br/>\n",
    "85861560789112949495459501737958331952853208805511<br/>\n",
    "12540698747158523863050715693290963295227443043557<br/>\n",
    "66896648950445244523161731856403098711121722383113<br/>\n",
    "62229893423380308135336276614282806444486645238749<br/>\n",
    "30358907296290491560440772390713810515859307960866<br/>\n",
    "70172427121883998797908792274921901699720888093776<br/>\n",
    "65727333001053367881220235421809751254540594752243<br/>\n",
    "52584907711670556013604839586446706324415722155397<br/>\n",
    "53697817977846174064955149290862569321978468622482<br/>\n",
    "83972241375657056057490261407972968652414535100474<br/>\n",
    "82166370484403199890008895243450658541227588666881<br/>\n",
    "16427171479924442928230863465674813919123162824586<br/>\n",
    "17866458359124566529476545682848912883142607690042<br/>\n",
    "24219022671055626321111109370544217506941658960408<br/>\n",
    "07198403850962455444362981230987879927244284909188<br/>\n",
    "84580156166097919133875499200524063689912560717606<br/>\n",
    "05886116467109405077541002256983155200055935729725<br/>\n",
    "71636269561882670428252483600823257530420752963450<br/></br></p>\n",
    "<p>Find the thirteen adjacent digits in the 1000-digit number that have the greatest product. What is the value of this product?</p>\n",
    "</div>"
   ]
  },
  {
   "cell_type": "code",
   "execution_count": null,
   "metadata": {},
   "outputs": [],
   "source": []
  },
  {
   "cell_type": "markdown",
   "metadata": {},
   "source": [
    "### 9. Special Pythagorean triplet\n",
    "#### ([Back to Top](#Table-of-Contents)) ([Webpage](https://projecteuler.net/problem=9))<div class=\"problem_content\" role=\"problem\">\n",
    "<p>A Pythagorean triplet is a set of three natural numbers, <var>a</var> &lt; <var>b</var> &lt; <var>c</var>, for which,</p>\n",
    "<div style=\"text-align:center;\"> <var>a</var><sup>2</sup> + <var>b</var><sup>2</sup> = <var>c</var><sup>2</sup></div>\n",
    "<p>For example, 3<sup>2</sup> + 4<sup>2</sup> = 9 + 16 = 25 = 5<sup>2</sup>.</p>\n",
    "<p>There exists exactly one Pythagorean triplet for which <var>a</var> + <var>b</var> + <var>c</var> = 1000.<br>Find the product <var>abc</var>.</br></p>\n",
    "</div>"
   ]
  },
  {
   "cell_type": "code",
   "execution_count": null,
   "metadata": {},
   "outputs": [],
   "source": []
  },
  {
   "cell_type": "markdown",
   "metadata": {},
   "source": [
    "### 10. Summation of primes\n",
    "#### ([Back to Top](#Table-of-Contents)) ([Webpage](https://projecteuler.net/problem=10))<div class=\"problem_content\" role=\"problem\">\n",
    "<p>The sum of the primes below 10 is 2 + 3 + 5 + 7 = 17.</p>\n",
    "<p>Find the sum of all the primes below two million.</p>\n",
    "</div>"
   ]
  },
  {
   "cell_type": "code",
   "execution_count": null,
   "metadata": {},
   "outputs": [],
   "source": []
  },
  {
   "cell_type": "markdown",
   "metadata": {},
   "source": [
    "### 11. Largest product in a grid\n",
    "#### ([Back to Top](#Table-of-Contents)) ([Webpage](https://projecteuler.net/problem=11))<div class=\"problem_content\" role=\"problem\">\n",
    "<p>In the 20×20 grid below, four numbers along a diagonal line have been marked in red.</p>\n",
    "<p style=\"font-family:'courier new';text-align:center;font-size:10pt;\">\n",
    "08 02 22 97 38 15 00 40 00 75 04 05 07 78 52 12 50 77 91 08<br>\n",
    "49 49 99 40 17 81 18 57 60 87 17 40 98 43 69 48 04 56 62 00<br/>\n",
    "81 49 31 73 55 79 14 29 93 71 40 67 53 88 30 03 49 13 36 65<br/>\n",
    "52 70 95 23 04 60 11 42 69 24 68 56 01 32 56 71 37 02 36 91<br/>\n",
    "22 31 16 71 51 67 63 89 41 92 36 54 22 40 40 28 66 33 13 80<br/>\n",
    "24 47 32 60 99 03 45 02 44 75 33 53 78 36 84 20 35 17 12 50<br/>\n",
    "32 98 81 28 64 23 67 10 <span style=\"color:#ff0000;\"><b>26</b></span> 38 40 67 59 54 70 66 18 38 64 70<br/>\n",
    "67 26 20 68 02 62 12 20 95 <span style=\"color:#ff0000;\"><b>63</b></span> 94 39 63 08 40 91 66 49 94 21<br/>\n",
    "24 55 58 05 66 73 99 26 97 17 <span style=\"color:#ff0000;\"><b>78</b></span> 78 96 83 14 88 34 89 63 72<br/>\n",
    "21 36 23 09 75 00 76 44 20 45 35 <span style=\"color:#ff0000;\"><b>14</b></span> 00 61 33 97 34 31 33 95<br/>\n",
    "78 17 53 28 22 75 31 67 15 94 03 80 04 62 16 14 09 53 56 92<br/>\n",
    "16 39 05 42 96 35 31 47 55 58 88 24 00 17 54 24 36 29 85 57<br/>\n",
    "86 56 00 48 35 71 89 07 05 44 44 37 44 60 21 58 51 54 17 58<br/>\n",
    "19 80 81 68 05 94 47 69 28 73 92 13 86 52 17 77 04 89 55 40<br/>\n",
    "04 52 08 83 97 35 99 16 07 97 57 32 16 26 26 79 33 27 98 66<br/>\n",
    "88 36 68 87 57 62 20 72 03 46 33 67 46 55 12 32 63 93 53 69<br/>\n",
    "04 42 16 73 38 25 39 11 24 94 72 18 08 46 29 32 40 62 76 36<br/>\n",
    "20 69 36 41 72 30 23 88 34 62 99 69 82 67 59 85 74 04 36 16<br/>\n",
    "20 73 35 29 78 31 90 01 74 31 49 71 48 86 81 16 23 57 05 54<br/>\n",
    "01 70 54 71 83 51 54 69 16 92 33 48 61 43 52 01 89 19 67 48<br/></br></p>\n",
    "<p>The product of these numbers is 26 × 63 × 78 × 14 = 1788696.</p>\n",
    "<p>What is the greatest product of four adjacent numbers in the same direction (up, down, left, right, or diagonally) in the 20×20 grid?</p>\n",
    "</div>"
   ]
  },
  {
   "cell_type": "code",
   "execution_count": null,
   "metadata": {},
   "outputs": [],
   "source": []
  },
  {
   "cell_type": "markdown",
   "metadata": {},
   "source": [
    "### 12. Highly divisible triangular number\n",
    "#### ([Back to Top](#Table-of-Contents)) ([Webpage](https://projecteuler.net/problem=12))<div class=\"problem_content\" role=\"problem\">\n",
    "<p>The sequence of triangle numbers is generated by adding the natural numbers. So the 7<sup>th</sup> triangle number would be 1 + 2 + 3 + 4 + 5 + 6 + 7 = 28. The first ten terms would be:</p>\n",
    "<p style=\"text-align:center;\">1, 3, 6, 10, 15, 21, 28, 36, 45, 55, ...</p>\n",
    "<p>Let us list the factors of the first seven triangle numbers:</p>\n",
    "<blockquote style=\"font-family:'courier new';\"><b> 1</b>: 1<br><b> 3</b>: 1,3<br/><b> 6</b>: 1,2,3,6<br/><b>10</b>: 1,2,5,10<br/><b>15</b>: 1,3,5,15<br/><b>21</b>: 1,3,7,21<br/><b>28</b>: 1,2,4,7,14,28</br></blockquote>\n",
    "<p>We can see that 28 is the first triangle number to have over five divisors.</p>\n",
    "<p>What is the value of the first triangle number to have over five hundred divisors?</p>\n",
    "</div>"
   ]
  },
  {
   "cell_type": "code",
   "execution_count": null,
   "metadata": {},
   "outputs": [],
   "source": []
  },
  {
   "cell_type": "markdown",
   "metadata": {},
   "source": [
    "### 13. Large sum\n",
    "#### ([Back to Top](#Table-of-Contents)) ([Webpage](https://projecteuler.net/problem=13))<div class=\"problem_content\" role=\"problem\">\n",
    "<p>Work out the first ten digits of the sum of the following one-hundred 50-digit numbers.</p>\n",
    "<div style=\"font-family:'courier new';font-size:10pt;text-align:center;\">\n",
    "37107287533902102798797998220837590246510135740250<br>\n",
    "46376937677490009712648124896970078050417018260538<br/>\n",
    "74324986199524741059474233309513058123726617309629<br/>\n",
    "91942213363574161572522430563301811072406154908250<br/>\n",
    "23067588207539346171171980310421047513778063246676<br/>\n",
    "89261670696623633820136378418383684178734361726757<br/>\n",
    "28112879812849979408065481931592621691275889832738<br/>\n",
    "44274228917432520321923589422876796487670272189318<br/>\n",
    "47451445736001306439091167216856844588711603153276<br/>\n",
    "70386486105843025439939619828917593665686757934951<br/>\n",
    "62176457141856560629502157223196586755079324193331<br/>\n",
    "64906352462741904929101432445813822663347944758178<br/>\n",
    "92575867718337217661963751590579239728245598838407<br/>\n",
    "58203565325359399008402633568948830189458628227828<br/>\n",
    "80181199384826282014278194139940567587151170094390<br/>\n",
    "35398664372827112653829987240784473053190104293586<br/>\n",
    "86515506006295864861532075273371959191420517255829<br/>\n",
    "71693888707715466499115593487603532921714970056938<br/>\n",
    "54370070576826684624621495650076471787294438377604<br/>\n",
    "53282654108756828443191190634694037855217779295145<br/>\n",
    "36123272525000296071075082563815656710885258350721<br/>\n",
    "45876576172410976447339110607218265236877223636045<br/>\n",
    "17423706905851860660448207621209813287860733969412<br/>\n",
    "81142660418086830619328460811191061556940512689692<br/>\n",
    "51934325451728388641918047049293215058642563049483<br/>\n",
    "62467221648435076201727918039944693004732956340691<br/>\n",
    "15732444386908125794514089057706229429197107928209<br/>\n",
    "55037687525678773091862540744969844508330393682126<br/>\n",
    "18336384825330154686196124348767681297534375946515<br/>\n",
    "80386287592878490201521685554828717201219257766954<br/>\n",
    "78182833757993103614740356856449095527097864797581<br/>\n",
    "16726320100436897842553539920931837441497806860984<br/>\n",
    "48403098129077791799088218795327364475675590848030<br/>\n",
    "87086987551392711854517078544161852424320693150332<br/>\n",
    "59959406895756536782107074926966537676326235447210<br/>\n",
    "69793950679652694742597709739166693763042633987085<br/>\n",
    "41052684708299085211399427365734116182760315001271<br/>\n",
    "65378607361501080857009149939512557028198746004375<br/>\n",
    "35829035317434717326932123578154982629742552737307<br/>\n",
    "94953759765105305946966067683156574377167401875275<br/>\n",
    "88902802571733229619176668713819931811048770190271<br/>\n",
    "25267680276078003013678680992525463401061632866526<br/>\n",
    "36270218540497705585629946580636237993140746255962<br/>\n",
    "24074486908231174977792365466257246923322810917141<br/>\n",
    "91430288197103288597806669760892938638285025333403<br/>\n",
    "34413065578016127815921815005561868836468420090470<br/>\n",
    "23053081172816430487623791969842487255036638784583<br/>\n",
    "11487696932154902810424020138335124462181441773470<br/>\n",
    "63783299490636259666498587618221225225512486764533<br/>\n",
    "67720186971698544312419572409913959008952310058822<br/>\n",
    "95548255300263520781532296796249481641953868218774<br/>\n",
    "76085327132285723110424803456124867697064507995236<br/>\n",
    "37774242535411291684276865538926205024910326572967<br/>\n",
    "23701913275725675285653248258265463092207058596522<br/>\n",
    "29798860272258331913126375147341994889534765745501<br/>\n",
    "18495701454879288984856827726077713721403798879715<br/>\n",
    "38298203783031473527721580348144513491373226651381<br/>\n",
    "34829543829199918180278916522431027392251122869539<br/>\n",
    "40957953066405232632538044100059654939159879593635<br/>\n",
    "29746152185502371307642255121183693803580388584903<br/>\n",
    "41698116222072977186158236678424689157993532961922<br/>\n",
    "62467957194401269043877107275048102390895523597457<br/>\n",
    "23189706772547915061505504953922979530901129967519<br/>\n",
    "86188088225875314529584099251203829009407770775672<br/>\n",
    "11306739708304724483816533873502340845647058077308<br/>\n",
    "82959174767140363198008187129011875491310547126581<br/>\n",
    "97623331044818386269515456334926366572897563400500<br/>\n",
    "42846280183517070527831839425882145521227251250327<br/>\n",
    "55121603546981200581762165212827652751691296897789<br/>\n",
    "32238195734329339946437501907836945765883352399886<br/>\n",
    "75506164965184775180738168837861091527357929701337<br/>\n",
    "62177842752192623401942399639168044983993173312731<br/>\n",
    "32924185707147349566916674687634660915035914677504<br/>\n",
    "99518671430235219628894890102423325116913619626622<br/>\n",
    "73267460800591547471830798392868535206946944540724<br/>\n",
    "76841822524674417161514036427982273348055556214818<br/>\n",
    "97142617910342598647204516893989422179826088076852<br/>\n",
    "87783646182799346313767754307809363333018982642090<br/>\n",
    "10848802521674670883215120185883543223812876952786<br/>\n",
    "71329612474782464538636993009049310363619763878039<br/>\n",
    "62184073572399794223406235393808339651327408011116<br/>\n",
    "66627891981488087797941876876144230030984490851411<br/>\n",
    "60661826293682836764744779239180335110989069790714<br/>\n",
    "85786944089552990653640447425576083659976645795096<br/>\n",
    "66024396409905389607120198219976047599490197230297<br/>\n",
    "64913982680032973156037120041377903785566085089252<br/>\n",
    "16730939319872750275468906903707539413042652315011<br/>\n",
    "94809377245048795150954100921645863754710598436791<br/>\n",
    "78639167021187492431995700641917969777599028300699<br/>\n",
    "15368713711936614952811305876380278410754449733078<br/>\n",
    "40789923115535562561142322423255033685442488917353<br/>\n",
    "44889911501440648020369068063960672322193204149535<br/>\n",
    "41503128880339536053299340368006977710650566631954<br/>\n",
    "81234880673210146739058568557934581403627822703280<br/>\n",
    "82616570773948327592232845941706525094512325230608<br/>\n",
    "22918802058777319719839450180888072429661980811197<br/>\n",
    "77158542502016545090413245809786882778948721859617<br/>\n",
    "72107838435069186155435662884062257473692284509516<br/>\n",
    "20849603980134001723930671666823555245252804609722<br/>\n",
    "53503534226472524250874054075591789781264330331690<br/></br></div>\n",
    "</div>"
   ]
  },
  {
   "cell_type": "code",
   "execution_count": null,
   "metadata": {},
   "outputs": [],
   "source": []
  },
  {
   "cell_type": "markdown",
   "metadata": {},
   "source": [
    "### 14. Longest Collatz sequence\n",
    "#### ([Back to Top](#Table-of-Contents)) ([Webpage](https://projecteuler.net/problem=14))<div class=\"problem_content\" role=\"problem\">\n",
    "<p>The following iterative sequence is defined for the set of positive integers:</p>\n",
    "<p style=\"margin-left:50px;\"><var>n</var> → <var>n</var>/2 (<var>n</var> is even)<br><var>n</var> → 3<var>n</var> + 1 (<var>n</var> is odd)</br></p>\n",
    "<p>Using the rule above and starting with 13, we generate the following sequence:</p>\n",
    "<div style=\"text-align:center;\">13 → 40 → 20 → 10 → 5 → 16 → 8 → 4 → 2 → 1</div>\n",
    "<p>It can be seen that this sequence (starting at 13 and finishing at 1) contains 10 terms. Although it has not been proved yet (Collatz Problem), it is thought that all starting numbers finish at 1.</p>\n",
    "<p>Which starting number, under one million, produces the longest chain?</p>\n",
    "<p class=\"note\"><b>NOTE:</b> Once the chain starts the terms are allowed to go above one million.</p>\n",
    "</div>"
   ]
  },
  {
   "cell_type": "code",
   "execution_count": null,
   "metadata": {},
   "outputs": [],
   "source": []
  },
  {
   "cell_type": "markdown",
   "metadata": {},
   "source": [
    "### 15. Lattice paths\n",
    "#### ([Back to Top](#Table-of-Contents)) ([Webpage](https://projecteuler.net/problem=15))<div class=\"problem_content\" role=\"problem\">\n",
    "<p>Starting in the top left corner of a 2×2 grid, and only being able to move to the right and down, there are exactly 6 routes to the bottom right corner.</p>\n",
    "<div style=\"text-align:center;\">\n",
    "<img alt=\"\" class=\"dark_img\" src=\"project/images/p015.png\"/></div>\n",
    "<p>How many such routes are there through a 20×20 grid?</p>\n",
    "</div>"
   ]
  },
  {
   "cell_type": "code",
   "execution_count": null,
   "metadata": {},
   "outputs": [],
   "source": []
  },
  {
   "cell_type": "markdown",
   "metadata": {},
   "source": [
    "### 16. Power digit sum\n",
    "#### ([Back to Top](#Table-of-Contents)) ([Webpage](https://projecteuler.net/problem=16))<div class=\"problem_content\" role=\"problem\">\n",
    "<p>2<sup>15</sup> = 32768 and the sum of its digits is 3 + 2 + 7 + 6 + 8 = 26.</p>\n",
    "<p>What is the sum of the digits of the number 2<sup>1000</sup>?</p>\n",
    "</div>"
   ]
  },
  {
   "cell_type": "code",
   "execution_count": null,
   "metadata": {},
   "outputs": [],
   "source": []
  },
  {
   "cell_type": "markdown",
   "metadata": {},
   "source": [
    "### 17. Number letter counts\n",
    "#### ([Back to Top](#Table-of-Contents)) ([Webpage](https://projecteuler.net/problem=17))<div class=\"problem_content\" role=\"problem\">\n",
    "<p>If the numbers 1 to 5 are written out in words: one, two, three, four, five, then there are 3 + 3 + 5 + 4 + 4 = 19 letters used in total.</p>\n",
    "<p>If all the numbers from 1 to 1000 (one thousand) inclusive were written out in words, how many letters would be used? </p>\n",
    "<br><p class=\"note\"><b>NOTE:</b> Do not count spaces or hyphens. For example, 342 (three hundred and forty-two) contains 23 letters and 115 (one hundred and fifteen) contains 20 letters. The use of \"and\" when writing out numbers is in compliance with British usage.</p>\n",
    "</br></div>"
   ]
  },
  {
   "cell_type": "code",
   "execution_count": null,
   "metadata": {},
   "outputs": [],
   "source": []
  },
  {
   "cell_type": "markdown",
   "metadata": {},
   "source": [
    "### 18. Maximum path sum I\n",
    "#### ([Back to Top](#Table-of-Contents)) ([Webpage](https://projecteuler.net/problem=18))<div class=\"problem_content\" role=\"problem\">\n",
    "<p>By starting at the top of the triangle below and moving to adjacent numbers on the row below, the maximum total from top to bottom is 23.</p>\n",
    "<p style=\"text-align:center;font-family:'courier new';font-size:12pt;\"><span style=\"color:#ff0000;\"><b>3</b></span><br><span style=\"color:#ff0000;\"><b>7</b></span> 4<br/>\n",
    "2 <span style=\"color:#ff0000;\"><b>4</b></span> 6<br/>\n",
    "8 5 <span style=\"color:#ff0000;\"><b>9</b></span> 3</br></p>\n",
    "<p>That is, 3 + 7 + 4 + 9 = 23.</p>\n",
    "<p>Find the maximum total from top to bottom of the triangle below:</p>\n",
    "<p style=\"text-align:center;font-family:'courier new';\">75<br/>\n",
    "95 64<br/>\n",
    "17 47 82<br/>\n",
    "18 35 87 10<br/>\n",
    "20 04 82 47 65<br/>\n",
    "19 01 23 75 03 34<br/>\n",
    "88 02 77 73 07 63 67<br/>\n",
    "99 65 04 28 06 16 70 92<br/>\n",
    "41 41 26 56 83 40 80 70 33<br/>\n",
    "41 48 72 33 47 32 37 16 94 29<br/>\n",
    "53 71 44 65 25 43 91 52 97 51 14<br/>\n",
    "70 11 33 28 77 73 17 78 39 68 17 57<br/>\n",
    "91 71 52 38 17 14 91 43 58 50 27 29 48<br/>\n",
    "63 66 04 68 89 53 67 30 73 16 69 87 40 31<br/>\n",
    "04 62 98 27 23 09 70 98 73 93 38 53 60 04 23</p>\n",
    "<p class=\"note\"><b>NOTE:</b> As there are only 16384 routes, it is possible to solve this problem by trying every route. However, <a href=\"problem=67\">Problem 67</a>, is the same challenge with a triangle containing one-hundred rows; it cannot be solved by brute force, and requires a clever method! ;o)</p>\n",
    "</div>"
   ]
  },
  {
   "cell_type": "code",
   "execution_count": null,
   "metadata": {},
   "outputs": [],
   "source": []
  },
  {
   "cell_type": "markdown",
   "metadata": {},
   "source": [
    "### 19. Counting Sundays\n",
    "#### ([Back to Top](#Table-of-Contents)) ([Webpage](https://projecteuler.net/problem=19))<div class=\"problem_content\" role=\"problem\">\n",
    "<p>You are given the following information, but you may prefer to do some research for yourself.</p>\n",
    "<ul><li>1 Jan 1900 was a Monday.</li>\n",
    "<li>Thirty days has September,<br>\n",
    "April, June and November.<br/>\n",
    "All the rest have thirty-one,<br/>\n",
    "Saving February alone,<br/>\n",
    "Which has twenty-eight, rain or shine.<br/>\n",
    "And on leap years, twenty-nine.</br></li>\n",
    "<li>A leap year occurs on any year evenly divisible by 4, but not on a century unless it is divisible by 400.</li>\n",
    "</ul><p>How many Sundays fell on the first of the month during the twentieth century (1 Jan 1901 to 31 Dec 2000)?</p>\n",
    "</div>"
   ]
  },
  {
   "cell_type": "code",
   "execution_count": null,
   "metadata": {},
   "outputs": [],
   "source": []
  },
  {
   "cell_type": "markdown",
   "metadata": {},
   "source": [
    "### 20. Factorial digit sum\n",
    "#### ([Back to Top](#Table-of-Contents)) ([Webpage](https://projecteuler.net/problem=20))<div class=\"problem_content\" role=\"problem\">\n",
    "<p><i>n</i>! means <i>n</i> × (<i>n</i> − 1) × ... × 3 × 2 × 1</p>\n",
    "<p>For example, 10! = 10 × 9 × ... × 3 × 2 × 1 = 3628800,<br>and the sum of the digits in the number 10! is 3 + 6 + 2 + 8 + 8 + 0 + 0 = 27.</br></p>\n",
    "<p>Find the sum of the digits in the number 100!</p>\n",
    "</div>"
   ]
  },
  {
   "cell_type": "code",
   "execution_count": null,
   "metadata": {},
   "outputs": [],
   "source": []
  },
  {
   "cell_type": "markdown",
   "metadata": {},
   "source": [
    "### 21. Amicable numbers\n",
    "#### ([Back to Top](#Table-of-Contents)) ([Webpage](https://projecteuler.net/problem=21))<div class=\"problem_content\" role=\"problem\">\n",
    "<p>Let d(<i>n</i>) be defined as the sum of proper divisors of <i>n</i> (numbers less than <i>n</i> which divide evenly into <i>n</i>).<br>\n",
    "If d(<i>a</i>) = <i>b</i> and d(<i>b</i>) = <i>a</i>, where <i>a</i> ≠ <i>b</i>, then <i>a</i> and <i>b</i> are an amicable pair and each of <i>a</i> and <i>b</i> are called amicable numbers.</br></p>\n",
    "<p>For example, the proper divisors of 220 are 1, 2, 4, 5, 10, 11, 20, 22, 44, 55 and 110; therefore d(220) = 284. The proper divisors of 284 are 1, 2, 4, 71 and 142; so d(284) = 220.</p>\n",
    "<p>Evaluate the sum of all the amicable numbers under 10000.</p>\n",
    "</div>"
   ]
  },
  {
   "cell_type": "code",
   "execution_count": null,
   "metadata": {},
   "outputs": [],
   "source": []
  },
  {
   "cell_type": "markdown",
   "metadata": {},
   "source": [
    "### 22. Names scores\n",
    "#### ([Back to Top](#Table-of-Contents)) ([Webpage](https://projecteuler.net/problem=22))<div class=\"problem_content\" role=\"problem\">\n",
    "<p>Using <a href=\"project/resources/p022_names.txt\">names.txt</a> (right click and 'Save Link/Target As...'), a 46K text file containing over five-thousand first names, begin by sorting it into alphabetical order. Then working out the alphabetical value for each name, multiply this value by its alphabetical position in the list to obtain a name score.</p>\n",
    "<p>For example, when the list is sorted into alphabetical order, COLIN, which is worth 3 + 15 + 12 + 9 + 14 = 53, is the 938th name in the list. So, COLIN would obtain a score of 938 × 53 = 49714.</p>\n",
    "<p>What is the total of all the name scores in the file?</p>\n",
    "</div>"
   ]
  },
  {
   "cell_type": "code",
   "execution_count": null,
   "metadata": {},
   "outputs": [],
   "source": []
  },
  {
   "cell_type": "markdown",
   "metadata": {},
   "source": [
    "### 23. Non-abundant sums\n",
    "#### ([Back to Top](#Table-of-Contents)) ([Webpage](https://projecteuler.net/problem=23))<div class=\"problem_content\" role=\"problem\">\n",
    "<p>A perfect number is a number for which the sum of its proper divisors is exactly equal to the number. For example, the sum of the proper divisors of 28 would be 1 + 2 + 4 + 7 + 14 = 28, which means that 28 is a perfect number.</p>\n",
    "<p>A number <var>n</var> is called deficient if the sum of its proper divisors is less than <var>n</var> and it is called abundant if this sum exceeds <var>n</var>.</p>\n",
    "<p>As 12 is the smallest abundant number, 1 + 2 + 3 + 4 + 6 = 16, the smallest number that can be written as the sum of two abundant numbers is 24. By mathematical analysis, it can be shown that all integers greater than 28123 can be written as the sum of two abundant numbers. However, this upper limit cannot be reduced any further by analysis even though it is known that the greatest number that cannot be expressed as the sum of two abundant numbers is less than this limit.</p>\n",
    "<p>Find the sum of all the positive integers which cannot be written as the sum of two abundant numbers.</p>\n",
    "</div>"
   ]
  },
  {
   "cell_type": "code",
   "execution_count": null,
   "metadata": {},
   "outputs": [],
   "source": []
  },
  {
   "cell_type": "markdown",
   "metadata": {},
   "source": [
    "### 24. Lexicographic permutations\n",
    "#### ([Back to Top](#Table-of-Contents)) ([Webpage](https://projecteuler.net/problem=24))<div class=\"problem_content\" role=\"problem\">\n",
    "<p>A permutation is an ordered arrangement of objects. For example, 3124 is one possible permutation of the digits 1, 2, 3 and 4. If all of the permutations are listed numerically or alphabetically, we call it lexicographic order. The lexicographic permutations of 0, 1 and 2 are:</p>\n",
    "<p style=\"text-align:center;\">012   021   102   120   201   210</p>\n",
    "<p>What is the millionth lexicographic permutation of the digits 0, 1, 2, 3, 4, 5, 6, 7, 8 and 9?</p>\n",
    "</div>"
   ]
  },
  {
   "cell_type": "code",
   "execution_count": null,
   "metadata": {},
   "outputs": [],
   "source": []
  },
  {
   "cell_type": "markdown",
   "metadata": {},
   "source": [
    "### 25. 1000-digit Fibonacci number\n",
    "#### ([Back to Top](#Table-of-Contents)) ([Webpage](https://projecteuler.net/problem=25))<div class=\"problem_content\" role=\"problem\">\n",
    "<p>The Fibonacci sequence is defined by the recurrence relation:</p>\n",
    "<blockquote>F<sub><i>n</i></sub> = F<sub><i>n</i>−1</sub> + F<sub><i>n</i>−2</sub>, where F<sub>1</sub> = 1 and F<sub>2</sub> = 1.</blockquote>\n",
    "<p>Hence the first 12 terms will be:</p>\n",
    "<blockquote>F<sub>1</sub> = 1<br>\n",
    "F<sub>2</sub> = 1<br/>\n",
    "F<sub>3</sub> = 2<br/>\n",
    "F<sub>4</sub> = 3<br/>\n",
    "F<sub>5</sub> = 5<br/>\n",
    "F<sub>6</sub> = 8<br/>\n",
    "F<sub>7</sub> = 13<br/>\n",
    "F<sub>8</sub> = 21<br/>\n",
    "F<sub>9</sub> = 34<br/>\n",
    "F<sub>10</sub> = 55<br/>\n",
    "F<sub>11</sub> = 89<br/>\n",
    "F<sub>12</sub> = 144</br></blockquote>\n",
    "<p>The 12th term, F<sub>12</sub>, is the first term to contain three digits.</p>\n",
    "<p>What is the index of the first term in the Fibonacci sequence to contain 1000 digits?</p>\n",
    "</div>"
   ]
  },
  {
   "cell_type": "code",
   "execution_count": null,
   "metadata": {},
   "outputs": [],
   "source": []
  },
  {
   "cell_type": "markdown",
   "metadata": {},
   "source": [
    "### 26. Reciprocal cycles\n",
    "#### ([Back to Top](#Table-of-Contents)) ([Webpage](https://projecteuler.net/problem=26))<div class=\"problem_content\" role=\"problem\">\n",
    "<p>A unit fraction contains 1 in the numerator. The decimal representation of the unit fractions with denominators 2 to 10 are given:</p>\n",
    "<blockquote>\n",
    "<table><tr><td><sup>1</sup>/<sub>2</sub></td><td>= </td><td>0.5</td>\n",
    "</tr><tr><td><sup>1</sup>/<sub>3</sub></td><td>= </td><td>0.(3)</td>\n",
    "</tr><tr><td><sup>1</sup>/<sub>4</sub></td><td>= </td><td>0.25</td>\n",
    "</tr><tr><td><sup>1</sup>/<sub>5</sub></td><td>= </td><td>0.2</td>\n",
    "</tr><tr><td><sup>1</sup>/<sub>6</sub></td><td>= </td><td>0.1(6)</td>\n",
    "</tr><tr><td><sup>1</sup>/<sub>7</sub></td><td>= </td><td>0.(142857)</td>\n",
    "</tr><tr><td><sup>1</sup>/<sub>8</sub></td><td>= </td><td>0.125</td>\n",
    "</tr><tr><td><sup>1</sup>/<sub>9</sub></td><td>= </td><td>0.(1)</td>\n",
    "</tr><tr><td><sup>1</sup>/<sub>10</sub></td><td>= </td><td>0.1</td>\n",
    "</tr></table></blockquote>\n",
    "<p>Where 0.1(6) means 0.166666..., and has a 1-digit recurring cycle. It can be seen that <sup>1</sup>/<sub>7</sub> has a 6-digit recurring cycle.</p>\n",
    "<p>Find the value of <i>d</i> &lt; 1000 for which <sup>1</sup>/<sub><i>d</i></sub> contains the longest recurring cycle in its decimal fraction part.</p>\n",
    "</div>"
   ]
  },
  {
   "cell_type": "code",
   "execution_count": 3,
   "metadata": {},
   "outputs": [
    {
     "ename": "NameError",
     "evalue": "name 'itertools' is not defined",
     "output_type": "error",
     "traceback": [
      "\u001b[0;31m---------------------------------------------------------------------------\u001b[0m",
      "\u001b[0;31mNameError\u001b[0m                                 Traceback (most recent call last)",
      "\u001b[0;32m<ipython-input-3-887bcfbf1c6b>\u001b[0m in \u001b[0;36m<module>\u001b[0;34m()\u001b[0m\n\u001b[1;32m     18\u001b[0m \u001b[0;34m\u001b[0m\u001b[0m\n\u001b[1;32m     19\u001b[0m \u001b[0;32mif\u001b[0m \u001b[0m__name__\u001b[0m \u001b[0;34m==\u001b[0m \u001b[0;34m\"__main__\"\u001b[0m\u001b[0;34m:\u001b[0m\u001b[0;34m\u001b[0m\u001b[0;34m\u001b[0m\u001b[0m\n\u001b[0;32m---> 20\u001b[0;31m     \u001b[0mprint\u001b[0m\u001b[0;34m(\u001b[0m\u001b[0mcompute\u001b[0m\u001b[0;34m(\u001b[0m\u001b[0;34m)\u001b[0m\u001b[0;34m)\u001b[0m\u001b[0;34m\u001b[0m\u001b[0;34m\u001b[0m\u001b[0m\n\u001b[0m",
      "\u001b[0;32m<ipython-input-3-887bcfbf1c6b>\u001b[0m in \u001b[0;36mcompute\u001b[0;34m()\u001b[0m\n\u001b[1;32m      2\u001b[0m \u001b[0;34m\u001b[0m\u001b[0m\n\u001b[1;32m      3\u001b[0m \u001b[0;32mdef\u001b[0m \u001b[0mcompute\u001b[0m\u001b[0;34m(\u001b[0m\u001b[0;34m)\u001b[0m\u001b[0;34m:\u001b[0m\u001b[0;34m\u001b[0m\u001b[0;34m\u001b[0m\u001b[0m\n\u001b[0;32m----> 4\u001b[0;31m     \u001b[0mans\u001b[0m \u001b[0;34m=\u001b[0m \u001b[0mmax\u001b[0m\u001b[0;34m(\u001b[0m\u001b[0mrange\u001b[0m\u001b[0;34m(\u001b[0m\u001b[0;36m1\u001b[0m\u001b[0;34m,\u001b[0m \u001b[0;36m1000\u001b[0m\u001b[0;34m)\u001b[0m\u001b[0;34m,\u001b[0m \u001b[0mkey\u001b[0m\u001b[0;34m=\u001b[0m\u001b[0mreciprocal_cycle_len\u001b[0m\u001b[0;34m)\u001b[0m\u001b[0;34m\u001b[0m\u001b[0;34m\u001b[0m\u001b[0m\n\u001b[0m\u001b[1;32m      5\u001b[0m     \u001b[0;32mreturn\u001b[0m \u001b[0mstr\u001b[0m\u001b[0;34m(\u001b[0m\u001b[0mans\u001b[0m\u001b[0;34m)\u001b[0m\u001b[0;34m\u001b[0m\u001b[0;34m\u001b[0m\u001b[0m\n\u001b[1;32m      6\u001b[0m \u001b[0;34m\u001b[0m\u001b[0m\n",
      "\u001b[0;32m<ipython-input-3-887bcfbf1c6b>\u001b[0m in \u001b[0;36mreciprocal_cycle_len\u001b[0;34m(n)\u001b[0m\n\u001b[1;32m      9\u001b[0m     \u001b[0mseen\u001b[0m \u001b[0;34m=\u001b[0m \u001b[0;34m{\u001b[0m\u001b[0;34m}\u001b[0m\u001b[0;34m\u001b[0m\u001b[0;34m\u001b[0m\u001b[0m\n\u001b[1;32m     10\u001b[0m     \u001b[0mx\u001b[0m \u001b[0;34m=\u001b[0m \u001b[0;36m1\u001b[0m\u001b[0;34m\u001b[0m\u001b[0;34m\u001b[0m\u001b[0m\n\u001b[0;32m---> 11\u001b[0;31m     \u001b[0;32mfor\u001b[0m \u001b[0mi\u001b[0m \u001b[0;32min\u001b[0m \u001b[0mitertools\u001b[0m\u001b[0;34m.\u001b[0m\u001b[0mcount\u001b[0m\u001b[0;34m(\u001b[0m\u001b[0;34m)\u001b[0m\u001b[0;34m:\u001b[0m\u001b[0;34m\u001b[0m\u001b[0;34m\u001b[0m\u001b[0m\n\u001b[0m\u001b[1;32m     12\u001b[0m         \u001b[0;32mif\u001b[0m \u001b[0mx\u001b[0m \u001b[0;32min\u001b[0m \u001b[0mseen\u001b[0m\u001b[0;34m:\u001b[0m\u001b[0;34m\u001b[0m\u001b[0;34m\u001b[0m\u001b[0m\n\u001b[1;32m     13\u001b[0m             \u001b[0;32mreturn\u001b[0m \u001b[0mi\u001b[0m \u001b[0;34m-\u001b[0m \u001b[0mseen\u001b[0m\u001b[0;34m[\u001b[0m\u001b[0mx\u001b[0m\u001b[0;34m]\u001b[0m\u001b[0;34m\u001b[0m\u001b[0;34m\u001b[0m\u001b[0m\n",
      "\u001b[0;31mNameError\u001b[0m: name 'itertools' is not defined"
     ]
    }
   ],
   "source": [
    "## FIXME\n",
    "\n",
    "def compute():\n",
    "    ans = max(range(1, 1000), key=reciprocal_cycle_len)\n",
    "    return str(ans)\n",
    "\n",
    "\n",
    "def reciprocal_cycle_len(n):\n",
    "    seen = {}\n",
    "    x = 1\n",
    "    for i in itertools.count():\n",
    "        if x in seen:\n",
    "            return i - seen[x]\n",
    "        else:\n",
    "            seen[x] = i\n",
    "            x = x * 10 % n\n",
    "\n",
    "\n",
    "if __name__ == \"__main__\":\n",
    "    print(compute())"
   ]
  },
  {
   "cell_type": "markdown",
   "metadata": {},
   "source": [
    "### 27. Quadratic primes\n",
    "#### ([Back to Top](#Table-of-Contents)) ([Webpage](https://projecteuler.net/problem=27))<div class=\"problem_content\" role=\"problem\">\n",
    "<p>Euler discovered the remarkable quadratic formula:</p>\n",
    "<p style=\"text-align:center;\">$n^2 + n + 41$</p>\n",
    "<p>It turns out that the formula will produce 40 primes for the consecutive integer values $0 \\le n \\le 39$. However, when $n = 40, 40^2 + 40 + 41 = 40(40 + 1) + 41$ is divisible by 41, and certainly when $n = 41, 41^2 + 41 + 41$ is clearly divisible by 41.</p>\n",
    "<p>The incredible formula $n^2 - 79n + 1601$ was discovered, which produces 80 primes for the consecutive values $0 \\le n \\le 79$. The product of the coefficients, −79 and 1601, is −126479.</p>\n",
    "<p>Considering quadratics of the form:</p>\n",
    "<blockquote>\n",
    "$n^2 + an + b$, where $|a| &lt; 1000$ and $|b| \\le 1000$<br><br/><div>where $|n|$ is the modulus/absolute value of $n$<br/>e.g. $|11| = 11$ and $|-4| = 4$</div>\n",
    "</br></blockquote>\n",
    "<p>Find the product of the coefficients, $a$ and $b$, for the quadratic expression that produces the maximum number of primes for consecutive values of $n$, starting with $n = 0$.</p>\n",
    "</div>"
   ]
  },
  {
   "cell_type": "code",
   "execution_count": null,
   "metadata": {},
   "outputs": [],
   "source": []
  },
  {
   "cell_type": "markdown",
   "metadata": {},
   "source": [
    "### 28. Number spiral diagonals\n",
    "#### ([Back to Top](#Table-of-Contents)) ([Webpage](https://projecteuler.net/problem=28))<div class=\"problem_content\" role=\"problem\">\n",
    "<p>Starting with the number 1 and moving to the right in a clockwise direction a 5 by 5 spiral is formed as follows:</p>\n",
    "<p style=\"text-align:center;font-family:'courier new';\"><span style=\"color:#ff0000;font-family:'courier new';\"><b>21</b></span> 22 23 24 <span style=\"color:#ff0000;font-family:'courier new';\"><b>25</b></span><br>\n",
    "20  <span style=\"color:#ff0000;font-family:'courier new';\"><b>7</b></span>  8  <span style=\"color:#ff0000;font-family:'courier new';\"><b>9</b></span> 10<br/>\n",
    "19  6  <span style=\"color:#ff0000;font-family:'courier new';\"><b>1</b></span>  2 11<br/>\n",
    "18  <span style=\"color:#ff0000;font-family:'courier new';\"><b>5</b></span>  4  <span style=\"color:#ff0000;font-family:'courier new';\"><b>3</b></span> 12<br/><span style=\"color:#ff0000;font-family:'courier new';\"><b>17</b></span> 16 15 14 <span style=\"color:#ff0000;font-family:'courier new';\"><b>13</b></span></br></p>\n",
    "<p>It can be verified that the sum of the numbers on the diagonals is 101.</p>\n",
    "<p>What is the sum of the numbers on the diagonals in a 1001 by 1001 spiral formed in the same way?</p>\n",
    "</div>"
   ]
  },
  {
   "cell_type": "code",
   "execution_count": null,
   "metadata": {},
   "outputs": [],
   "source": []
  },
  {
   "cell_type": "markdown",
   "metadata": {},
   "source": [
    "### 29. Distinct powers\n",
    "#### ([Back to Top](#Table-of-Contents)) ([Webpage](https://projecteuler.net/problem=29))<div class=\"problem_content\" role=\"problem\">\n",
    "<p>Consider all integer combinations of <i>a</i><sup><i>b</i></sup> for 2 ≤ <i>a</i> ≤ 5 and 2 ≤ <i>b</i> ≤ 5:</p>\n",
    "<blockquote>2<sup>2</sup>=4, 2<sup>3</sup>=8, 2<sup>4</sup>=16, 2<sup>5</sup>=32<br>\n",
    "3<sup>2</sup>=9, 3<sup>3</sup>=27, 3<sup>4</sup>=81, 3<sup>5</sup>=243<br/>\n",
    "4<sup>2</sup>=16, 4<sup>3</sup>=64, 4<sup>4</sup>=256, 4<sup>5</sup>=1024<br/>\n",
    "5<sup>2</sup>=25, 5<sup>3</sup>=125, 5<sup>4</sup>=625, 5<sup>5</sup>=3125<br/></br></blockquote>\n",
    "<p>If they are then placed in numerical order, with any repeats removed, we get the following sequence of 15 distinct terms:</p>\n",
    "<p style=\"text-align:center;\">4, 8, 9, 16, 25, 27, 32, 64, 81, 125, 243, 256, 625, 1024, 3125</p>\n",
    "<p>How many distinct terms are in the sequence generated by <i>a</i><sup><i>b</i></sup> for 2 ≤ <i>a</i> ≤ 100 and 2 ≤ <i>b</i> ≤ 100?</p>\n",
    "</div>"
   ]
  },
  {
   "cell_type": "code",
   "execution_count": null,
   "metadata": {},
   "outputs": [],
   "source": []
  },
  {
   "cell_type": "markdown",
   "metadata": {},
   "source": [
    "### 30. Digit fifth powers\n",
    "#### ([Back to Top](#Table-of-Contents)) ([Webpage](https://projecteuler.net/problem=30))<div class=\"problem_content\" role=\"problem\">\n",
    "<p>Surprisingly there are only three numbers that can be written as the sum of fourth powers of their digits:</p>\n",
    "<blockquote>1634 = 1<sup>4</sup> + 6<sup>4</sup> + 3<sup>4</sup> + 4<sup>4</sup><br>\n",
    "8208 = 8<sup>4</sup> + 2<sup>4</sup> + 0<sup>4</sup> + 8<sup>4</sup><br/>\n",
    "9474 = 9<sup>4</sup> + 4<sup>4</sup> + 7<sup>4</sup> + 4<sup>4</sup></br></blockquote>\n",
    "<p class=\"info\">As 1 = 1<sup>4</sup> is not a sum it is not included.</p>\n",
    "<p>The sum of these numbers is 1634 + 8208 + 9474 = 19316.</p>\n",
    "<p>Find the sum of all the numbers that can be written as the sum of fifth powers of their digits.</p>\n",
    "</div>"
   ]
  },
  {
   "cell_type": "code",
   "execution_count": null,
   "metadata": {},
   "outputs": [],
   "source": []
  },
  {
   "cell_type": "markdown",
   "metadata": {},
   "source": [
    "### 31. Coin sums\n",
    "#### ([Back to Top](#Table-of-Contents)) ([Webpage](https://projecteuler.net/problem=31))<div class=\"problem_content\" role=\"problem\">\n",
    "<p>In England the currency is made up of pound, £, and pence, p, and there are eight coins in general circulation:</p>\n",
    "<blockquote>1p, 2p, 5p, 10p, 20p, 50p, £1 (100p) and £2 (200p).</blockquote>\n",
    "<p>It is possible to make £2 in the following way:</p>\n",
    "<blockquote>1×£1 + 1×50p + 2×20p + 1×5p + 1×2p + 3×1p</blockquote>\n",
    "<p>How many different ways can £2 be made using any number of coins?</p>\n",
    "</div>"
   ]
  },
  {
   "cell_type": "code",
   "execution_count": null,
   "metadata": {},
   "outputs": [],
   "source": []
  },
  {
   "cell_type": "markdown",
   "metadata": {},
   "source": [
    "### 32. Pandigital products\n",
    "#### ([Back to Top](#Table-of-Contents)) ([Webpage](https://projecteuler.net/problem=32))<div class=\"problem_content\" role=\"problem\">\n",
    "<p>We shall say that an <var>n</var>-digit number is pandigital if it makes use of all the digits 1 to <var>n</var> exactly once; for example, the 5-digit number, 15234, is 1 through 5 pandigital.</p>\n",
    "<p>The product 7254 is unusual, as the identity, 39 × 186 = 7254, containing multiplicand, multiplier, and product is 1 through 9 pandigital.</p>\n",
    "<p>Find the sum of all products whose multiplicand/multiplier/product identity can be written as a 1 through 9 pandigital.</p>\n",
    "<div class=\"note\">HINT: Some products can be obtained in more than one way so be sure to only include it once in your sum.</div>\n",
    "</div>"
   ]
  },
  {
   "cell_type": "code",
   "execution_count": null,
   "metadata": {},
   "outputs": [],
   "source": []
  },
  {
   "cell_type": "markdown",
   "metadata": {},
   "source": [
    "### 33. Digit cancelling fractions\n",
    "#### ([Back to Top](#Table-of-Contents)) ([Webpage](https://projecteuler.net/problem=33))<div class=\"problem_content\" role=\"problem\">\n",
    "<p>The fraction <sup>49</sup>/<sub>98</sub> is a curious fraction, as an inexperienced mathematician in attempting to simplify it may incorrectly believe that <sup>49</sup>/<sub>98</sub> = <sup>4</sup>/<sub>8</sub>, which is correct, is obtained by cancelling the 9s.</p>\n",
    "<p>We shall consider fractions like, <sup>30</sup>/<sub>50</sub> = <sup>3</sup>/<sub>5</sub>, to be trivial examples.</p>\n",
    "<p>There are exactly four non-trivial examples of this type of fraction, less than one in value, and containing two digits in the numerator and denominator.</p>\n",
    "<p>If the product of these four fractions is given in its lowest common terms, find the value of the denominator.</p>\n",
    "</div>"
   ]
  },
  {
   "cell_type": "code",
   "execution_count": null,
   "metadata": {},
   "outputs": [],
   "source": []
  },
  {
   "cell_type": "markdown",
   "metadata": {},
   "source": [
    "### 34. Digit factorials\n",
    "#### ([Back to Top](#Table-of-Contents)) ([Webpage](https://projecteuler.net/problem=34))<div class=\"problem_content\" role=\"problem\">\n",
    "<p>145 is a curious number, as 1! + 4! + 5! = 1 + 24 + 120 = 145.</p>\n",
    "<p>Find the sum of all numbers which are equal to the sum of the factorial of their digits.</p>\n",
    "<p class=\"info\">Note: as 1! = 1 and 2! = 2 are not sums they are not included.</p>\n",
    "</div>"
   ]
  },
  {
   "cell_type": "code",
   "execution_count": null,
   "metadata": {},
   "outputs": [],
   "source": []
  },
  {
   "cell_type": "markdown",
   "metadata": {},
   "source": [
    "### 35. Circular primes\n",
    "#### ([Back to Top](#Table-of-Contents)) ([Webpage](https://projecteuler.net/problem=35))<div class=\"problem_content\" role=\"problem\">\n",
    "<p>The number, 197, is called a circular prime because all rotations of the digits: 197, 971, and 719, are themselves prime.</p>\n",
    "<p>There are thirteen such primes below 100: 2, 3, 5, 7, 11, 13, 17, 31, 37, 71, 73, 79, and 97.</p>\n",
    "<p>How many circular primes are there below one million?</p>\n",
    "</div>"
   ]
  },
  {
   "cell_type": "code",
   "execution_count": null,
   "metadata": {},
   "outputs": [],
   "source": []
  },
  {
   "cell_type": "markdown",
   "metadata": {},
   "source": [
    "### 36. Double-base palindromes\n",
    "#### ([Back to Top](#Table-of-Contents)) ([Webpage](https://projecteuler.net/problem=36))<div class=\"problem_content\" role=\"problem\">\n",
    "<p>The decimal number, 585 = 1001001001<sub>2</sub> (binary), is palindromic in both bases.</p>\n",
    "<p>Find the sum of all numbers, less than one million, which are palindromic in base 10 and base 2.</p>\n",
    "<p class=\"info\">(Please note that the palindromic number, in either base, may not include leading zeros.)</p>\n",
    "</div>"
   ]
  },
  {
   "cell_type": "code",
   "execution_count": null,
   "metadata": {},
   "outputs": [],
   "source": []
  },
  {
   "cell_type": "markdown",
   "metadata": {},
   "source": [
    "### 37. Truncatable primes\n",
    "#### ([Back to Top](#Table-of-Contents)) ([Webpage](https://projecteuler.net/problem=37))<div class=\"problem_content\" role=\"problem\">\n",
    "<p>The number 3797 has an interesting property. Being prime itself, it is possible to continuously remove digits from left to right, and remain prime at each stage: 3797, 797, 97, and 7. Similarly we can work from right to left: 3797, 379, 37, and 3.</p>\n",
    "<p>Find the sum of the only eleven primes that are both truncatable from left to right and right to left.</p>\n",
    "<p class=\"info\">NOTE: 2, 3, 5, and 7 are not considered to be truncatable primes.</p>\n",
    "</div>"
   ]
  },
  {
   "cell_type": "code",
   "execution_count": null,
   "metadata": {},
   "outputs": [],
   "source": []
  },
  {
   "cell_type": "markdown",
   "metadata": {},
   "source": [
    "### 38. Pandigital multiples\n",
    "#### ([Back to Top](#Table-of-Contents)) ([Webpage](https://projecteuler.net/problem=38))<div class=\"problem_content\" role=\"problem\">\n",
    "<p>Take the number 192 and multiply it by each of 1, 2, and 3:</p>\n",
    "<blockquote>192 × 1 = 192<br>\n",
    "192 × 2 = 384<br/>\n",
    "192 × 3 = 576</br></blockquote>\n",
    "<p>By concatenating each product we get the 1 to 9 pandigital, 192384576. We will call 192384576 the concatenated product of 192 and (1,2,3)</p>\n",
    "<p>The same can be achieved by starting with 9 and multiplying by 1, 2, 3, 4, and 5, giving the pandigital, 918273645, which is the concatenated product of 9 and (1,2,3,4,5).</p>\n",
    "<p>What is the largest 1 to 9 pandigital 9-digit number that can be formed as the concatenated product of an integer with (1,2, ... , <var>n</var>) where <var>n</var> &gt; 1?</p>\n",
    "</div>"
   ]
  },
  {
   "cell_type": "code",
   "execution_count": null,
   "metadata": {},
   "outputs": [],
   "source": []
  },
  {
   "cell_type": "markdown",
   "metadata": {},
   "source": [
    "### 39. Integer right triangles\n",
    "#### ([Back to Top](#Table-of-Contents)) ([Webpage](https://projecteuler.net/problem=39))<div class=\"problem_content\" role=\"problem\">\n",
    "<p>If <i>p</i> is the perimeter of a right angle triangle with integral length sides, {<i>a</i>,<i>b</i>,<i>c</i>}, there are exactly three solutions for <i>p</i> = 120.</p>\n",
    "<p>{20,48,52}, {24,45,51}, {30,40,50}</p>\n",
    "<p>For which value of <i>p</i> ≤ 1000, is the number of solutions maximised?</p>\n",
    "</div>"
   ]
  },
  {
   "cell_type": "code",
   "execution_count": null,
   "metadata": {},
   "outputs": [],
   "source": []
  },
  {
   "cell_type": "markdown",
   "metadata": {},
   "source": [
    "### 40. Champernowne's constant\n",
    "#### ([Back to Top](#Table-of-Contents)) ([Webpage](https://projecteuler.net/problem=40))<div class=\"problem_content\" role=\"problem\">\n",
    "<p>An irrational decimal fraction is created by concatenating the positive integers:</p>\n",
    "<p style=\"text-align:center;\">0.12345678910<span style=\"color:#dd0000;font-size:14pt;\">1</span>112131415161718192021...</p>\n",
    "<p>It can be seen that the 12<sup>th</sup> digit of the fractional part is 1.</p>\n",
    "<p>If <i>d</i><sub><i>n</i></sub> represents the <i>n</i><sup>th</sup> digit of the fractional part, find the value of the following expression.</p>\n",
    "<p style=\"text-align:center;\"><i>d</i><sub>1</sub> × <i>d</i><sub>10</sub> × <i>d</i><sub>100</sub> × <i>d</i><sub>1000</sub> × <i>d</i><sub>10000</sub> × <i>d</i><sub>100000</sub> × <i>d</i><sub>1000000</sub></p>\n",
    "</div>"
   ]
  },
  {
   "cell_type": "code",
   "execution_count": null,
   "metadata": {},
   "outputs": [],
   "source": []
  },
  {
   "cell_type": "markdown",
   "metadata": {},
   "source": [
    "### 41. Pandigital prime\n",
    "#### ([Back to Top](#Table-of-Contents)) ([Webpage](https://projecteuler.net/problem=41))<div class=\"problem_content\" role=\"problem\">\n",
    "<p>We shall say that an <i>n</i>-digit number is pandigital if it makes use of all the digits 1 to <i>n</i> exactly once. For example, 2143 is a 4-digit pandigital and is also prime.</p>\n",
    "<p>What is the largest <i>n</i>-digit pandigital prime that exists?</p>\n",
    "</div>"
   ]
  },
  {
   "cell_type": "code",
   "execution_count": null,
   "metadata": {},
   "outputs": [],
   "source": []
  },
  {
   "cell_type": "markdown",
   "metadata": {},
   "source": [
    "### 42. Coded triangle numbers\n",
    "#### ([Back to Top](#Table-of-Contents)) ([Webpage](https://projecteuler.net/problem=42))<div class=\"problem_content\" role=\"problem\">\n",
    "<p>The <i>n</i><sup>th</sup> term of the sequence of triangle numbers is given by, <i>t<sub>n</sub></i> = ½<i>n</i>(<i>n</i>+1); so the first ten triangle numbers are:</p>\n",
    "<p style=\"text-align:center;\">1, 3, 6, 10, 15, 21, 28, 36, 45, 55, ...</p>\n",
    "<p>By converting each letter in a word to a number corresponding to its alphabetical position and adding these values we form a word value. For example, the word value for SKY is 19 + 11 + 25 = 55 = <i>t</i><sub>10</sub>. If the word value is a triangle number then we shall call the word a triangle word.</p>\n",
    "<p>Using <a href=\"project/resources/p042_words.txt\">words.txt</a> (right click and 'Save Link/Target As...'), a 16K text file containing nearly two-thousand common English words, how many are triangle words?</p>\n",
    "</div>"
   ]
  },
  {
   "cell_type": "code",
   "execution_count": null,
   "metadata": {},
   "outputs": [],
   "source": []
  },
  {
   "cell_type": "markdown",
   "metadata": {},
   "source": [
    "### 43. Sub-string divisibility\n",
    "#### ([Back to Top](#Table-of-Contents)) ([Webpage](https://projecteuler.net/problem=43))<div class=\"problem_content\" role=\"problem\">\n",
    "<p>The number, 1406357289, is a 0 to 9 pandigital number because it is made up of each of the digits 0 to 9 in some order, but it also has a rather interesting sub-string divisibility property.</p>\n",
    "<p>Let <i>d</i><sub>1</sub> be the 1<sup>st</sup> digit, <i>d</i><sub>2</sub> be the 2<sup>nd</sup> digit, and so on. In this way, we note the following:</p>\n",
    "<ul><li><i>d</i><sub>2</sub><i>d</i><sub>3</sub><i>d</i><sub>4</sub>=406 is divisible by 2</li>\n",
    "<li><i>d</i><sub>3</sub><i>d</i><sub>4</sub><i>d</i><sub>5</sub>=063 is divisible by 3</li>\n",
    "<li><i>d</i><sub>4</sub><i>d</i><sub>5</sub><i>d</i><sub>6</sub>=635 is divisible by 5</li>\n",
    "<li><i>d</i><sub>5</sub><i>d</i><sub>6</sub><i>d</i><sub>7</sub>=357 is divisible by 7</li>\n",
    "<li><i>d</i><sub>6</sub><i>d</i><sub>7</sub><i>d</i><sub>8</sub>=572 is divisible by 11</li>\n",
    "<li><i>d</i><sub>7</sub><i>d</i><sub>8</sub><i>d</i><sub>9</sub>=728 is divisible by 13</li>\n",
    "<li><i>d</i><sub>8</sub><i>d</i><sub>9</sub><i>d</i><sub>10</sub>=289 is divisible by 17</li>\n",
    "</ul><p>Find the sum of all 0 to 9 pandigital numbers with this property.</p>\n",
    "</div>"
   ]
  },
  {
   "cell_type": "code",
   "execution_count": null,
   "metadata": {},
   "outputs": [],
   "source": []
  },
  {
   "cell_type": "markdown",
   "metadata": {},
   "source": [
    "### 44. Pentagon numbers\n",
    "#### ([Back to Top](#Table-of-Contents)) ([Webpage](https://projecteuler.net/problem=44))<div class=\"problem_content\" role=\"problem\">\n",
    "<p>Pentagonal numbers are generated by the formula, P<sub><var>n</var></sub>=<var>n</var>(3<var>n</var>−1)/2. The first ten pentagonal numbers are:</p>\n",
    "<p style=\"text-align:center;\">1, 5, 12, 22, 35, 51, 70, 92, 117, 145, ...</p>\n",
    "<p>It can be seen that P<sub>4</sub> + P<sub>7</sub> = 22 + 70 = 92 = P<sub>8</sub>. However, their difference, 70 − 22 = 48, is not pentagonal.</p>\n",
    "<p>Find the pair of pentagonal numbers, P<sub><var>j</var></sub> and P<sub><var>k</var></sub>, for which their sum and difference are pentagonal and D = |P<sub><var>k</var></sub> − P<sub><var>j</var></sub>| is minimised; what is the value of D?</p>\n",
    "</div>"
   ]
  },
  {
   "cell_type": "code",
   "execution_count": null,
   "metadata": {},
   "outputs": [],
   "source": []
  },
  {
   "cell_type": "markdown",
   "metadata": {},
   "source": [
    "### 45. Triangular, pentagonal, and hexagonal\n",
    "#### ([Back to Top](#Table-of-Contents)) ([Webpage](https://projecteuler.net/problem=45))<div class=\"problem_content\" role=\"problem\">\n",
    "<p>Triangle, pentagonal, and hexagonal numbers are generated by the following formulae:</p>\n",
    "<table><tr><td>Triangle</td>\n",
    "<td> </td>\n",
    "<td>T<sub><i>n</i></sub>=<i>n</i>(<i>n</i>+1)/2</td>\n",
    "<td> </td>\n",
    "<td>1, 3, 6, 10, 15, ...</td>\n",
    "</tr><tr><td>Pentagonal</td>\n",
    "<td> </td>\n",
    "<td>P<sub><i>n</i></sub>=<i>n</i>(3<i>n</i>−1)/2</td>\n",
    "<td> </td>\n",
    "<td>1, 5, 12, 22, 35, ...</td>\n",
    "</tr><tr><td>Hexagonal</td>\n",
    "<td> </td>\n",
    "<td>H<sub><i>n</i></sub>=<i>n</i>(2<i>n</i>−1)</td>\n",
    "<td> </td>\n",
    "<td>1, 6, 15, 28, 45, ...</td>\n",
    "</tr></table><p>It can be verified that T<sub>285</sub> = P<sub>165</sub> = H<sub>143</sub> = 40755.</p>\n",
    "<p>Find the next triangle number that is also pentagonal and hexagonal.</p>\n",
    "</div>"
   ]
  },
  {
   "cell_type": "code",
   "execution_count": null,
   "metadata": {},
   "outputs": [],
   "source": []
  },
  {
   "cell_type": "markdown",
   "metadata": {},
   "source": [
    "### 46. Goldbach's other conjecture\n",
    "#### ([Back to Top](#Table-of-Contents)) ([Webpage](https://projecteuler.net/problem=46))<div class=\"problem_content\" role=\"problem\">\n",
    "<p>It was proposed by Christian Goldbach that every odd composite number can be written as the sum of a prime and twice a square.</p>\n",
    "<p style=\"margin-left:10px;\">9 = 7 + 2×1<sup>2</sup><br>\n",
    "15 = 7 + 2×2<sup>2</sup><br/>\n",
    "21 = 3 + 2×3<sup>2</sup><br/>\n",
    "25 = 7 + 2×3<sup>2</sup><br/>\n",
    "27 = 19 + 2×2<sup>2</sup><br/>\n",
    "33 = 31 + 2×1<sup>2</sup></br></p>\n",
    "<p>It turns out that the conjecture was false.</p>\n",
    "<p>What is the smallest odd composite that cannot be written as the sum of a prime and twice a square?</p>\n",
    "</div>"
   ]
  },
  {
   "cell_type": "code",
   "execution_count": null,
   "metadata": {},
   "outputs": [],
   "source": []
  },
  {
   "cell_type": "markdown",
   "metadata": {},
   "source": [
    "### 47. Distinct primes factors\n",
    "#### ([Back to Top](#Table-of-Contents)) ([Webpage](https://projecteuler.net/problem=47))<div class=\"problem_content\" role=\"problem\">\n",
    "<p>The first two consecutive numbers to have two distinct prime factors are:</p>\n",
    "<p style=\"margin-left:100px;\">14 = 2 × 7<br>15 = 3 × 5</br></p>\n",
    "<p>The first three consecutive numbers to have three distinct prime factors are:</p>\n",
    "<p style=\"margin-left:100px;\">644 = 2² × 7 × 23<br/>645 = 3 × 5 × 43<br/>646 = 2 × 17 × 19.</p>\n",
    "<p>Find the first four consecutive integers to have four distinct prime factors each. What is the first of these numbers?</p>\n",
    "</div>"
   ]
  },
  {
   "cell_type": "code",
   "execution_count": null,
   "metadata": {},
   "outputs": [],
   "source": []
  },
  {
   "cell_type": "markdown",
   "metadata": {},
   "source": [
    "### 48. Self powers\n",
    "#### ([Back to Top](#Table-of-Contents)) ([Webpage](https://projecteuler.net/problem=48))<div class=\"problem_content\" role=\"problem\">\n",
    "<p>The series, 1<sup>1</sup> + 2<sup>2</sup> + 3<sup>3</sup> + ... + 10<sup>10</sup> = 10405071317.</p>\n",
    "<p>Find the last ten digits of the series, 1<sup>1</sup> + 2<sup>2</sup> + 3<sup>3</sup> + ... + 1000<sup>1000</sup>.</p>\n",
    "</div>"
   ]
  },
  {
   "cell_type": "code",
   "execution_count": null,
   "metadata": {},
   "outputs": [],
   "source": []
  },
  {
   "cell_type": "markdown",
   "metadata": {},
   "source": [
    "### 49. Prime permutations\n",
    "#### ([Back to Top](#Table-of-Contents)) ([Webpage](https://projecteuler.net/problem=49))<div class=\"problem_content\" role=\"problem\">\n",
    "<p>The arithmetic sequence, 1487, 4817, 8147, in which each of the terms increases by 3330, is unusual in two ways: (i) each of the three terms are prime, and, (ii) each of the 4-digit numbers are permutations of one another.</p>\n",
    "<p>There are no arithmetic sequences made up of three 1-, 2-, or 3-digit primes, exhibiting this property, but there is one other 4-digit increasing sequence.</p>\n",
    "<p>What 12-digit number do you form by concatenating the three terms in this sequence?</p>\n",
    "</div>"
   ]
  },
  {
   "cell_type": "code",
   "execution_count": null,
   "metadata": {},
   "outputs": [],
   "source": []
  },
  {
   "cell_type": "markdown",
   "metadata": {},
   "source": [
    "### 50. Consecutive prime sum\n",
    "#### ([Back to Top](#Table-of-Contents)) ([Webpage](https://projecteuler.net/problem=50))<div class=\"problem_content\" role=\"problem\">\n",
    "<p>The prime 41, can be written as the sum of six consecutive primes:</p>\n",
    "<div style=\"text-align:center;\">41 = 2 + 3 + 5 + 7 + 11 + 13</div>\n",
    "<p>This is the longest sum of consecutive primes that adds to a prime below one-hundred.</p>\n",
    "<p>The longest sum of consecutive primes below one-thousand that adds to a prime, contains 21 terms, and is equal to 953.</p>\n",
    "<p>Which prime, below one-million, can be written as the sum of the most consecutive primes?</p>\n",
    "</div>"
   ]
  },
  {
   "cell_type": "code",
   "execution_count": null,
   "metadata": {},
   "outputs": [],
   "source": []
  }
 ],
 "metadata": {
  "kernelspec": {
   "display_name": "Python 3",
   "language": "python",
   "name": "python3"
  },
  "language_info": {
   "codemirror_mode": {
    "name": "ipython",
    "version": 3
   },
   "file_extension": ".py",
   "mimetype": "text/x-python",
   "name": "python",
   "nbconvert_exporter": "python",
   "pygments_lexer": "ipython3",
   "version": "3.6.8"
  }
 },
 "nbformat": 4,
 "nbformat_minor": 2
}
