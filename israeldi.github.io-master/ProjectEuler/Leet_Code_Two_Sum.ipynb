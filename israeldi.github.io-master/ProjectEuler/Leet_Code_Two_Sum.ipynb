{
 "cells": [
  {
   "cell_type": "code",
   "execution_count": 2,
   "metadata": {},
   "outputs": [
    {
     "data": {
      "text/plain": [
       "[0, 1]"
      ]
     },
     "execution_count": 2,
     "metadata": {},
     "output_type": "execute_result"
    }
   ],
   "source": [
    "def indices_for_sum(nums, target):\n",
    "    for i in range(len(nums)):\n",
    "        if (target - nums[i] in numbers_seen):\n",
    "            return [numbers_seen[target - nums[i]], i]\n",
    "        numbers_seen[nums[i]] = i # When we are done {2:0, 7:1, 11:2, 15:3}\n",
    "    return None\n",
    "        \n",
    "nums = [2, 7, 11, 15]\n",
    "target = 9\n",
    "numbers_seen = {}\n",
    "indices_for_sum(nums, target)\n",
    "# Returns List [0,1] of indices where the sum is = to target"
   ]
  },
  {
   "cell_type": "code",
   "execution_count": 1,
   "metadata": {},
   "outputs": [
    {
     "data": {
      "text/plain": [
       "[0, 1]"
      ]
     },
     "execution_count": 1,
     "metadata": {},
     "output_type": "execute_result"
    }
   ],
   "source": [
    "def indices_for_sum(nums, target):\n",
    "    numbers_seen = {}\n",
    "    for i in range(len(nums)):\n",
    "        if (target - nums[i] in numbers_seen):\n",
    "            return [numbers_seen[target - nums[i]], i]\n",
    "        numbers_seen[nums[i]] = i # When we are done {2:0, 7:1, 11:2, 15:3}\n",
    "    return numbers_seen\n",
    "        \n",
    "nums = [2, 7, 11, 15]\n",
    "target = 9\n",
    "\n",
    "indices_for_sum(nums, target)\n",
    "# Returns List [0,1] of indices where the sum is = to target"
   ]
  },
  {
   "cell_type": "code",
   "execution_count": null,
   "metadata": {},
   "outputs": [],
   "source": [
    "class Solution(object):\n",
    "    def isValid(self,s):\n",
    "        \"\"\"\n",
    "        :type s: str\n",
    "        :rtype: bool\n",
    "        \"\"\"\n",
    "        stack = []\n",
    "        # if we see openchars then push to the stack\n",
    "        open_chars = ['(','[','{']\n",
    "        closing_to_opening = {')':'(','}':'{',']':'['}\n",
    "        for c in s:\n",
    "            if c in open_chars:\n",
    "                stack.append(c)\n",
    "            else:\n",
    "                # have found a closing char\n",
    "                # stack only contains open characters, so lets check if closing character matches \n",
    "                open_char = closing_to_opening[c]\n",
    "                if stack open_char == stack[-1]: # -1 is basically modulo, the if stack: checks if stack is non-empty\n",
    "                    stack.pop()\n",
    "                else:\n",
    "                    return False\n",
    "        return (stack == [])\n",
    "        # return not (not stack) this is also valid as a return statement\n",
    "# adding things to stack if open, and removing if they are closed. Whenever closed it has to be the last thing in the stack"
   ]
  }
 ],
 "metadata": {
  "kernelspec": {
   "display_name": "Python 3",
   "language": "python",
   "name": "python3"
  },
  "language_info": {
   "codemirror_mode": {
    "name": "ipython",
    "version": 3
   },
   "file_extension": ".py",
   "mimetype": "text/x-python",
   "name": "python",
   "nbconvert_exporter": "python",
   "pygments_lexer": "ipython3",
   "version": "3.6.5"
  }
 },
 "nbformat": 4,
 "nbformat_minor": 2
}
