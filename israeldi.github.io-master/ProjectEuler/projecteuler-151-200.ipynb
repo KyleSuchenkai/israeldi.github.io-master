{
 "cells": [
  {
   "cell_type": "markdown",
   "metadata": {},
   "source": [
    "# Project Euler: 151-200\n",
    "### Israel Diego [(Go to Home Page)](https://israeldi.github.io/project-euler/)\n",
    " What follows are Python-based solutions to <a href=\"https://projecteuler.net\">Project Euler</a> problems. In writing the code, I have aimed for a balance between readability and being concise, for which Python is well-suited. Efficiency is only considered if necessary to get reasonable runtime. To check your answers, create an account on Project Euler, where you can submit answers for validation and track your progress.\n",
    " ## Table of Contents\n",
    " 1. [151. Paper sheets of standard sizes: an expected-value problem](#151.-Paper-sheets-of-standard-sizes:-an-expected-value-problem)\n",
    " 2. [152. Writing 1/2 as a sum of inverse squares](#152.-Writing-1/2-as-a-sum-of-inverse-squares)\n",
    " 3. [153. Investigating Gaussian Integers](#153.-Investigating-Gaussian-Integers)\n",
    " 4. [154. Exploring Pascal's pyramid](#154.-Exploring-Pascal's-pyramid)\n",
    " 5. [155. Counting Capacitor Circuits](#155.-Counting-Capacitor-Circuits)\n",
    " 6. [156. Counting Digits](#156.-Counting-Digits)\n",
    " 7. [157.](#157.)\n",
    " 8. [158. Exploring strings for which only one character comes lexicographically after its neighbour to the left](#158.-Exploring-strings-for-which-only-one-character-comes-lexicographically-after-its-neighbour-to-the-left)\n",
    " 9. [159. Digital root sums of factorisations](#159.-Digital-root-sums-of-factorisations)\n",
    " 10. [160. Factorial trailing digits](#160.-Factorial-trailing-digits)\n",
    " 11. [161. Triominoes](#161.-Triominoes)\n",
    " 12. [162. Hexadecimal numbers](#162.-Hexadecimal-numbers)\n",
    " 13. [163. Cross-hatched triangles](#163.-Cross-hatched-triangles)\n",
    " 14. [164. Numbers for which no three consecutive digits have a sum greater than a given value](#164.-Numbers-for-which-no-three-consecutive-digits-have-a-sum-greater-than-a-given-value)\n",
    " 15. [165. Intersections](#165.-Intersections)\n",
    " 16. [166. Criss Cross](#166.-Criss-Cross)\n",
    " 17. [167. Investigating Ulam sequences](#167.-Investigating-Ulam-sequences)\n",
    " 18. [168. Number Rotations](#168.-Number-Rotations)\n",
    " 19. [169. Exploring the number of different ways a number can be expressed as a sum of powers of 2](#169.-Exploring-the-number-of-different-ways-a-number-can-be-expressed-as-a-sum-of-powers-of-2)\n",
    " 20. [170. Find the largest 0 to 9 pandigital that can be formed by concatenating products](#170.-Find-the-largest-0-to-9-pandigital-that-can-be-formed-by-concatenating-products)\n",
    " 21. [171. Finding numbers for which the sum of the squares of the digits is a square](#171.-Finding-numbers-for-which-the-sum-of-the-squares-of-the-digits-is-a-square)\n",
    " 22. [172. Investigating numbers with few repeated digits](#172.-Investigating-numbers-with-few-repeated-digits)\n",
    " 23. [173. Using up to one million tiles how many different \"hollow\" square laminae can be formed?](#173.-Using-up-to-one-million-tiles-how-many-different-\"hollow\"-square-laminae-can-be-formed?)\n",
    " 24. [174. Counting the number of \"hollow\" square laminae that can form one, two, three, ... distinct arrangements](#174.-Counting-the-number-of-\"hollow\"-square-laminae-that-can-form-one,-two,-three,-...-distinct-arrangements)\n",
    " 25. [175. Fractions involving the number of different ways a number can be expressed as a sum of powers of 2](#175.-Fractions-involving-the-number-of-different-ways-a-number-can-be-expressed-as-a-sum-of-powers-of-2)\n",
    " 26. [176. Right-angled triangles that share a cathetus](#176.-Right-angled-triangles-that-share-a-cathetus)\n",
    " 27. [177. Integer angled Quadrilaterals](#177.-Integer-angled-Quadrilaterals)\n",
    " 28. [178. Step Numbers](#178.-Step-Numbers)\n",
    " 29. [179. Consecutive positive divisors](#179.-Consecutive-positive-divisors)\n",
    " 30. [180. Rational zeros of a function of three variables](#180.-Rational-zeros-of-a-function-of-three-variables)\n",
    " 31. [181. Investigating in how many ways objects of two different colours can be grouped](#181.-Investigating-in-how-many-ways-objects-of-two-different-colours-can-be-grouped)\n",
    " 32. [182. RSA encryption](#182.-RSA-encryption)\n",
    " 33. [183. Maximum product of parts](#183.-Maximum-product-of-parts)\n",
    " 34. [184. Triangles containing the origin](#184.-Triangles-containing-the-origin)\n",
    " 35. [185. Number Mind](#185.-Number-Mind)\n",
    " 36. [186. Connectedness of a network](#186.-Connectedness-of-a-network)\n",
    " 37. [187. Semiprimes](#187.-Semiprimes)\n",
    " 38. [188. The hyperexponentiation of a number](#188.-The-hyperexponentiation-of-a-number)\n",
    " 39. [189. Tri-colouring a triangular grid](#189.-Tri-colouring-a-triangular-grid)\n",
    " 40. [190. Maximising a weighted product](#190.-Maximising-a-weighted-product)\n",
    " 41. [191. Prize Strings](#191.-Prize-Strings)\n",
    " 42. [192. Best Approximations](#192.-Best-Approximations)\n",
    " 43. [193. Squarefree Numbers](#193.-Squarefree-Numbers)\n",
    " 44. [194. Coloured Configurations](#194.-Coloured-Configurations)\n",
    " 45. [195. Inscribed circles of triangles with one angle of 60 degrees](#195.-Inscribed-circles-of-triangles-with-one-angle-of-60-degrees)\n",
    " 46. [196. Prime triplets](#196.-Prime-triplets)\n",
    " 47. [197. Investigating the behaviour of a recursively defined sequence](#197.-Investigating-the-behaviour-of-a-recursively-defined-sequence)\n",
    " 48. [198. Ambiguous Numbers](#198.-Ambiguous-Numbers)\n",
    " 49. [199. Iterative Circle Packing](#199.-Iterative-Circle-Packing)\n",
    " 0. [200. Find the 200th prime-proof sqube containing the contiguous sub-string \"200\"](#200.-Find-the-200th-prime-proof-sqube-containing-the-contiguous-sub-string-\"200\")"
   ]
  },
  {
   "cell_type": "markdown",
   "metadata": {},
   "source": [
    "### 151. Paper sheets of standard sizes: an expected-value problem\n",
    "#### ([Back to Top](#Table-of-Contents)) ([Webpage](https://projecteuler.net/problem=151))<div class=\"problem_content\" role=\"problem\">\n",
    "<p>A printing shop runs 16 batches (jobs) every week and each batch requires a sheet of special colour-proofing paper of size A5.</p>\n",
    "<p>Every Monday morning, the foreman opens a new envelope, containing a large sheet of the special paper with size A1.</p>\n",
    "<p>He proceeds to cut it in half, thus getting two sheets of size A2. Then he cuts one of them in half to get two sheets of size A3 and so on until he obtains the A5-size sheet needed for the first batch of the week.</p>\n",
    "<p>All the unused sheets are placed back in the envelope.</p>\n",
    "<div style=\"text-align:center;\"><img alt=\"\" class=\"dark_img\" src=\"project/images/p151.gif\"/></div>\n",
    "<p>At the beginning of each subsequent batch, he takes from the envelope one sheet of paper at random. If it is of size A5, he uses it. If it is larger, he repeats the 'cut-in-half' procedure until he has what he needs and any remaining sheets are always placed back in the envelope.</p>\n",
    "<p>Excluding the first and last batch of the week, find the expected number of times (during each week) that the foreman finds a single sheet of paper in the envelope.</p>\n",
    "<p>Give your answer rounded to six decimal places using the format x.xxxxxx .</p>\n",
    "</div>"
   ]
  },
  {
   "cell_type": "code",
   "execution_count": null,
   "metadata": {},
   "outputs": [],
   "source": []
  },
  {
   "cell_type": "markdown",
   "metadata": {},
   "source": [
    "### 152. Writing 1/2 as a sum of inverse squares\n",
    "#### ([Back to Top](#Table-of-Contents)) ([Webpage](https://projecteuler.net/problem=152))<div class=\"problem_content\" role=\"problem\">\n",
    "<p>There are several ways to write the number 1/2 as a sum of inverse squares using <i>distinct</i> integers.</p>\n",
    "<p>For instance, the numbers {2,3,4,5,7,12,15,20,28,35} can be used:</p>\n",
    "<p>$$\\begin{align}\\dfrac{1}{2} &amp;= \\dfrac{1}{2^2} + \\dfrac{1}{3^2} + \\dfrac{1}{4^2} + \\dfrac{1}{5^2} +\\\\\n",
    "&amp;\\quad \\dfrac{1}{7^2} + \\dfrac{1}{12^2} + \\dfrac{1}{15^2} + \\dfrac{1}{20^2} +\\\\\n",
    "&amp;\\quad \\dfrac{1}{28^2} + \\dfrac{1}{35^2}\\end{align}$$</p>\n",
    "<p>In fact, only using integers between 2 and 45 inclusive, there are exactly three ways to do it, the remaining two being: {2,3,4,6,7,9,10,20,28,35,36,45} and {2,3,4,6,7,9,12,15,28,30,35,36,45}.</p>\n",
    "<p>How many ways are there to write the number 1/2 as a sum of inverse squares using distinct integers between 2 and 80 inclusive?</p>\n",
    "</div>"
   ]
  },
  {
   "cell_type": "code",
   "execution_count": null,
   "metadata": {},
   "outputs": [],
   "source": []
  },
  {
   "cell_type": "markdown",
   "metadata": {},
   "source": [
    "### 153. Investigating Gaussian Integers\n",
    "#### ([Back to Top](#Table-of-Contents)) ([Webpage](https://projecteuler.net/problem=153))<div class=\"problem_content\" role=\"problem\">\n",
    "<p>As we all know the equation <var>x</var><sup>2</sup>=-1 has no solutions for real <var>x</var>.\n",
    "<br>\n",
    "If we however introduce the imaginary number <var>i</var> this equation has two solutions: <var>x=i</var> and <var>x=-i</var>.\n",
    "<br/>\n",
    "If we go a step further the equation (<var>x</var>-3)<sup>2</sup>=-4 has two complex solutions: <var>x</var>=3+2<var>i</var> and <var>x</var>=3-2<var>i</var>.\n",
    "<br/><var>x</var>=3+2<var>i</var> and <var>x</var>=3-2<var>i</var> are called each others' complex conjugate.\n",
    "<br/>\n",
    "Numbers of the form <var>a</var>+<var>bi</var> are called complex numbers.\n",
    "<br/>\n",
    "In general <var>a</var>+<var>bi</var> and <var>a</var>−<var>bi</var> are each other's complex conjugate.</br></p>\n",
    "<p>A Gaussian Integer is a complex number <var>a</var>+<var>bi</var> such that both <var>a</var> and <var>b</var> are integers.\n",
    "<br/>\n",
    "The regular integers are also Gaussian integers (with <var>b</var>=0).\n",
    "<br/>\n",
    "To distinguish them from Gaussian integers with <var>b</var> ≠ 0 we call such integers \"rational integers.\"\n",
    "<br/>\n",
    "A Gaussian integer is called a divisor of a rational integer <var>n</var> if the result is also a Gaussian integer.\n",
    "<br/>\n",
    "If for example we divide 5 by 1+2<var>i</var> we can simplify $\\dfrac{5}{1 + 2i}$ in the following manner:\n",
    "<br/>\n",
    "Multiply numerator and denominator by the complex conjugate of 1+2<var>i</var>: 1−2<var>i</var>.\n",
    "<br/>\n",
    "The result is $\\dfrac{5}{1 + 2i} = \\dfrac{5}{1 + 2i}\\dfrac{1 - 2i}{1 - 2i} = \\dfrac{5(1 - 2i)}{1 - (2i)^2} = \\dfrac{5(1 - 2i)}{1 - (-4)} = \\dfrac{5(1 - 2i)}{5} = 1 - 2i$.\n",
    "<br/>\n",
    "So 1+2<var>i</var> is a divisor of 5.\n",
    "<br/>\n",
    "Note that 1+<var>i</var> is not a divisor of 5 because $\\dfrac{5}{1 + i} = \\dfrac{5}{2} - \\dfrac{5}{2}i$.\n",
    "<br/>\n",
    "Note also that if the Gaussian Integer (<var>a</var>+<var>bi</var>) is a divisor of a rational integer <var>n</var>, then its complex conjugate (<var>a</var>−<var>bi</var>) is also a divisor of <var>n</var>.</p>\n",
    "<p>In fact, 5 has six divisors such that the real part is positive: {1, 1 + 2<var>i</var>, 1 − 2<var>i</var>, 2 + <var>i</var>, 2 − <var>i</var>, 5}.\n",
    "<br/>\n",
    "The following is a table of all of the divisors for the first five positive rational integers:</p>\n",
    "<table align=\"center\" border=\"1\"><tr><td width=\"20\">\n",
    "<var>n</var></td><td> Gaussian integer divisors<br/>\n",
    "with positive real part</td><td>Sum s(<var>n</var>) of <br/>these\n",
    "\n",
    "divisors</td></tr><tr><td>1</td><td>1</td><td>1</td>\n",
    "</tr><tr><td>2</td><td>1, 1+<var>i</var>, 1-<var>i</var>, 2</td><td>5</td>\n",
    "</tr><tr><td>3</td><td>1, 3</td><td>4</td>\n",
    "</tr><tr><td>4</td><td>1, 1+<var>i</var>, 1-<var>i</var>, 2, 2+2<var>i</var>, 2-2<var>i</var>,4</td><td>13</td>\n",
    "</tr><tr><td>5</td><td>1, 1+2<var>i</var>, 1-2<var>i</var>, 2+<var>i</var>, 2-<var>i</var>, 5</td><td>12</td>\n",
    "</tr></table><p>For divisors with positive real parts, then, we have: $\\sum \\limits_{n = 1}^{5} {s(n)} = 35$.</p>\n",
    "<p>For $\\sum \\limits_{n = 1}^{10^5} {s(n)} = 17924657155$.</p>\n",
    "<p>What is $\\sum \\limits_{n = 1}^{10^8} {s(n)}$?</p>\n",
    "</div>"
   ]
  },
  {
   "cell_type": "code",
   "execution_count": null,
   "metadata": {},
   "outputs": [],
   "source": []
  },
  {
   "cell_type": "markdown",
   "metadata": {},
   "source": [
    "### 154. Exploring Pascal's pyramid\n",
    "#### ([Back to Top](#Table-of-Contents)) ([Webpage](https://projecteuler.net/problem=154))<div class=\"problem_content\" role=\"problem\">\n",
    "<p>A triangular pyramid is constructed using spherical balls so that each ball rests on exactly three balls of the next lower level.</p>\n",
    "<div style=\"text-align:center;\"><img alt=\"\" class=\"dark_img\" src=\"project/images/p154_pyramid.png\"/></div>\n",
    "<p>Then, we calculate the number of paths leading from the apex to each position:</p>\n",
    "<p>A path starts at the apex and progresses downwards to any of the three spheres directly below the current position.</p>\n",
    "<p>Consequently, the number of paths to reach a certain position is the sum of the numbers immediately above it (depending on the position, there are up to three numbers above it).</p>\n",
    "<p>The result is <i>Pascal's pyramid</i> and the numbers at each level <var>n</var> are the coefficients of the trinomial expansion \n",
    "(<var>x + y + z</var>)<sup><var>n</var></sup>.</p>\n",
    "<p>How many coefficients in the expansion of (<var>x + y + z</var>)<sup>200000</sup> are multiples of 10<sup>12</sup>?</p>\n",
    "</div>"
   ]
  },
  {
   "cell_type": "code",
   "execution_count": null,
   "metadata": {},
   "outputs": [],
   "source": []
  },
  {
   "cell_type": "markdown",
   "metadata": {},
   "source": [
    "### 155. Counting Capacitor Circuits\n",
    "#### ([Back to Top](#Table-of-Contents)) ([Webpage](https://projecteuler.net/problem=155))<div class=\"problem_content\" role=\"problem\">\n",
    "<p>An electric circuit uses exclusively identical capacitors of the same value C.\n",
    "<br>\n",
    "The capacitors can be connected in series or in parallel to form sub-units, which can then be connected in series or in parallel with other capacitors or other sub-units to form larger sub-units, and so on up to a final circuit.</br></p>\n",
    "<p>Using this simple procedure and up to <var>n</var> identical capacitors, we can make circuits having a range of different total capacitances. For example, using up to <var>n</var>=3 capacitors of 60 <img alt=\"\" height=\"21\" src=\"project/images/p155_capsmu.gif\" style=\"vertical-align:middle;\" width=\"12\"/>F each, we can obtain the following 7 distinct total capacitance values: </p>\n",
    "<div style=\"text-align:center;\"><img alt=\"\" class=\"dark_img\" src=\"project/images/p155_capacitors1.gif\"/></div>\n",
    "<p>If we denote by <var>D</var>(<var>n</var>) the number of distinct total capacitance values we can obtain when using up to <var>n</var> equal-valued capacitors and the simple procedure described above, we have: <var>D</var>(1)=1, <var>D</var>(2)=3, <var>D</var>(3)=7 ...</p>\n",
    "<p>Find <var>D</var>(18).</p>\n",
    "<p><i>Reminder :</i> When connecting capacitors C<sub>1</sub>, C<sub>2</sub> etc in parallel, the total capacitance is C<sub>T</sub> = C<sub>1</sub> + C<sub>2</sub> +...,\n",
    "<br/>\n",
    "whereas when connecting them in series, the overall capacitance is given by: $\\dfrac{1}{C_T} = \\dfrac{1}{C_1} + \\dfrac{1}{C_2} + ...$</p>\n",
    "</div>"
   ]
  },
  {
   "cell_type": "code",
   "execution_count": null,
   "metadata": {},
   "outputs": [],
   "source": []
  },
  {
   "cell_type": "markdown",
   "metadata": {},
   "source": [
    "### 156. Counting Digits\n",
    "#### ([Back to Top](#Table-of-Contents)) ([Webpage](https://projecteuler.net/problem=156))<div class=\"problem_content\" role=\"problem\">\n",
    "<p>Starting from zero the natural numbers are written down in base 10 like this:\n",
    "<br>\n",
    "0 1 2 3 4 5 6 7 8 9 10 11 12....\n",
    "</br></p>\n",
    "<p>Consider the digit <var>d</var>=1. After we write down each number <var>n</var>, we will update the number of ones that have occurred and call this number <var>f</var>(<var>n</var>,1). The first values for <var>f</var>(<var>n</var>,1), then, are as follows:</p>\n",
    "<div style=\"text-align:center;\">\n",
    "<table align=\"center\" style=\"text-align:center;\"><tr><td><var>n</var></td><td><var>f</var>(<var>n</var>,1)</td>\n",
    "</tr><tr><td>0</td><td>0</td>\n",
    "</tr><tr><td>1</td><td>1</td>\n",
    "</tr><tr><td>2</td><td>1</td>\n",
    "</tr><tr><td>3</td><td>1</td>\n",
    "</tr><tr><td>4</td><td>1</td>\n",
    "</tr><tr><td>5</td><td>1</td>\n",
    "</tr><tr><td>6</td><td>1</td>\n",
    "</tr><tr><td>7</td><td>1</td>\n",
    "</tr><tr><td>8</td><td>1</td>\n",
    "</tr><tr><td>9</td><td>1</td>\n",
    "</tr><tr><td>10</td><td>2</td>\n",
    "</tr><tr><td>11</td><td>4</td>\n",
    "</tr><tr><td>12</td><td>5</td>\n",
    "</tr></table></div>\n",
    "<p>Note that <var>f</var>(<var>n</var>,1) never equals 3.\n",
    "<br/>\n",
    "So the first two solutions of the equation <var>f</var>(<var>n</var>,1)=<var>n</var> are <var>n</var>=0 and <var>n</var>=1. The next solution is <var>n</var>=199981.</p>\n",
    "<p>In the same manner the function <var>f</var>(<var>n,d</var>) gives the total number of digits <var>d</var> that have been written down after the number <var>n</var> has been written.\n",
    "<br/>\n",
    "In fact, for every digit <var>d</var> ≠ 0, 0 is the first solution of the equation <var>f</var>(<var>n,d</var>)=<var>n</var>.</p>\n",
    "<p>Let <var>s</var>(<var>d</var>) be the sum of all the solutions for which <var>f</var>(<var>n,d</var>)=<var>n</var>.\n",
    "<br/>\n",
    "You are given that <var>s</var>(1)=22786974071.</p>\n",
    "<p>Find  ∑ <var>s</var>(<var>d</var>) for 1 ≤ d ≤ 9.</p>\n",
    "<p>Note: if, for some <var>n</var>, <var>f</var>(<var>n,d</var>)=<var>n</var>\n",
    " for more than one value of <var>d</var> this value of <var>n</var> is counted again for every value of <var>d</var> for which <var>f</var>(<var>n,d</var>)=<var>n</var>.</p>\n",
    "</div>"
   ]
  },
  {
   "cell_type": "code",
   "execution_count": null,
   "metadata": {},
   "outputs": [],
   "source": []
  },
  {
   "cell_type": "markdown",
   "metadata": {},
   "source": [
    "### 157. \n",
    "#### ([Back to Top](#Table-of-Contents)) ([Webpage](https://projecteuler.net/problem=157))<div class=\"problem_content\" role=\"problem\">\n",
    "<p>Consider the diophantine equation <sup>1</sup>/<sub><var>a</var></sub>+<sup>1</sup>/<sub><var>b</var></sub>= <sup><var>p</var></sup>/<sub>10<sup><var>n</var></sup></sub> with <var>a, b, p, n</var> positive integers and <var>a</var> ≤ <var>b</var>.<br>\n",
    "For <var>n</var>=1 this equation has 20 solutions that are listed below:</br></p>\n",
    "<table><tr><td width=\"120\"><sup>1</sup>/<sub>1</sub>+<sup>1</sup>/<sub>1</sub>=<sup>20</sup>/<sub>10</sub></td>\n",
    "<td width=\"120\"><sup>1</sup>/<sub>1</sub>+<sup>1</sup>/<sub>2</sub>=<sup>15</sup>/<sub>10</sub></td>\n",
    "<td width=\"120\"><sup>1</sup>/<sub>1</sub>+<sup>1</sup>/<sub>5</sub>=<sup>12</sup>/<sub>10</sub></td>\n",
    "<td width=\"120\"><sup>1</sup>/<sub>1</sub>+<sup>1</sup>/<sub>10</sub>=<sup>11</sup>/<sub>10</sub></td>\n",
    "<td width=\"120\"><sup>1</sup>/<sub>2</sub>+<sup>1</sup>/<sub>2</sub>=<sup>10</sup>/<sub>10</sub></td>\n",
    "</tr><tr><td width=\"120\"><sup>1</sup>/<sub>2</sub>+<sup>1</sup>/<sub>5</sub>=<sup>7</sup>/<sub>10</sub></td>\n",
    "<td width=\"120\"><sup>1</sup>/<sub>2</sub>+<sup>1</sup>/<sub>10</sub>=<sup>6</sup>/<sub>10</sub></td>\n",
    "<td width=\"120\"><sup>1</sup>/<sub>3</sub>+<sup>1</sup>/<sub>6</sub>=<sup>5</sup>/<sub>10</sub></td>\n",
    "<td width=\"120\"><sup>1</sup>/<sub>3</sub>+<sup>1</sup>/<sub>15</sub>=<sup>4</sup>/<sub>10</sub></td>\n",
    "<td width=\"120\"><sup>1</sup>/<sub>4</sub>+<sup>1</sup>/<sub>4</sub>=<sup>5</sup>/<sub>10</sub></td>\n",
    "</tr><tr><td width=\"120\"><sup>1</sup>/<sub>4</sub>+<sup>1</sup>/<sub>20</sub>=<sup>3</sup>/<sub>10</sub></td>\n",
    "<td width=\"120\"><sup>1</sup>/<sub>5</sub>+<sup>1</sup>/<sub>5</sub>=<sup>4</sup>/<sub>10</sub></td>\n",
    "<td width=\"120\"><sup>1</sup>/<sub>5</sub>+<sup>1</sup>/<sub>10</sub>=<sup>3</sup>/<sub>10</sub></td>\n",
    "<td width=\"120\"><sup>1</sup>/<sub>6</sub>+<sup>1</sup>/<sub>30</sub>=<sup>2</sup>/<sub>10</sub></td>\n",
    "<td width=\"120\"><sup>1</sup>/<sub>10</sub>+<sup>1</sup>/<sub>10</sub>=<sup>2</sup>/<sub>10</sub></td>\n",
    "</tr><tr><td width=\"120\"><sup>1</sup>/<sub>11</sub>+<sup>1</sup>/<sub>110</sub>=<sup>1</sup>/<sub>10</sub></td>\n",
    "<td width=\"120\"><sup>1</sup>/<sub>12</sub>+<sup>1</sup>/<sub>60</sub>=<sup>1</sup>/<sub>10</sub></td>\n",
    "<td width=\"120\"><sup>1</sup>/<sub>14</sub>+<sup>1</sup>/<sub>35</sub>=<sup>1</sup>/<sub>10</sub></td>\n",
    "<td width=\"120\"><sup>1</sup>/<sub>15</sub>+<sup>1</sup>/<sub>30</sub>=<sup>1</sup>/<sub>10</sub></td>\n",
    "<td width=\"120\"><sup>1</sup>/<sub>20</sub>+<sup>1</sup>/<sub>20</sub>=<sup>1</sup>/<sub>10</sub></td>\n",
    "</tr></table><p>How many solutions has this equation for 1 ≤ <var>n</var> ≤ 9?</p>\n",
    "</div>"
   ]
  },
  {
   "cell_type": "code",
   "execution_count": null,
   "metadata": {},
   "outputs": [],
   "source": []
  },
  {
   "cell_type": "markdown",
   "metadata": {},
   "source": [
    "### 158. Exploring strings for which only one character comes lexicographically after its neighbour to the left\n",
    "#### ([Back to Top](#Table-of-Contents)) ([Webpage](https://projecteuler.net/problem=158))<div class=\"problem_content\" role=\"problem\">\n",
    "<p>Taking three different letters from the 26 letters of the alphabet, character strings of length three can be formed.<br>\n",
    "Examples are 'abc', 'hat' and 'zyx'.<br/>\n",
    "When we study these three examples we see that for 'abc' two characters come lexicographically after its neighbour to the left.<br/> \n",
    "For 'hat' there is exactly one character that comes lexicographically after its neighbour to the left. For 'zyx' there are zero characters that come lexicographically after its neighbour to the left.<br/>\n",
    "In all there are 10400 strings of length 3 for which exactly one character comes lexicographically after its neighbour to the left.</br></p>\n",
    "<p>We now consider strings of <var>n</var> ≤ 26 different characters from the alphabet.<br/> \n",
    "For every <var>n</var>, p(<var>n</var>) is the number of strings of length <var>n</var> for which exactly one character comes lexicographically after its neighbour to the left.</p>\n",
    "<p>What is the maximum value of p(<var>n</var>)?</p>\n",
    "</div>"
   ]
  },
  {
   "cell_type": "code",
   "execution_count": null,
   "metadata": {},
   "outputs": [],
   "source": []
  },
  {
   "cell_type": "markdown",
   "metadata": {},
   "source": [
    "### 159. Digital root sums of factorisations\n",
    "#### ([Back to Top](#Table-of-Contents)) ([Webpage](https://projecteuler.net/problem=159))<div class=\"problem_content\" role=\"problem\">\n",
    "<p>A composite number can be factored many different ways.  \n",
    "For instance, not including multiplication by one, 24 can be factored in 7 distinct ways:</p>\n",
    "<div style=\"margin-left:50px;\">\n",
    "24 = 2x2x2x3<br>\n",
    "24 = 2x3x4<br/>\n",
    "24 = 2x2x6<br/>\n",
    "24 = 4x6<br/>\n",
    "24 = 3x8<br/>\n",
    "24 = 2x12<br/>\n",
    "24 = 24\n",
    "</br></div>\n",
    "<p>Recall that the digital root of a number, in base 10, is found by adding together the digits of that number, \n",
    "and repeating that process until a number is arrived at that is less than 10.  \n",
    "Thus the digital root of 467 is 8.</p>\n",
    "<p>We shall call a Digital Root Sum (DRS) the sum of the digital roots of the individual factors of our number.<br/>\n",
    " The chart below demonstrates all of the DRS values for 24.</p>\n",
    "<table align=\"center\" border=\"1\" cellpadding=\"2\" cellspacing=\"0\"><tr><th>Factorisation</th><th>Digital Root Sum</th></tr><tr><td><div style=\"margin-left:20px;\">2x2x2x3</div></td>\n",
    "<td><div style=\"text-align:center;\">9</div></td></tr><tr><td><div style=\"margin-left:20px;\">2x3x4</div></td>\n",
    "<td><div style=\"text-align:center;\">9</div></td></tr><tr><td><div style=\"margin-left:20px;\">2x2x6</div></td>\n",
    "<td><div style=\"text-align:center;\">10</div></td></tr><tr><td><div style=\"margin-left:20px;\">4x6</div></td>\n",
    "<td><div style=\"text-align:center;\">10</div></td></tr><tr><td><div style=\"margin-left:20px;\">3x8</div></td>\n",
    "<td><div style=\"text-align:center;\">11</div></td></tr><tr><td><div style=\"margin-left:20px;\">2x12</div></td>\n",
    "<td><div style=\"text-align:center;\">5</div></td></tr><tr><td><div style=\"margin-left:20px;\">24</div></td>\n",
    "<td><div style=\"text-align:center;\">6</div></td></tr></table><p>The maximum Digital Root Sum  of 24 is 11.<br/>\n",
    "The function mdrs(<var>n</var>) gives the maximum Digital Root Sum of <var>n</var>. So  mdrs(24)=11.<br/>\n",
    "Find ∑mdrs(<var>n</var>) for 1 &lt; <var>n</var> &lt; 1,000,000.</p>\n",
    "</div>"
   ]
  },
  {
   "cell_type": "code",
   "execution_count": null,
   "metadata": {},
   "outputs": [],
   "source": []
  },
  {
   "cell_type": "markdown",
   "metadata": {},
   "source": [
    "### 160. Factorial trailing digits\n",
    "#### ([Back to Top](#Table-of-Contents)) ([Webpage](https://projecteuler.net/problem=160))<div class=\"problem_content\" role=\"problem\">\n",
    "<p>For any N, let f(N) be the last five digits before the trailing zeroes in N!.<br>\n",
    "For example,</br></p>\n",
    "<p style=\"margin-left:50px;\">9! = 362880 so f(9)=36288<br/>\n",
    "10! = 3628800 so f(10)=36288<br/>\n",
    "20! = 2432902008176640000 so f(20)=17664</p>\n",
    "<p>Find f(1,000,000,000,000)</p>\n",
    "</div>"
   ]
  },
  {
   "cell_type": "code",
   "execution_count": null,
   "metadata": {},
   "outputs": [],
   "source": []
  },
  {
   "cell_type": "markdown",
   "metadata": {},
   "source": [
    "### 161. Triominoes\n",
    "#### ([Back to Top](#Table-of-Contents)) ([Webpage](https://projecteuler.net/problem=161))<div class=\"problem_content\" role=\"problem\">\n",
    "<p>A triomino is a shape consisting of three squares joined via the edges.\n",
    "There are two basic forms:</p>\n",
    "<p style=\"text-align:center;\"><img alt=\"\" class=\"dark_img\" src=\"project/images/p161_trio1.gif\"/></p>\n",
    "<p>If all possible orientations are taken into account there are six:</p>\n",
    "<p style=\"text-align:center;\"><img alt=\"\" class=\"dark_img\" src=\"project/images/p161_trio3.gif\"/></p>\n",
    "<p>Any n by m grid for which nxm is divisible by 3 can be tiled with triominoes.<br>\n",
    "If we consider tilings that can be obtained by reflection or rotation from another tiling as different there are 41 ways a 2 by 9 grid can be  tiled with triominoes:</br></p>\n",
    "<p style=\"text-align:center;\"><img alt=\"\" class=\"dark_img\" src=\"project/images/p161_k9.gif\"/></p>\n",
    "<p>In how many ways can a 9 by 12 grid be tiled in this way by triominoes?</p>\n",
    "</div>"
   ]
  },
  {
   "cell_type": "code",
   "execution_count": null,
   "metadata": {},
   "outputs": [],
   "source": []
  },
  {
   "cell_type": "markdown",
   "metadata": {},
   "source": [
    "### 162. Hexadecimal numbers\n",
    "#### ([Back to Top](#Table-of-Contents)) ([Webpage](https://projecteuler.net/problem=162))<div class=\"problem_content\" role=\"problem\">\n",
    "<p>In  the hexadecimal number system numbers are represented using 16 different digits:</p>\n",
    "<div style=\"text-align:center;\">0,1,2,3,4,5,6,7,8,9,A,B,C,D,E,F</div>\n",
    "<p>The hexadecimal number AF when written in the decimal number system equals 10x16+15=175.</p>\n",
    "<p>In the 3-digit hexadecimal numbers 10A, 1A0, A10, and A01 the digits 0,1 and A are all present.<br>\n",
    "Like numbers written in base ten we write hexadecimal numbers without leading zeroes.</br></p>\n",
    "<p>How many hexadecimal numbers containing at most sixteen hexadecimal digits exist with all of the digits 0,1, and A present at least once?<br/>\n",
    "Give your answer as a hexadecimal number.</p>\n",
    "<p>(A,B,C,D,E and F in upper case, without any leading or trailing code that marks the number as hexadecimal and without leading zeroes , e.g. 1A3F and not: 1a3f and not 0x1a3f and not $1A3F and not #1A3F and not 0000001A3F)</p>\n",
    "</div>"
   ]
  },
  {
   "cell_type": "code",
   "execution_count": null,
   "metadata": {},
   "outputs": [],
   "source": []
  },
  {
   "cell_type": "markdown",
   "metadata": {},
   "source": [
    "### 163. Cross-hatched triangles\n",
    "#### ([Back to Top](#Table-of-Contents)) ([Webpage](https://projecteuler.net/problem=163))<div class=\"problem_content\" role=\"problem\">\n",
    "<p>Consider an equilateral triangle in which straight lines are drawn from each vertex to the middle of the opposite side, such as in the <i>size 1</i> triangle in the sketch below.</p>\n",
    "<div style=\"text-align:center;\"><img alt=\"\" class=\"dark_img\" src=\"project/images/p163.gif\"/></div>\n",
    "<p>Sixteen triangles of either different shape or size or orientation or location can now be observed in that triangle. Using <i>size 1</i> triangles as building blocks, larger triangles can be formed, such as the <i>size 2</i> triangle in the above sketch. One-hundred and four triangles of either different shape or size or orientation or location can now be observed in that <i>size 2</i> triangle.</p>\n",
    "<p>It can be observed that the <i>size 2</i> triangle contains 4 <i>size 1</i> triangle building blocks. A <i>size 3</i> triangle would contain 9 <i>size 1</i> triangle building blocks and a <i>size n</i> triangle would thus contain <i>n<sup>2</sup> size 1</i> triangle building blocks.</p>\n",
    "<p>If we denote T(<var>n</var>) as the number of triangles present in a triangle of <i>size <var>n</var></i>, then</p>\n",
    "<p style=\"margin-left:50px;\">T(1) = 16<br>\n",
    "T(2) = 104</br></p>\n",
    "<p>Find T(36).</p>\n",
    "</div>"
   ]
  },
  {
   "cell_type": "code",
   "execution_count": null,
   "metadata": {},
   "outputs": [],
   "source": []
  },
  {
   "cell_type": "markdown",
   "metadata": {},
   "source": [
    "### 164. Numbers for which no three consecutive digits have a sum greater than a given value\n",
    "#### ([Back to Top](#Table-of-Contents)) ([Webpage](https://projecteuler.net/problem=164))<div class=\"problem_content\" role=\"problem\">\n",
    "<p>How many 20 digit numbers <var>n</var> (without any leading zero) exist such that no three consecutive digits of <var>n</var> have a sum greater than 9?</p>\n",
    "</div>"
   ]
  },
  {
   "cell_type": "code",
   "execution_count": null,
   "metadata": {},
   "outputs": [],
   "source": []
  },
  {
   "cell_type": "markdown",
   "metadata": {},
   "source": [
    "### 165. Intersections\n",
    "#### ([Back to Top](#Table-of-Contents)) ([Webpage](https://projecteuler.net/problem=165))<div class=\"problem_content\" role=\"problem\">\n",
    "<p>A segment is uniquely defined by its two endpoints.<br> By considering two line segments in plane geometry there are three possibilities:<br/> \n",
    "the segments have zero points, one point, or infinitely many points in common.</br></p>\n",
    "<p>Moreover when two segments have exactly one point in common it might be the case that that common point is an endpoint of either one of the segments or of both. If a common point of two segments is not an endpoint of either of the segments it is an interior point of both segments.<br/>\n",
    "We will call a common point T of two segments L<sub>1</sub> and L<sub>2</sub> a true intersection point of L<sub>1</sub> and L<sub>2</sub>  if T is the only common point of L<sub>1</sub> and L<sub>2</sub>  and T is an interior point of both segments.\n",
    "</p>\n",
    "<p>Consider the three segments L<sub>1</sub>, L<sub>2</sub>, and L<sub>3</sub>:</p>\n",
    "<p style=\"margin-left:20px;\">L<sub>1</sub>: (27, 44) to (12, 32)<br/>\n",
    "L<sub>2</sub>: (46, 53) to (17, 62)<br/>\n",
    "L<sub>3</sub>: (46, 70) to (22, 40)</p>\n",
    "<p>It can be verified that line segments L<sub>2</sub> and L<sub>3</sub> have a true intersection point. We note that as the one of the end points of L<sub>3</sub>: (22,40) lies on L<sub>1</sub> this is not considered to be a true point of intersection. L<sub>1</sub> and L<sub>2</sub> have no common point. So among the three line segments, we find one true intersection point.</p>\n",
    "<p>Now let us do the same for 5000 line segments. To this end, we generate 20000 numbers using the so-called \"Blum Blum Shub\" pseudo-random number generator.</p>\n",
    "<p style=\"margin-left:50px;\">s<sub>0</sub> = 290797<br/><br/>\n",
    "s<sub>n+1</sub> = s<sub>n</sub>×s<sub>n</sub> (modulo 50515093)<br/><br/>\n",
    "t<sub>n</sub> = s<sub>n</sub> (modulo 500)</p>\n",
    "<p>To create each line segment, we use four consecutive numbers t<sub>n</sub>. That is, the first line segment is given by:</p>\n",
    "<p>(t<sub>1</sub>, t<sub>2</sub>) to (t<sub>3</sub>, t<sub>4</sub>)</p>\n",
    "<p>The first four numbers computed according to the above generator should be: 27, 144, 12 and 232. The first segment would thus be (27,144) to (12,232).</p>\n",
    "<p>How many distinct true intersection points are found among the 5000 line segments?</p>\n",
    "</div>"
   ]
  },
  {
   "cell_type": "code",
   "execution_count": null,
   "metadata": {},
   "outputs": [],
   "source": []
  },
  {
   "cell_type": "markdown",
   "metadata": {},
   "source": [
    "### 166. Criss Cross\n",
    "#### ([Back to Top](#Table-of-Contents)) ([Webpage](https://projecteuler.net/problem=166))<div class=\"problem_content\" role=\"problem\">\n",
    "<p>A 4x4 grid is filled with digits d, 0 ≤ d ≤ 9.</p>\n",
    "<p>It can be seen that in the grid</p>\n",
    "<p style=\"text-align:center;\">\n",
    "6 3 3 0<br>\n",
    "5 0 4 3<br/>\n",
    "0 7 1 4<br/>\n",
    "1 2 4 5</br></p>\n",
    "<p>the sum of each row and each column has the value 12. Moreover the sum of each diagonal is also 12.</p>\n",
    "<p>In how many ways can you fill a 4x4 grid with the digits d, 0 ≤ d ≤ 9 so that each row, each column, and both diagonals have the same sum?</p>\n",
    "</div>"
   ]
  },
  {
   "cell_type": "code",
   "execution_count": null,
   "metadata": {},
   "outputs": [],
   "source": []
  },
  {
   "cell_type": "markdown",
   "metadata": {},
   "source": [
    "### 167. Investigating Ulam sequences\n",
    "#### ([Back to Top](#Table-of-Contents)) ([Webpage](https://projecteuler.net/problem=167))<div class=\"problem_content\" role=\"problem\">\n",
    "<p>For two positive integers a and b, the Ulam sequence U(a,b) is defined by U(a,b)<sub>1</sub> = a, U(a,b)<sub>2</sub> = b and for k &gt; 2,\n",
    "U(a,b)<sub>k</sub> is the smallest integer greater than U(a,b)<sub>(k-1)</sub> which can be written in exactly one way as the sum of two distinct previous members of U(a,b).</p>\n",
    "<p>For example, the sequence U(1,2) begins with<br>\n",
    "1, 2, 3 = 1 + 2, 4 = 1 + 3, 6 = 2 + 4, 8 = 2 + 6, 11 = 3 + 8;<br/>\n",
    "5 does not belong to it because 5 = 1 + 4 = 2 + 3 has two representations as the sum of two previous members, likewise 7 = 1 + 6 = 3 + 4.</br></p>\n",
    "<p>Find ∑U(2,2<var>n</var>+1)<sub><var>k</var></sub> for 2 ≤ <var>n</var> ≤10, where <var>k</var> = 10<sup>11</sup>.</p>\n",
    "</div>"
   ]
  },
  {
   "cell_type": "code",
   "execution_count": null,
   "metadata": {},
   "outputs": [],
   "source": []
  },
  {
   "cell_type": "markdown",
   "metadata": {},
   "source": [
    "### 168. Number Rotations\n",
    "#### ([Back to Top](#Table-of-Contents)) ([Webpage](https://projecteuler.net/problem=168))<div class=\"problem_content\" role=\"problem\">\n",
    "<p>Consider the number 142857. We can right-rotate this number by moving the last digit (7) to the front of it, giving us 714285.<br>\n",
    "It can be verified that 714285=5×142857.<br/>\n",
    "This demonstrates an unusual property of 142857: it is a divisor of its right-rotation.</br></p>\n",
    "<p>Find the last 5 digits of the sum of all integers <var>n</var>, 10 &lt; <var>n</var> &lt; 10<sup>100</sup>, that have this property.</p>\n",
    "</div>"
   ]
  },
  {
   "cell_type": "code",
   "execution_count": null,
   "metadata": {},
   "outputs": [],
   "source": []
  },
  {
   "cell_type": "markdown",
   "metadata": {},
   "source": [
    "### 169. Exploring the number of different ways a number can be expressed as a sum of powers of 2\n",
    "#### ([Back to Top](#Table-of-Contents)) ([Webpage](https://projecteuler.net/problem=169))<div class=\"problem_content\" role=\"problem\">\n",
    "<p>Define f(0)=1 and f(<var>n</var>) to be the number of different ways <var>n</var> can be expressed as a sum of integer powers of 2 using each power no more than twice.</p>\n",
    "<p>For example, f(10)=5 since there are five different ways to express 10:</p>\n",
    "<p style=\"margin-left:50px;\">1 + 1 + 8<br>\n",
    "1 + 1 + 4 + 4<br/>1 + 1 + 2 + 2 + 4<br/>\n",
    "2 + 4 + 4<br/>\n",
    "2 + 8</br></p>\n",
    "<p>What is f(10<sup>25</sup>)?</p>\n",
    "</div>"
   ]
  },
  {
   "cell_type": "code",
   "execution_count": null,
   "metadata": {},
   "outputs": [],
   "source": []
  },
  {
   "cell_type": "markdown",
   "metadata": {},
   "source": [
    "### 170. Find the largest 0 to 9 pandigital that can be formed by concatenating products\n",
    "#### ([Back to Top](#Table-of-Contents)) ([Webpage](https://projecteuler.net/problem=170))<div class=\"problem_content\" role=\"problem\">\n",
    "<p>Take the number 6 and multiply it by each of 1273 and 9854:</p>\n",
    "<p style=\"margin-left:50px;\">6 × 1273 =  7638<br>\n",
    "6 × 9854 = 59124</br></p>\n",
    "<p>By concatenating these products we get the 1 to 9 pandigital 763859124. We will call 763859124 the \"concatenated product of 6 and (1273,9854)\". Notice too, that the concatenation of the input numbers, 612739854, is also 1 to 9 pandigital.</p>\n",
    "<p>The same can be done for 0 to 9 pandigital numbers.</p>\n",
    "<p>What is the largest 0 to 9 pandigital 10-digit concatenated product of an integer with two or more other integers, such that the concatenation of the input numbers is also a 0 to 9 pandigital 10-digit number?</p>\n",
    "</div>"
   ]
  },
  {
   "cell_type": "code",
   "execution_count": null,
   "metadata": {},
   "outputs": [],
   "source": []
  },
  {
   "cell_type": "markdown",
   "metadata": {},
   "source": [
    "### 171. Finding numbers for which the sum of the squares of the digits is a square\n",
    "#### ([Back to Top](#Table-of-Contents)) ([Webpage](https://projecteuler.net/problem=171))<div class=\"problem_content\" role=\"problem\">\n",
    "<p>For a positive integer <var>n</var>, let f(<var>n</var>) be the sum of the squares of the digits (in base 10) of <var>n</var>, e.g.</p>\n",
    "<p style=\"margin-left:50px;\">f(3) = 3<sup>2</sup> = 9,<br>\n",
    "f(25) = 2<sup>2</sup> + 5<sup>2</sup> = 4 + 25 = 29,<br/>\n",
    "f(442) = 4<sup>2</sup> + 4<sup>2</sup> + 2<sup>2</sup> = 16 + 16 + 4 = 36</br></p>\n",
    "<p>Find the last nine digits of the sum of all <var>n</var>, 0 &lt; <var>n</var> &lt; 10<sup>20</sup>, such that f(<var>n</var>) is a perfect square.</p>\n",
    "</div>"
   ]
  },
  {
   "cell_type": "code",
   "execution_count": null,
   "metadata": {},
   "outputs": [],
   "source": []
  },
  {
   "cell_type": "markdown",
   "metadata": {},
   "source": [
    "### 172. Investigating numbers with few repeated digits\n",
    "#### ([Back to Top](#Table-of-Contents)) ([Webpage](https://projecteuler.net/problem=172))<div class=\"problem_content\" role=\"problem\">\n",
    "<p>How many 18-digit numbers <var>n</var> (without leading zeros) are there such that no digit occurs more than three times in <var>n</var>?</p>\n",
    "</div>"
   ]
  },
  {
   "cell_type": "code",
   "execution_count": null,
   "metadata": {},
   "outputs": [],
   "source": []
  },
  {
   "cell_type": "markdown",
   "metadata": {},
   "source": [
    "### 173. Using up to one million tiles how many different \"hollow\" square laminae can be formed?\n",
    "#### ([Back to Top](#Table-of-Contents)) ([Webpage](https://projecteuler.net/problem=173))<div class=\"problem_content\" role=\"problem\">\n",
    "<p>We shall define a square lamina to be a square outline with a square \"hole\" so that the shape possesses vertical and horizontal symmetry. For example, using exactly thirty-two square tiles we can form two different square laminae:</p>\n",
    "<div style=\"text-align:center;\">\n",
    "<img alt=\"\" src=\"project/images/p173_square_laminas.gif\"/></div>\n",
    "<p>With one-hundred tiles, and not necessarily using all of the tiles at one time, it is possible to form forty-one different square laminae.</p>\n",
    "<p>Using up to one million tiles how many different square laminae can be formed?</p>\n",
    "</div>"
   ]
  },
  {
   "cell_type": "code",
   "execution_count": null,
   "metadata": {},
   "outputs": [],
   "source": []
  },
  {
   "cell_type": "markdown",
   "metadata": {},
   "source": [
    "### 174. Counting the number of \"hollow\" square laminae that can form one, two, three, ... distinct arrangements\n",
    "#### ([Back to Top](#Table-of-Contents)) ([Webpage](https://projecteuler.net/problem=174))<div class=\"problem_content\" role=\"problem\">\n",
    "<p>We shall define a square lamina to be a square outline with a square \"hole\" so that the shape possesses vertical and horizontal symmetry.</p>\n",
    "<p>Given eight tiles it is possible to form a lamina in only one way: 3x3 square with a 1x1 hole in the middle. However, using thirty-two tiles it is possible to form two distinct laminae.</p>\n",
    "<div style=\"text-align:center;\">\n",
    "<img alt=\"\" src=\"project/images/p173_square_laminas.gif\"/></div>\n",
    "<p>If <var>t</var> represents the number of tiles used, we shall say that <var>t</var> = 8 is type L(1) and <var>t</var> = 32 is type L(2).</p>\n",
    "<p>Let N(<var>n</var>) be the number of <var>t</var> ≤ 1000000 such that <var>t</var> is type L(<var>n</var>); for example, N(15) = 832.</p>\n",
    "<p>What is ∑ N(<var>n</var>) for 1 ≤ <var>n</var> ≤ 10?</p>\n",
    "</div>"
   ]
  },
  {
   "cell_type": "code",
   "execution_count": null,
   "metadata": {},
   "outputs": [],
   "source": []
  },
  {
   "cell_type": "markdown",
   "metadata": {},
   "source": [
    "### 175. Fractions involving the number of different ways a number can be expressed as a sum of powers of 2\n",
    "#### ([Back to Top](#Table-of-Contents)) ([Webpage](https://projecteuler.net/problem=175))<div class=\"problem_content\" role=\"problem\">\n",
    "Define f(0)=1 and f(<var>n</var>) to be the number of ways to write <var>n</var> as a sum of powers of 2 where no power occurs more than twice. <br><br/>\n",
    "\n",
    "For example, f(10)=5 since there are five different ways to express 10:<br/>10 = 8+2 = 8+1+1 = 4+4+2 = 4+2+2+1+1 = 4+4+1+1<br/><br/>\n",
    "\n",
    "It can be shown that for every fraction <var>p/q</var> (<var>p</var>&gt;0, <var>q</var>&gt;0) there exists at least one integer <var>n</var> such that<br/> f(<var>n</var>)/f(<var>n</var>-1)=<var>p/q</var>.<br/><br/>\n",
    "For instance, the smallest <var>n</var> for which f(<var>n</var>)/f(<var>n</var>-1)=13/17 is 241.<br/>\n",
    "The binary expansion of 241 is 11110001.<br/>\n",
    "Reading this binary number from the most significant bit to the least significant bit there are 4 one's, 3 zeroes and 1 one. We shall call the string 4,3,1 the <span style=\"font-style:italic;\">Shortened Binary Expansion</span> of 241.<br/><br/>\n",
    "Find the Shortened Binary Expansion of the smallest <var>n</var> for which<br/> f(<var>n</var>)/f(<var>n</var>-1)=123456789/987654321.<br/><br/>\n",
    "Give your answer as comma separated integers, without any whitespaces.\n",
    "</br></div>"
   ]
  },
  {
   "cell_type": "code",
   "execution_count": null,
   "metadata": {},
   "outputs": [],
   "source": []
  },
  {
   "cell_type": "markdown",
   "metadata": {},
   "source": [
    "### 176. Right-angled triangles that share a cathetus\n",
    "#### ([Back to Top](#Table-of-Contents)) ([Webpage](https://projecteuler.net/problem=176))<div class=\"problem_content\" role=\"problem\">\n",
    "<p>The four right-angled triangles with sides (9,12,15), (12,16,20), (5,12,13) and (12,35,37) all have one of the shorter sides (catheti) equal to 12. It can be shown that no other integer sided right-angled triangle exists with one of the catheti equal to 12.</p>\n",
    "<p>Find the smallest integer that can be the length of a cathetus of exactly 47547 different integer sided right-angled triangles.</p>\n",
    "</div>"
   ]
  },
  {
   "cell_type": "code",
   "execution_count": null,
   "metadata": {},
   "outputs": [],
   "source": []
  },
  {
   "cell_type": "markdown",
   "metadata": {},
   "source": [
    "### 177. Integer angled Quadrilaterals\n",
    "#### ([Back to Top](#Table-of-Contents)) ([Webpage](https://projecteuler.net/problem=177))<div class=\"problem_content\" role=\"problem\">\n",
    "<p>Let ABCD be a convex quadrilateral, with diagonals AC and BD. At each vertex the diagonal makes an angle with each of the two sides, creating eight corner angles.</p>\n",
    "<p style=\"text-align:center;\"><img alt=\"\" class=\"dark_img\" src=\"project/images/p177_quad.gif\"/></p>\n",
    "<p>For example, at vertex A, the two angles are CAD, CAB.</p>\n",
    "<p>We call such a quadrilateral for which all eight corner angles have integer values when measured in degrees an \"integer angled quadrilateral\". An example of an integer angled quadrilateral is a square, where all eight corner angles are 45°. Another example is given by DAC = 20°, BAC = 60°, ABD = 50°, CBD = 30°, BCA = 40°, DCA = 30°, CDB = 80°, ADB = 50°.</p>\n",
    "<p>What is the total number of non-similar integer angled quadrilaterals?</p>\n",
    "<p>Note: In your calculations you may assume that a calculated angle is integral if it is within a tolerance of 10<sup>-9</sup> of an integer value.</p>\n",
    "</div>"
   ]
  },
  {
   "cell_type": "code",
   "execution_count": null,
   "metadata": {},
   "outputs": [],
   "source": []
  },
  {
   "cell_type": "markdown",
   "metadata": {},
   "source": [
    "### 178. Step Numbers\n",
    "#### ([Back to Top](#Table-of-Contents)) ([Webpage](https://projecteuler.net/problem=178))<div class=\"problem_content\" role=\"problem\">\n",
    "Consider the number 45656. <br>\n",
    "It can be seen that each pair of consecutive digits of 45656 has a difference of one.<br/>\n",
    "A number for which every pair of consecutive digits has a difference of one is called a step number.<br/>\n",
    "A pandigital number  contains every decimal digit from 0 to 9 at least once.<br/>\n",
    "\n",
    "How many pandigital step numbers less than 10<sup>40</sup> are there?\n",
    "\n",
    "</br></div>"
   ]
  },
  {
   "cell_type": "code",
   "execution_count": null,
   "metadata": {},
   "outputs": [],
   "source": []
  },
  {
   "cell_type": "markdown",
   "metadata": {},
   "source": [
    "### 179. Consecutive positive divisors\n",
    "#### ([Back to Top](#Table-of-Contents)) ([Webpage](https://projecteuler.net/problem=179))<div class=\"problem_content\" role=\"problem\">\n",
    "<p>Find the number of integers 1 &lt; n &lt; 10<sup>7</sup>, for which <var>n</var> and <var>n</var> + 1 have the same number of positive divisors. For example, 14 has the positive divisors 1, 2, 7, 14 while 15 has 1, 3, 5, 15.</p>\n",
    "</div>"
   ]
  },
  {
   "cell_type": "code",
   "execution_count": null,
   "metadata": {},
   "outputs": [],
   "source": []
  },
  {
   "cell_type": "markdown",
   "metadata": {},
   "source": [
    "### 180. Rational zeros of a function of three variables\n",
    "#### ([Back to Top](#Table-of-Contents)) ([Webpage](https://projecteuler.net/problem=180))<div class=\"problem_content\" role=\"problem\">\n",
    "<p>For any integer <var>n</var>, consider the three functions</p>\n",
    "<p style=\"margin-left:50px;\"><var>f</var><sub>1,<var>n</var></sub>(<var>x</var>,<var>y</var>,<var>z</var>) = <var>x</var><sup><var>n</var>+1</sup> + <var>y</var><sup><var>n</var>+1</sup> − <var>z</var><sup><var>n</var>+1</sup><br><var>f</var><sub>2,<var>n</var></sub>(<var>x</var>,<var>y</var>,<var>z</var>) = (<var>xy</var> + <var>yz</var> + <var>zx</var>)*(<var>x</var><sup><var>n</var>-1</sup> + <var>y</var><sup><var>n</var>-1</sup> − <var>z</var><sup><var>n</var>-1</sup>)<br/><var>f</var><sub>3,<var>n</var></sub>(<var>x</var>,<var>y</var>,<var>z</var>) = <var>xyz</var>*(<var>x</var><sup><var>n</var>-2</sup> + <var>y</var><sup><var>n</var>-2</sup> − <var>z</var><sup><var>n</var>-2</sup>)</br></p>\n",
    "<p>and their combination</p>\n",
    "<p style=\"margin-left:50px;\"><var>f</var><sub><var>n</var></sub>(<var>x</var>,<var>y</var>,<var>z</var>) = <var>f</var><sub>1,<var>n</var></sub>(<var>x</var>,<var>y</var>,<var>z</var>) + <var>f</var><sub>2,<var>n</var></sub>(<var>x</var>,<var>y</var>,<var>z</var>) − <var>f</var><sub>3,<var>n</var></sub>(<var>x</var>,<var>y</var>,<var>z</var>)</p>\n",
    "<p>We call (<var>x</var>,<var>y</var>,<var>z</var>) a golden triple of order <var>k</var> if <var>x</var>, <var>y</var>, and <var>z</var> are all rational numbers of the form <var>a</var> / <var>b</var> with<br/>\n",
    "0 &lt; <var>a</var> &lt; <var>b</var> ≤ <var>k</var> and there is (at least) one integer <var>n</var>, so that <var>f</var><sub><var>n</var></sub>(<var>x</var>,<var>y</var>,<var>z</var>) = 0.</p>\n",
    "<p>Let <var>s</var>(<var>x</var>,<var>y</var>,<var>z</var>) = <var>x</var> + <var>y</var> + <var>z</var>.<br/>\n",
    "Let <var>t</var> = <var>u</var> / <var>v</var> be the sum of all distinct <var>s</var>(<var>x</var>,<var>y</var>,<var>z</var>) for all golden triples (<var>x</var>,<var>y</var>,<var>z</var>) of order 35.<br/> All the <var>s</var>(<var>x</var>,<var>y</var>,<var>z</var>) and <var>t</var>  must be in reduced form.</p>\n",
    "<p>Find <var>u</var> + <var>v</var>.</p>\n",
    "</div>"
   ]
  },
  {
   "cell_type": "code",
   "execution_count": null,
   "metadata": {},
   "outputs": [],
   "source": []
  },
  {
   "cell_type": "markdown",
   "metadata": {},
   "source": [
    "### 181. Investigating in how many ways objects of two different colours can be grouped\n",
    "#### ([Back to Top](#Table-of-Contents)) ([Webpage](https://projecteuler.net/problem=181))<div class=\"problem_content\" role=\"problem\">\n",
    "<p>Having three black objects B and one white object W they can be grouped in 7 ways like this:</p>\n",
    "<table align=\"center\" cellpadding=\"10\"><tr><td>(BBBW)</td><td>(B,BBW)</td><td>(B,B,BW)</td><td>(B,B,B,W)</td>\n",
    "<td>(B,BB,W)</td><td>(BBB,W)</td><td>(BB,BW)</td>\n",
    "</tr></table><p>In how many ways can sixty black objects B and forty white objects W be  thus grouped?</p>\n",
    "</div>"
   ]
  },
  {
   "cell_type": "code",
   "execution_count": null,
   "metadata": {},
   "outputs": [],
   "source": []
  },
  {
   "cell_type": "markdown",
   "metadata": {},
   "source": [
    "### 182. RSA encryption\n",
    "#### ([Back to Top](#Table-of-Contents)) ([Webpage](https://projecteuler.net/problem=182))<div class=\"problem_content\" role=\"problem\">\n",
    "<p>The RSA encryption is based on the following procedure:</p>\n",
    "<p>Generate two distinct primes <var>p</var> and <var>q</var>.<br>Compute <var>n=pq</var> and φ=(<var>p</var>-1)(<var>q</var>-1).<br/>\n",
    "Find an integer <var>e</var>, 1&lt;<var>e</var>&lt;φ, such that gcd(<var>e</var>,φ)=1.</br></p>\n",
    "<p>A message in this system is a number in the interval [0,<var>n</var>-1].<br/>\n",
    "A text to be encrypted is then somehow converted to messages (numbers in the interval [0,<var>n</var>-1]).<br/>\n",
    "To encrypt the text,  for each message, <var>m</var>, <var>c</var>=<var>m</var><sup><var>e</var></sup> mod <var>n</var> is calculated.</p>\n",
    "<p>To decrypt the text, the following procedure is needed: calculate <var>d</var> such that <var>ed</var>=1 mod φ, then for each encrypted message, <var>c</var>, calculate <var>m=c<sup>d</sup></var> mod <var>n</var>.</p>\n",
    "<p>There exist values of <var>e</var> and <var>m</var>  such that <var>m<sup>e</sup></var> mod <var>n=m</var>.<br/>We call messages <var>m</var> for which <var>m<sup>e</sup></var> mod <var>n=m</var> unconcealed messages.</p>\n",
    "<p>An issue when choosing <var>e</var> is that there should not be too many unconcealed messages.  <br/>For instance, let <var>p</var>=19 and <var>q</var>=37.<br/>\n",
    "Then <var>n</var>=19*37=703 and φ=18*36=648.<br/>\n",
    "If we choose <var>e</var>=181, then, although gcd(181,648)=1 it turns out that all possible messages<br/><var>m</var> (0≤<var>m</var>≤<var>n</var>-1) are unconcealed when calculating <var>m<sup>e</sup></var> mod <var>n</var>.<br/>\n",
    "For any valid choice of <var>e</var> there exist some unconcealed messages.<br/>\n",
    "It's important that the number of unconcealed messages is at a minimum.</p>\n",
    "<p>Choose <var>p</var>=1009 and <var>q</var>=3643.<br/>\n",
    "Find the sum of all values of <var>e</var>, 1&lt;<var>e</var>&lt;φ(1009,3643) and gcd(<var>e</var>,φ)=1, so that the number of unconcealed messages for this value of <var>e</var> is at a minimum.</p>\n",
    "</div>"
   ]
  },
  {
   "cell_type": "code",
   "execution_count": null,
   "metadata": {},
   "outputs": [],
   "source": []
  },
  {
   "cell_type": "markdown",
   "metadata": {},
   "source": [
    "### 183. Maximum product of parts\n",
    "#### ([Back to Top](#Table-of-Contents)) ([Webpage](https://projecteuler.net/problem=183))<div class=\"problem_content\" role=\"problem\">\n",
    "<p>Let N be a positive integer and let N be split into <var>k</var> equal parts, <var>r</var> = N/<var>k</var>, so that N = <var>r</var> + <var>r</var> + ... + <var>r</var>.<br>\n",
    "Let P be the product of these parts, P = <var>r</var> × <var>r</var> × ... × <var>r</var> = <var>r</var><sup><var>k</var></sup>.</br></p>\n",
    "<p>For example, if 11 is split into five equal parts, 11 = 2.2 + 2.2 + 2.2 + 2.2 + 2.2, then P = 2.2<sup>5</sup> = 51.53632.</p>\n",
    "<p>Let M(N) = P<sub>max</sub> for a given value of N.</p>\n",
    "<p>It turns out that the maximum for N = 11 is found by splitting eleven into four equal parts which leads to P<sub>max</sub> = (11/4)<sup>4</sup>; that is, M(11) = 14641/256 = 57.19140625, which is a terminating decimal.</p>\n",
    "<p>However, for N = 8 the maximum is achieved by splitting it into three equal parts, so M(8) = 512/27, which is a non-terminating decimal.</p>\n",
    "<p>Let D(N) = N if M(N) is a non-terminating decimal and D(N) = -N if M(N) is a terminating decimal.</p>\n",
    "<p>For example, ΣD(N) for 5 ≤ N ≤ 100 is 2438.</p>\n",
    "<p>Find ΣD(N) for 5 ≤ N ≤ 10000.</p>\n",
    "</div>"
   ]
  },
  {
   "cell_type": "code",
   "execution_count": null,
   "metadata": {},
   "outputs": [],
   "source": []
  },
  {
   "cell_type": "markdown",
   "metadata": {},
   "source": [
    "### 184. Triangles containing the origin\n",
    "#### ([Back to Top](#Table-of-Contents)) ([Webpage](https://projecteuler.net/problem=184))<div class=\"problem_content\" role=\"problem\">\n",
    "<p>Consider the set <var>I<sub>r</sub></var> of points (<var>x</var>,<var>y</var>) with integer co-ordinates in the interior of the circle with radius <var>r</var>, centered at the origin, i.e. <var>x</var><sup>2</sup> + <var>y</var><sup>2</sup> &lt; <var>r</var><sup>2</sup>.</p>\n",
    "<p>For a radius of 2, <var>I</var><sub>2</sub> contains the nine points (0,0), (1,0), (1,1), (0,1), (-1,1), (-1,0), (-1,-1), (0,-1) and (1,-1). There are eight triangles having all three vertices in <var>I</var><sub>2</sub> which contain the origin in the interior. Two of them are shown below, the others are obtained from these by rotation.</p>\n",
    "<p style=\"text-align:center;\"><img alt=\"\" class=\"dark_img\" src=\"project/images/p184.gif\"/></p>\n",
    "<p>For a radius of 3, there are 360 triangles containing the origin in the interior and having all vertices in <var>I</var><sub>3</sub> and for <var>I</var><sub>5</sub> the number is 10600.</p>\n",
    "<p>How many triangles are there containing the origin in the interior and having all three vertices in <var>I</var><sub>105</sub>?</p>\n",
    "</div>"
   ]
  },
  {
   "cell_type": "code",
   "execution_count": null,
   "metadata": {},
   "outputs": [],
   "source": []
  },
  {
   "cell_type": "markdown",
   "metadata": {},
   "source": [
    "### 185. Number Mind\n",
    "#### ([Back to Top](#Table-of-Contents)) ([Webpage](https://projecteuler.net/problem=185))<div class=\"problem_content\" role=\"problem\">\n",
    "<p>The game Number Mind is a variant of the well known game Master Mind.</p>\n",
    "<p>Instead of coloured pegs, you have to guess a secret sequence of digits. After each guess you're only told in how many places you've guessed the correct digit. So, if the sequence was 1234 and you guessed 2036, you'd be told that you have one correct digit; however, you would NOT be told that you also have another digit in the wrong place.</p>\n",
    "<p>For instance, given the following guesses for a 5-digit secret sequence,</p>\n",
    "<p style=\"margin-left:50px;\">90342 ;2 correct<br>\n",
    "70794 ;0 correct<br/>\n",
    "39458 ;2 correct<br/>\n",
    "34109 ;1 correct<br/>\n",
    "51545 ;2 correct<br/>\n",
    "12531 ;1 correct</br></p>\n",
    "<p>The correct sequence 39542 is unique.</p>\n",
    "<p>Based on the following guesses,</p>\n",
    "<p style=\"margin-left:50px;\">5616185650518293 ;2 correct<br/>\n",
    "3847439647293047 ;1 correct<br/>\n",
    "5855462940810587 ;3 correct<br/>\n",
    "9742855507068353 ;3 correct<br/>\n",
    "4296849643607543 ;3 correct<br/>\n",
    "3174248439465858 ;1 correct<br/>\n",
    "4513559094146117 ;2 correct<br/>\n",
    "7890971548908067 ;3 correct<br/>\n",
    "8157356344118483 ;1 correct<br/>\n",
    "2615250744386899 ;2 correct<br/>\n",
    "8690095851526254 ;3 correct<br/>\n",
    "6375711915077050 ;1 correct<br/>\n",
    "6913859173121360 ;1 correct<br/>\n",
    "6442889055042768 ;2 correct<br/>\n",
    "2321386104303845 ;0 correct<br/>\n",
    "2326509471271448 ;2 correct<br/>\n",
    "5251583379644322 ;2 correct<br/>\n",
    "1748270476758276 ;3 correct<br/>\n",
    "4895722652190306 ;1 correct<br/>\n",
    "3041631117224635 ;3 correct<br/>\n",
    "1841236454324589 ;3 correct<br/>\n",
    "2659862637316867 ;2 correct</p>\n",
    "<p>Find the unique 16-digit secret sequence.</p>\n",
    "</div>"
   ]
  },
  {
   "cell_type": "code",
   "execution_count": null,
   "metadata": {},
   "outputs": [],
   "source": []
  },
  {
   "cell_type": "markdown",
   "metadata": {},
   "source": [
    "### 186. Connectedness of a network\n",
    "#### ([Back to Top](#Table-of-Contents)) ([Webpage](https://projecteuler.net/problem=186))<div class=\"problem_content\" role=\"problem\">\n",
    "<p>Here are the records from a busy telephone system with one million users:</p>\n",
    "<div style=\"text-align:center;\">\n",
    "<table class=\"grid\" style=\"margin:0 auto;\"><tr><th>RecNr</th><th align=\"center\" width=\"60\">Caller</th><th align=\"center\" width=\"60\">Called</th></tr><tr><td align=\"center\">1</td><td align=\"center\">200007</td><td align=\"center\">100053</td></tr><tr><td align=\"center\">2</td><td align=\"center\">600183</td><td align=\"center\">500439</td></tr><tr><td align=\"center\">3</td><td align=\"center\">600863</td><td align=\"center\">701497</td></tr><tr><td align=\"center\">...</td><td align=\"center\">...</td><td align=\"center\">...</td></tr></table></div>\n",
    "<p>The telephone number of the caller and the called number in record n are Caller(n) = S<sub>2n-1</sub> and Called(n) = S<sub>2n</sub> where S<sub>1,2,3,...</sub> come from the \"Lagged Fibonacci Generator\":</p>\n",
    "<p>For 1 ≤ k ≤ 55, S<sub>k</sub> = [100003 - 200003k + 300007k<sup>3</sup>] (modulo 1000000)<br>\n",
    "For 56 ≤ k, S<sub>k</sub> = [S<sub>k-24</sub> + S<sub>k-55</sub>] (modulo 1000000)</br></p>\n",
    "<p>If Caller(n) = Called(n) then the user is assumed to have misdialled and the call fails; otherwise the call is successful.</p>\n",
    "<p>From the start of the records, we say that any pair of users X and Y are friends if X calls Y or vice-versa. Similarly, X is a friend of a friend of Z if X is a friend of Y and Y is a friend of Z; and so on for longer chains.</p>\n",
    "<p>The Prime Minister's phone number is 524287. After how many successful calls, not counting misdials, will 99% of the users (including the PM) be a friend, or a friend of a friend etc., of the Prime Minister?</p>\n",
    "</div>"
   ]
  },
  {
   "cell_type": "code",
   "execution_count": null,
   "metadata": {},
   "outputs": [],
   "source": []
  },
  {
   "cell_type": "markdown",
   "metadata": {},
   "source": [
    "### 187. Semiprimes\n",
    "#### ([Back to Top](#Table-of-Contents)) ([Webpage](https://projecteuler.net/problem=187))<div class=\"problem_content\" role=\"problem\">\n",
    "<p>A composite is a number containing at least two prime factors. For example, 15 = 3 × 5; 9 = 3 × 3; 12 = 2 × 2 × 3.</p>\n",
    "<p>There are ten composites below thirty containing precisely two, not necessarily distinct, prime factors:\n",
    "4, 6, 9, 10, 14, 15, 21, 22, 25, 26.</p>\n",
    "<p>How many composite integers, <var>n</var> &lt; 10<sup>8</sup>, have precisely two, not necessarily distinct, prime factors?</p>\n",
    "</div>"
   ]
  },
  {
   "cell_type": "code",
   "execution_count": null,
   "metadata": {},
   "outputs": [],
   "source": []
  },
  {
   "cell_type": "markdown",
   "metadata": {},
   "source": [
    "### 188. The hyperexponentiation of a number\n",
    "#### ([Back to Top](#Table-of-Contents)) ([Webpage](https://projecteuler.net/problem=188))<div class=\"problem_content\" role=\"problem\">\n",
    "<p>The <span style=\"font-style:italic;\">hyperexponentiation</span> or <span style=\"font-style:italic;\">tetration</span> of a number a by a positive integer b, denoted by a↑↑b or <sup>b</sup>a, is recursively defined by:<br><br/>\n",
    "a↑↑1 = a,<br/>\n",
    "a↑↑(k+1) = a<sup>(a↑↑k)</sup>.</br></p>\n",
    "<p>\n",
    "Thus we have e.g. 3↑↑2 = 3<sup>3</sup> = 27, hence 3↑↑3 = 3<sup>27</sup> = 7625597484987 and 3↑↑4 is roughly 10<sup>3.6383346400240996*10^12</sup>.</p>\n",
    "<p>Find the last 8 digits of 1777↑↑1855.</p>\n",
    "</div>"
   ]
  },
  {
   "cell_type": "code",
   "execution_count": null,
   "metadata": {},
   "outputs": [],
   "source": []
  },
  {
   "cell_type": "markdown",
   "metadata": {},
   "source": [
    "### 189. Tri-colouring a triangular grid\n",
    "#### ([Back to Top](#Table-of-Contents)) ([Webpage](https://projecteuler.net/problem=189))<div class=\"problem_content\" role=\"problem\">\n",
    "<p>Consider the following configuration of 64 triangles:</p>\n",
    "<div style=\"text-align:center;\"><img alt=\"\" class=\"dark_img\" src=\"project/images/p189_grid.gif\"/></div>\n",
    "<p>We wish to colour the interior of each triangle with one of three colours: red, green or blue, so that no two neighbouring triangles have the same colour. Such a colouring shall be called valid. Here, two triangles are said to be neighbouring if they share an edge.<br>\n",
    "Note: if they only share a vertex, then they are not neighbours.</br></p>\n",
    "<p>For example, here is a valid colouring of the above grid:</p>\n",
    "<div style=\"text-align:center;\"><img alt=\"\" class=\"dark_img\" src=\"project/images/p189_colours.gif\"/></div>\n",
    "<p>A colouring C' which is obtained from a colouring C by rotation or reflection is considered <i>distinct</i> from C unless the two are identical.</p>\n",
    "<p>How many distinct valid colourings are there for the above configuration?</p>\n",
    "</div>"
   ]
  },
  {
   "cell_type": "code",
   "execution_count": null,
   "metadata": {},
   "outputs": [],
   "source": []
  },
  {
   "cell_type": "markdown",
   "metadata": {},
   "source": [
    "### 190. Maximising a weighted product\n",
    "#### ([Back to Top](#Table-of-Contents)) ([Webpage](https://projecteuler.net/problem=190))<div class=\"problem_content\" role=\"problem\">\n",
    "<p>Let S<sub>m</sub> = (x<sub>1</sub>, x<sub>2</sub>, ... , x<sub>m</sub>) be the m-tuple of positive real numbers with x<sub>1</sub> + x<sub>2</sub> + ... + x<sub>m</sub> = m for which P<sub>m</sub> = x<sub>1</sub> * x<sub>2</sub><sup>2</sup> * ... * x<sub>m</sub><sup>m</sup> is maximised.</p>\n",
    "<p>For example, it can be verified that [P<sub>10</sub>] = 4112 ([ ] is the integer part function).</p>\n",
    "<p>Find Σ[P<sub>m</sub>] for 2 ≤ m ≤ 15.</p>\n",
    "</div>"
   ]
  },
  {
   "cell_type": "code",
   "execution_count": null,
   "metadata": {},
   "outputs": [],
   "source": []
  },
  {
   "cell_type": "markdown",
   "metadata": {},
   "source": [
    "### 191. Prize Strings\n",
    "#### ([Back to Top](#Table-of-Contents)) ([Webpage](https://projecteuler.net/problem=191))<div class=\"problem_content\" role=\"problem\">\n",
    "<p>A particular school offers cash rewards to children with good attendance and punctuality. If they are absent for three consecutive days or late on more than one occasion then they forfeit their prize.</p>\n",
    "<p>During an n-day period a trinary string is formed for each child consisting of L's (late), O's (on time), and A's (absent).</p>\n",
    "<p>Although there are eighty-one trinary strings for a 4-day period that can be formed, exactly forty-three strings would lead to a prize:</p>\n",
    "<p style=\"margin-left:50px;font-family:'Courier New', monospace;\">OOOO OOOA OOOL OOAO OOAA OOAL OOLO OOLA OAOO OAOA<br>\n",
    "OAOL OAAO OAAL OALO OALA OLOO OLOA OLAO OLAA AOOO<br/>\n",
    "AOOA AOOL AOAO AOAA AOAL AOLO AOLA AAOO AAOA AAOL<br/>\n",
    "AALO AALA ALOO ALOA ALAO ALAA LOOO LOOA LOAO LOAA<br/>\n",
    "LAOO LAOA LAAO</br></p>\n",
    "<p>How many \"prize\" strings exist over a 30-day period?</p>\n",
    "</div>"
   ]
  },
  {
   "cell_type": "code",
   "execution_count": null,
   "metadata": {},
   "outputs": [],
   "source": []
  },
  {
   "cell_type": "markdown",
   "metadata": {},
   "source": [
    "### 192. Best Approximations\n",
    "#### ([Back to Top](#Table-of-Contents)) ([Webpage](https://projecteuler.net/problem=192))<div class=\"problem_content\" role=\"problem\">\n",
    "<p>Let <var>x</var> be a real number.<br>\n",
    "A <i>best approximation</i> to <var>x</var> for the <i>denominator bound</i> <var>d</var> is a rational number <var>r</var>/<var>s</var> <i>in reduced form</i>, with <var>s</var> ≤ <var>d</var>, such that any rational number which is closer to <var>x</var> than <var>r</var>/<var>s</var> has a denominator larger than <var>d</var>:</br></p>\n",
    "<div style=\"text-align:center;\">|<var>p</var>/<var>q</var>-<var>x</var>| &lt; |<var>r</var>/<var>s</var>-<var>x</var>| ⇒ <var>q</var> &gt; <var>d</var></div>\n",
    "<p>For example, the best approximation to √13 for the denominator bound 20 is 18/5 and the best approximation to √13 for the denominator bound 30 is 101/28.</p>\n",
    "<p>Find the sum of all denominators of the best approximations to √<var>n</var> for the denominator bound 10<sup>12</sup>, where <var>n</var> is not a perfect square and 1 &lt; <var>n</var> ≤ 100000.</p>\n",
    "</div>"
   ]
  },
  {
   "cell_type": "code",
   "execution_count": null,
   "metadata": {},
   "outputs": [],
   "source": []
  },
  {
   "cell_type": "markdown",
   "metadata": {},
   "source": [
    "### 193. Squarefree Numbers\n",
    "#### ([Back to Top](#Table-of-Contents)) ([Webpage](https://projecteuler.net/problem=193))<div class=\"problem_content\" role=\"problem\">\n",
    "<p>A positive integer <var>n</var> is called squarefree, if no square of a prime divides <var>n</var>, thus 1, 2, 3, 5, 6, 7, 10, 11 are squarefree, but not 4, 8, 9, 12.</p>\n",
    "<p>How many squarefree numbers are there below 2<sup>50</sup>?</p>\n",
    "</div>"
   ]
  },
  {
   "cell_type": "code",
   "execution_count": null,
   "metadata": {},
   "outputs": [],
   "source": []
  },
  {
   "cell_type": "markdown",
   "metadata": {},
   "source": [
    "### 194. Coloured Configurations\n",
    "#### ([Back to Top](#Table-of-Contents)) ([Webpage](https://projecteuler.net/problem=194))<div class=\"problem_content\" role=\"problem\">\n",
    "<p>Consider graphs built with the units A: <img alt=\"\" class=\"dark_img\" src=\"project/images/p194_GraphA.png\" style=\"vertical-align:middle;\"/>\n",
    "and B: <img alt=\"\" class=\"dark_img\" src=\"project/images/p194_GraphB.png\" style=\"vertical-align:middle;\"/>, where the units are glued along\n",
    "the vertical edges as in the graph <img alt=\"\" class=\"dark_img\" src=\"project/images/p194_Fig.png\" style=\"vertical-align:middle;\"/>.</p>\n",
    "<p>A configuration of type (<var>a</var>,<var>b</var>,<var>c</var>) is a graph thus built of <var>a</var> units A and <var>b</var> units B, where the graph's vertices are coloured using up to <var>c</var> colours, so that no two adjacent vertices have the same colour.<br>\n",
    "The compound graph above is an example of a configuration of type (2,2,6), in fact of type (2,2,<var>c</var>) for all <var>c</var> ≥ 4.</br></p>\n",
    "<p>Let N(<var>a</var>,<var>b</var>,<var>c</var>) be the number of configurations of type (<var>a</var>,<var>b</var>,<var>c</var>).<br/>\n",
    "For example, N(1,0,3) = 24, N(0,2,4) = 92928 and N(2,2,3) = 20736.</p>\n",
    "<p>Find the last 8 digits of N(25,75,1984).</p>\n",
    "</div>"
   ]
  },
  {
   "cell_type": "code",
   "execution_count": null,
   "metadata": {},
   "outputs": [],
   "source": []
  },
  {
   "cell_type": "markdown",
   "metadata": {},
   "source": [
    "### 195. Inscribed circles of triangles with one angle of 60 degrees\n",
    "#### ([Back to Top](#Table-of-Contents)) ([Webpage](https://projecteuler.net/problem=195))<div class=\"problem_content\" role=\"problem\">\n",
    "<p>Let's call an integer sided triangle with exactly one angle of 60 degrees a 60-degree triangle.<br>\n",
    "Let <var>r</var> be the radius of the inscribed circle of such a 60-degree triangle.</br></p>\n",
    "<p>There are 1234 60-degree triangles for which <var>r</var> ≤ 100.\n",
    "<br/>Let T(<var>n</var>) be the number of 60-degree triangles for which <var>r</var> ≤ <var>n</var>, so<br/>\n",
    " T(100) = 1234,  T(1000) = 22767, and  T(10000) = 359912.</p>\n",
    "<p>Find T(1053779).</p>\n",
    "</div>"
   ]
  },
  {
   "cell_type": "code",
   "execution_count": null,
   "metadata": {},
   "outputs": [],
   "source": []
  },
  {
   "cell_type": "markdown",
   "metadata": {},
   "source": [
    "### 196. Prime triplets\n",
    "#### ([Back to Top](#Table-of-Contents)) ([Webpage](https://projecteuler.net/problem=196))<div class=\"problem_content\" role=\"problem\">\n",
    "<p>Build a triangle from all positive integers in the following way:</p>\n",
    "<p style=\"font-family:'courier new', monospace;font-weight:bold;margin-left:50px;\"> 1<br>\n",
    " <span style=\"color:#FF0000;\">2</span>  <span style=\"color:#FF0000;\">3</span><br/>\n",
    " 4  <span style=\"color:#FF0000;\">5</span>  6<br/>\n",
    " <span style=\"color:#FF0000;\">7</span>  8  9 10<br/><span style=\"color:#FF0000;\">11</span> 12 <span style=\"color:#FF0000;\">13</span> 14 15<br/>\n",
    "16 <span style=\"color:#FF0000;\">17</span> 18 <span style=\"color:#FF0000;\">19</span> 20 21<br/>\n",
    "22 <span style=\"color:#FF0000;\">23</span> 24 25 26 27 28<br/><span style=\"color:#FF0000;\">29</span> 30 <span style=\"color:#FF0000;\">31</span> 32 33 34 35 36<br/><span style=\"color:#FF0000;\">37</span> 38 39 40 <span style=\"color:#FF0000;\">41</span> 42 <span style=\"color:#FF0000;\">43</span> 44 45<br/>\n",
    "46 <span style=\"color:#FF0000;\">47</span> 48 49 50 51 52 <span style=\"color:#FF0000;\">53</span> 54 55<br/>\n",
    "56 57 58 <span style=\"color:#FF0000;\">59</span> 60 <span style=\"color:#FF0000;\">61</span> 62 63 64 65 66<br/>\n",
    ". . .</br></p>\n",
    "<p>Each positive integer has up to eight neighbours in the triangle.</p>\n",
    "<p>A set of three primes is called a <i>prime triplet</i> if one of the three primes has the other two as neighbours in the triangle.</p>\n",
    "<p>For example, in the second row, the prime numbers 2 and 3 are elements of some prime triplet.</p>\n",
    "<p>If row 8 is considered, it contains two primes which are elements of some prime triplet, i.e. 29 and 31.<br/>\n",
    "If row 9 is considered, it contains only one prime which is an element of some prime triplet: 37.</p>\n",
    "<p>Define S(<var>n</var>) as the sum of the primes in row <var>n</var> which are elements of any prime triplet.<br/>\n",
    "Then S(8)=60 and S(9)=37.</p>\n",
    "<p>You are given that S(10000)=950007619.</p>\n",
    "<p>Find  S(5678027) + S(7208785).</p>\n",
    "</div>"
   ]
  },
  {
   "cell_type": "code",
   "execution_count": null,
   "metadata": {},
   "outputs": [],
   "source": []
  },
  {
   "cell_type": "markdown",
   "metadata": {},
   "source": [
    "### 197. Investigating the behaviour of a recursively defined sequence\n",
    "#### ([Back to Top](#Table-of-Contents)) ([Webpage](https://projecteuler.net/problem=197))<div class=\"problem_content\" role=\"problem\">\n",
    "<p>Given is the function <var>f</var>(<var>x</var>) = ⌊2<sup>30.403243784-<var>x</var><sup>2</sup></sup>⌋ × 10<sup>-9</sup> ( ⌊ ⌋ is the floor-function),<br>\n",
    "the sequence <var>u<sub>n</sub></var> is defined by <var>u</var><sub>0</sub> = -1 and <var>u</var><sub><var>n</var>+1</sub> = <var>f</var>(<var>u<sub>n</sub></var>).</br></p>\n",
    "<p>Find <var>u<sub>n</sub></var> + <var>u</var><sub><var>n</var>+1</sub> for <var>n</var> = 10<sup>12</sup>.<br/>\n",
    "Give your answer with 9 digits after the decimal point.</p>\n",
    "</div>"
   ]
  },
  {
   "cell_type": "code",
   "execution_count": null,
   "metadata": {},
   "outputs": [],
   "source": []
  },
  {
   "cell_type": "markdown",
   "metadata": {},
   "source": [
    "### 198. Ambiguous Numbers\n",
    "#### ([Back to Top](#Table-of-Contents)) ([Webpage](https://projecteuler.net/problem=198))<div class=\"problem_content\" role=\"problem\">\n",
    "<p>A best approximation to a real number <var>x</var> for the denominator bound <var>d</var> is a rational number <var>r</var>/<var>s</var> (in reduced form) with <var>s</var> ≤ <var>d</var>, so that any rational number <var>p</var>/<var>q</var> which is closer to <var>x</var> than <var>r</var>/<var>s</var> has <var>q</var> &gt; <var>d</var>.</p>\n",
    "<p>Usually the best approximation to a real number is uniquely determined for all denominator bounds. However, there are some exceptions, e.g. 9/40 has the two best approximations 1/4 and 1/5 for the denominator bound 6.\n",
    "We shall call a real number <var>x</var> <i>ambiguous</i>, if there is at least one denominator bound for which <var>x</var> possesses two best approximations. Clearly, an ambiguous number is necessarily rational.</p>\n",
    "<p>How many ambiguous numbers <var>x</var> = <var>p</var>/<var>q</var>,\n",
    "0 &lt; <var>x</var> &lt; 1/100, are there whose denominator <var>q</var> does not exceed 10<sup>8</sup>?</p>\n",
    "</div>"
   ]
  },
  {
   "cell_type": "code",
   "execution_count": null,
   "metadata": {},
   "outputs": [],
   "source": []
  },
  {
   "cell_type": "markdown",
   "metadata": {},
   "source": [
    "### 199. Iterative Circle Packing\n",
    "#### ([Back to Top](#Table-of-Contents)) ([Webpage](https://projecteuler.net/problem=199))<div class=\"problem_content\" role=\"problem\">\n",
    "<p>Three circles of equal radius are placed inside a larger circle such that each pair of circles is tangent to one another and the inner circles do not overlap. There are four uncovered \"gaps\" which are to be filled iteratively with more tangent circles.</p>\n",
    "<div style=\"text-align:center;\">\n",
    "<img alt=\"\" class=\"dark_img\" src=\"project/images/p199_circles_in_circles.gif\"/></div>\n",
    "<p>\n",
    "At each iteration, a maximally sized circle is placed in each gap, which creates more gaps for the next iteration. After 3 iterations (pictured), there are 108 gaps and the fraction of the area which is not covered by circles is 0.06790342, rounded to eight decimal places.\n",
    "</p>\n",
    "<p>\n",
    "What fraction of the area is not covered by circles after 10 iterations?<br>\n",
    "Give your answer rounded to eight decimal places using the format x.xxxxxxxx .\n",
    "</br></p>\n",
    "</div>"
   ]
  },
  {
   "cell_type": "code",
   "execution_count": null,
   "metadata": {},
   "outputs": [],
   "source": []
  },
  {
   "cell_type": "markdown",
   "metadata": {},
   "source": [
    "### 200. Find the 200th prime-proof sqube containing the contiguous sub-string \"200\"\n",
    "#### ([Back to Top](#Table-of-Contents)) ([Webpage](https://projecteuler.net/problem=200))<div class=\"problem_content\" role=\"problem\">\n",
    "<p>We shall define a sqube to be a number of the form, <var>p</var><sup>2</sup><var>q</var><sup>3</sup>, where <var>p</var> and <var>q</var> are distinct primes.<br>\n",
    "For example, 200 = 5<sup>2</sup>2<sup>3</sup> or 120072949 = 23<sup>2</sup>61<sup>3</sup>.</br></p>\n",
    "<p>The first five squbes are 72, 108, 200, 392, and 500.</p>\n",
    "<p>Interestingly, 200 is also the first number for which you cannot change any single digit to make a prime; we shall call such numbers, prime-proof. The next prime-proof sqube which contains the contiguous sub-string \"200\" is 1992008.</p>\n",
    "<p>Find the 200th prime-proof sqube containing the contiguous sub-string \"200\".</p>\n",
    "</div>"
   ]
  },
  {
   "cell_type": "code",
   "execution_count": null,
   "metadata": {},
   "outputs": [],
   "source": []
  }
 ],
 "metadata": {
  "kernelspec": {
   "display_name": "Python 3",
   "language": "python",
   "name": "python3"
  },
  "language_info": {
   "codemirror_mode": {
    "name": "ipython",
    "version": 3
   },
   "file_extension": ".py",
   "mimetype": "text/x-python",
   "name": "python",
   "nbconvert_exporter": "python",
   "pygments_lexer": "ipython3",
   "version": "3.6.8"
  }
 },
 "nbformat": 4,
 "nbformat_minor": 2
}
