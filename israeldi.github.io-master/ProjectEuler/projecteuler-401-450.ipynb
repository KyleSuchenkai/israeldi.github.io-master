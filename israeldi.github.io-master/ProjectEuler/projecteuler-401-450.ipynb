{
 "cells": [
  {
   "cell_type": "markdown",
   "metadata": {},
   "source": [
    "# Project Euler: 401-450\n",
    "### Israel Diego [(Go to Home Page)](https://israeldi.github.io/project-euler/)\n",
    " What follows are Python-based solutions to <a href=\"https://projecteuler.net\">Project Euler</a> problems. In writing the code, I have aimed for a balance between readability and being concise, for which Python is well-suited. Efficiency is only considered if necessary to get reasonable runtime. To check your answers, create an account on Project Euler, where you can submit answers for validation and track your progress.\n",
    " ## Table of Contents\n",
    " 1. [401. Sum of squares of divisors](#401.-Sum-of-squares-of-divisors)\n",
    " 2. [402. Integer-valued polynomials](#402.-Integer-valued-polynomials)\n",
    " 3. [403. Lattice points enclosed by parabola and line](#403.-Lattice-points-enclosed-by-parabola-and-line)\n",
    " 4. [404. Crisscross Ellipses](#404.-Crisscross-Ellipses)\n",
    " 5. [405. A rectangular tiling](#405.-A-rectangular-tiling)\n",
    " 6. [406. Guessing Game](#406.-Guessing-Game)\n",
    " 7. [407. Idempotents](#407.-Idempotents)\n",
    " 8. [408. Admissible paths through a grid](#408.-Admissible-paths-through-a-grid)\n",
    " 9. [409. Nim Extreme](#409.-Nim-Extreme)\n",
    " 10. [410. Circle and tangent line](#410.-Circle-and-tangent-line)\n",
    " 11. [411. Uphill paths](#411.-Uphill-paths)\n",
    " 12. [412. Gnomon numbering](#412.-Gnomon-numbering)\n",
    " 13. [413. One-child Numbers](#413.-One-child-Numbers)\n",
    " 14. [414. Kaprekar constant](#414.-Kaprekar-constant)\n",
    " 15. [415. Titanic sets](#415.-Titanic-sets)\n",
    " 16. [416. A frog's trip](#416.-A-frog's-trip)\n",
    " 17. [417. Reciprocal cycles II](#417.-Reciprocal-cycles-II)\n",
    " 18. [418. Factorisation triples](#418.-Factorisation-triples)\n",
    " 19. [419. Look and say sequence](#419.-Look-and-say-sequence)\n",
    " 20. [420. 2x2 positive integer matrix](#420.-2x2-positive-integer-matrix)\n",
    " 21. [421.](#421.)\n",
    " 22. [422. Sequence of points on a hyperbola](#422.-Sequence-of-points-on-a-hyperbola)\n",
    " 23. [423. Consecutive die throws](#423.-Consecutive-die-throws)\n",
    " 24. [424. Kakuro](#424.-Kakuro)\n",
    " 25. [425. Prime connection](#425.-Prime-connection)\n",
    " 26. [426. Box-ball system](#426.-Box-ball-system)\n",
    " 27. [427. n-sequences](#427.-n-sequences)\n",
    " 28. [428. Necklace of circles](#428.-Necklace-of-circles)\n",
    " 29. [429. Sum of squares of unitary divisors](#429.-Sum-of-squares-of-unitary-divisors)\n",
    " 30. [430. Range flips](#430.-Range-flips)\n",
    " 31. [431. Square Space Silo](#431.-Square-Space-Silo)\n",
    " 32. [432. Totient sum](#432.-Totient-sum)\n",
    " 33. [433. Steps in Euclid's algorithm](#433.-Steps-in-Euclid's-algorithm)\n",
    " 34. [434. Rigid graphs](#434.-Rigid-graphs)\n",
    " 35. [435. Polynomials of Fibonacci numbers](#435.-Polynomials-of-Fibonacci-numbers)\n",
    " 36. [436. Unfair wager](#436.-Unfair-wager)\n",
    " 37. [437. Fibonacci primitive roots](#437.-Fibonacci-primitive-roots)\n",
    " 38. [438. Integer part of polynomial equation's solutions](#438.-Integer-part-of-polynomial-equation's-solutions)\n",
    " 39. [439. Sum of sum of divisors](#439.-Sum-of-sum-of-divisors)\n",
    " 40. [440. GCD and Tiling](#440.-GCD-and-Tiling)\n",
    " 41. [441. The inverse summation of coprime couples](#441.-The-inverse-summation-of-coprime-couples)\n",
    " 42. [442. Eleven-free integers](#442.-Eleven-free-integers)\n",
    " 43. [443. GCD sequence](#443.-GCD-sequence)\n",
    " 44. [444. The Roundtable Lottery](#444.-The-Roundtable-Lottery)\n",
    " 45. [445. Retractions A](#445.-Retractions-A)\n",
    " 46. [446. Retractions B](#446.-Retractions-B)\n",
    " 47. [447. Retractions C](#447.-Retractions-C)\n",
    " 48. [448. Average least common multiple](#448.-Average-least-common-multiple)\n",
    " 49. [449. Chocolate covered candy](#449.-Chocolate-covered-candy)\n",
    " 0. [450. Hypocycloid and Lattice points](#450.-Hypocycloid-and-Lattice-points)"
   ]
  },
  {
   "cell_type": "markdown",
   "metadata": {},
   "source": [
    "### 401. Sum of squares of divisors\n",
    "#### ([Back to Top](#Table-of-Contents)) ([Webpage](https://projecteuler.net/problem=401))<div class=\"problem_content\" role=\"problem\">\n",
    "<p>\n",
    "The divisors of 6 are 1,2,3 and 6.<br>\n",
    "The sum of the squares of these numbers is 1+4+9+36=50.\n",
    "</br></p>\n",
    "<p>\n",
    "Let sigma2(n) represent the sum of the squares of the divisors of n.\n",
    "Thus sigma2(6)=50.\n",
    "</p>\n",
    "Let SIGMA2 represent the summatory function of sigma2, that is SIGMA2(n)=∑sigma2(i) for i=1 to n.<br/>\n",
    "The first 6 values of SIGMA2 are: 1,6,16,37,63 and 113.\n",
    "\n",
    "<p>\n",
    "Find SIGMA2(10<sup>15</sup>) modulo 10<sup>9</sup>. \n",
    "</p>\n",
    "</div>"
   ]
  },
  {
   "cell_type": "code",
   "execution_count": null,
   "metadata": {},
   "outputs": [],
   "source": []
  },
  {
   "cell_type": "markdown",
   "metadata": {},
   "source": [
    "### 402. Integer-valued polynomials\n",
    "#### ([Back to Top](#Table-of-Contents)) ([Webpage](https://projecteuler.net/problem=402))<div class=\"problem_content\" role=\"problem\">\n",
    "<p>\n",
    "It can be shown that the polynomial <var>n</var><sup>4</sup> + 4<var>n</var><sup>3</sup> + 2<var>n</var><sup>2</sup> + 5<var>n</var> is a multiple of 6 for every integer <var>n</var>. It can also be shown that 6 is the largest integer satisfying this property.\n",
    "</p>\n",
    "<p>\n",
    "Define M(<var>a</var>, <var>b</var>, <var>c</var>) as the maximum <var>m</var> such that <var>n</var><sup>4</sup> + <var>a</var><var>n</var><sup>3</sup> + <var>b</var><var>n</var><sup>2</sup> + <var>c</var><var>n</var> is a multiple of <var>m</var> for all integers <var>n</var>. For example, M(4, 2, 5) = 6.\n",
    "</p>\n",
    "<p>\n",
    "Also, define S(<var>N</var>) as the sum of M(<var>a</var>, <var>b</var>, <var>c</var>) for all 0 &lt; <var>a</var>, <var>b</var>, <var>c</var> ≤ <var>N</var>.\n",
    "</p>\n",
    "<p>\n",
    "We can verify that S(10) = 1972 and S(10000) = 2024258331114.\n",
    "</p>\n",
    "<p>\n",
    "Let F<sub><var>k</var></sub> be the Fibonacci sequence:<br>\n",
    "F<sub>0</sub> = 0, F<sub>1</sub> = 1 and<br/>\n",
    "F<sub><var>k</var></sub> = F<sub><var>k</var>-1</sub> + F<sub><var>k</var>-2</sub> for <var>k</var> ≥ 2.\n",
    "</br></p>\n",
    "<p>\n",
    "Find the last 9 digits of Σ S(F<sub><var>k</var></sub>) for 2 ≤ <var>k</var> ≤ 1234567890123.\n",
    "</p>\n",
    "</div>"
   ]
  },
  {
   "cell_type": "code",
   "execution_count": null,
   "metadata": {},
   "outputs": [],
   "source": []
  },
  {
   "cell_type": "markdown",
   "metadata": {},
   "source": [
    "### 403. Lattice points enclosed by parabola and line\n",
    "#### ([Back to Top](#Table-of-Contents)) ([Webpage](https://projecteuler.net/problem=403))<div class=\"problem_content\" role=\"problem\">\n",
    "<p>\n",
    "For integers <var>a</var> and <var>b</var>, we define <var>D</var>(<var>a</var>, <var>b</var>) as the domain enclosed by the parabola <var>y</var> = <var>x</var><sup>2</sup> and the line <var>y</var> = <var>a</var>·<var>x</var> + <var>b</var>:<br><var>D</var>(<var>a</var>, <var>b</var>) = { (<var>x</var>, <var>y</var>) | <var>x</var><sup>2</sup> ≤ <var>y</var> ≤ <var>a</var>·<var>x</var> + <var>b</var> }.\n",
    "</br></p>\n",
    "<p>\n",
    "L(<var>a</var>, <var>b</var>) is defined as the number of lattice points contained in <var>D</var>(<var>a</var>, <var>b</var>).<br/>\n",
    "For example, L(1, 2) = 8 and L(2, -1) = 1.\n",
    "</p>\n",
    "<p>\n",
    "We also define S(<var>N</var>) as the sum of L(<var>a</var>, <var>b</var>) for all the pairs (<var>a</var>, <var>b</var>) such that the area of <var>D</var>(<var>a</var>, <var>b</var>) is a rational number and |<var>a</var>|,|<var>b</var>| ≤ <var>N</var>.<br/>\n",
    "We can verify that S(5) = 344 and S(100) = 26709528.\n",
    "</p>\n",
    "<p>\n",
    "Find S(10<sup>12</sup>). Give your answer mod 10<sup>8</sup>.\n",
    "</p>\n",
    "</div>"
   ]
  },
  {
   "cell_type": "code",
   "execution_count": null,
   "metadata": {},
   "outputs": [],
   "source": []
  },
  {
   "cell_type": "markdown",
   "metadata": {},
   "source": [
    "### 404. Crisscross Ellipses\n",
    "#### ([Back to Top](#Table-of-Contents)) ([Webpage](https://projecteuler.net/problem=404))<div class=\"problem_content\" role=\"problem\">\n",
    "<p>\n",
    "E<sub><var>a</var></sub> is an ellipse with an equation of the form x<sup>2</sup> + 4y<sup>2</sup> = 4<var>a</var><sup>2</sup>.<br>\n",
    "E<sub><var>a</var></sub>' is the rotated image of E<sub><var>a</var></sub> by θ degrees counterclockwise around the origin O(0, 0) for 0° &lt; θ &lt; 90°.\n",
    "</br></p>\n",
    "<div align=\"center\">\n",
    "<img alt=\"p404_c_ellipse.gif\" src=\"project/images/p404_c_ellipse.gif\"/></div>\n",
    "<p>\n",
    "<var>b</var> is the distance to the origin of the two intersection points closest to the origin and <var>c</var> is the distance of the two other intersection points.<br/>\n",
    "We call an ordered triplet (<var>a</var>, <var>b</var>, <var>c</var>) a <i>canonical ellipsoidal triplet</i> if <var>a</var>, <var>b</var> and <var>c</var> are positive integers.<br/>\n",
    "For example, (209, 247, 286) is a canonical ellipsoidal triplet.\n",
    "</p>\n",
    "<p>\n",
    "Let C(<var>N</var>) be the number of distinct canonical ellipsoidal triplets (<var>a</var>, <var>b</var>, <var>c</var>) for <var>a</var> ≤ <var>N</var>.<br/>\n",
    "It can be verified that C(10<sup>3</sup>) = 7, C(10<sup>4</sup>) = 106 and C(10<sup>6</sup>) = 11845.\n",
    "</p>\n",
    "<p>\n",
    "Find C(10<sup>17</sup>).\n",
    "</p>\n",
    "</div>"
   ]
  },
  {
   "cell_type": "code",
   "execution_count": null,
   "metadata": {},
   "outputs": [],
   "source": []
  },
  {
   "cell_type": "markdown",
   "metadata": {},
   "source": [
    "### 405. A rectangular tiling\n",
    "#### ([Back to Top](#Table-of-Contents)) ([Webpage](https://projecteuler.net/problem=405))<div class=\"problem_content\" role=\"problem\">\n",
    "<p>\n",
    "We wish to tile a rectangle whose length is twice its width.<br>\n",
    "Let <var>T</var>(0) be the tiling consisting of a single rectangle.<br/>\n",
    "For <var>n</var> &gt; 0, let <var>T</var>(<var>n</var>) be obtained from <var>T</var>(<var>n</var>-1) by replacing all tiles in the following manner:\n",
    "</br></p>\n",
    "<div align=\"center\">\n",
    "<img alt=\"p405_tile1.png\" src=\"project/images/p405_tile1.png\"/></div>\n",
    "<p>\n",
    "The following animation demonstrates the tilings <var>T</var>(<var>n</var>) for <var>n</var> from 0 to 5:\n",
    "</p>\n",
    "<div align=\"center\">\n",
    "<img alt=\"p405_tile2.gif\" src=\"project/images/p405_tile2.gif\"/></div>\n",
    "<p>\n",
    "Let <var>f</var>(<var>n</var>) be the number of points where four tiles meet in <var>T</var>(<var>n</var>).<br/>\n",
    "For example, <var>f</var>(1) = 0, <var>f</var>(4) = 82 and <var>f</var>(10<sup>9</sup>) mod 17<sup>7</sup> = 126897180.\n",
    "</p>\n",
    "<p>\n",
    "Find <var>f</var>(10<sup><var>k</var></sup>) for <var>k</var> = 10<sup>18</sup>, give your answer modulo 17<sup>7</sup>.\n",
    "</p>\n",
    "</div>"
   ]
  },
  {
   "cell_type": "code",
   "execution_count": null,
   "metadata": {},
   "outputs": [],
   "source": []
  },
  {
   "cell_type": "markdown",
   "metadata": {},
   "source": [
    "### 406. Guessing Game\n",
    "#### ([Back to Top](#Table-of-Contents)) ([Webpage](https://projecteuler.net/problem=406))<div class=\"problem_content\" role=\"problem\">\n",
    "<p>We are trying to find a hidden number selected from the set of integers {1, 2, ..., <var>n</var>} by asking questions. \n",
    "Each number (question) we ask, we get one of three possible answers:<br/></p><ul><li> \"Your guess is lower than the hidden number\" (and you incur a cost of <var>a</var>), or</li>\n",
    "<li> \"Your guess is higher than the hidden number\" (and you incur a cost of <var>b</var>), or</li>\n",
    "<li> \"Yes, that's it!\" (and the game ends).</li>\n",
    "</ul><p>Given the value of <var>n</var>, <var>a</var>, and <var>b</var>, an <i>optimal strategy</i> minimizes the total cost <u>for the worst possible case</u>.</p>\n",
    "<p>For example, if <var>n</var> = 5, <var>a</var> = 2, and <var>b</var> = 3, then we may begin by asking \"<b>2</b>\" as our first question.</p>\n",
    "<p>If we are told that 2 is higher than the hidden number (for a cost of <var>b</var>=3), then we are sure that \"<b>1</b>\" is the hidden number (for a total cost of <span style=\"color:#3333ff;\"><b>3</b></span>).<br/>\n",
    "If we are told that 2 is lower than the hidden number (for a cost of <var>a</var>=2), then our next question will be \"<b>4</b>\".<br/>\n",
    "If we are told that 4 is higher than the hidden number (for a cost of <var>b</var>=3), then we are sure that \"<b>3</b>\" is the hidden number (for a total cost of 2+3=<span style=\"color:#3333ff;\"><b>5</b></span>).<br/>\n",
    "If we are told that 4 is lower than the hidden number (for a cost of <var>a</var>=2), then we are sure that \"<b>5</b>\" is the hidden number (for a total cost of 2+2=<span style=\"color:#3333ff;\"><b>4</b></span>).<br/>\n",
    "Thus, the worst-case cost achieved by this strategy is <span style=\"color:#FF0000;\"><b>5</b></span>. It can also be shown that this is the lowest worst-case cost that can be achieved. \n",
    "So, in fact, we have just described an optimal strategy for the given values of <var>n</var>, <var>a</var>, and <var>b</var>.</p>\n",
    "<p>Let C(<var>n</var>, <var>a</var>, <var>b</var>) be the worst-case cost achieved by an optimal strategy for the given values of <var>n</var>, <var>a</var>, and <var>b</var>.</p>\n",
    "<p>Here are a few examples:<br/>\n",
    "C(5, 2, 3) = 5<br/>\n",
    "C(500, √2, √3) = 13.22073197...<br/>\n",
    "C(20000, 5, 7) = 82<br/>\n",
    "C(2000000, √5, √7) = 49.63755955...</p>\n",
    "<p>Let F<sub><var>k</var></sub> be the Fibonacci numbers: F<sub><var>k</var></sub> = F<sub><var>k</var>-1</sub> + F<sub><var>k</var>-2</sub> with base cases F<sub>1</sub> = F<sub>2</sub> = 1.<br/>Find $\\sum \\limits_{k = 1}^{30} {C \\left (10^{12}, \\sqrt{k}, \\sqrt{F_k} \\right )}$, and give your answer rounded to 8 decimal places behind the decimal point.</p>\n",
    "</div>"
   ]
  },
  {
   "cell_type": "code",
   "execution_count": null,
   "metadata": {},
   "outputs": [],
   "source": []
  },
  {
   "cell_type": "markdown",
   "metadata": {},
   "source": [
    "### 407. Idempotents\n",
    "#### ([Back to Top](#Table-of-Contents)) ([Webpage](https://projecteuler.net/problem=407))<div class=\"problem_content\" role=\"problem\">\n",
    "<p>\n",
    "If we calculate <var>a</var><sup>2</sup> mod 6 for 0 ≤ <var>a</var> ≤ 5 we get: 0,1,4,3,4,1.\n",
    "</p>\n",
    "<p>\n",
    "The largest value of <var>a</var> such that <var>a</var><sup>2</sup> ≡ <var>a</var> mod 6 is 4.<br>\n",
    "Let's call M(<var>n</var>) the largest value of <var>a</var> &lt; <var>n</var> such that <var>a</var><sup>2</sup> ≡ <var>a</var> (mod <var>n</var>).<br/>\n",
    "So M(6) = 4.\n",
    "</br></p>\n",
    "<p>\n",
    "Find ∑M(<var>n</var>) for 1 ≤ <var>n</var> ≤ 10<sup>7</sup>.\n",
    "</p>\n",
    "</div>"
   ]
  },
  {
   "cell_type": "code",
   "execution_count": null,
   "metadata": {},
   "outputs": [],
   "source": []
  },
  {
   "cell_type": "markdown",
   "metadata": {},
   "source": [
    "### 408. Admissible paths through a grid\n",
    "#### ([Back to Top](#Table-of-Contents)) ([Webpage](https://projecteuler.net/problem=408))<div class=\"problem_content\" role=\"problem\">\n",
    "<p>Let's call a lattice point (<var>x</var>, <var>y</var>) <i>inadmissible</i> if <var>x</var>, <var>y</var> and <var>x</var> + <var>y</var> are all positive perfect squares.<br>\n",
    "For example, (9, 16) is inadmissible, while (0, 4), (3, 1) and (9, 4) are not.</br></p>\n",
    "<p>Consider a path from point (<var>x</var><sub>1</sub>, <var>y</var><sub>1</sub>) to point (<var>x</var><sub>2</sub>, <var>y</var><sub>2</sub>) using only unit steps north or east.<br/>\n",
    "Let's call such a path <i>admissible</i> if none of its intermediate points are inadmissible.</p>\n",
    "<p>Let P(<var>n</var>) be the number of admissible paths from (0, 0) to (<var>n</var>, <var>n</var>).<br/>\n",
    "It can be verified that P(5) = 252, P(16) = 596994440 and P(1000) mod 1 000 000 007 = 341920854.</p>\n",
    "<p>Find P(10 000 000) mod 1 000 000 007.</p>\n",
    "</div>"
   ]
  },
  {
   "cell_type": "code",
   "execution_count": null,
   "metadata": {},
   "outputs": [],
   "source": []
  },
  {
   "cell_type": "markdown",
   "metadata": {},
   "source": [
    "### 409. Nim Extreme\n",
    "#### ([Back to Top](#Table-of-Contents)) ([Webpage](https://projecteuler.net/problem=409))<div class=\"problem_content\" role=\"problem\">\n",
    "<p>Let <var>n</var> be a positive integer. Consider <b>nim</b> positions where:</p><ul><li>There are <var>n</var> non-empty piles.\n",
    "</li><li>Each pile has size less than 2<sup><var>n</var></sup>.\n",
    "</li><li>No two piles have the same size.\n",
    "</li></ul><p>Let W(<var>n</var>) be the number of winning nim positions satisfying the above\n",
    "conditions (a position is winning if the first player has a winning strategy). For example, W(1) = 1, W(2) = 6, W(3) = 168, W(5) = 19764360 and W(100) mod 1 000 000 007 = 384777056.\n",
    "</p>\n",
    "<p>Find W(10 000 000) mod 1 000 000 007.\n",
    "</p>\n",
    "</div>"
   ]
  },
  {
   "cell_type": "code",
   "execution_count": null,
   "metadata": {},
   "outputs": [],
   "source": []
  },
  {
   "cell_type": "markdown",
   "metadata": {},
   "source": [
    "### 410. Circle and tangent line\n",
    "#### ([Back to Top](#Table-of-Contents)) ([Webpage](https://projecteuler.net/problem=410))<div class=\"problem_content\" role=\"problem\">\n",
    "<p>Let C be the circle with radius <var>r</var>, <var>x</var><sup>2</sup> + <var>y</var><sup>2</sup> = <var>r</var><sup>2</sup>. We choose two points P(<var>a</var>, <var>b</var>) and Q(-<var>a</var>, <var>c</var>) so that the line passing through P and Q is tangent to C.</p>\n",
    "<p>For example, the quadruplet (<var>r</var>, <var>a</var>, <var>b</var>, <var>c</var>) = (2, 6, 2, -7) satisfies this property.</p>\n",
    "<p>Let F(<var>R</var>, <var>X</var>) be the number of the integer quadruplets (<var>r</var>, <var>a</var>, <var>b</var>, <var>c</var>) with this property, and with 0 &lt; <var>r</var> ≤ <var>R</var> and 0 &lt; <var>a</var> ≤ <var>X</var>.</p>\n",
    "<p>We can verify that F(1, 5) = 10, F(2, 10) = 52 and F(10, 100) = 3384.<br>\n",
    "Find F(10<sup>8</sup>, 10<sup>9</sup>) + F(10<sup>9</sup>, 10<sup>8</sup>).</br></p>\n",
    "</div>"
   ]
  },
  {
   "cell_type": "code",
   "execution_count": null,
   "metadata": {},
   "outputs": [],
   "source": []
  },
  {
   "cell_type": "markdown",
   "metadata": {},
   "source": [
    "### 411. Uphill paths\n",
    "#### ([Back to Top](#Table-of-Contents)) ([Webpage](https://projecteuler.net/problem=411))<div class=\"problem_content\" role=\"problem\">\n",
    "<p>\n",
    "Let <var>n</var> be a positive integer. Suppose there are stations at the coordinates (<var>x</var>, <var>y</var>) = (2<sup><var>i</var></sup> mod <var>n</var>, 3<sup><var>i</var></sup> mod <var>n</var>) for 0 ≤ <var>i</var> ≤ 2<var>n</var>. We will consider stations with the same coordinates as the same station.\n",
    "</p><p>\n",
    "We wish to form a path from (0, 0) to (<var>n</var>, <var>n</var>) such that the x and y coordinates never decrease.<br>\n",
    "Let S(<var>n</var>) be the maximum number of stations such a path can pass through.\n",
    "</br></p><p>\n",
    "For example, if <var>n</var> = 22, there are 11 distinct stations, and a valid path can pass through at most 5 stations. Therefore, S(22) = 5.\n",
    "The case is illustrated below, with an example of an optimal path:\n",
    "</p>\n",
    "<p align=\"center\"><img alt=\"p411_longpath.png\" src=\"project/images/p411_longpath.png\"/></p>\n",
    "<p>\n",
    "It can also be verified that S(123) = 14 and S(10000) = 48.\n",
    "</p><p>\n",
    "Find ∑ S(<var>k</var><sup>5</sup>) for 1 ≤ <var>k</var> ≤ 30.\n",
    "</p>\n",
    "</div>"
   ]
  },
  {
   "cell_type": "code",
   "execution_count": null,
   "metadata": {},
   "outputs": [],
   "source": []
  },
  {
   "cell_type": "markdown",
   "metadata": {},
   "source": [
    "### 412. Gnomon numbering\n",
    "#### ([Back to Top](#Table-of-Contents)) ([Webpage](https://projecteuler.net/problem=412))<div class=\"problem_content\" role=\"problem\">\n",
    "<p>For integers <var>m</var>, <var>n</var> (0 ≤ <var>n</var> &lt; <var>m</var>), let L(<var>m</var>, <var>n</var>) be an <var>m</var>×<var>m</var> grid with the top-right <var>n</var>×<var>n</var> grid removed.</p>\n",
    "<p>For example, L(5, 3) looks like this:</p>\n",
    "<p style=\"text-align:center;\"><img alt=\"p412_table53.png\" src=\"project/images/p412_table53.png\"/></p>\n",
    "<p>We want to number each cell of L(<var>m</var>, <var>n</var>) with consecutive integers 1, 2, 3, ... such that the number in every cell is smaller than the number below it and to the left of it.</p>\n",
    "<p>For example, here are two valid numberings of L(5, 3):</p>\n",
    "<p style=\"text-align:center;\"><img alt=\"p412_tablenums.png\" src=\"project/images/p412_tablenums.png\"/></p>\n",
    "<p>Let LC(<var>m</var>, <var>n</var>) be the number of valid numberings of L(<var>m</var>, <var>n</var>).<br>\n",
    "It can be verified that LC(3, 0) = 42, LC(5, 3) = 250250, LC(6, 3) = 406029023400 and LC(10, 5) mod 76543217 = 61251715.</br></p>\n",
    "<p>Find LC(10000, 5000) mod 76543217.</p>\n",
    "</div>"
   ]
  },
  {
   "cell_type": "code",
   "execution_count": null,
   "metadata": {},
   "outputs": [],
   "source": []
  },
  {
   "cell_type": "markdown",
   "metadata": {},
   "source": [
    "### 413. One-child Numbers\n",
    "#### ([Back to Top](#Table-of-Contents)) ([Webpage](https://projecteuler.net/problem=413))<div class=\"problem_content\" role=\"problem\">\n",
    "<p>We say that a <var>d</var>-digit positive number (no leading zeros) is a one-child number if exactly one of its sub-strings is divisible by <var>d</var>.</p>\n",
    "<p>For example, 5671 is a 4-digit one-child number. Among all its sub-strings 5, 6, 7, 1, 56, 67, 71, 567, 671 and 5671, only 56 is divisible by 4.<br>\n",
    "Similarly, 104 is a 3-digit one-child number because only 0 is divisible by 3.<br/>\n",
    "1132451 is a 7-digit one-child number because only 245 is divisible by 7.</br></p>\n",
    "<p>Let F(<var>N</var>) be the number of the one-child numbers less than <var>N</var>.<br/>\n",
    "We can verify that F(10) = 9, F(10<sup>3</sup>) = 389 and F(10<sup>7</sup>) = 277674.</p>\n",
    "<p>Find F(10<sup>19</sup>).</p>\n",
    "</div>"
   ]
  },
  {
   "cell_type": "code",
   "execution_count": null,
   "metadata": {},
   "outputs": [],
   "source": []
  },
  {
   "cell_type": "markdown",
   "metadata": {},
   "source": [
    "### 414. Kaprekar constant\n",
    "#### ([Back to Top](#Table-of-Contents)) ([Webpage](https://projecteuler.net/problem=414))<div class=\"problem_content\" role=\"problem\">\n",
    "<p>\n",
    "6174 is a remarkable number; if we sort its digits in increasing order and subtract that number from the number you get when you sort the digits in decreasing order, we get 7641-1467=6174.<br>\n",
    "Even more remarkable is that if we start from any 4 digit number and repeat this process of sorting and subtracting, we'll eventually end up with 6174 or immediately with 0 if all digits are equal.<br/> \n",
    "This also works with numbers that have less than 4 digits if we pad the number with leading zeroes until we have 4 digits.<br/>\n",
    "E.g. let's start with the number 0837:<br/>\n",
    "8730-0378=8352<br/>\n",
    "8532-2358=6174\n",
    "</br></p>\n",
    "<p>\n",
    "6174 is called the <b>Kaprekar constant</b>. The process of sorting and subtracting and repeating this until either 0 or the Kaprekar constant is reached is called the <b>Kaprekar routine</b>.\n",
    "</p>\n",
    "<p>\n",
    "We can consider the Kaprekar routine for other bases and number of digits.<br/> \n",
    "Unfortunately, it is not guaranteed a Kaprekar constant exists in all cases; either the routine can end up in a cycle for some input numbers or the constant the routine arrives at can be different for different input numbers.<br/>\n",
    "However, it can be shown that for 5 digits and a base b = 6t+3≠9, a Kaprekar constant exists.<br/>\n",
    "E.g. base 15: (10,4,14,9,5)<sub>15</sub><br/>\n",
    "base 21: (14,6,20,13,7)<sub>21</sub></p>\n",
    "<p>\n",
    "Define <var>C<sub>b</sub></var> to be the Kaprekar constant in base <var>b</var> for 5 digits.\n",
    "Define the function <var>sb(i)</var> to be\n",
    "</p><ul><li> 0 if i = <var>C<sub>b</sub></var> or if <var>i</var> written in base <var>b</var> consists of 5 identical digits\n",
    "</li><li> the number of iterations it takes the Kaprekar routine in base <var>b</var> to arrive at <var>C<sub>b</sub></var>, otherwise\n",
    "</li></ul>\n",
    "Note that we can define <var>sb(i)</var> for all integers <var>i</var> &lt; <var>b</var><sup>5</sup>. If <var>i</var> written in base <var>b</var> takes less than 5 digits, the number is padded with leading zero digits until we have 5 digits before applying the Kaprekar routine.\n",
    "\n",
    "<p>\n",
    "Define <var>S(b)</var> as the sum of <var>sb(i)</var> for 0 &lt; <var>i</var> &lt; <var>b</var><sup>5</sup>.<br/>\n",
    "E.g. S(15) = 5274369<br/> \n",
    "S(111) = 400668930299\n",
    "</p>\n",
    "<p>\n",
    "Find the sum of S(6k+3) for 2 ≤ k ≤ 300.<br/>\n",
    "Give the last 18 digits as your answer.\n",
    "</p>\n",
    "</div>"
   ]
  },
  {
   "cell_type": "code",
   "execution_count": null,
   "metadata": {},
   "outputs": [],
   "source": []
  },
  {
   "cell_type": "markdown",
   "metadata": {},
   "source": [
    "### 415. Titanic sets\n",
    "#### ([Back to Top](#Table-of-Contents)) ([Webpage](https://projecteuler.net/problem=415))<div class=\"problem_content\" role=\"problem\">\n",
    "<p>A set of lattice points S is called a <i>titanic set</i> if there exists a line passing through exactly two points in S.</p>\n",
    "<p>An example of a titanic set is S = {(0, 0), (0, 1), (0, 2), (1, 1), (2, 0), (1, 0)}, where the line passing through (0, 1) and (2, 0) does not pass through any other point in S.</p>\n",
    "<p>On the other hand, the set {(0, 0), (1, 1), (2, 2), (4, 4)} is not a titanic set since the line passing through any two points in the set also passes through the other two.</p>\n",
    "<p>For any positive integer <var>N</var>, let <var>T</var>(<var>N</var>) be the number of titanic sets S whose every point (<var>x</var>, <var>y</var>) satisfies 0 ≤ <var>x</var>, <var>y</var> ≤ <var>N</var>.\n",
    "It can be verified that <var>T</var>(1) = 11, <var>T</var>(2) = 494, <var>T</var>(4) = 33554178, <var>T</var>(111) mod 10<sup>8</sup> = 13500401 and <var>T</var>(10<sup>5</sup>) mod 10<sup>8</sup> = 63259062.</p>\n",
    "<p>Find <var>T</var>(10<sup>11</sup>) mod 10<sup>8</sup>.</p>\n",
    "</div>"
   ]
  },
  {
   "cell_type": "code",
   "execution_count": null,
   "metadata": {},
   "outputs": [],
   "source": []
  },
  {
   "cell_type": "markdown",
   "metadata": {},
   "source": [
    "### 416. A frog's trip\n",
    "#### ([Back to Top](#Table-of-Contents)) ([Webpage](https://projecteuler.net/problem=416))<div class=\"problem_content\" role=\"problem\">\n",
    "<p>A row of <var>n</var> squares contains a frog in the leftmost square. By successive jumps the frog goes to the rightmost square and then back to the leftmost square. On the outward trip he jumps one, two or three squares to the right, and on the homeward trip he jumps to the left in a similar manner. He cannot jump outside the squares. He repeats the round-trip travel <var>m</var> times.</p>\n",
    "<p>Let F(<var>m</var>, <var>n</var>) be the number of the ways the frog can travel so that at most one square remains unvisited.<br>\n",
    "For example, F(1, 3) = 4, F(1, 4) = 15, F(1, 5) = 46, F(2, 3) = 16 and F(2, 100) mod 10<sup>9</sup> = 429619151.</br></p>\n",
    "<p>Find the last 9 digits of F(10, 10<sup>12</sup>).</p>\n",
    "</div>"
   ]
  },
  {
   "cell_type": "code",
   "execution_count": null,
   "metadata": {},
   "outputs": [],
   "source": []
  },
  {
   "cell_type": "markdown",
   "metadata": {},
   "source": [
    "### 417. Reciprocal cycles II\n",
    "#### ([Back to Top](#Table-of-Contents)) ([Webpage](https://projecteuler.net/problem=417))<div class=\"problem_content\" role=\"problem\">\n",
    "<p>A unit fraction contains 1 in the numerator. The decimal representation of the unit fractions with denominators 2 to 10 are given:</p>\n",
    "<blockquote>\n",
    "<table><tr><td><sup>1</sup>/<sub>2</sub></td><td>= </td><td>0.5</td>\n",
    "</tr><tr><td><sup>1</sup>/<sub>3</sub></td><td>= </td><td>0.(3)</td>\n",
    "</tr><tr><td><sup>1</sup>/<sub>4</sub></td><td>= </td><td>0.25</td>\n",
    "</tr><tr><td><sup>1</sup>/<sub>5</sub></td><td>= </td><td>0.2</td>\n",
    "</tr><tr><td><sup>1</sup>/<sub>6</sub></td><td>= </td><td>0.1(6)</td>\n",
    "</tr><tr><td><sup>1</sup>/<sub>7</sub></td><td>= </td><td>0.(142857)</td>\n",
    "</tr><tr><td><sup>1</sup>/<sub>8</sub></td><td>= </td><td>0.125</td>\n",
    "</tr><tr><td><sup>1</sup>/<sub>9</sub></td><td>= </td><td>0.(1)</td>\n",
    "</tr><tr><td><sup>1</sup>/<sub>10</sub></td><td>= </td><td>0.1</td>\n",
    "</tr></table></blockquote>\n",
    "<p>Where 0.1(6) means 0.166666..., and has a 1-digit recurring cycle. It can be seen that <sup>1</sup>/<sub>7</sub> has a 6-digit recurring cycle.</p>\n",
    "<p>\n",
    "Unit fractions whose denominator has no other prime factors than 2 and/or 5 are not considered to have a recurring cycle.<br>\n",
    "We define the length of the recurring cycle of those unit fractions as 0. \n",
    "</br></p>\n",
    "<p>\n",
    "Let L(n) denote the length of the recurring cycle of 1/n.\n",
    "You are given that ∑L(n) for 3 ≤ n ≤ 1 000 000 equals 55535191115.\n",
    "</p>\n",
    "<p>\n",
    "Find ∑L(n) for 3 ≤ n ≤ 100 000 000</p>\n",
    "</div>"
   ]
  },
  {
   "cell_type": "code",
   "execution_count": null,
   "metadata": {},
   "outputs": [],
   "source": []
  },
  {
   "cell_type": "markdown",
   "metadata": {},
   "source": [
    "### 418. Factorisation triples\n",
    "#### ([Back to Top](#Table-of-Contents)) ([Webpage](https://projecteuler.net/problem=418))<div class=\"problem_content\" role=\"problem\">\n",
    "<p>\n",
    "Let <var>n</var> be a positive integer. An integer triple (<var>a</var>, <var>b</var>, <var>c</var>) is called a <i>factorisation triple</i> of <var>n</var> if:</p><ul><li> 1 ≤ <var>a</var> ≤ <var>b</var> ≤ <var>c</var>\n",
    "</li><li> <var>a</var>·<var>b</var>·<var>c</var> = <var>n</var>.\n",
    "</li></ul><p>\n",
    "Define <var>f</var>(<var>n</var>) to be <var>a</var> + <var>b</var> + <var>c</var> for the factorisation triple (<var>a</var>, <var>b</var>, <var>c</var>) of <var>n</var> which minimises <var>c</var> / <var>a</var>. One can show that this triple is unique.\n",
    "</p>\n",
    "<p>\n",
    "For example, <var>f</var>(165) = 19, <var>f</var>(100100) = 142 and <var>f</var>(20!) = 4034872.\n",
    "</p>\n",
    "<p>\n",
    "Find <var>f</var>(43!).\n",
    "</p>\n",
    "</div>"
   ]
  },
  {
   "cell_type": "code",
   "execution_count": null,
   "metadata": {},
   "outputs": [],
   "source": []
  },
  {
   "cell_type": "markdown",
   "metadata": {},
   "source": [
    "### 419. Look and say sequence\n",
    "#### ([Back to Top](#Table-of-Contents)) ([Webpage](https://projecteuler.net/problem=419))<div class=\"problem_content\" role=\"problem\">\n",
    "<p>\n",
    "The <b>look and say</b> sequence goes 1, 11, 21, 1211, 111221, 312211, 13112221, 1113213211, ...<br>\n",
    "The sequence starts with 1 and all other members are obtained by describing the previous member in terms of consecutive digits.<br/>\n",
    "It helps to do this out loud:<br/>\n",
    "1 is 'one one' → 11<br/>\n",
    "11 is 'two ones' → 21<br/>\n",
    "21 is 'one two and one one' → 1211 <br/>\n",
    "1211 is 'one one, one two and two ones' → 111221<br/>\n",
    "111221 is 'three ones, two twos and one one' → 312211<br/>\n",
    "...\n",
    "</br></p>\n",
    "<p>\n",
    "Define A(n), B(n) and C(n) as the number of ones, twos and threes in the n'th element of the sequence respectively.<br/>\n",
    "One can verify that A(40) = 31254, B(40) = 20259 and C(40) = 11625.\n",
    "</p>\n",
    "<p>\n",
    "Find A(n), B(n) and C(n) for n = 10<sup>12</sup>.<br/> \n",
    "Give your answer modulo 2<sup>30</sup> and separate your values for A, B and C by a comma.<br/> \n",
    "E.g. for n = 40 the answer would be 31254,20259,11625\n",
    "</p>\n",
    "</div>"
   ]
  },
  {
   "cell_type": "code",
   "execution_count": null,
   "metadata": {},
   "outputs": [],
   "source": []
  },
  {
   "cell_type": "markdown",
   "metadata": {},
   "source": [
    "### 420. 2x2 positive integer matrix\n",
    "#### ([Back to Top](#Table-of-Contents)) ([Webpage](https://projecteuler.net/problem=420))<div class=\"problem_content\" role=\"problem\">\n",
    "<p>A <i>positive integer matrix</i> is a matrix whose elements are all positive integers.<br>\n",
    "Some positive integer matrices can be expressed as a square of a positive integer matrix in two different ways. Here is an example:</br></p>\n",
    "\n",
    "$$\\begin{pmatrix}\n",
    "40 &amp; 12\\\\\n",
    "48 &amp; 40\n",
    "\\end{pmatrix} =\n",
    "\\begin{pmatrix}\n",
    "2 &amp; 3\\\\\n",
    "12 &amp; 2\n",
    "\\end{pmatrix}^2 =\n",
    "\\begin{pmatrix}\n",
    "6 &amp; 1\\\\\n",
    "4 &amp; 6\n",
    "\\end{pmatrix}^2\n",
    "$$\n",
    "\n",
    "<p>\n",
    "We define F(<var>N</var>) as the number of the 2x2 positive integer matrices which have a <dfn title=\"the sum of the elements on the main diagonal\">trace</dfn> less than <var>N</var> and which can be expressed as a square of a positive integer matrix in two different ways.<br/>\n",
    "We can verify that F(50) = 7 and F(1000) = 1019.\n",
    "</p>\n",
    "<p>\n",
    "Find F(10<sup>7</sup>).\n",
    "</p>\n",
    "</div>"
   ]
  },
  {
   "cell_type": "code",
   "execution_count": null,
   "metadata": {},
   "outputs": [],
   "source": []
  },
  {
   "cell_type": "markdown",
   "metadata": {},
   "source": [
    "### 421. \n",
    "#### ([Back to Top](#Table-of-Contents)) ([Webpage](https://projecteuler.net/problem=421))<div class=\"problem_content\" role=\"problem\">\n",
    "<p>\n",
    "Numbers of the form <var>n</var><sup>15</sup>+1 are composite for every integer <var>n</var> &gt; 1.<br>\n",
    "For positive integers <var>n</var> and <var>m</var> let <var>s</var>(<var>n,m</var>) be defined as the sum of the <i>distinct</i> prime factors of <var>n</var><sup>15</sup>+1 not exceeding <var>m</var>.\n",
    "</br></p>\n",
    "E.g. 2<sup>15</sup>+1 = 3×3×11×331.<br/>\n",
    "So <var>s</var>(2,10) = 3 and <var>s</var>(2,1000) = 3+11+331 = 345.<br/><br/>\n",
    "\n",
    "Also 10<sup>15</sup>+1 = 7×11×13×211×241×2161×9091.<br/>\n",
    "So <var>s</var>(10,100) = 31 and <var>s</var>(10,1000) = 483.<br/><p>\n",
    "Find ∑ <var>s</var>(<var>n</var>,10<sup>8</sup>) for 1 ≤ <var>n</var> ≤ 10<sup>11</sup>.\n",
    "</p>\n",
    "</div>"
   ]
  },
  {
   "cell_type": "code",
   "execution_count": null,
   "metadata": {},
   "outputs": [],
   "source": []
  },
  {
   "cell_type": "markdown",
   "metadata": {},
   "source": [
    "### 422. Sequence of points on a hyperbola\n",
    "#### ([Back to Top](#Table-of-Contents)) ([Webpage](https://projecteuler.net/problem=422))<div class=\"problem_content\" role=\"problem\">\n",
    "<p>Let H be the hyperbola defined by the equation 12<var>x</var><sup>2</sup> + 7<var>x</var><var>y</var> - 12<var>y</var><sup>2</sup> = 625.</p>\n",
    "<p>Next, define X as the point (7, 1). It can be seen that X is in H.</p>\n",
    "<p>Now we define a sequence of points in H, {P<sub><var>i</var></sub> : <var>i</var> ≥ 1}, as:\n",
    "</p><ul><li> P<sub>1</sub> = (13, 61/4).\n",
    "</li><li> P<sub>2</sub> = (-43/6, -4).\n",
    "</li><li> For <var>i</var> &gt; 2, P<sub><var>i</var></sub> is the unique point in H that is different from P<sub><var>i</var>-1</sub> and such that line P<sub><var>i</var></sub>P<sub><var>i</var>-1</sub> is parallel to line P<sub><var>i</var>-2</sub>X. It can be shown that P<sub><var>i</var></sub> is well-defined, and that its coordinates are always rational.\n",
    "</li></ul><div style=\"text-align:center;\"><img alt=\"p422_hyperbola.gif\" class=\"dark_img\" src=\"project/images/p422_hyperbola.gif\"/></div>\n",
    "<p>You are given that P<sub>3</sub>  = (-19/2, -229/24), P<sub>4</sub> = (1267/144, -37/12) and P<sub>7</sub> = (17194218091/143327232, 274748766781/1719926784).</p>\n",
    "<p>Find P<sub><var>n</var></sub> for <var>n</var> = 11<sup>14</sup> in the following format:<br>If P<sub><var>n</var></sub> = (<var>a</var>/<var>b</var>, <var>c</var>/<var>d</var>) where the fractions are in lowest terms and the denominators are positive, then the answer is (<var>a</var> + <var>b</var> + <var>c</var> + <var>d</var>) mod 1 000 000 007.</br></p>\n",
    "<p>For <var>n</var> = 7, the answer would have been: 806236837.</p>\n",
    "</div>"
   ]
  },
  {
   "cell_type": "code",
   "execution_count": null,
   "metadata": {},
   "outputs": [],
   "source": []
  },
  {
   "cell_type": "markdown",
   "metadata": {},
   "source": [
    "### 423. Consecutive die throws\n",
    "#### ([Back to Top](#Table-of-Contents)) ([Webpage](https://projecteuler.net/problem=423))<div class=\"problem_content\" role=\"problem\">\n",
    "<p>Let <var>n</var> be a positive integer.<br>\n",
    "A 6-sided die is thrown <var>n</var> times. Let <var>c</var> be the number of pairs of consecutive throws that give the same value.</br></p>\n",
    "<p>For example, if <var>n</var> = 7 and the values of the die throws are (1,1,5,6,6,6,3), then the following pairs of consecutive throws give the same value:<br/>\n",
    "(<u>1,1</u>,5,6,6,6,3)<br/>\n",
    "(1,1,5,<u>6,6</u>,6,3)<br/>\n",
    "(1,1,5,6,<u>6,6</u>,3)<br/>\n",
    "Therefore, <var>c</var> = 3 for (1,1,5,6,6,6,3).</p>\n",
    "<p>Define C(<var>n</var>) as the number of outcomes of throwing a 6-sided die <var>n</var> times such that <var>c</var> does not exceed π(<var>n</var>).<sup>1</sup><br/>\n",
    "For example, C(3) = 216, C(4) = 1290, C(11) = 361912500 and C(24) = 4727547363281250000.</p>\n",
    "<p>Define S(<var>L</var>) as ∑ C(<var>n</var>) for 1 ≤ <var>n</var> ≤ <var>L</var>.<br/>\n",
    "For example, S(50) mod 1 000 000 007 = 832833871.</p>\n",
    "<p>Find S(50 000 000) mod 1 000 000 007.</p>\n",
    "<p><sup>1</sup> π denotes the <b>prime-counting function</b>, i.e. π(<var>n</var>) is the number of primes ≤ <var>n</var>.</p>\n",
    "</div>"
   ]
  },
  {
   "cell_type": "code",
   "execution_count": null,
   "metadata": {},
   "outputs": [],
   "source": []
  },
  {
   "cell_type": "markdown",
   "metadata": {},
   "source": [
    "### 424. Kakuro\n",
    "#### ([Back to Top](#Table-of-Contents)) ([Webpage](https://projecteuler.net/problem=424))<div class=\"problem_content\" role=\"problem\">\n",
    "<div style=\"text-align:center;\"><img alt=\"p424_kakuro1.gif\" class=\"dark_img\" src=\"project/images/p424_kakuro1.gif\"/></div>\n",
    "<p>The above is an example of a cryptic kakuro (also known as cross sums, or even sums cross) puzzle, with its final solution on the right. (The common rules of kakuro puzzles can be found easily on numerous internet sites. Other related information can also be currently found at <a href=\"http://krazydad.com/\">krazydad.com</a> whose author has provided the puzzle data for this challenge.)</p>\n",
    "<p>The downloadable text file (<a href=\"project/resources/p424_kakuro200.txt\">kakuro200.txt</a>) contains the description of 200 such puzzles, a mix of 5x5 and 6x6 types. The first puzzle in the file is the above example which is coded as follows:</p>\n",
    "<p>6,X,X,(vCC),(vI),X,X,X,(hH),B,O,(vCA),(vJE),X,(hFE,vD),O,O,O,O,(hA),O,I,(hJC,vB),O,O,(hJC),H,O,O,O,X,X,X,(hJE),O,O,X</p>\n",
    "<p>The first character is a numerical digit indicating the size of the information grid. It would be either a 6 (for a 5x5 kakuro puzzle) or a 7 (for a 6x6 puzzle) followed by a comma (,). The extra top line and left column are needed to insert information.</p>\n",
    "<p>The content of each cell is then described and followed by a comma, going left to right and starting with the top line.<br>\n",
    "X = Gray cell, not required to be filled by a digit.<br/>\n",
    "O (upper case letter)= White empty cell to be filled by a digit.<br/>\n",
    "A = Or any one of the upper case letters from A to J to be replaced by its equivalent digit in the solved puzzle.<br/>\n",
    "( ) = Location of the encrypted sums. Horizontal sums are preceded by a lower case \"h\" and vertical sums are preceded by a lower case \"v\". Those are followed by one or two upper case letters depending if the sum is a single digit or double digit one. For double digit sums, the first letter would be for the \"tens\" and the second one for the \"units\". When the cell must contain information for both a horizontal and a vertical sum, the first one is always for the horizontal sum and the two are separated by a comma within the same set of brackets, ex.: (hFE,vD). Each set of brackets is also immediately followed by a comma.</br></p>\n",
    "<p>The description of the last cell is followed by a Carriage Return/Line Feed (CRLF) instead of a comma.</p>\n",
    "<p>The required answer to each puzzle is based on the value of each letter necessary to arrive at the solution and according to the alphabetical order. As indicated under the example puzzle, its answer would be 8426039571. At least 9 out of the 10 encrypting letters are always part of the problem description. When only 9 are given, the missing one must be assigned the remaining digit.</p>\n",
    "<p>You are given that the sum of the answers for the first 10 puzzles in the file is 64414157580.</p>\n",
    "<p>Find the sum of the answers for the 200 puzzles.</p>\n",
    "</div>"
   ]
  },
  {
   "cell_type": "code",
   "execution_count": null,
   "metadata": {},
   "outputs": [],
   "source": []
  },
  {
   "cell_type": "markdown",
   "metadata": {},
   "source": [
    "### 425. Prime connection\n",
    "#### ([Back to Top](#Table-of-Contents)) ([Webpage](https://projecteuler.net/problem=425))<div class=\"problem_content\" role=\"problem\">\n",
    "<p>\n",
    "Two positive numbers A and B are said to be <i>connected</i> (denoted by \"A ↔ B\") if one of these conditions holds:<br>\n",
    "(1) A and B have the same length and differ in exactly one digit; for example, 123 ↔ 173.<br/>\n",
    "(2) Adding one digit to the left of A (or B) makes B (or A); for example, 23 ↔ 223 and 123 ↔ 23.\n",
    "</br></p>\n",
    "<p>\n",
    "We call a prime P a <i>2's relative</i> if there exists a chain of connected primes between 2 and P and no prime in the chain exceeds P.\n",
    "</p>\n",
    "<p>\n",
    "For example, 127 is a 2's relative. One of the possible chains is shown below:<br/>\n",
    "2 ↔ 3 ↔ 13 ↔ 113 ↔ 103 ↔ 107 ↔ 127<br/>\n",
    "However, 11 and 103 are not 2's relatives.\n",
    "</p>\n",
    "<p>\n",
    "Let F(N) be the sum of the primes ≤ N which are not 2's relatives.<br/>\n",
    "We can verify that F(10<sup>3</sup>) = 431 and F(10<sup>4</sup>) = 78728.\n",
    "</p>\n",
    "<p>\n",
    "Find F(10<sup>7</sup>).\n",
    "</p>\n",
    "</div>"
   ]
  },
  {
   "cell_type": "code",
   "execution_count": null,
   "metadata": {},
   "outputs": [],
   "source": []
  },
  {
   "cell_type": "markdown",
   "metadata": {},
   "source": [
    "### 426. Box-ball system\n",
    "#### ([Back to Top](#Table-of-Contents)) ([Webpage](https://projecteuler.net/problem=426))<div class=\"problem_content\" role=\"problem\">\n",
    "<p>\n",
    "Consider an infinite row of boxes. Some of the boxes contain a ball. For example, an initial configuration of 2 consecutive occupied boxes followed by 2 empty boxes, 2 occupied boxes, 1 empty box, and 2 occupied boxes can be denoted by the sequence (2, 2, 2, 1, 2), in which the number of consecutive occupied and empty boxes appear alternately.\n",
    "</p>\n",
    "<p>\n",
    "A turn consists of moving each ball exactly once according to the following rule: Transfer the leftmost ball which has not been moved to the nearest empty box to its right.\n",
    "</p>\n",
    "<p>\n",
    "After one turn the sequence (2, 2, 2, 1, 2) becomes (2, 2, 1, 2, 3) as can be seen below; note that we begin the new sequence starting at the first occupied box.\n",
    "</p>\n",
    "<div align=\"center\">\n",
    "<img alt=\"p426_baxball1.gif\" src=\"project/images/p426_baxball1.gif\"/></div>\n",
    "<p>\n",
    "A system like this is called a <b>Box-Ball System</b> or <b>BBS</b> for short.\n",
    "</p>\n",
    "<p>\n",
    "It can be shown that after a sufficient number of turns, the system evolves to a state where the consecutive numbers of occupied boxes is invariant. In the example below, the consecutive numbers of <b>occupied boxes</b> evolves to [1, 2, 3]; we shall call this the final state.\n",
    "</p>\n",
    "<div align=\"center\">\n",
    "<img alt=\"p426_baxball2.gif\" src=\"project/images/p426_baxball2.gif\"/></div>\n",
    "<p>\n",
    "We define the sequence {<var>t</var><sub><var>i</var></sub>}:<br/></p><ul><li><var>s</var><sub>0</sub> = 290797\n",
    "</li><li><var>s</var><sub><var>k</var>+1</sub> = <var>s</var><sub><var>k</var></sub><sup>2</sup> mod 50515093\n",
    "</li><li><var>t</var><sub><var>k</var></sub> = (<var>s</var><sub><var>k</var></sub> mod 64) + 1\n",
    "</li></ul><p>\n",
    "Starting from the initial configuration (<var>t</var><sub>0</sub>, <var>t</var><sub>1</sub>, …, <var>t</var><sub>10</sub>), the final state becomes [1, 3, 10, 24, 51, 75].<br/>\n",
    "Starting from the initial configuration (<var>t</var><sub>0</sub>, <var>t</var><sub>1</sub>, …, <var>t</var><sub>10 000 000</sub>), find the final state.<br/>\n",
    "Give as your answer the sum of the squares of the elements of the final state. For example, if the final state is [1, 2, 3] then 14 ( = 1<sup>2</sup> + 2<sup>2</sup> + 3<sup>2</sup>) is your answer.\n",
    "</p>\n",
    "</div>"
   ]
  },
  {
   "cell_type": "code",
   "execution_count": null,
   "metadata": {},
   "outputs": [],
   "source": []
  },
  {
   "cell_type": "markdown",
   "metadata": {},
   "source": [
    "### 427. n-sequences\n",
    "#### ([Back to Top](#Table-of-Contents)) ([Webpage](https://projecteuler.net/problem=427))<div class=\"problem_content\" role=\"problem\">\n",
    "<p>A sequence of integers S = {s<sub><var>i</var></sub>} is called an <var>n-sequence</var> if it has <var>n</var> elements and each element s<sub><var>i</var></sub> satisfies 1 ≤ s<sub><var>i</var></sub> ≤ <var>n</var>. Thus there are <var>n</var><sup><var>n</var></sup> distinct <var>n</var>-sequences in total.\n",
    "For example, the sequence S = {1, 5, 5, 10, 7, 7, 7, 2, 3, 7} is a 10-sequence.</p>\n",
    "<p>For any sequence S, let L(S) be the length of the longest contiguous subsequence of S with the same value.\n",
    "For example, for the given sequence S above, L(S) = 3, because of the three consecutive 7's.</p>\n",
    "<p>Let <var>f</var>(<var>n</var>) = ∑ L(S) for all <var>n</var>-sequences S.</p>\n",
    "<p>For example, <var>f</var>(3) = 45, <var>f</var>(7) = 1403689 and <var>f</var>(11) = 481496895121.</p>\n",
    "<p>Find <var>f</var>(7 500 000) mod 1 000 000 009.</p>\n",
    "</div>"
   ]
  },
  {
   "cell_type": "code",
   "execution_count": null,
   "metadata": {},
   "outputs": [],
   "source": []
  },
  {
   "cell_type": "markdown",
   "metadata": {},
   "source": [
    "### 428. Necklace of circles\n",
    "#### ([Back to Top](#Table-of-Contents)) ([Webpage](https://projecteuler.net/problem=428))<div class=\"problem_content\" role=\"problem\">\n",
    "<p>Let <var>a</var>, <var>b</var> and <var>c</var> be positive numbers.<br>\n",
    "Let W, X, Y, Z be four collinear points where |WX| = <var>a</var>, |XY| = <var>b</var>, |YZ| = <var>c</var> and |WZ| = <var>a</var> + <var>b</var> + <var>c</var>.<br/>\n",
    "Let C<sub>in</sub> be the circle having the diameter XY.<br/>\n",
    "Let C<sub>out</sub> be the circle having the diameter WZ.<br/></br></p>\n",
    "<p>\n",
    "The triplet (<var>a</var>, <var>b</var>, <var>c</var>) is called a <em>necklace triplet</em> if you can place <var>k</var> ≥ 3 distinct circles C<sub>1</sub>, C<sub>2</sub>, ..., C<sub><var>k</var></sub> such that:\n",
    "</p><ul><li>C<sub><var>i</var></sub> has no common interior points with any C<sub><var>j</var></sub> for 1 ≤ <var>i</var>, <var>j</var> ≤ <var>k</var> and <var>i</var> ≠ <var>j</var>,\n",
    "</li><li>C<sub><var>i</var></sub> is tangent to both C<sub>in</sub> and C<sub>out</sub> for 1 ≤ <var>i</var> ≤ <var>k</var>,\n",
    "</li><li>C<sub><var>i</var></sub> is tangent to C<sub><var>i</var>+1</sub> for 1 ≤ <var>i</var> &lt; <var>k</var>, and\n",
    "</li><li>C<sub><var>k</var></sub> is tangent to C<sub>1</sub>.\n",
    "</li></ul><p>\n",
    "For example, (5, 5, 5) and (4, 3, 21) are necklace triplets, while it can be shown that (2, 2, 5) is not.\n",
    "</p>\n",
    "<p align=\"center\"><img alt=\"p428_necklace.png\" class=\"dark_img\" src=\"project/images/p428_necklace.png\"/></p>\n",
    "<p>\n",
    "Let T(<var>n</var>) be the number of necklace triplets (<var>a</var>, <var>b</var>, <var>c</var>) such that <var>a</var>, <var>b</var> and <var>c</var> are positive integers, and <var>b</var> ≤ <var>n</var>.\n",
    "For example, T(1) = 9, T(20) = 732 and T(3000) = 438106.\n",
    "</p>\n",
    "<p>\n",
    "Find T(1 000 000 000).\n",
    "</p>\n",
    "</div>"
   ]
  },
  {
   "cell_type": "code",
   "execution_count": null,
   "metadata": {},
   "outputs": [],
   "source": []
  },
  {
   "cell_type": "markdown",
   "metadata": {},
   "source": [
    "### 429. Sum of squares of unitary divisors\n",
    "#### ([Back to Top](#Table-of-Contents)) ([Webpage](https://projecteuler.net/problem=429))<div class=\"problem_content\" role=\"problem\">\n",
    "<p>\n",
    "A unitary divisor <var>d</var> of a number <var>n</var> is a divisor of <var>n</var> that has the property gcd(<var>d, n/d</var>) = 1.<br>\n",
    "The unitary divisors of 4! = 24 are 1, 3, 8 and 24.<br/>\n",
    "The sum of their squares is 1<sup>2</sup> + 3<sup>2</sup> + 8<sup>2</sup> + 24<sup>2</sup> = 650.\n",
    "</br></p>\n",
    "<p>\n",
    "Let S(<var>n</var>) represent the sum of the squares of the unitary divisors of <var>n</var>. Thus S(4!)=650.\n",
    "</p>\n",
    "<p>\n",
    "Find S(100 000 000!) modulo 1 000 000 009.\n",
    "</p>\n",
    "</div>"
   ]
  },
  {
   "cell_type": "code",
   "execution_count": null,
   "metadata": {},
   "outputs": [],
   "source": []
  },
  {
   "cell_type": "markdown",
   "metadata": {},
   "source": [
    "### 430. Range flips\n",
    "#### ([Back to Top](#Table-of-Contents)) ([Webpage](https://projecteuler.net/problem=430))<div class=\"problem_content\" role=\"problem\">\n",
    "<p><var>N</var> disks are placed in a row, indexed 1 to <var>N</var> from left to right.<br>\n",
    "Each disk has a black side and white side. Initially all disks show their white side.</br></p>\n",
    "<p>At each turn, two, not necessarily distinct, integers <var>A</var> and <var>B</var> between 1 and <var>N</var> (inclusive) are chosen uniformly at random.<br/>\n",
    "All disks with an index from <var>A</var> to <var>B</var> (inclusive) are flipped.</p>\n",
    "<p>The following example shows the case <var>N</var> = 8. At the first turn <var>A</var> = 5 and <var>B</var> = 2, and at the second turn <var>A</var> = 4 and <var>B</var> = 6.</p>\n",
    "<p align=\"center\"><img alt=\"p430_flips.gif\" class=\"dark_img\" src=\"project/images/p430_flips.gif\"/></p>\n",
    "<p>Let E(<var>N</var>, <var>M</var>) be the expected number of disks that show their white side after <var>M</var> turns.<br/>\n",
    "We can verify that E(3, 1) = 10/9, E(3, 2) = 5/3, E(10, 4) ≈ 5.157 and E(100, 10) ≈ 51.893.</p>\n",
    "<p>Find E(10<sup>10</sup>, 4000).<br/>\n",
    "Give your answer rounded to 2 decimal places behind the decimal point.</p>\n",
    "</div>"
   ]
  },
  {
   "cell_type": "code",
   "execution_count": null,
   "metadata": {},
   "outputs": [],
   "source": []
  },
  {
   "cell_type": "markdown",
   "metadata": {},
   "source": [
    "### 431. Square Space Silo\n",
    "#### ([Back to Top](#Table-of-Contents)) ([Webpage](https://projecteuler.net/problem=431))<div class=\"problem_content\" role=\"problem\">\n",
    "<p>Fred the farmer arranges to have a new storage silo installed on his farm and having an obsession for all things square he is absolutely devastated when he discovers that it is circular. Quentin, the representative from the company that installed the silo, explains that they only manufacture cylindrical silos, but he points out that it is resting on a square base. Fred is not amused and insists that it is removed from his property.</p>\n",
    "<p>Quick thinking Quentin explains that when granular materials are delivered from above a conical slope is formed and the natural angle made with the horizontal is called the angle of repose. For example if the angle of repose, $\\alpha = 30$ degrees, and grain is delivered at the centre of the silo then a perfect cone will form towards the top of the cylinder. In the case of this silo, which has a diameter of 6m, the amount of space wasted would be approximately 32.648388556 m<sup>3</sup>. However, if grain is delivered at a point on the top which has a horizontal distance of $x$ metres from the centre then a cone with a strangely curved and sloping base is formed. He shows Fred a picture.</p>\n",
    "<div style=\"text-align:center;\">\n",
    "<img alt=\"p431_grain_silo.png\" class=\"dark_img\" src=\"project/images/p431_grain_silo.png\"/></div>\n",
    "<p>We shall let the amount of space wasted in cubic metres be given by $V(x)$. If $x = 1.114785284$, which happens to have three squared decimal places, then the amount of space wasted, $V(1.114785284) \\approx 36$. Given the range of possible solutions to this problem there is exactly one other option: $V(2.511167869) \\approx 49$. It would be like knowing that the square is king of the silo, sitting in splendid glory on top of your grain.</p>\n",
    "<p>Fred's eyes light up with delight at this elegant resolution, but on closer inspection of Quentin's drawings and calculations his happiness turns to despondency once more. Fred points out to Quentin that it's the radius of the silo that is 6 metres, not the diameter, and the angle of repose for his grain is 40 degrees. However, if Quentin can find a set of solutions for this particular silo then he will be more than happy to keep it.</p>\n",
    "<p>If Quick thinking Quentin is to satisfy frustratingly fussy Fred the farmer's appetite for all things square then determine the values of $x$ for all possible square space wastage options and calculate $\\sum x$ correct to 9 decimal places.</p>\n",
    "</div>"
   ]
  },
  {
   "cell_type": "code",
   "execution_count": null,
   "metadata": {},
   "outputs": [],
   "source": []
  },
  {
   "cell_type": "markdown",
   "metadata": {},
   "source": [
    "### 432. Totient sum\n",
    "#### ([Back to Top](#Table-of-Contents)) ([Webpage](https://projecteuler.net/problem=432))<div class=\"problem_content\" role=\"problem\">\n",
    "<p>\n",
    "Let S(<var>n,m</var>) = ∑φ(<var>n × i</var>) for 1 ≤ <var>i ≤ m</var>. (φ is Euler's totient function)<br>\n",
    "You are given that S(510510,10<sup>6</sup> )= 45480596821125120. \n",
    "</br></p>\n",
    "<p>\n",
    "Find S(510510,10<sup>11</sup>).<br/>\n",
    "Give the last 9 digits of your answer.\n",
    "</p>\n",
    "</div>"
   ]
  },
  {
   "cell_type": "code",
   "execution_count": null,
   "metadata": {},
   "outputs": [],
   "source": []
  },
  {
   "cell_type": "markdown",
   "metadata": {},
   "source": [
    "### 433. Steps in Euclid's algorithm\n",
    "#### ([Back to Top](#Table-of-Contents)) ([Webpage](https://projecteuler.net/problem=433))<div class=\"problem_content\" role=\"problem\">\n",
    "<p>\n",
    "Let E(<var>x</var><sub>0</sub>, <var>y</var><sub>0</sub>) be the number of steps it takes to determine the greatest common divisor of <var>x</var><sub>0</sub> and <var>y</var><sub>0</sub> with <b>Euclid's algorithm</b>. More formally:<br><var>x</var><sub>1</sub> = <var>y</var><sub>0</sub>, <var>y</var><sub>1</sub> = <var>x</var><sub>0</sub> mod <var>y</var><sub>0</sub><br/><var>x<sub>n</sub></var> = <var>y</var><sub><var>n</var>-1</sub>, <var>y</var><sub><var>n</var></sub> = <var>x</var><sub><var>n</var>-1</sub> mod <var>y</var><sub><var>n</var>-1</sub><br/>\n",
    "E(<var>x</var><sub>0</sub>, <var>y</var><sub>0</sub>) is the smallest <var>n</var> such that <var>y</var><sub><var>n</var></sub> = 0.\n",
    "</br></p>\n",
    "<p>\n",
    "We have E(1,1) = 1, E(10,6) = 3 and E(6,10) = 4.\n",
    "</p>\n",
    "<p>\n",
    "Define S(N) as the sum of E(<var>x,y</var>) for 1 ≤ <var>x,y</var> ≤ N.<br/>\n",
    "We have S(1) = 1, S(10) = 221 and S(100) = 39826.\n",
    "</p>\n",
    "<p>\n",
    "Find S(5·10<sup>6</sup>).\n",
    "</p>\n",
    "</div>"
   ]
  },
  {
   "cell_type": "code",
   "execution_count": null,
   "metadata": {},
   "outputs": [],
   "source": []
  },
  {
   "cell_type": "markdown",
   "metadata": {},
   "source": [
    "### 434. Rigid graphs\n",
    "#### ([Back to Top](#Table-of-Contents)) ([Webpage](https://projecteuler.net/problem=434))<div class=\"problem_content\" role=\"problem\">\n",
    "<p>Recall that a graph is a collection of vertices and edges connecting the vertices, and that two vertices connected by an edge are called adjacent.<br>\n",
    "Graphs can be embedded in Euclidean space by associating each vertex with a point in the Euclidean space.<br/>\n",
    "A <strong>flexible</strong> graph is an embedding of a graph where it is possible to move one or more vertices continuously so that the distance between at least two nonadjacent vertices is altered while the distances between each pair of adjacent vertices is kept constant.<br/>\n",
    "A <strong>rigid</strong> graph is an embedding of a graph which is not flexible.<br/>\n",
    "Informally, a graph is rigid if by replacing the vertices with fully rotating hinges and the edges with rods that are unbending and inelastic, no parts of the graph can be moved independently from the rest of the graph.\n",
    "</br></p>\n",
    "<p>The <strong>grid graphs</strong> embedded in the Euclidean plane are not rigid, as the following animation demonstrates:</p>\n",
    "<div style=\"text-align:center;\"><img alt=\"p434_rigid.gif\" class=\"dark_img\" src=\"project/images/p434_rigid.gif\"/></div>\n",
    "<p>However, one can make them rigid by adding diagonal edges to the cells. For example, for the 2x3 grid graph, there are 19 ways to make the graph rigid:</p>\n",
    "<div style=\"text-align:center;\"><img alt=\"p434_rigid23.png\" class=\"dark_img\" src=\"project/images/p434_rigid23.png\"/></div>\n",
    "<p>Note that for the purposes of this problem, we do not consider changing the orientation of a diagonal edge or adding both diagonal edges to a cell as a different way of making a grid graph rigid.\n",
    "</p>\n",
    "<p>Let <var>R</var>(<var>m</var>,<var>n</var>) be the number of ways to make the <var>m</var> × <var>n</var> grid graph rigid. <br/>\n",
    "E.g. <var>R</var>(2,3) = 19 and <var>R</var>(5,5) = 23679901\n",
    "</p>\n",
    "<p>Define <var>S</var>(<var>N</var>) as ∑<var>R</var>(<var>i</var>,<var>j</var>) for 1 ≤ <var>i</var>, <var>j</var> ≤ <var>N</var>.<br/>\n",
    "E.g. <var>S</var>(5) = 25021721.<br/>\n",
    "Find <var>S</var>(100), give your answer modulo 1000000033\n",
    "</p>\n",
    "</div>"
   ]
  },
  {
   "cell_type": "code",
   "execution_count": null,
   "metadata": {},
   "outputs": [],
   "source": []
  },
  {
   "cell_type": "markdown",
   "metadata": {},
   "source": [
    "### 435. Polynomials of Fibonacci numbers\n",
    "#### ([Back to Top](#Table-of-Contents)) ([Webpage](https://projecteuler.net/problem=435))<div class=\"problem_content\" role=\"problem\">\n",
    "<p>The <strong>Fibonacci numbers</strong> {f<sub>n</sub>, n ≥ 0} are defined recursively as f<sub>n</sub> = f<sub>n-1</sub> + f<sub>n-2</sub> with base cases f<sub>0</sub> = 0 and f<sub>1</sub> = 1.</p>\n",
    "<p>Define the polynomials {F<sub>n</sub>, n ≥ 0} as F<sub>n</sub>(x) = ∑f<sub>i</sub>x<sup>i</sup> for 0 ≤ i ≤ n.</p>\n",
    "<p>For example, F<sub>7</sub>(x) = x + x<sup>2</sup> + 2x<sup>3</sup> + 3x<sup>4</sup> + 5x<sup>5</sup> + 8x<sup>6</sup> + 13x<sup>7</sup>, and F<sub>7</sub>(11) = 268357683.</p>\n",
    "<p>Let n = 10<sup>15</sup>. Find the sum [∑<sub>0≤x≤100</sub> F<sub>n</sub>(x)] mod 1307674368000 (= 15!).</p>\n",
    "</div>"
   ]
  },
  {
   "cell_type": "code",
   "execution_count": null,
   "metadata": {},
   "outputs": [],
   "source": []
  },
  {
   "cell_type": "markdown",
   "metadata": {},
   "source": [
    "### 436. Unfair wager\n",
    "#### ([Back to Top](#Table-of-Contents)) ([Webpage](https://projecteuler.net/problem=436))<div class=\"problem_content\" role=\"problem\">\n",
    "<p>Julie proposes the following wager to her sister Louise.<br>\n",
    "She suggests they play a game of chance to determine who will wash the dishes.<br/>\n",
    "For this game, they shall use a generator of independent random numbers uniformly distributed between 0 and 1.<br/>\n",
    "The game starts with <var>S</var> = 0.<br/>\n",
    "The first player, Louise, adds to <var>S</var> different random numbers from the generator until <var>S</var> &gt; 1 and records her last random number '<var>x</var>'.<br/>\n",
    "The second player, Julie, continues adding to <var>S</var> different random numbers from the generator until <var>S</var> &gt; 2 and records her last random number '<var>y</var>'.<br/>\n",
    "The player with the highest number wins and the loser washes the dishes, i.e. if <var>y</var> &gt; <var>x</var> the second player wins.</br></p>\n",
    "<p>For e<var>x</var>ample, if the first player draws 0.62 and 0.44, the first player turn ends since 0.62+0.44 &gt; 1 and <var>x</var> = 0.44.<br/>\n",
    "If the second players draws 0.1, 0.27 and 0.91, the second player turn ends since 0.62+0.44+0.1+0.27+0.91 &gt; 2 and <var>y</var> = 0.91.\n",
    "Since <var>y</var> &gt; <var>x</var>, the second player wins.</p>\n",
    "<p>Louise thinks about it for a second, and objects: \"That's not fair\".<br/>\n",
    "What is the probability that the second player wins?<br/>\n",
    "Give your answer rounded to 10 places behind the decimal point in the form 0.abcdefghij</p>\n",
    "</div>"
   ]
  },
  {
   "cell_type": "code",
   "execution_count": null,
   "metadata": {},
   "outputs": [],
   "source": []
  },
  {
   "cell_type": "markdown",
   "metadata": {},
   "source": [
    "### 437. Fibonacci primitive roots\n",
    "#### ([Back to Top](#Table-of-Contents)) ([Webpage](https://projecteuler.net/problem=437))<div class=\"problem_content\" role=\"problem\">\n",
    "<p>\n",
    "When we calculate 8<sup>n</sup> modulo 11 for n=0 to 9 we get: 1, 8, 9, 6, 4, 10, 3, 2, 5, 7.<br>\n",
    "As we see all possible values from 1 to 10 occur. So 8 is a <b>primitive root</b> of 11.<br/>\n",
    "But there is more:<br/>\n",
    "If we take a closer look we see:<br/>\n",
    "1+8=9<br/>\n",
    "8+9=17≡6 mod 11<br/>\n",
    "9+6=15≡4 mod 11<br/>\n",
    "6+4=10<br/>\n",
    "4+10=14≡3 mod 11<br/>\n",
    "10+3=13≡2 mod 11<br/>\n",
    "3+2=5<br/>\n",
    "2+5=7<br/>\n",
    "5+7=12≡1 mod 11.\n",
    "</br></p>\n",
    "So the powers of 8 mod 11 are cyclic with period 10, and 8<sup>n</sup> + 8<sup>n+1</sup> ≡ 8<sup>n+2</sup> (mod 11).<br/>\n",
    "8 is called a <b>Fibonacci primitive root</b> of 11.<br/>\n",
    "Not every prime has a Fibonacci primitive root.<br/>\n",
    "There are 323 primes less than 10000 with one or more Fibonacci primitive roots and the sum of these primes is 1480491.<br/>\n",
    "Find the sum of the primes less than 100,000,000 with at least one Fibonacci primitive root.\n",
    "\n",
    "\n",
    "</div>"
   ]
  },
  {
   "cell_type": "code",
   "execution_count": null,
   "metadata": {},
   "outputs": [],
   "source": []
  },
  {
   "cell_type": "markdown",
   "metadata": {},
   "source": [
    "### 438. Integer part of polynomial equation's solutions\n",
    "#### ([Back to Top](#Table-of-Contents)) ([Webpage](https://projecteuler.net/problem=438))<div class=\"problem_content\" role=\"problem\">\n",
    "<p>\n",
    "For an <var>n</var>-tuple of integers <var>t</var> = (<var>a</var><sub>1</sub>, ..., <var>a</var><sub><var>n</var></sub>), let (<var>x</var><sub>1</sub>, ..., <var>x</var><sub><var>n</var></sub>) be the solutions of the polynomial equation <var>x</var><sup><var>n</var></sup> + <var>a</var><sub>1</sub><var>x</var><sup><var>n</var>-1</sup> + <var>a</var><sub>2</sub><var>x</var><sup><var>n</var>-2</sup> + ... + <var>a</var><sub><var>n</var>-1</sub><var>x</var> + <var>a</var><sub><var>n</var></sub> = 0.\n",
    "</p>\n",
    "<p>\n",
    "Consider the following two conditions:\n",
    "</p><ul><li><var>x</var><sub>1</sub>, ..., <var>x</var><sub><var>n</var></sub> are all real.\n",
    "</li><li>If <var>x</var><sub>1</sub>, ..., <var>x</var><sub><var>n</var></sub> are sorted, ⌊<var>x</var><sub><var>i</var></sub>⌋ = <var>i</var> for 1 ≤ <var>i</var> ≤ <var>n</var>. (⌊·⌋: floor function.)\n",
    "</li></ul><p>\n",
    "In the case of <var>n</var> = 4, there are 12 <var>n</var>-tuples of integers which satisfy both conditions.<br>\n",
    "We define S(<var>t</var>) as the sum of the absolute values of the integers in <var>t</var>.<br/>\n",
    "For <var>n</var> = 4 we can verify that ∑S(<var>t</var>) = 2087 for all <var>n</var>-tuples <var>t</var> which satisfy both conditions.\n",
    "</br></p>\n",
    "<p>\n",
    "Find ∑S(<var>t</var>) for <var>n</var> = 7.\n",
    "</p>\n",
    "</div>"
   ]
  },
  {
   "cell_type": "code",
   "execution_count": null,
   "metadata": {},
   "outputs": [],
   "source": []
  },
  {
   "cell_type": "markdown",
   "metadata": {},
   "source": [
    "### 439. Sum of sum of divisors\n",
    "#### ([Back to Top](#Table-of-Contents)) ([Webpage](https://projecteuler.net/problem=439))<div class=\"problem_content\" role=\"problem\">\n",
    "<p>Let <var>d</var>(<var>k</var>) be the sum of all divisors of <var>k</var>.<br>\n",
    "We define the function S(<var>N</var>) = $\\sum_{i=1}^N \\sum_{j=1}^Nd(i \\cdot j)$.<br/>\n",
    "For example, S(3) = <var>d</var>(1) + <var>d</var>(2) + <var>d</var>(3) + <var>d</var>(2) + <var>d</var>(4) + <var>d</var>(6) + <var>d</var>(3) + <var>d</var>(6) + <var>d</var>(9) = 59.</br></p>\n",
    "<p>You are given that S(10<sup>3</sup>) = 563576517282 and S(10<sup>5</sup>) mod 10<sup>9</sup> = 215766508.<br/>\n",
    "Find S(10<sup>11</sup>) mod 10<sup>9</sup>.</p>\n",
    "</div>"
   ]
  },
  {
   "cell_type": "code",
   "execution_count": null,
   "metadata": {},
   "outputs": [],
   "source": []
  },
  {
   "cell_type": "markdown",
   "metadata": {},
   "source": [
    "### 440. GCD and Tiling\n",
    "#### ([Back to Top](#Table-of-Contents)) ([Webpage](https://projecteuler.net/problem=440))<div class=\"problem_content\" role=\"problem\">\n",
    "<p>We want to tile a board of length <var>n</var> and height 1 completely, with either 1 × 2 blocks or 1 × 1 blocks with a single decimal digit on top:</p>\n",
    "<div style=\"text-align:center;\">\n",
    "<img alt=\"p440_tiles.png\" src=\"project/images/p440_tiles.png\"/></div>\n",
    "<p>For example, here are some of the ways to tile a board of length <var>n</var> = 8:</p>\n",
    "<div style=\"text-align:center;\">\n",
    "<img alt=\"p440_some8.png\" src=\"project/images/p440_some8.png\"/></div>\n",
    "<p>Let T(<var>n</var>) be the number of ways to tile a board of length <var>n</var> as described above.</p>\n",
    "<p>For example, T(1) = 10 and T(2) = 101.</p>\n",
    "<p>Let S(<var>L</var>) be the triple sum ∑<sub><var>a</var>,<var>b</var>,<var>c</var></sub> gcd(T(<var>c</var><sup><var>a</var></sup>), T(<var>c</var><sup><var>b</var></sup>)) for 1 ≤ <var>a</var>, <var>b</var>, <var>c</var> ≤ <var>L</var>.<br>\n",
    "For example:<br/>\n",
    "S(2) = 10444<br/>\n",
    "S(3) = 1292115238446807016106539989<br/>\n",
    "S(4) mod 987 898 789 = 670616280.</br></p>\n",
    "<p>Find S(2000) mod 987 898 789.</p>\n",
    "</div>"
   ]
  },
  {
   "cell_type": "code",
   "execution_count": null,
   "metadata": {},
   "outputs": [],
   "source": []
  },
  {
   "cell_type": "markdown",
   "metadata": {},
   "source": [
    "### 441. The inverse summation of coprime couples\n",
    "#### ([Back to Top](#Table-of-Contents)) ([Webpage](https://projecteuler.net/problem=441))<div class=\"problem_content\" role=\"problem\">\n",
    "<p>\n",
    "For an integer <var>M</var>, we define R(<var>M</var>) as the sum of 1/(<var>p</var>·<var>q</var>) for all the integer pairs <var>p</var> and <var>q</var> which satisfy all of these conditions:\n",
    "</p>\n",
    "<ul><li> 1 ≤ <var>p</var> &lt; <var>q</var> ≤ <var>M</var></li>\n",
    "<li> <var>p</var> + <var>q</var> ≥ <var>M</var></li>\n",
    "<li> <var>p</var> and <var>q</var> are coprime.</li>\n",
    "</ul><p>\n",
    "We also define S(<var>N</var>) as the sum of R(<var>i</var>) for 2 ≤ <var>i</var> ≤ <var>N</var>.<br>\n",
    "We can verify that S(2) = R(2) = 1/2, S(10) ≈ 6.9147 and S(100) ≈ 58.2962.\n",
    "</br></p>\n",
    "<p>\n",
    "Find S(10<sup>7</sup>). Give your answer rounded to four decimal places.\n",
    "</p>\n",
    "</div>"
   ]
  },
  {
   "cell_type": "code",
   "execution_count": null,
   "metadata": {},
   "outputs": [],
   "source": []
  },
  {
   "cell_type": "markdown",
   "metadata": {},
   "source": [
    "### 442. Eleven-free integers\n",
    "#### ([Back to Top](#Table-of-Contents)) ([Webpage](https://projecteuler.net/problem=442))<div class=\"problem_content\" role=\"problem\">\n",
    "<p>An integer is called <i>eleven-free</i> if its decimal expansion does not contain any substring representing a power of 11 except 1.</p>\n",
    "<p>For example, 2404 and 13431 are eleven-free, while 911 and 4121331 are not.</p>\n",
    "<p>Let E(<i>n</i>) be the <i>n</i>th positive eleven-free integer. For example, E(3) = 3, E(200) = 213 and E(500 000) = 531563.</p>\n",
    "<p>Find E(10<sup>18</sup>).</p>\n",
    "</div>"
   ]
  },
  {
   "cell_type": "code",
   "execution_count": null,
   "metadata": {},
   "outputs": [],
   "source": []
  },
  {
   "cell_type": "markdown",
   "metadata": {},
   "source": [
    "### 443. GCD sequence\n",
    "#### ([Back to Top](#Table-of-Contents)) ([Webpage](https://projecteuler.net/problem=443))<div class=\"problem_content\" role=\"problem\">\n",
    "<p>Let g(<var>n</var>) be a sequence defined as follows:<br>\n",
    "g(4) = 13,<br/>\n",
    "g(<var>n</var>) = g(<var>n</var>-1) + gcd(<var>n</var>, g(<var>n</var>-1)) for <var>n</var> &gt; 4.</br></p>\n",
    "<p>The first few values are:</p>\n",
    "<div align=\"center\">\n",
    "<table align=\"center\" border=\"0\" cellpadding=\"5\" cellspacing=\"1\"><tr><td><var>n</var></td><td>4</td><td>5</td><td>6</td><td>7</td><td>8</td><td>9</td><td>10</td><td>11</td><td>12</td><td>13</td><td>14</td><td>15</td><td>16</td><td>17</td><td>18</td><td>19</td><td>20</td><td>...</td>\n",
    "</tr><tr><td>g(<var>n</var>)</td><td>13</td><td>14</td><td>16</td><td>17</td><td>18</td><td>27</td><td>28</td><td>29</td><td>30</td><td>31</td><td>32</td><td>33</td><td>34</td><td>51</td><td>54</td><td>55</td><td>60</td><td>...</td>\n",
    "</tr></table></div>\n",
    "<p>You are given that g(1 000) = 2524 and g(1 000 000) = 2624152.</p>\n",
    "<p>Find g(10<sup>15</sup>).</p>\n",
    "</div>"
   ]
  },
  {
   "cell_type": "code",
   "execution_count": null,
   "metadata": {},
   "outputs": [],
   "source": []
  },
  {
   "cell_type": "markdown",
   "metadata": {},
   "source": [
    "### 444. The Roundtable Lottery\n",
    "#### ([Back to Top](#Table-of-Contents)) ([Webpage](https://projecteuler.net/problem=444))<div class=\"problem_content\" role=\"problem\">\n",
    "<p>A group of <var>p</var> people decide to sit down at a round table and play a lottery-ticket trading game. Each person starts off with a randomly-assigned, unscratched lottery ticket. Each ticket, when scratched, reveals a whole-pound prize ranging anywhere from £1 to £<var>p</var>, with no two tickets alike. The goal of the game is for each person to maximize his ticket winnings upon leaving the game.</p>\n",
    "<p>An arbitrary person is chosen to be the first player. Going around the table, each player has only one of two options:</p>\n",
    "<p>1. The player can scratch his ticket and reveal its worth to everyone at the table.<br>\n",
    "2. The player can trade his unscratched ticket for a previous player's scratched ticket, and then leave the game with that ticket. The previous player then scratches his newly-acquired ticket and reveals its worth to everyone at the table.</br></p>\n",
    "<p>The game ends once all tickets have been scratched. All players still remaining at the table must leave with their currently-held tickets.</p>\n",
    "<p>Assume that each player uses the optimal strategy for maximizing the expected value of his ticket winnings. </p>\n",
    "<p>Let E(<var>p</var>) represent the expected number of players left at the table when the game ends in a game consisting of <var>p</var> players (e.g. E(111) = 5.2912 when rounded to 5 significant digits).</p>\n",
    "<p>Let $S_1(N) = \\sum \\limits_{p = 1}^{N} {E(p)}$.<br/>\n",
    "Let $S_k(N) = \\sum \\limits_{p = 1}^{N} {S_{k-1}(p)}$ for $k \\gt 1$.</p>\n",
    "<p>Find S<sub>20</sub>(10<sup>14</sup>) and write the answer in scientific notation rounded to 10 significant digits. Use a lowercase e to separate mantissa and exponent (e.g. S<sub>3</sub>(100) = 5.983679014e5).</p>\n",
    "</div>"
   ]
  },
  {
   "cell_type": "code",
   "execution_count": null,
   "metadata": {},
   "outputs": [],
   "source": []
  },
  {
   "cell_type": "markdown",
   "metadata": {},
   "source": [
    "### 445. Retractions A\n",
    "#### ([Back to Top](#Table-of-Contents)) ([Webpage](https://projecteuler.net/problem=445))<div class=\"problem_content\" role=\"problem\">\n",
    "<p>\n",
    "For every integer n&gt;1, the family of functions f<sub>n,a,b</sub>  is defined \n",
    "by f<sub>n,a,b</sub>(<var>x</var>)≡a<var>x</var>+b mod n for a,b,<var>x</var> integer and  0&lt;a&lt;n, 0≤b&lt;n, 0≤<var>x</var>&lt;n.<br>\n",
    "We will call f<sub>n,a,b</sub> a <i>retraction</i> if f<sub>n,a,b</sub>(f<sub>n,a,b</sub>(<var>x</var>))≡f<sub>n,a,b</sub>(<var>x</var>) mod n for every 0≤<var>x</var>&lt;n.<br/>\n",
    "Let R(n) be the number of retractions for n.\n",
    "</br></p>\n",
    "<p>\n",
    "You are given that<br/>\n",
    "∑ R(c) for c=C(100 000,k), and 1 ≤ k ≤99 999 ≡628701600 (mod 1 000 000 007).<br/>\n",
    "(C(n,k) is the binomial coefficient).<br/></p>\n",
    "<p> \n",
    "Find ∑ R(c) for c=C(10 000 000,k), and 1 ≤k≤ 9 999 999.<br/>\n",
    "Give your answer modulo 1 000 000 007.\n",
    "</p>\n",
    "</div>"
   ]
  },
  {
   "cell_type": "code",
   "execution_count": null,
   "metadata": {},
   "outputs": [],
   "source": []
  },
  {
   "cell_type": "markdown",
   "metadata": {},
   "source": [
    "### 446. Retractions B\n",
    "#### ([Back to Top](#Table-of-Contents)) ([Webpage](https://projecteuler.net/problem=446))<div class=\"problem_content\" role=\"problem\">\n",
    "<p>\n",
    "For every integer n&gt;1, the family of functions f<sub>n,a,b</sub>  is defined \n",
    "by f<sub>n,a,b</sub>(<var>x</var>)≡a<var>x</var>+b mod n for a,b,<var>x</var> integer and  0&lt;a&lt;n, 0≤b&lt;n, 0≤<var>x</var>&lt;n.<br>\n",
    "We will call f<sub>n,a,b</sub> a <i>retraction</i> if f<sub>n,a,b</sub>(f<sub>n,a,b</sub>(<var>x</var>))≡f<sub>n,a,b</sub>(<var>x</var>) mod n for every 0≤<var>x</var>&lt;n.<br/>\n",
    "Let R(n) be the number of retractions for n.\n",
    "</br></p>\n",
    "<p>\n",
    "F(N)=∑R(n<sup>4</sup>+4) for 1≤n≤N. <br/> \n",
    "F(1024)=77532377300600.<br/></p>\n",
    "<p>\n",
    "Find F(10<sup>7</sup>) (mod 1 000 000 007)\n",
    "</p>\n",
    "</div>"
   ]
  },
  {
   "cell_type": "code",
   "execution_count": null,
   "metadata": {},
   "outputs": [],
   "source": []
  },
  {
   "cell_type": "markdown",
   "metadata": {},
   "source": [
    "### 447. Retractions C\n",
    "#### ([Back to Top](#Table-of-Contents)) ([Webpage](https://projecteuler.net/problem=447))<div class=\"problem_content\" role=\"problem\">\n",
    "<p>\n",
    "For every integer n&gt;1, the family of functions f<sub>n,a,b</sub>  is defined \n",
    "by f<sub>n,a,b</sub>(<var>x</var>)≡a<var>x</var>+b mod n for a,b,<var>x</var> integer and  0&lt;a&lt;n, 0≤b&lt;n, 0≤<var>x</var>&lt;n.<br>\n",
    "We will call f<sub>n,a,b</sub> a <i>retraction</i> if f<sub>n,a,b</sub>(f<sub>n,a,b</sub>(<var>x</var>))≡f<sub>n,a,b</sub>(<var>x</var>) mod n for every 0≤<var>x</var>&lt;n.<br/>\n",
    "Let R(n) be the number of retractions for n.\n",
    "</br></p>\n",
    "<p>\n",
    "F(N)=∑R(n) for 2≤n≤N.<br/>\n",
    "F(10<sup>7</sup>)≡638042271 (mod 1 000 000 007).\n",
    "</p>\n",
    "<p> \n",
    "Find F(10<sup>14</sup>) (mod 1 000 000 007).\n",
    "</p>\n",
    "</div>"
   ]
  },
  {
   "cell_type": "code",
   "execution_count": null,
   "metadata": {},
   "outputs": [],
   "source": []
  },
  {
   "cell_type": "markdown",
   "metadata": {},
   "source": [
    "### 448. Average least common multiple\n",
    "#### ([Back to Top](#Table-of-Contents)) ([Webpage](https://projecteuler.net/problem=448))<div class=\"problem_content\" role=\"problem\">\n",
    "<p>\n",
    "The function <b>lcm</b>(a,b) denotes the least common multiple of a and b.<br>\n",
    "Let A(n) be the average of the values of lcm(n,i) for 1≤i≤n.<br/>\n",
    "E.g: A(2)=(2+2)/2=2 and A(10)=(10+10+30+20+10+30+70+40+90+10)/10=32. \n",
    "</br></p>\n",
    "Let S(n)=∑A(k) for 1≤k≤n.<br/>\n",
    "S(100)=122726.\n",
    "\n",
    "<p>\n",
    "Find S(99999999019) mod 999999017.\n",
    "</p>\n",
    "</div>"
   ]
  },
  {
   "cell_type": "code",
   "execution_count": null,
   "metadata": {},
   "outputs": [],
   "source": []
  },
  {
   "cell_type": "markdown",
   "metadata": {},
   "source": [
    "### 449. Chocolate covered candy\n",
    "#### ([Back to Top](#Table-of-Contents)) ([Webpage](https://projecteuler.net/problem=449))<div class=\"problem_content\" role=\"problem\">\n",
    "<p>Phil the confectioner is making a new batch of chocolate covered candy. Each candy centre is shaped like an ellipsoid of revolution defined by the equation: b<sup>2</sup><var>x</var><sup>2</sup> + b<sup>2</sup><var>y</var><sup>2</sup> + a<sup>2</sup><var>z</var><sup>2</sup> = a<sup>2</sup>b<sup>2</sup>.\n",
    "</p>\n",
    "<p>\n",
    "Phil wants to know how much chocolate is needed to cover one candy centre with a uniform coat of chocolate one millimeter thick.\n",
    "</p><table class=\"formula\"><tr><td>If a=1 mm and b=1 mm, the amount of chocolate required is \n",
    "    </td>\n",
    "<td><table class=\"frac\"><tr><td>28</td></tr><tr><td class=\"overline\">3</td></tr></table></td>\n",
    "<td>π mm<sup>3</sup></td>\n",
    "</tr></table>\n",
    "If a=2 mm and b=1 mm, the amount of chocolate required is approximately 60.35475635 mm<sup>3</sup>.\n",
    "\n",
    "<p>\n",
    "Find the amount of chocolate in mm<sup>3</sup> required if a=3 mm and b=1 mm. Give your answer as the number rounded to 8 decimal places behind the decimal point.</p>\n",
    "</div>"
   ]
  },
  {
   "cell_type": "code",
   "execution_count": null,
   "metadata": {},
   "outputs": [],
   "source": []
  },
  {
   "cell_type": "markdown",
   "metadata": {},
   "source": [
    "### 450. Hypocycloid and Lattice points\n",
    "#### ([Back to Top](#Table-of-Contents)) ([Webpage](https://projecteuler.net/problem=450))<div class=\"problem_content\" role=\"problem\">\n",
    "<p>\n",
    "A hypocycloid is the curve drawn by a point on a small circle rolling inside a larger circle. The parametric equations of a hypocycloid centered at the origin, and starting at the right most point is given by:</p><p style=\"text-align:center;\">\n",
    "$x(t) = (R - r) \\cos(t) + r \\cos(\\frac {R - r} r t)$<br>\n",
    "$y(t) = (R - r) \\sin(t) - r \\sin(\\frac {R - r} r t)$</br></p><p>\n",
    "Where <var>R</var> is the radius of the large circle and <var>r</var> the radius of the small circle.\n",
    "</p>\n",
    "<p>\n",
    "Let $C(R, r)$ be the set of distinct points with integer coordinates on the hypocycloid with radius <var>R</var> and <var>r</var> and for which there is a corresponding value of <var>t</var> such that $\\sin(t)$ and $\\cos(t)$ are rational numbers.</p>\n",
    "<p>\n",
    "Let $S(R, r) = \\sum_{(x,y) \\in C(R, r)} |x| + |y|$ be the sum of the absolute values of the <var>x</var> and <var>y</var> coordinates of the points in $C(R, r)$.</p>\n",
    "<p>\n",
    "\n",
    "Let $T(N) = \\sum_{R = 3}^N \\sum_{r=1}^{\\lfloor \\frac {R - 1} 2 \\rfloor} S(R, r)$ be the sum of $S(R, r)$ for <var>R</var> and <var>r</var> positive integers, $R\\leq N$  and $2r &lt; R$.\n",
    "</p>\n",
    "<div>You are given:<br/><table style=\"border:none;\"><tr><td><div style=\"text-align:right;\"><var>C</var>(3, 1) =</div></td>\n",
    "<td>{(3, 0), (-1, 2), (-1,0), (-1,-2)}</td>\n",
    "</tr><tr><td style=\"vertical-align:top;\"><div style=\"text-align:right;\"><var>C</var>(2500, 1000) =</div></td>\n",
    "<td style=\"vertical-align:top;\">{(2500, 0), (772, 2376), (772, -2376), (516, 1792),\n",
    " (516, -1792), (500, 0), (68, 504), (68, -504),<br/>(-1356, 1088), (-1356, -1088), (-1500, 1000), (-1500, -1000)}</td>\n",
    "</tr></table></div>\n",
    "<p><i>Note: (-625, 0) is not an element of C(2500, 1000) because $\\sin(t)$ is not a rational number for the corresponding values of <var>t</var>.</i></p>\n",
    "<p>\n",
    "<var>S</var>(3, 1) = (|3| + |0|) + (|-1| + |2|) + (|-1| + |0|) + (|-1| + |-2|) = 10</p>\n",
    "<p>\n",
    "<var>T</var>(3) = 10; <var>T</var>(10) = 524 ;<var>T</var>(100) = 580442; <var>T</var>(10<sup>3</sup>) = 583108600.\n",
    "</p>\n",
    "<p>\n",
    "Find <var>T</var>(10<sup>6</sup>).\n",
    "</p>\n",
    "</div>"
   ]
  },
  {
   "cell_type": "code",
   "execution_count": null,
   "metadata": {},
   "outputs": [],
   "source": []
  }
 ],
 "metadata": {
  "kernelspec": {
   "display_name": "Python 3",
   "language": "python",
   "name": "python3"
  },
  "language_info": {
   "codemirror_mode": {
    "name": "ipython",
    "version": 3
   },
   "file_extension": ".py",
   "mimetype": "text/x-python",
   "name": "python",
   "nbconvert_exporter": "python",
   "pygments_lexer": "ipython3",
   "version": "3.6.8"
  }
 },
 "nbformat": 4,
 "nbformat_minor": 2
}
