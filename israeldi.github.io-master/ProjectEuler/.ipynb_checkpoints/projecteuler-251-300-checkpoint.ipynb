{
 "cells": [
  {
   "cell_type": "markdown",
   "metadata": {},
   "source": [
    "# Project Euler: 251-300\n",
    "### Israel Diego [(Go to Home Page)](https://israeldi.github.io/project-euler/)\n",
    " What follows are Python-based solutions to <a href=\"https://projecteuler.net\">Project Euler</a> problems. In writing the code, I have aimed for a balance between readability and being concise, for which Python is well-suited. Efficiency is only considered if necessary to get reasonable runtime. To check your answers, create an account on Project Euler, where you can submit answers for validation and track your progress.\n",
    " ## Table of Contents\n",
    " 1. [251. Cardano Triplets](#251.-Cardano-Triplets)\n",
    " 2. [252. Convex Holes](#252.-Convex-Holes)\n",
    " 3. [253. Tidying up](#253.-Tidying-up)\n",
    " 4. [254. Sums of Digit Factorials](#254.-Sums-of-Digit-Factorials)\n",
    " 5. [255. Rounded Square Roots](#255.-Rounded-Square-Roots)\n",
    " 6. [256. Tatami-Free Rooms](#256.-Tatami-Free-Rooms)\n",
    " 7. [257. Angular Bisectors](#257.-Angular-Bisectors)\n",
    " 8. [258. A lagged Fibonacci sequence](#258.-A-lagged-Fibonacci-sequence)\n",
    " 9. [259. Reachable Numbers](#259.-Reachable-Numbers)\n",
    " 10. [260. Stone Game](#260.-Stone-Game)\n",
    " 11. [261. Pivotal Square Sums](#261.-Pivotal-Square-Sums)\n",
    " 12. [262. Mountain Range](#262.-Mountain-Range)\n",
    " 13. [263. An engineers' dream come true](#263.-An-engineers'-dream-come-true)\n",
    " 14. [264. Triangle Centres](#264.-Triangle-Centres)\n",
    " 15. [265. Binary Circles](#265.-Binary-Circles)\n",
    " 16. [266. Pseudo Square Root](#266.-Pseudo-Square-Root)\n",
    " 17. [267. Billionaire](#267.-Billionaire)\n",
    " 18. [268. Counting numbers with at least four distinct prime factors less than 100](#268.-Counting-numbers-with-at-least-four-distinct-prime-factors-less-than-100)\n",
    " 19. [269. Polynomials with at least one integer root](#269.-Polynomials-with-at-least-one-integer-root)\n",
    " 20. [270. Cutting Squares](#270.-Cutting-Squares)\n",
    " 21. [271. Modular Cubes, part 1](#271.-Modular-Cubes,-part-1)\n",
    " 22. [272. Modular Cubes, part 2](#272.-Modular-Cubes,-part-2)\n",
    " 23. [273. Sum of Squares](#273.-Sum-of-Squares)\n",
    " 24. [274. Divisibility Multipliers](#274.-Divisibility-Multipliers)\n",
    " 25. [275. Balanced Sculptures](#275.-Balanced-Sculptures)\n",
    " 26. [276. Primitive Triangles](#276.-Primitive-Triangles)\n",
    " 27. [277. A Modified Collatz sequence](#277.-A-Modified-Collatz-sequence)\n",
    " 28. [278. Linear Combinations of Semiprimes](#278.-Linear-Combinations-of-Semiprimes)\n",
    " 29. [279. Triangles with integral sides and an integral angle ](#279.-Triangles-with-integral-sides-and-an-integral-angle-)\n",
    " 30. [280. Ant and seeds](#280.-Ant-and-seeds)\n",
    " 31. [281. Pizza Toppings](#281.-Pizza-Toppings)\n",
    " 32. [282. The Ackermann function](#282.-The-Ackermann-function)\n",
    " 33. [283. Integer sided triangles for which the  area/perimeter ratio is integral](#283.-Integer-sided-triangles-for-which-the--area/perimeter-ratio-is-integral)\n",
    " 34. [284. Steady Squares](#284.-Steady-Squares)\n",
    " 35. [285. Pythagorean odds](#285.-Pythagorean-odds)\n",
    " 36. [286. Scoring probabilities](#286.-Scoring-probabilities)\n",
    " 37. [287. Quadtree encoding (a simple compression algorithm)](#287.-Quadtree-encoding-(a-simple-compression-algorithm))\n",
    " 38. [288. An enormous factorial](#288.-An-enormous-factorial)\n",
    " 39. [289. Eulerian Cycles](#289.-Eulerian-Cycles)\n",
    " 40. [290. Digital Signature](#290.-Digital-Signature)\n",
    " 41. [291. Panaitopol Primes](#291.-Panaitopol-Primes)\n",
    " 42. [292. Pythagorean Polygons](#292.-Pythagorean-Polygons)\n",
    " 43. [293. Pseudo-Fortunate Numbers](#293.-Pseudo-Fortunate-Numbers)\n",
    " 44. [294. Sum of digits - experience #23](#294.-Sum-of-digits---experience-#23)\n",
    " 45. [295. Lenticular holes](#295.-Lenticular-holes)\n",
    " 46. [296. Angular Bisector and Tangent](#296.-Angular-Bisector-and-Tangent)\n",
    " 47. [297. Zeckendorf Representation](#297.-Zeckendorf-Representation)\n",
    " 48. [298. Selective Amnesia](#298.-Selective-Amnesia)\n",
    " 49. [299. Three similar triangles](#299.-Three-similar-triangles)\n",
    " 0. [300. Protein folding](#300.-Protein-folding)"
   ]
  },
  {
   "cell_type": "markdown",
   "metadata": {},
   "source": [
    "### 251. Cardano Triplets\n",
    "#### ([Back to Top](#Table-of-Contents)) ([Webpage](https://projecteuler.net/problem=251))<div class=\"problem_content\" role=\"problem\">\n",
    "<p>\n",
    "A triplet of positive integers (<var>a</var>,<var>b</var>,<var>c</var>) is called a Cardano Triplet if it satisfies the condition:</p>\n",
    "$$\\sqrt[3]{a + b \\sqrt{c}} + \\sqrt[3]{a - b \\sqrt{c}} = 1$$\n",
    "\n",
    "<p>\n",
    "For example, (2,1,5) is a Cardano Triplet.\n",
    "</p>\n",
    "<p>\n",
    "There exist 149 Cardano Triplets for which <var>a</var>+<var>b</var>+<var>c</var> ≤ 1000.\n",
    "</p>\n",
    "<p>\n",
    "Find how many Cardano Triplets exist such that <var>a</var>+<var>b</var>+<var>c</var> ≤ 110,000,000.\n",
    " \n",
    "</p>\n",
    "</div>"
   ]
  },
  {
   "cell_type": "code",
   "execution_count": null,
   "metadata": {},
   "outputs": [],
   "source": []
  },
  {
   "cell_type": "markdown",
   "metadata": {},
   "source": [
    "### 252. Convex Holes\n",
    "#### ([Back to Top](#Table-of-Contents)) ([Webpage](https://projecteuler.net/problem=252))<div class=\"problem_content\" role=\"problem\">\n",
    "<p>\n",
    "Given a set of points on a plane, we define a convex hole to be a convex polygon having as vertices any of the given points and not containing any of the given points in its interior (in addition to the vertices, other given points may lie on the perimeter of the polygon). \n",
    "</p>\n",
    "<p>\n",
    "As an example, the image below shows a set of twenty points and a few such convex holes. \n",
    "The convex hole shown as a red heptagon has an area equal to 1049694.5 square units, which is the highest possible area for a convex hole on the given set of points.\n",
    "</p>\n",
    "<div style=\"text-align:center;\">\n",
    "<img alt=\"\" class=\"dark_img\" src=\"project/images/p252_convexhole.gif\"/></div>\n",
    "<p>\n",
    "</p><p>For our example, we used the first 20 points (<var>T</var><sub>2<var>k</var>−1</sub>, <var>T</var><sub>2<var>k</var></sub>), for <var>k</var> = 1,2,…,20, produced with the pseudo-random number generator:</p>\n",
    "<center><table class=\"p252\"><tr><td style=\"text-align:right;\"><var>S</var><sub>0</sub></td>\n",
    "<td>=<sub> </sub></td>\n",
    "<td>290797<sub> </sub></td>\n",
    "</tr><tr><td><var>S</var><sub><var>n</var>+1</sub></td>\n",
    "<td>=<sub> </sub></td>\n",
    "<td><var>S</var><sub><var>n</var></sub><sup>2</sup> mod 50515093</td>\n",
    "</tr><tr><td style=\"text-align:right;\"><var>T</var><sub><var>n</var></sub></td>\n",
    "<td>=<sub> </sub></td>\n",
    "<td>( <var>S</var><sub><var>n</var></sub> mod 2000 ) − 1000<sup> </sup></td>\n",
    "</tr></table></center>\n",
    "<p>\n",
    "<i>i.e.</i> (527, 144), (−488, 732), (−454, −947), …\n",
    "</p>\n",
    "<p>\n",
    "What is the maximum area for a convex hole on the set containing the first 500 points in the pseudo-random sequence?<br> Specify your answer including one digit after the decimal point.\n",
    "</br></p>\n",
    "</div>"
   ]
  },
  {
   "cell_type": "code",
   "execution_count": null,
   "metadata": {},
   "outputs": [],
   "source": []
  },
  {
   "cell_type": "markdown",
   "metadata": {},
   "source": [
    "### 253. Tidying up\n",
    "#### ([Back to Top](#Table-of-Contents)) ([Webpage](https://projecteuler.net/problem=253))<div class=\"problem_content\" role=\"problem\">\n",
    "<p>A small child has a “number caterpillar” consisting of forty jigsaw pieces, each with one number on it, which, when connected together in a line, reveal the numbers 1 to 40 in order.</p>\n",
    "<p>Every night, the child's father has to pick up the pieces of the caterpillar that have been scattered across the play room. He picks up the pieces at random and places them in the correct order.<br> As the caterpillar is built up in this way, it forms distinct segments that gradually merge together.<br/> The number of segments starts at zero (no pieces placed), generally increases up to about eleven or twelve, then tends to drop again before finishing at a single segment (all pieces placed).</br></p><p>\n",
    "</p><p>For example:</p>\n",
    "<div style=\"text-align:center;\">\n",
    "<table class=\"grid\" style=\"margin:0 auto;\"><tr><th align=\"center\" width=\"80\"><b>Piece Placed</b></th>\n",
    "<th align=\"center\" width=\"80\"><b>Segments So Far</b></th></tr><tr><td align=\"center\">12</td><td align=\"center\">1</td></tr><tr><td align=\"center\">4</td><td align=\"center\">2</td></tr><tr><td align=\"center\">29</td><td align=\"center\">3</td></tr><tr><td align=\"center\">6</td><td align=\"center\">4</td></tr><tr><td align=\"center\">34</td><td align=\"center\">5</td></tr><tr><td align=\"center\">5</td><td align=\"center\">4</td></tr><tr><td align=\"center\">35</td><td align=\"center\">4</td></tr><tr><td align=\"center\">…</td><td align=\"center\">…</td></tr></table></div>\n",
    "<p>Let <var>M</var> be the maximum number of segments encountered during a random tidy-up of the caterpillar.<br/>\n",
    "For a caterpillar of ten pieces, the number of possibilities for each <var>M</var> is</p>\n",
    "<div style=\"text-align:center;\">\n",
    "<table class=\"grid\" style=\"margin:0 auto;\"><tr><th align=\"center\" width=\"50\"><b><var>M</var></b></th>\n",
    "<th align=\"center\" width=\"90\"><b>Possibilities</b></th></tr><tr><td align=\"center\">1</td><td align=\"right\">512      </td></tr><tr><td align=\"center\">2</td><td align=\"right\">250912      </td></tr><tr><td align=\"center\">3</td><td align=\"right\">1815264      </td></tr><tr><td align=\"center\">4</td><td align=\"right\">1418112      </td></tr><tr><td align=\"center\">5</td><td align=\"right\">144000      </td></tr></table></div>\n",
    "<p>so the most likely value of <var>M</var> is 3 and the average value is <sup>385643</sup>⁄<sub>113400</sub> = 3.400732, rounded to six decimal places.</p>\n",
    "<p>The most likely value of <var>M</var> for a forty-piece caterpillar is 11; but what is the average value of <var>M</var>?</p>\n",
    "<p>Give your answer rounded to six decimal places.</p>\n",
    "</div>"
   ]
  },
  {
   "cell_type": "code",
   "execution_count": null,
   "metadata": {},
   "outputs": [],
   "source": []
  },
  {
   "cell_type": "markdown",
   "metadata": {},
   "source": [
    "### 254. Sums of Digit Factorials\n",
    "#### ([Back to Top](#Table-of-Contents)) ([Webpage](https://projecteuler.net/problem=254))<div class=\"problem_content\" role=\"problem\">\n",
    "<p>Define f(<var>n</var>) as the sum of the factorials of the digits of <var>n</var>. For example, f(342) = 3! + 4! + 2! = 32.</p>\n",
    "<p>Define sf(<var>n</var>) as the sum of the digits of f(<var>n</var>). So sf(342) = 3 + 2 = 5.</p>\n",
    "<p>Define g(<var>i</var>) to be the smallest positive integer <var>n</var> such that sf(<var>n</var>) = <var>i</var>. Though sf(342) is 5, sf(25) is also 5, and it can be verified that g(5) is 25.</p>\n",
    "<p>Define sg(<var>i</var>) as the sum of the digits of g(<var>i</var>). So sg(5) = 2 + 5 = 7.</p>\n",
    "<p>Further, it can be verified that g(20) is 267 and ∑ sg(<var>i</var>) for 1 ≤ <var>i</var> ≤ 20 is 156.</p>\n",
    "<p>What is ∑ sg(<var>i</var>) for 1 ≤ <var>i</var> ≤ 150?</p>\n",
    "</div>"
   ]
  },
  {
   "cell_type": "code",
   "execution_count": null,
   "metadata": {},
   "outputs": [],
   "source": []
  },
  {
   "cell_type": "markdown",
   "metadata": {},
   "source": [
    "### 255. Rounded Square Roots\n",
    "#### ([Back to Top](#Table-of-Contents)) ([Webpage](https://projecteuler.net/problem=255))<div class=\"problem_content\" role=\"problem\">\n",
    "<p>We define the <i>rounded-square-root</i> of a positive integer <var>n</var> as the square root of <var>n</var> rounded to the nearest integer.</p>\n",
    "<p>The following procedure (essentially Heron's method adapted to integer arithmetic) finds the rounded-square-root of <var>n</var>:</p>\n",
    "<p>Let <var>d</var> be the number of digits of the number <var>n</var>.<br>\n",
    "If <var>d</var> is odd, set $x_0 = 2 \\times 10^{(d-1)/2}$.<br/>\n",
    "If <var>d</var> is even, set $x_0 = 7 \\times 10^{(d-2)/2}$.<br/>\n",
    "Repeat:</br></p>\n",
    "$$x_{k+1} = \\Biggl\\lfloor{\\dfrac{x_k + \\lceil{n / x_k}\\rceil}{2}}\\Biggr\\rfloor$$\n",
    "\n",
    "<p>until $x_{k+1} = x_k$.</p>\n",
    "<p>As an example, let us find the rounded-square-root of <var>n</var> = 4321.<br/><var>n</var> has 4 digits, so $x_0 = 7 \\times 10^{(4-2)/2} = 70$.<br/>\n",
    "$$x_1 = \\Biggl\\lfloor{\\dfrac{70 + \\lceil{4321 / 70}\\rceil}{2}}\\Biggr\\rfloor = 66\\\\\n",
    "x_2 = \\Biggl\\lfloor{\\dfrac{66 + \\lceil{4321 / 66}\\rceil}{2}}\\Biggr\\rfloor = 66$$\n",
    "\n",
    "Since $x_2 = x_1$, we stop here.<br/>\n",
    "So, after just two iterations, we have found that the rounded-square-root of 4321 is 66 (the actual square root is 65.7343137…).\n",
    "</p>\n",
    "<p>The number of iterations required when using this method is surprisingly low.<br/>\n",
    "For example, we can find the rounded-square-root of a 5-digit integer (10,000 ≤ <var>n</var> ≤ 99,999) with an average of 3.2102888889 iterations (the average value was rounded to 10 decimal places).\n",
    "</p>\n",
    "<p>Using the procedure described above, what is the average number of iterations required to find the rounded-square-root of a 14-digit number (10<sup>13</sup> ≤ <var>n</var> &lt; 10<sup>14</sup>)?<br/>\n",
    "Give your answer rounded to 10 decimal places.\n",
    "</p>\n",
    "<p>Note: The symbols $\\lfloor x \\rfloor$ and $\\lceil x \\rceil$ represent the <dfn title=\"the largest integer not greater than x\">floor function</dfn> and <dfn title=\"the smallest integer not less than x\">ceiling function</dfn> respectively.\n",
    "</p>\n",
    "</div>"
   ]
  },
  {
   "cell_type": "code",
   "execution_count": null,
   "metadata": {},
   "outputs": [],
   "source": []
  },
  {
   "cell_type": "markdown",
   "metadata": {},
   "source": [
    "### 256. Tatami-Free Rooms\n",
    "#### ([Back to Top](#Table-of-Contents)) ([Webpage](https://projecteuler.net/problem=256))<div class=\"problem_content\" role=\"problem\">\n",
    "<span style=\"font-size:10pt;\">\n",
    "</span><p>Tatami are rectangular mats, used to completely cover the floor of a room, without overlap.</p>\n",
    "<p>Assuming that the only type of available tatami has dimensions 1×2, there are obviously some limitations for the shape and size of the rooms that can be covered.</p>\n",
    "<p>For this problem, we consider only rectangular rooms with integer dimensions <var>a</var>, <var>b</var> and even size <var>s</var> = <var>a</var>·<var>b</var>.<br>\n",
    "We use the term 'size' to denote the floor surface area of the room, and — without loss of generality — we add the condition <var>a</var> ≤ <var>b</var>.</br></p>\n",
    "<p>There is one rule to follow when laying out tatami: there must be no points where corners of four different mats meet.<br/>\n",
    "For example, consider the two arrangements below for a 4×4 room:</p>\n",
    "<div align=\"center\">\n",
    "<img alt=\"p256_tatami3.gif\" src=\"project/images/p256_tatami3.gif\"/><br/></div>\n",
    "<p>The arrangement on the left is acceptable, whereas the one on the right is not: a red \"<span style=\"color:#FF0000;\"><b>X</b></span>\" in the middle, marks the point where four tatami meet.</p>\n",
    "<p>Because of this rule, certain even-sized rooms cannot be covered with tatami: we call them tatami-free rooms.<br/>\n",
    "Further, we define <var>T</var>(<var>s</var>) as the number of tatami-free rooms of size <var>s</var>.</p>\n",
    "<p>The smallest tatami-free room has size <var>s</var> = 70 and dimensions 7×10.<br/>\n",
    "All the other rooms of size <var>s</var> = 70 can be covered with tatami; they are: 1×70, 2×35 and 5×14.<br/>\n",
    "Hence, <var>T</var>(70) = 1.</p>\n",
    "<p>Similarly, we can verify that <var>T</var>(1320) = 5 because there are exactly 5 tatami-free rooms of size <var>s</var> = 1320:<br/>\n",
    "20×66, 22×60, 24×55, 30×44 and 33×40.<br/>\n",
    "In fact, <var>s</var> = 1320 is the smallest room-size <var>s</var> for which <var>T</var>(<var>s</var>) = 5.</p>\n",
    "<p>Find the smallest room-size <var>s</var> for which <var>T</var>(<var>s</var>) = 200.</p>\n",
    "</div>"
   ]
  },
  {
   "cell_type": "code",
   "execution_count": null,
   "metadata": {},
   "outputs": [],
   "source": []
  },
  {
   "cell_type": "markdown",
   "metadata": {},
   "source": [
    "### 257. Angular Bisectors\n",
    "#### ([Back to Top](#Table-of-Contents)) ([Webpage](https://projecteuler.net/problem=257))<div class=\"problem_content\" role=\"problem\">\n",
    "<span style=\"font-size:11pt;\">\n",
    "</span><p>Given is an integer sided triangle ABC with sides a ≤ b ≤ c. \n",
    "(AB = c, BC = a and AC = b).<br>\n",
    "The angular bisectors of the triangle intersect the sides at points E, F and G (see picture below).\n",
    "</br></p>\n",
    "<div align=\"center\">\n",
    "<img alt=\"p257_bisector.gif\" class=\"dark_img\" src=\"project/images/p257_bisector.gif\"/><br/></div>\n",
    "<p>\n",
    "The segments EF, EG and FG partition the triangle ABC into four smaller triangles: AEG, BFE, CGF and EFG.<br/>\n",
    "It can be proven that for each of these four triangles the ratio area(ABC)/area(subtriangle) is rational.<br/>\n",
    "However, there exist triangles for which some or all of these ratios are integral.\n",
    "</p>\n",
    "<p>\n",
    "How many triangles ABC with perimeter≤100,000,000 exist so that the ratio area(ABC)/area(AEG) is integral?\n",
    "</p>\n",
    "</div>"
   ]
  },
  {
   "cell_type": "code",
   "execution_count": null,
   "metadata": {},
   "outputs": [],
   "source": []
  },
  {
   "cell_type": "markdown",
   "metadata": {},
   "source": [
    "### 258. A lagged Fibonacci sequence\n",
    "#### ([Back to Top](#Table-of-Contents)) ([Webpage](https://projecteuler.net/problem=258))<div class=\"problem_content\" role=\"problem\">\n",
    "<p>A sequence is defined as:</p>\n",
    "<p>\n",
    "</p><ul><li><var>g</var><sub><var>k</var></sub> = 1, for 0 ≤ <var>k</var> ≤ 1999</li>\n",
    "<li><var>g</var><sub><var>k</var></sub> = <var>g</var><sub><var>k</var>-2000</sub> + <var>g</var><sub><var>k</var>-1999</sub>, for <var>k</var> ≥ 2000.\n",
    "</li></ul><p>Find <var>g</var><sub><var>k</var></sub> mod 20092010 for <var>k</var> = 10<sup>18</sup>.</p>\n",
    "</div>"
   ]
  },
  {
   "cell_type": "code",
   "execution_count": null,
   "metadata": {},
   "outputs": [],
   "source": []
  },
  {
   "cell_type": "markdown",
   "metadata": {},
   "source": [
    "### 259. Reachable Numbers\n",
    "#### ([Back to Top](#Table-of-Contents)) ([Webpage](https://projecteuler.net/problem=259))<div class=\"problem_content\" role=\"problem\">\n",
    "<p>A positive integer will be called <i>reachable</i> if it can result from an arithmetic expression obeying the following rules:</p>\n",
    "<ul><li>Uses the digits 1 through 9, in that order and exactly once each.</li>\n",
    "<li>Any successive digits can be concatenated (for example, using the digits 2, 3 and 4 we obtain the number 234).</li>\n",
    "<li>Only the four usual binary arithmetic operations (addition, subtraction, multiplication and division) are allowed.</li>\n",
    "<li>Each operation can be used any number of times, or not at all.</li>\n",
    "<li><dfn title=\"A minus sign applied to a single operand (as opposed to a subtraction operator between two operands)\">Unary minus</dfn> is not allowed.</li>\n",
    "<li>Any number of (possibly nested) parentheses may be used to define the order of operations.</li>\n",
    "</ul><p>For example, 42 is reachable, since (1/23) * ((4*5)-6) * (78-9) = 42.</p>\n",
    "<p>What is the sum of all positive reachable integers?</p>\n",
    "</div>"
   ]
  },
  {
   "cell_type": "code",
   "execution_count": null,
   "metadata": {},
   "outputs": [],
   "source": []
  },
  {
   "cell_type": "markdown",
   "metadata": {},
   "source": [
    "### 260. Stone Game\n",
    "#### ([Back to Top](#Table-of-Contents)) ([Webpage](https://projecteuler.net/problem=260))<div class=\"problem_content\" role=\"problem\">\n",
    "<p>A game is played with three piles of stones and two players.<br>\n",
    "At her turn, a player removes one or more stones from the piles. However, if she takes stones from more than one pile, she must remove the same number of stones from each of the selected piles.</br></p>\n",
    "<p>In other words, the player chooses some N&gt;0 and removes:\n",
    "</p><ul><li>N stones from any single pile; or</li>\n",
    "<li>N stones from each of any two piles (2N total); or</li>\n",
    "<li>N stones from each of the three piles (3N total).</li></ul>\n",
    "The player taking the last stone(s) wins the game.\n",
    "\n",
    "<p>A <i>winning configuration</i> is one where the first player can force a win.<br/>\n",
    "For example, (0,0,13), (0,11,11) and (5,5,5) are winning configurations because the first player can immediately remove all stones.</p>\n",
    "<p>A <i>losing configuration</i> is one where the second player can force a win, no matter what the first player does.<br/> \n",
    "For example, (0,1,2) and (1,3,3) are losing configurations: any legal move leaves a winning configuration for the second player.</p>\n",
    "<p>Consider all  losing configurations (x<sub>i</sub>,y<sub>i</sub>,z<sub>i</sub>) where x<sub>i</sub> ≤ y<sub>i</sub> ≤ z<sub>i</sub> ≤ 100.<br/>\n",
    "We can verify that Σ(x<sub>i</sub>+y<sub>i</sub>+z<sub>i</sub>) = 173895 for these.</p>\n",
    "<p>Find Σ(x<sub>i</sub>+y<sub>i</sub>+z<sub>i</sub>) where (x<sub>i</sub>,y<sub>i</sub>,z<sub>i</sub>) ranges over the losing configurations<br/>\n",
    "with x<sub>i</sub> ≤ y<sub>i</sub> ≤ z<sub>i</sub> ≤ 1000.</p>\n",
    "</div>"
   ]
  },
  {
   "cell_type": "code",
   "execution_count": null,
   "metadata": {},
   "outputs": [],
   "source": []
  },
  {
   "cell_type": "markdown",
   "metadata": {},
   "source": [
    "### 261. Pivotal Square Sums\n",
    "#### ([Back to Top](#Table-of-Contents)) ([Webpage](https://projecteuler.net/problem=261))<div class=\"problem_content\" role=\"problem\">\n",
    "<p>Let us call a positive integer <var>k</var> a <var>square-pivot</var>, if there is a pair of integers <var>m</var> &gt; 0 and <var>n</var> ≥ <var>k</var>, such that the sum of the (<var>m</var>+1) consecutive squares up to <var>k</var> equals the sum of the <var>m</var> consecutive squares from (<var>n</var>+1) on:</p>\n",
    "<div align=\"center\">\n",
    "(<var>k</var>-<var>m</var>)<sup>2</sup> + ... + <var>k</var><sup>2</sup> = (<var>n</var>+1)<sup>2</sup> + ... + (<var>n</var>+<var>m</var>)<sup>2</sup>.</div>\n",
    "<p>Some small square-pivots are\n",
    "</p><ul><li><b>4</b>: 3<sup>2</sup> + <b>4</b><sup>2</sup>\n",
    " = 5<sup>2</sup></li>\n",
    "<li><b>21</b>: 20<sup>2</sup> + <b>21</b><sup>2</sup> = 29<sup>2</sup></li>\n",
    "<li><b>24</b>: 21<sup>2</sup> + 22<sup>2</sup> + 23<sup>2</sup> + <b>24</b><sup>2</sup> = 25<sup>2</sup> + 26<sup>2</sup> + 27<sup>2</sup></li>\n",
    "<li><b>110</b>: 108<sup>2</sup> + 109<sup>2</sup> + <b>110</b><sup>2</sup> = 133<sup>2</sup> + 134<sup>2</sup></li></ul><p>Find the sum of all <b>distinct</b> square-pivots ≤ 10<sup>10</sup>.</p>\n",
    "</div>"
   ]
  },
  {
   "cell_type": "code",
   "execution_count": null,
   "metadata": {},
   "outputs": [],
   "source": []
  },
  {
   "cell_type": "markdown",
   "metadata": {},
   "source": [
    "### 262. Mountain Range\n",
    "#### ([Back to Top](#Table-of-Contents)) ([Webpage](https://projecteuler.net/problem=262))<div class=\"problem_content\" role=\"problem\">\n",
    "<p>The following equation represents the <i>continuous</i> topography of a mountainous region, giving the <dfn title=\"height above sea level\">elevation</dfn> <var>h</var> at any point (<var>x</var>,<var>y</var>):</p>\n",
    "<div align=\"center\">\n",
    "<img alt=\"p262_formula1.gif\" class=\"dark_img\" src=\"project/images/p262_formula1.gif\"/><br/></div>\n",
    "<p>A mosquito intends to fly from A(200,200) to B(1400,1400), without leaving the area given by 0 ≤ <var>x</var>, <var>y</var> ≤ 1600.</p>\n",
    "<p>Because of the intervening mountains, it first rises straight up to a point A', having elevation <var>f</var>. Then, while remaining at the same elevation <var>f</var>, it flies around any obstacles until it arrives at a point B' directly above B.</p>\n",
    "<p>First, determine <var>f<sub>min</sub></var> which is the minimum constant elevation allowing such a trip from A to B, while remaining in the specified area.<br/>\n",
    "Then, find the length of the shortest path between A' and B', while flying at that constant elevation <var>f<sub>min</sub></var>.</p>\n",
    "<p>Give that length as your answer, rounded to three decimal places.</p>\n",
    "<p><font><u>Note</u>: For convenience, the elevation function shown above is repeated below, in a form suitable for most programming languages:<br/>\n",
    "h=( 5000-0.005*(x*x+y*y+x*y)+12.5*(x+y) ) * exp( -abs(0.000001*(x*x+y*y)-0.0015*(x+y)+0.7) )</font></p>\n",
    "</div>"
   ]
  },
  {
   "cell_type": "code",
   "execution_count": null,
   "metadata": {},
   "outputs": [],
   "source": []
  },
  {
   "cell_type": "markdown",
   "metadata": {},
   "source": [
    "### 263. An engineers' dream come true\n",
    "#### ([Back to Top](#Table-of-Contents)) ([Webpage](https://projecteuler.net/problem=263))<div class=\"problem_content\" role=\"problem\">\n",
    "<p>\n",
    "Consider the number 6. The divisors of 6 are: 1,2,3 and 6.<br>\n",
    "Every number from 1 up to and including 6 can be written as a sum of distinct divisors of 6:<br/>\n",
    "1=1, 2=2, 3=1+2, 4=1+3, 5=2+3, 6=6.<br/>\n",
    "A number <var>n</var> is called a practical number if every number from 1 up to and including <var>n</var> can be expressed as a sum of distinct divisors of <var>n</var>.\n",
    "</br></p>\n",
    "<p>\n",
    "A pair of consecutive prime numbers with a difference of six is called a sexy pair (since \"sex\" is the Latin word for \"six\"). The first sexy pair is (23, 29).\n",
    "</p>\n",
    "<p>\n",
    "We may occasionally find a triple-pair, which means three consecutive sexy prime pairs, such that the second member of each pair is the first member of the next pair.\n",
    "</p>\n",
    "<p>\n",
    "We shall call a number <var>n</var> such that :\n",
    "</p><ul><li>(<var>n</var>-9, <var>n</var>-3), (<var>n</var>-3,<var>n</var>+3), (<var>n</var>+3, <var>n</var>+9) form a triple-pair, and \n",
    "</li><li>the numbers <var>n</var>-8, <var>n</var>-4, <var>n</var>, <var>n</var>+4 and <var>n</var>+8 are all practical,\n",
    "</li></ul> \n",
    "an engineers’ paradise.\n",
    "\n",
    "<p>\n",
    "Find the sum of the first four engineers’ paradises.\n",
    "</p>\n",
    "</div>"
   ]
  },
  {
   "cell_type": "code",
   "execution_count": null,
   "metadata": {},
   "outputs": [],
   "source": []
  },
  {
   "cell_type": "markdown",
   "metadata": {},
   "source": [
    "### 264. Triangle Centres\n",
    "#### ([Back to Top](#Table-of-Contents)) ([Webpage](https://projecteuler.net/problem=264))<div class=\"problem_content\" role=\"problem\">\n",
    "<p>Consider all the triangles having:\n",
    "</p><ul><li>All their vertices on <dfn title=\"Integer coordinates\">lattice points</dfn>.</li>\n",
    "<li><dfn title=\"Centre of the circumscribed circle\">Circumcentre</dfn> at the origin O.</li>\n",
    "<li><dfn title=\"Point where the three altitudes meet\">Orthocentre</dfn> at the point H(5, 0).</li>\n",
    "</ul><p>There are nine such triangles having a perimeter ≤ 50.<br>\n",
    "Listed and shown in ascending order of their perimeter, they are:</br></p>\n",
    "<p></p><table><tr><td>A(-4, 3), B(5, 0), C(4, -3)<br/>\n",
    "A(4, 3), B(5, 0), C(-4, -3)<br/>\n",
    "A(-3, 4), B(5, 0), C(3, -4)<br/><br/><br/>\n",
    "A(3, 4), B(5, 0), C(-3, -4)<br/>\n",
    "A(0, 5), B(5, 0), C(0, -5)<br/>\n",
    "A(1, 8), B(8, -1), C(-4, -7)<br/><br/><br/>\n",
    "A(8, 1), B(1, -8), C(-4, 7)<br/>\n",
    "A(2, 9), B(9, -2), C(-6, -7)<br/>\n",
    "A(9, 2), B(2, -9), C(-6, 7)<br/></td>\n",
    "<td><img alt=\"p264_TriangleCentres.gif\" class=\"dark_img\" src=\"project/images/p264_TriangleCentres.gif\"/></td>\n",
    "</tr></table><p>The sum of their perimeters, rounded to four decimal places, is 291.0089.</p>\n",
    "<p>Find all such triangles with a perimeter ≤ 10<sup>5</sup>.<br/>\n",
    "Enter as your answer the sum of their perimeters rounded to four decimal places.</p>\n",
    "</div>"
   ]
  },
  {
   "cell_type": "code",
   "execution_count": null,
   "metadata": {},
   "outputs": [],
   "source": []
  },
  {
   "cell_type": "markdown",
   "metadata": {},
   "source": [
    "### 265. Binary Circles\n",
    "#### ([Back to Top](#Table-of-Contents)) ([Webpage](https://projecteuler.net/problem=265))<div class=\"problem_content\" role=\"problem\">\n",
    "<p>2<sup>N</sup> binary digits can be placed in a circle so that all the N-digit clockwise subsequences are distinct.</p>\n",
    "<p>For N=3, two such circular arrangements are possible, ignoring rotations:</p>\n",
    "<div align=\"center\"><img alt=\"p265_BinaryCircles.gif\" class=\"dark_img\" src=\"project/images/p265_BinaryCircles.gif\"/></div>\n",
    "<p>For the first arrangement, the 3-digit subsequences, in clockwise order, are:<br> 000, 001, 010, 101, 011, 111, 110 and 100.</br></p>\n",
    "<p>Each circular arrangement can be encoded as a number by concatenating the binary digits starting with the subsequence of all zeros as the most significant bits and proceeding clockwise. The two arrangements for N=3 are thus represented as 23 and 29:\n",
    "</p><div align=\"center\">00010111 <sub>2</sub> = 23</div>\n",
    "<div align=\"center\">00011101 <sub>2</sub> = 29</div>\n",
    "<p>Calling S(N) the sum of the unique numeric representations, we can see that S(3) = 23 + 29 = 52.</p>\n",
    "<p>Find S(5).</p>\n",
    "</div>"
   ]
  },
  {
   "cell_type": "code",
   "execution_count": null,
   "metadata": {},
   "outputs": [],
   "source": []
  },
  {
   "cell_type": "markdown",
   "metadata": {},
   "source": [
    "### 266. Pseudo Square Root\n",
    "#### ([Back to Top](#Table-of-Contents)) ([Webpage](https://projecteuler.net/problem=266))<div class=\"problem_content\" role=\"problem\">\n",
    "<p>\n",
    "The divisors of 12 are: 1,2,3,4,6 and 12.<br>\n",
    "The largest divisor of 12 that does not exceed the square root of 12 is 3.<br/>\n",
    "We shall call the largest divisor of an integer <var>n</var> that does not exceed the square root of <var>n</var> the pseudo square root (PSR) of <var>n</var>.<br/>\n",
    "It can be seen that PSR(3102)=47.\n",
    "</br></p>\n",
    "<p>\n",
    "Let <var>p</var> be the product of the primes below 190.<br/>\n",
    "Find PSR(<var>p</var>) mod 10<sup>16</sup>.\n",
    "</p>\n",
    "</div>"
   ]
  },
  {
   "cell_type": "code",
   "execution_count": null,
   "metadata": {},
   "outputs": [],
   "source": []
  },
  {
   "cell_type": "markdown",
   "metadata": {},
   "source": [
    "### 267. Billionaire\n",
    "#### ([Back to Top](#Table-of-Contents)) ([Webpage](https://projecteuler.net/problem=267))<div class=\"problem_content\" role=\"problem\">\n",
    "<p>You are given a unique investment opportunity.</p>\n",
    "<p>Starting with £1 of capital, you can choose a fixed proportion, <var>f</var>, of your capital to bet on a fair coin toss repeatedly for 1000 tosses.</p>\n",
    "<p>Your return is double your bet for heads and you lose your bet for tails.</p>\n",
    "<p>For example, if <var>f</var> = 1/4,  for the first toss you bet £0.25, and if heads comes up you win £0.5 and so then have £1.5. You then bet £0.375 and if the second toss is tails, you have £1.125.</p>\n",
    "<p>Choosing <var>f</var> to maximize your chances of having at least £1,000,000,000 after 1,000 flips, what is the chance that you become a billionaire?</p>\n",
    "<p>All computations are assumed to be exact (no rounding), but give your answer rounded to 12 digits behind the decimal point in the form 0.abcdefghijkl.</p>\n",
    "</div>"
   ]
  },
  {
   "cell_type": "code",
   "execution_count": null,
   "metadata": {},
   "outputs": [],
   "source": []
  },
  {
   "cell_type": "markdown",
   "metadata": {},
   "source": [
    "### 268. Counting numbers with at least four distinct prime factors less than 100\n",
    "#### ([Back to Top](#Table-of-Contents)) ([Webpage](https://projecteuler.net/problem=268))<div class=\"problem_content\" role=\"problem\">\n",
    "<p>It can be verified that there are 23 positive integers less than 1000 that are divisible by at least four distinct primes less than 100.</p>\n",
    "<p>Find how many positive integers less than 10<sup>16</sup> are divisible by at least four distinct primes less than 100.</p>\n",
    "</div>"
   ]
  },
  {
   "cell_type": "code",
   "execution_count": null,
   "metadata": {},
   "outputs": [],
   "source": []
  },
  {
   "cell_type": "markdown",
   "metadata": {},
   "source": [
    "### 269. Polynomials with at least one integer root\n",
    "#### ([Back to Top](#Table-of-Contents)) ([Webpage](https://projecteuler.net/problem=269))<div class=\"problem_content\" role=\"problem\">\n",
    "<p>A root or zero of a polynomial P(<var>x</var>) is a solution to the equation P(<var>x</var>) = 0. <br>\n",
    "Define P<sub><var>n</var></sub> as the polynomial whose coefficients are the digits of <var>n</var>.<br/>\n",
    "For example, P<sub>5703</sub>(<var>x</var>) = 5<var>x</var><sup>3</sup> + 7<var>x</var><sup>2</sup> + 3.</br></p>\n",
    "<p>We can see that:</p><ul><li>P<sub><var>n</var></sub>(0) is the last digit of <var>n</var>,</li>\n",
    "<li>P<sub><var>n</var></sub>(1) is the sum of the digits of <var>n</var>,</li>\n",
    "<li>P<sub><var>n</var></sub>(10) is <var>n</var> itself.</li></ul><p>Define Z(<var>k</var>) as the number of positive integers, <var>n</var>, not exceeding <var>k</var> for which the polynomial P<sub><var>n</var></sub> has at least one integer root.</p>\n",
    "<p>It can be verified that Z(100 000) is 14696.</p>\n",
    "<p>What is Z(10<sup>16</sup>)?</p>\n",
    "</div>"
   ]
  },
  {
   "cell_type": "code",
   "execution_count": null,
   "metadata": {},
   "outputs": [],
   "source": []
  },
  {
   "cell_type": "markdown",
   "metadata": {},
   "source": [
    "### 270. Cutting Squares\n",
    "#### ([Back to Top](#Table-of-Contents)) ([Webpage](https://projecteuler.net/problem=270))<div class=\"problem_content\" role=\"problem\">\n",
    "<p>A square piece of paper with integer dimensions N×N is placed with a corner at the origin and two of its sides along the <var>x</var>- and <var>y</var>-axes. Then, we cut it up respecting the following rules:\n",
    "</p><ul><li>We only make straight cuts between two points lying on different sides of the square, and having integer coordinates.</li>\n",
    "<li>Two cuts cannot cross, but several cuts can meet at the same border point.</li>\n",
    "<li>Proceed until no more legal cuts can be made.</li>\n",
    "</ul><p>Counting any reflections or rotations as distinct, we call C(N) the number of ways to cut an N×N square. For example, C(1) = 2 and C(2) = 30 (shown below).</p>\n",
    "<div align=\"center\"><img alt=\"p270_CutSquare.gif\" src=\"project/images/p270_CutSquare.gif\"/></div>\n",
    "<p>What is C(30) mod 10<sup>8</sup> ?</p>\n",
    "</div>"
   ]
  },
  {
   "cell_type": "code",
   "execution_count": null,
   "metadata": {},
   "outputs": [],
   "source": []
  },
  {
   "cell_type": "markdown",
   "metadata": {},
   "source": [
    "### 271. Modular Cubes, part 1\n",
    "#### ([Back to Top](#Table-of-Contents)) ([Webpage](https://projecteuler.net/problem=271))<div class=\"problem_content\" role=\"problem\">\n",
    "<p>\n",
    "For a positive number <var>n</var>, define S(<var>n</var>) as the sum of the integers <var>x,</var> for which 1&lt;<var>x</var>&lt;<var>n</var> and<br><var>x</var><sup>3</sup>≡1 mod <var>n</var>.\n",
    "</br></p>\n",
    "<p>\n",
    "When <var>n</var>=91, there are 8 possible values for <var>x</var>, namely : 9, 16, 22, 29, 53, 74, 79, 81.<br/>\n",
    "Thus, S(91)=9+16+22+29+53+74+79+81=363.</p>\n",
    "<p>\n",
    "Find S(13082761331670030).\n",
    "</p>\n",
    "</div>"
   ]
  },
  {
   "cell_type": "code",
   "execution_count": null,
   "metadata": {},
   "outputs": [],
   "source": []
  },
  {
   "cell_type": "markdown",
   "metadata": {},
   "source": [
    "### 272. Modular Cubes, part 2\n",
    "#### ([Back to Top](#Table-of-Contents)) ([Webpage](https://projecteuler.net/problem=272))<div class=\"problem_content\" role=\"problem\">\n",
    "<p>\n",
    "For a positive number <var>n</var>, define C(<var>n</var>) as the number of the integers <var>x,</var> for which 1&lt;<var>x</var>&lt;<var>n</var> and<br><var>x</var><sup>3</sup>≡1 mod <var>n</var>.\n",
    "</br></p>\n",
    "<p>\n",
    "When <var>n</var>=91, there are 8 possible values for <var>x</var>, namely : 9, 16, 22, 29, 53, 74, 79, 81.<br/>\n",
    "Thus, C(91)=8.</p>\n",
    "<p>\n",
    "Find the sum of the positive numbers <var>n</var>≤10<sup>11</sup> for which C(<var>n</var>)=242.</p>\n",
    "</div>"
   ]
  },
  {
   "cell_type": "code",
   "execution_count": null,
   "metadata": {},
   "outputs": [],
   "source": []
  },
  {
   "cell_type": "markdown",
   "metadata": {},
   "source": [
    "### 273. Sum of Squares\n",
    "#### ([Back to Top](#Table-of-Contents)) ([Webpage](https://projecteuler.net/problem=273))<div class=\"problem_content\" role=\"problem\">\n",
    "<p>Consider equations of the form: <var>a</var><sup>2</sup> + <var>b</var><sup>2</sup> = <var>N</var>, 0 ≤ <var>a</var> ≤ <var>b</var>, <var>a</var>, <var>b</var> and <var>N</var> integer.</p>\n",
    "<p>For <var>N</var>=65 there are two solutions:</p>\n",
    "<p><var>a</var>=1, <var>b</var>=8 and <var>a</var>=4, <var>b</var>=7.</p>\n",
    "<p>We call S(<var>N</var>) the sum of the values of <var>a</var> of all solutions of <var>a</var><sup>2</sup> + <var>b</var><sup>2</sup> = <var>N</var>, 0 ≤ <var>a</var> ≤ <var>b</var>, <var>a</var>, <var>b</var> and <var>N</var> integer.</p>\n",
    "<p>Thus S(65) = 1 + 4 = 5.</p>\n",
    "<p>Find ∑S(<var>N</var>), for all squarefree <var>N</var> only divisible by primes of the form 4<var>k</var>+1 with 4<var>k</var>+1 &lt; 150.</p>\n",
    "</div>"
   ]
  },
  {
   "cell_type": "code",
   "execution_count": null,
   "metadata": {},
   "outputs": [],
   "source": []
  },
  {
   "cell_type": "markdown",
   "metadata": {},
   "source": [
    "### 274. Divisibility Multipliers\n",
    "#### ([Back to Top](#Table-of-Contents)) ([Webpage](https://projecteuler.net/problem=274))<div class=\"problem_content\" role=\"problem\">\n",
    "<p>For each integer <var>p</var> &gt; 1 coprime to 10 there is a positive <em>divisibility multiplier</em> <var>m</var> &lt; <var>p</var> which preserves divisibility by <var>p</var> for the following function on any positive integer, <var>n</var>:</p>\n",
    "<p><var>f</var>(<var>n</var>) = (all but the last digit of <var>n</var>) + (the last digit of <var>n</var>) * <var>m</var></p>\n",
    "<p>That is, if <var>m</var> is the divisibility multiplier for <var>p</var>, then <var>f</var>(<var>n</var>) is divisible by <var>p</var> if and only if <var>n</var> is divisible by <var>p</var>.</p>\n",
    "<p>(When <var>n</var> is much larger than <var>p</var>, <var>f</var>(<var>n</var>) will be less than <var>n</var> and repeated application of <var>f</var> provides a multiplicative divisibility test for <var>p</var>.)</p>\n",
    "<p>For example, the divisibility multiplier for 113 is 34.</p>\n",
    "<p><var>f</var>(76275) = 7627 + 5 * 34 = 7797 : 76275 and 7797 are both divisible by 113<br><var>f</var>(12345) = 1234 + 5 * 34 = 1404 : 12345 and 1404 are both not divisible by 113</br></p>\n",
    "<p>The sum of the divisibility multipliers for the primes that are coprime to 10 and less than 1000 is 39517. What is the sum of the divisibility multipliers for the primes that are coprime to 10 and less than 10<sup>7</sup>?</p>\n",
    "</div>"
   ]
  },
  {
   "cell_type": "code",
   "execution_count": null,
   "metadata": {},
   "outputs": [],
   "source": []
  },
  {
   "cell_type": "markdown",
   "metadata": {},
   "source": [
    "### 275. Balanced Sculptures\n",
    "#### ([Back to Top](#Table-of-Contents)) ([Webpage](https://projecteuler.net/problem=275))<div class=\"problem_content\" role=\"problem\">\n",
    "<p>Let us define a <i>balanced sculpture</i> of order <var>n</var> as follows:\n",
    "</p><ul><li>A <dfn title=\"An arrangement of identical squares connected through shared edges; holes are allowed.\">polyomino</dfn> made up of <var>n</var>+1 tiles known as the <i>blocks</i> (<var>n</var> tiles)<br> and the <i>plinth</i> (remaining tile);</br></li>\n",
    "<li>the plinth has its centre at position (<var>x</var> = 0, <var>y</var> = 0);</li>\n",
    "<li>the blocks have <var>y</var>-coordinates greater than zero (so the plinth is the unique lowest tile);</li>\n",
    "<li>the centre of mass of all the blocks, combined, has <var>x</var>-coordinate equal to zero.</li>\n",
    "</ul><p>When counting the sculptures, any arrangements which are simply reflections about the <var>y</var>-axis, are <u>not</u> counted as distinct. For example, the 18 balanced sculptures of order 6 are shown below; note that each pair of mirror images (about the <var>y</var>-axis) is counted as one sculpture:</p>\n",
    "<div align=\"center\"><img alt=\"p275_sculptures2.gif\" src=\"project/images/p275_sculptures2.gif\"/></div>\n",
    "<p>There are 964 balanced sculptures of order 10 and 360505 of order 15.<br/>How many balanced sculptures are there of order 18?</p>\n",
    "</div>"
   ]
  },
  {
   "cell_type": "code",
   "execution_count": null,
   "metadata": {},
   "outputs": [],
   "source": []
  },
  {
   "cell_type": "markdown",
   "metadata": {},
   "source": [
    "### 276. Primitive Triangles\n",
    "#### ([Back to Top](#Table-of-Contents)) ([Webpage](https://projecteuler.net/problem=276))<div class=\"problem_content\" role=\"problem\">\n",
    "<p>Consider the triangles with integer sides a, b and c with a ≤ b ≤ c.<br>\n",
    "An integer sided triangle (a,b,c) is called primitive if <dfn title=\"gcd(a,b,c)=gcd(a,gcd(b,c))\"> gcd(a,b,c)</dfn>=1. <br/>\n",
    "How many primitive integer sided triangles exist with a perimeter not exceeding 10 000 000?\n",
    "</br></p>\n",
    "</div>"
   ]
  },
  {
   "cell_type": "code",
   "execution_count": null,
   "metadata": {},
   "outputs": [],
   "source": []
  },
  {
   "cell_type": "markdown",
   "metadata": {},
   "source": [
    "### 277. A Modified Collatz sequence\n",
    "#### ([Back to Top](#Table-of-Contents)) ([Webpage](https://projecteuler.net/problem=277))<div class=\"problem_content\" role=\"problem\">\n",
    "<p>\n",
    "A modified Collatz sequence of integers is obtained from a starting value a<sub>1</sub> in the following way:</p>\n",
    "<p>\n",
    "<var>a<sub>n+1</sub></var> = <var>a<sub>n</sub></var>/3 if <var>a<sub>n</sub></var> is divisible by 3. We shall denote this as a large downward step, \"D\".</p>\n",
    "<p>\n",
    "<var>a<sub>n+1</sub></var> = (4<var>a<sub>n</sub></var> + 2)/3 if <var>a<sub>n</sub></var> divided by 3 gives a remainder of 1. We shall denote this as an upward step, \"U\".\n",
    "</p>\n",
    "<p>\n",
    "<var>a<sub>n+1</sub></var> = (2<var>a<sub>n</sub></var> - 1)/3 if <var>a<sub>n</sub></var> divided by 3 gives a remainder of 2. We shall denote this as a small downward step, \"d\".\n",
    "</p>\n",
    "<p>\n",
    "The sequence terminates when some <var>a<sub>n</sub></var> = 1.\n",
    "</p>\n",
    "<p>\n",
    "Given any integer, we can list out the sequence of steps.<br>\n",
    "For instance if <var>a</var><sub>1</sub>=231, then the sequence {<var>a<sub>n</sub></var>}={231,77,51,17,11,7,10,14,9,3,1} corresponds to the steps \"DdDddUUdDD\".\n",
    "</br></p>\n",
    "<p>\n",
    "Of course, there are other sequences that begin with that same sequence \"DdDddUUdDD....\".<br/>\n",
    "For instance, if <var>a</var><sub>1</sub>=1004064, then the sequence is DdDddUUdDDDdUDUUUdDdUUDDDUdDD.<br/>\n",
    "In fact, 1004064 is the smallest possible <var>a</var><sub>1</sub> &gt; 10<sup>6</sup> that begins with the sequence DdDddUUdDD.\n",
    "</p>\n",
    "<p>\n",
    "What is the smallest <var>a</var><sub>1</sub> &gt; 10<sup>15</sup> that begins with the sequence \"UDDDUdddDDUDDddDdDddDDUDDdUUDd\"?\n",
    "</p>\n",
    "</div>"
   ]
  },
  {
   "cell_type": "code",
   "execution_count": null,
   "metadata": {},
   "outputs": [],
   "source": []
  },
  {
   "cell_type": "markdown",
   "metadata": {},
   "source": [
    "### 278. Linear Combinations of Semiprimes\n",
    "#### ([Back to Top](#Table-of-Contents)) ([Webpage](https://projecteuler.net/problem=278))<div class=\"problem_content\" role=\"problem\">\n",
    "<p>\n",
    "Given the values of integers 1 &lt; <var>a</var><sub>1</sub> &lt; <var>a</var><sub>2</sub> &lt;... &lt; <var>a</var><sub><var>n</var></sub>, consider the linear combination<br><var>q</var><sub>1</sub><var>a</var><sub>1</sub> + <var>q</var><sub>2</sub><var>a</var><sub>2</sub> + ... + <var>q</var><sub><var>n</var></sub><var>a</var><sub><var>n</var></sub> = <var>b</var>, using only integer values <var>q</var><sub><var>k</var></sub> ≥ 0. \n",
    "</br></p>\n",
    "<p>\n",
    "Note that for a given set of <var>a</var><sub><var>k</var></sub>, it may be that not all values of <var>b</var> are possible.<br/>\n",
    "For instance, if <var>a</var><sub>1</sub> = 5 and <var>a</var><sub>2</sub> = 7, there are no <var>q</var><sub>1</sub> ≥ 0 and <var>q</var><sub>2</sub> ≥ 0 such that <var>b</var> could be<br/> \n",
    "1, 2, 3, 4, 6, 8, 9, 11, 13, 16, 18 or 23.\n",
    "<br/>\n",
    "In fact, 23 is the largest impossible value of <var>b</var> for <var>a</var><sub>1</sub> = 5 and <var>a</var><sub>2</sub> = 7.<br/> We therefore call <var>f</var>(5, 7) = 23.<br/> Similarly, it can be shown that <var>f</var>(6, 10, 15)=29 and <var>f</var>(14, 22, 77) = 195.\n",
    "</p>\n",
    "<p>\n",
    "Find ∑ <var>f</var>(<var>p*q,p*r,q*r</var>), where <var>p</var>, <var>q</var> and <var>r</var> are prime numbers and <var>p</var> &lt; <var>q</var> &lt; <var>r</var> &lt; 5000.\n",
    "</p>\n",
    "</div>"
   ]
  },
  {
   "cell_type": "code",
   "execution_count": null,
   "metadata": {},
   "outputs": [],
   "source": []
  },
  {
   "cell_type": "markdown",
   "metadata": {},
   "source": [
    "### 279. Triangles with integral sides and an integral angle \n",
    "#### ([Back to Top](#Table-of-Contents)) ([Webpage](https://projecteuler.net/problem=279))<div class=\"problem_content\" role=\"problem\">\n",
    "<p>\n",
    "How many triangles are there with integral sides, at least one integral angle (measured in degrees), and a perimeter that does not exceed 10<sup>8</sup>?\n",
    "</p>\n",
    "</div>"
   ]
  },
  {
   "cell_type": "code",
   "execution_count": null,
   "metadata": {},
   "outputs": [],
   "source": []
  },
  {
   "cell_type": "markdown",
   "metadata": {},
   "source": [
    "### 280. Ant and seeds\n",
    "#### ([Back to Top](#Table-of-Contents)) ([Webpage](https://projecteuler.net/problem=280))<div class=\"problem_content\" role=\"problem\">\n",
    "<p>A laborious ant walks randomly on a 5x5 grid. The walk starts from the central square. At each step, the ant moves to an adjacent square at random, without leaving the grid; thus there are 2, 3 or 4 possible moves at each step depending on the ant's position.</p>\n",
    "<p>At the start of the walk, a seed is placed on each square of the lower row. When the ant isn't carrying a seed and reaches a square of the lower row containing a seed, it will start to carry the seed. The ant will drop the seed on the first empty square of the upper row it eventually reaches.</p>\n",
    "<p>What's the expected number of steps until all seeds have been dropped in the top row? <br>\n",
    "Give your answer rounded to 6 decimal places.</br></p>\n",
    "</div>"
   ]
  },
  {
   "cell_type": "code",
   "execution_count": null,
   "metadata": {},
   "outputs": [],
   "source": []
  },
  {
   "cell_type": "markdown",
   "metadata": {},
   "source": [
    "### 281. Pizza Toppings\n",
    "#### ([Back to Top](#Table-of-Contents)) ([Webpage](https://projecteuler.net/problem=281))<div class=\"problem_content\" role=\"problem\">\n",
    "<p>You are given a pizza (perfect circle) that has been cut into <var>m</var>·<var>n</var> equal pieces and you want to have exactly one topping on each slice.</p>\n",
    "<p>Let <var>f</var>(<var>m</var>,<var>n</var>) denote the number of ways you can have toppings on the pizza with <var>m</var> different toppings (<var>m</var> ≥ 2), using each topping on exactly <var>n</var> slices (<var>n</var> ≥ 1). <br>Reflections are considered distinct, rotations are not. </br></p>\n",
    "<p>Thus, for instance, <var>f</var>(2,1) = 1, <var>f</var>(2,2) = <var>f</var>(3,1) = 2 and <var>f</var>(3,2) = 16. <br/><var>f</var>(3,2) is shown below:</p>\n",
    "<div align=\"center\"><img alt=\"p281_pizza.gif\" class=\"dark_img\" src=\"project/images/p281_pizza.gif\"/></div>\n",
    "<p>Find the sum of all <var>f</var>(<var>m</var>,<var>n</var>) such that <var>f</var>(<var>m</var>,<var>n</var>) ≤ 10<sup>15</sup>.</p>\n",
    "</div>"
   ]
  },
  {
   "cell_type": "code",
   "execution_count": null,
   "metadata": {},
   "outputs": [],
   "source": []
  },
  {
   "cell_type": "markdown",
   "metadata": {},
   "source": [
    "### 282. The Ackermann function\n",
    "#### ([Back to Top](#Table-of-Contents)) ([Webpage](https://projecteuler.net/problem=282))<div class=\"problem_content\" role=\"problem\">\n",
    "$\\def\\htmltext#1{\\style{font-family:inherit;}{\\text{#1}}}$\n",
    "<p>\n",
    "For non-negative integers $m$, $n$, the Ackermann function $A(m,n)$ is defined as follows:\n",
    "\n",
    "$$\n",
    "A(m,n) = \\cases{\n",
    "n+1 &amp;$\\htmltext{ if  }m=0$\\cr\n",
    "A(m-1,1) &amp;$\\htmltext{ if   }m&gt;0 \\htmltext{  and  } n=0$\\cr\n",
    "A(m-1,A(m,n-1)) &amp;$\\htmltext{ if   }m&gt;0 \\htmltext{  and  } n&gt;0$\\cr\n",
    "}$$\n",
    "</p>\n",
    "<p>\n",
    "For example $A(1,0) = 2$, $A(2,2) = 7$ and $A(3,4) = 125$.\n",
    "</p>\n",
    "<p>\n",
    "Find $\\displaystyle\\sum_{n=0}^6 A(n,n)$ and give your answer mod $14^8$.</p>\n",
    "</div>"
   ]
  },
  {
   "cell_type": "code",
   "execution_count": null,
   "metadata": {},
   "outputs": [],
   "source": []
  },
  {
   "cell_type": "markdown",
   "metadata": {},
   "source": [
    "### 283. Integer sided triangles for which the  area/perimeter ratio is integral\n",
    "#### ([Back to Top](#Table-of-Contents)) ([Webpage](https://projecteuler.net/problem=283))<div class=\"problem_content\" role=\"problem\">\n",
    "<p>\n",
    "Consider the triangle with sides 6, 8 and 10. It can be seen that the perimeter and the area are both equal to 24. \n",
    "So the area/perimeter ratio is equal to 1.<br>\n",
    "Consider also the triangle with sides 13, 14 and 15. The perimeter equals 42 while the area is equal to 84. \n",
    "So for this triangle the area/perimeter ratio is equal to 2.\n",
    "</br></p>\n",
    "<p>\n",
    "Find the sum of the perimeters of all integer sided triangles for which the area/perimeter ratios are equal to positive integers not exceeding 1000.\n",
    "</p>\n",
    "</div>"
   ]
  },
  {
   "cell_type": "code",
   "execution_count": null,
   "metadata": {},
   "outputs": [],
   "source": []
  },
  {
   "cell_type": "markdown",
   "metadata": {},
   "source": [
    "### 284. Steady Squares\n",
    "#### ([Back to Top](#Table-of-Contents)) ([Webpage](https://projecteuler.net/problem=284))<div class=\"problem_content\" role=\"problem\">\n",
    "<p>The 3-digit number 376 in the decimal numbering system is an example of numbers with the special property that its square ends with the same digits: 376<sup>2</sup> = 141376. Let's call a number with this property a steady square.</p>\n",
    "<p>Steady squares can also be observed in other numbering systems. In the base 14 numbering system, the 3-digit number c37 is also a steady square: c37<sup>2</sup> = aa0c37, and the sum of its digits is c+3+7=18 in the same numbering system. The letters a, b, c and d are used for the 10, 11, 12 and 13 digits respectively, in a manner similar to the hexadecimal numbering system.</p>\n",
    "<p>For 1 ≤ n ≤ 9, the sum of the digits of all the n-digit steady squares in the base 14 numbering system is 2d8 (582 decimal). Steady squares with leading 0's are not allowed.</p>\n",
    "<p>Find the sum of the digits of all the n-digit steady squares in the base 14 numbering system for<br>\n",
    "1 ≤ n ≤ 10000 (decimal) and give your answer in the base 14 system using lower case letters where necessary.</br></p>\n",
    "</div>"
   ]
  },
  {
   "cell_type": "code",
   "execution_count": null,
   "metadata": {},
   "outputs": [],
   "source": []
  },
  {
   "cell_type": "markdown",
   "metadata": {},
   "source": [
    "### 285. Pythagorean odds\n",
    "#### ([Back to Top](#Table-of-Contents)) ([Webpage](https://projecteuler.net/problem=285))<div class=\"problem_content\" role=\"problem\">\n",
    "<p>Albert chooses a positive integer <var>k</var>, then two real numbers <var>a</var>, <var>b</var> are randomly chosen in the interval [0,1] with uniform distribution.<br>\n",
    "The square root of the sum (<var>k</var>·<var>a</var>+1)<sup>2</sup> + (<var>k</var>·<var>b</var>+1)<sup>2</sup> is then computed and rounded to the nearest integer. If the result is equal to <var>k</var>, he scores <var>k</var> points; otherwise he scores nothing.</br></p>\n",
    "<p>For example, if <var>k</var> = 6, <var>a</var> = 0.2 and <var>b</var> = 0.85, then (<var>k</var>·<var>a</var>+1)<sup>2</sup> + (<var>k</var>·<var>b</var>+1)<sup>2</sup> = 42.05.<br/>\n",
    "The square root of 42.05 is 6.484... and when rounded to the nearest integer, it becomes 6.<br/>\n",
    "This is equal to <var>k</var>, so he scores 6 points.</p>\n",
    "<p>It can be shown that if he plays 10 turns with <var>k</var> = 1, <var>k</var> = 2, ..., <var>k</var> = 10, the expected value of his total score, rounded to five decimal places, is 10.20914.</p>\n",
    "<p>If he plays 10<sup>5</sup> turns with <var>k</var> = 1, <var>k</var> = 2, <var>k</var> = 3, ..., <var>k</var> = 10<sup>5</sup>, what is the expected value of his total score, rounded to five decimal places?</p>\n",
    "</div>"
   ]
  },
  {
   "cell_type": "code",
   "execution_count": null,
   "metadata": {},
   "outputs": [],
   "source": []
  },
  {
   "cell_type": "markdown",
   "metadata": {},
   "source": [
    "### 286. Scoring probabilities\n",
    "#### ([Back to Top](#Table-of-Contents)) ([Webpage](https://projecteuler.net/problem=286))<div class=\"problem_content\" role=\"problem\">\n",
    "<p>Barbara is a mathematician and a basketball player. She has found that the probability of scoring a point when shooting from a distance <var>x</var> is exactly (1 - <sup><var>x</var></sup>/<sub><var>q</var></sub>), where <var>q</var> is a real constant greater than 50.</p>\n",
    "<p>During each practice run, she takes shots from distances <var>x</var> = 1, <var>x</var> = 2, ..., <var>x</var> = 50 and, according to her records, she has precisely a 2 % chance to score a total of exactly 20 points.</p>\n",
    "<p>Find <var>q</var> and give your answer rounded to 10 decimal places.</p>\n",
    "</div>"
   ]
  },
  {
   "cell_type": "code",
   "execution_count": null,
   "metadata": {},
   "outputs": [],
   "source": []
  },
  {
   "cell_type": "markdown",
   "metadata": {},
   "source": [
    "### 287. Quadtree encoding (a simple compression algorithm)\n",
    "#### ([Back to Top](#Table-of-Contents)) ([Webpage](https://projecteuler.net/problem=287))<div class=\"problem_content\" role=\"problem\">\n",
    "<p>The quadtree encoding allows us to describe a 2<sup><var>N</var></sup>×2<sup><var>N</var></sup>  black and white image as a sequence of bits (0 and 1). Those sequences are to be read from left to right like this:\n",
    "</p><ul><li>the first bit deals with the complete 2<sup><var>N</var></sup>×2<sup><var>N</var></sup> region;</li>\n",
    "<li>\"0\" denotes a split:\n",
    "<br>the current 2<sup><var>n</var></sup>×2<sup><var>n</var></sup> region is divided into 4 sub-regions of dimension 2<sup><var>n</var>-1</sup>×2<sup><var>n</var>-1</sup>,<br/>\n",
    "the next bits contains the description of the top left, top right, bottom left and bottom right sub-regions - in that order;</br></li>\n",
    "<li>\"10\" indicates that the current region contains only black pixels;</li>\n",
    "<li>\"11\" indicates that the current region contains only white pixels.</li></ul><p>Consider the following 4×4 image (colored marks denote places where a split can occur):</p>\n",
    "<div align=\"center\"><img alt=\"p287_quadtree.gif\" class=\"dark_img\" src=\"project/images/p287_quadtree.gif\"/></div>\n",
    "<p>This image can be described by several sequences, for example :\n",
    "\"<span style=\"color:#FF0000;\"><b>0</b></span><span style=\"color:#0000FF;\"><b>0</b></span>10101010<span style=\"color:#008000;\"><b>0</b></span>1011111011<span style=\"color:#FFA500;\"><b>0</b></span>10101010\", of length 30, or<br/>\n",
    "\"<span style=\"color:#FF0000;\"><b>0</b></span>10<span style=\"color:#008000;\"><b>0</b></span>101111101110\", of length 16, which is the minimal sequence for this image.</p>\n",
    "<p>For a positive integer <var>N</var>, define <var>D<sub>N</sub></var> as the 2<sup><var>N</var></sup>×2<sup><var>N</var></sup> image with the following coloring scheme:\n",
    "</p><ul><li>the pixel with coordinates <var>x</var> = 0, <var>y</var> = 0 corresponds to the bottom left pixel,</li>\n",
    "<li>if (<var>x</var> - 2<sup><var>N</var>-1</sup>)<sup>2</sup> + (<var>y</var> - 2<sup><var>N</var>-1</sup>)<sup>2</sup> ≤ 2<sup>2<var>N</var>-2</sup> then the pixel is black,</li>\n",
    "<li>otherwise the pixel is white.</li></ul><p>What is the length of the minimal sequence describing <var>D</var><sub>24</sub> ?</p>\n",
    "</div>"
   ]
  },
  {
   "cell_type": "code",
   "execution_count": null,
   "metadata": {},
   "outputs": [],
   "source": []
  },
  {
   "cell_type": "markdown",
   "metadata": {},
   "source": [
    "### 288. An enormous factorial\n",
    "#### ([Back to Top](#Table-of-Contents)) ([Webpage](https://projecteuler.net/problem=288))<div class=\"problem_content\" role=\"problem\">\n",
    "<p>\n",
    "For any prime <var>p</var> the number N(<var>p</var>,<var>q</var>) is defined by\n",
    "N(<var>p</var>,<var>q</var>) = ∑<sub><var>n</var>=0 to <var>q</var></sub> T<sub><var>n</var></sub>*<var>p</var><sup><var>n</var></sup><br> with T<sub><var>n</var></sub> generated by the following random number generator:</br></p>\n",
    "<p>\n",
    "S<sub>0</sub> = 290797<br/>\n",
    "S<sub><var>n</var>+1</sub> = S<sub><var>n</var></sub><sup>2</sup> mod 50515093<br/>\n",
    "T<sub><var>n</var></sub> = S<sub><var>n</var></sub> mod <var>p</var>\n",
    "</p>\n",
    "<p>\n",
    "Let Nfac(<var>p</var>,<var>q</var>) be the factorial of N(<var>p</var>,<var>q</var>).<br/>\n",
    "Let NF(<var>p</var>,<var>q</var>) be the number of factors <var>p</var> in Nfac(<var>p</var>,<var>q</var>).\n",
    "</p>\n",
    "<p>\n",
    "You are given that NF(3,10000) mod 3<sup>20</sup>=624955285.\n",
    "</p>\n",
    "<p>\n",
    "Find NF(61,10<sup>7</sup>) mod 61<sup>10</sup></p>\n",
    "</div>"
   ]
  },
  {
   "cell_type": "code",
   "execution_count": null,
   "metadata": {},
   "outputs": [],
   "source": []
  },
  {
   "cell_type": "markdown",
   "metadata": {},
   "source": [
    "### 289. Eulerian Cycles\n",
    "#### ([Back to Top](#Table-of-Contents)) ([Webpage](https://projecteuler.net/problem=289))<div class=\"problem_content\" role=\"problem\">\n",
    "<p>Let C(<var>x</var>,<var>y</var>) be a circle passing through the points (<var>x</var>, <var>y</var>), (<var>x</var>, <var>y</var>+1), (<var>x</var>+1, <var>y</var>) and (<var>x</var>+1, <var>y</var>+1).</p>\n",
    "<p>For positive integers m and n, let E(<var>m</var>,<var>n</var>) be a configuration which consists of the <var>m</var>·<var>n</var> circles:<br>\n",
    "{ C(<var>x</var>,<var>y</var>): 0 ≤ <var>x</var> &lt; <var>m</var>, 0 ≤ <var>y</var> &lt; <var>n</var>, <var>x</var> and <var>y</var> are integers }</br></p>\n",
    "<p>An Eulerian cycle on E(<var>m</var>,<var>n</var>) is a closed path that passes through each arc exactly once.<br/>\n",
    "Many such paths are possible on E(<var>m</var>,<var>n</var>), but we are only interested in those which are not self-crossing: \n",
    "A non-crossing path just touches itself at lattice points, but it never crosses itself.</p>\n",
    "<p>The image below shows E(3,3) and an example of an Eulerian non-crossing path.<br/></p><div align=\"center\"><img alt=\"p289_euler.gif\" src=\"project/images/p289_euler.gif\"/></div>\n",
    "<p>Let L(<var>m</var>,<var>n</var>) be the number of Eulerian non-crossing paths on E(<var>m</var>,<var>n</var>).<br/>\n",
    "For example, L(1,2) = 2, L(2,2) = 37 and L(3,3) = 104290.</p>\n",
    "<p>Find L(6,10) mod 10<sup>10</sup>.</p>\n",
    "</div>"
   ]
  },
  {
   "cell_type": "code",
   "execution_count": null,
   "metadata": {},
   "outputs": [],
   "source": []
  },
  {
   "cell_type": "markdown",
   "metadata": {},
   "source": [
    "### 290. Digital Signature\n",
    "#### ([Back to Top](#Table-of-Contents)) ([Webpage](https://projecteuler.net/problem=290))<div class=\"problem_content\" role=\"problem\">\n",
    "<p>\n",
    "How many integers 0 ≤ <var>n</var> &lt; 10<sup>18</sup> have the property that the sum of the digits of <var>n</var> equals the sum of digits of 137<var>n</var>?\n",
    "</p>\n",
    "</div>"
   ]
  },
  {
   "cell_type": "code",
   "execution_count": null,
   "metadata": {},
   "outputs": [],
   "source": []
  },
  {
   "cell_type": "markdown",
   "metadata": {},
   "source": [
    "### 291. Panaitopol Primes\n",
    "#### ([Back to Top](#Table-of-Contents)) ([Webpage](https://projecteuler.net/problem=291))<div class=\"problem_content\" role=\"problem\">\n",
    "<p>\n",
    "A prime number $p$ is called a Panaitopol prime if $p = \\dfrac{x^4 - y^4}{x^3 + y^3}$ for some positive integers $x$ and $y$.</p>\n",
    "<p>\n",
    "Find how many Panaitopol primes are less than 5×10<sup>15</sup>.\n",
    "</p>\n",
    "</div>"
   ]
  },
  {
   "cell_type": "code",
   "execution_count": null,
   "metadata": {},
   "outputs": [],
   "source": []
  },
  {
   "cell_type": "markdown",
   "metadata": {},
   "source": [
    "### 292. Pythagorean Polygons\n",
    "#### ([Back to Top](#Table-of-Contents)) ([Webpage](https://projecteuler.net/problem=292))<div class=\"problem_content\" role=\"problem\">\n",
    "<p>We shall define a <i>pythagorean polygon</i>  to be a <b>convex polygon</b> with the following properties:<br/></p><ul><li>there are at least three vertices,</li>\n",
    "<li>no three vertices are aligned,</li>\n",
    "<li>each vertex has <b>integer coordinates</b>,</li>\n",
    "<li>each edge has <b>integer length</b>.</li></ul><p>For a given integer <var>n</var>, define P(<var>n</var>) as the number of distinct pythagorean polygons for which the perimeter is ≤ <var>n</var>.<br/>\n",
    "Pythagorean polygons should be considered distinct as long as none is a translation of another.</p>\n",
    "<p>You are given that P(4) = 1, P(30) = 3655 and P(60) = 891045.<br/>\n",
    "Find P(120).</p>\n",
    "</div>"
   ]
  },
  {
   "cell_type": "code",
   "execution_count": null,
   "metadata": {},
   "outputs": [],
   "source": []
  },
  {
   "cell_type": "markdown",
   "metadata": {},
   "source": [
    "### 293. Pseudo-Fortunate Numbers\n",
    "#### ([Back to Top](#Table-of-Contents)) ([Webpage](https://projecteuler.net/problem=293))<div class=\"problem_content\" role=\"problem\">\n",
    "<p>\n",
    "An even positive integer N will be called admissible, if it is a power of 2 or its distinct prime factors are consecutive primes.<br>\n",
    "The first twelve admissible numbers are 2,4,6,8,12,16,18,24,30,32,36,48.\n",
    "</br></p>\n",
    "<p>\n",
    "If N is admissible, the smallest integer M &gt; 1 such that N+M is prime, will be called the pseudo-Fortunate number for N.\n",
    "</p>\n",
    "<p>\n",
    "For example, N=630 is admissible since it is even and its distinct prime factors are the consecutive primes 2,3,5 and 7.<br/> \n",
    "The next prime number after 631 is 641; hence, the pseudo-Fortunate number for 630 is M=11.<br/>\n",
    "It can also be seen that the pseudo-Fortunate number for 16 is 3.\n",
    "</p>\n",
    "<p>\n",
    "Find the sum of all distinct pseudo-Fortunate numbers for admissible numbers N less than 10<sup>9</sup>.\n",
    "</p>\n",
    "</div>"
   ]
  },
  {
   "cell_type": "code",
   "execution_count": null,
   "metadata": {},
   "outputs": [],
   "source": []
  },
  {
   "cell_type": "markdown",
   "metadata": {},
   "source": [
    "### 294. Sum of digits - experience #23\n",
    "#### ([Back to Top](#Table-of-Contents)) ([Webpage](https://projecteuler.net/problem=294))<div class=\"problem_content\" role=\"problem\">\n",
    "<p>\n",
    "For a positive integer k, define d(k) as the sum of the digits of k in its usual decimal representation.\n",
    "Thus d(42) = 4+2 = 6.\n",
    "</p>\n",
    "<p>\n",
    "For a positive integer n, define S(n) as the number of positive integers k &lt; 10<sup>n</sup> with the following properties :\n",
    "</p><ul><li>k is divisible by 23 and\n",
    "</li><li>d(k) = 23.\n",
    "</li></ul>\n",
    "You are given that S(9) = 263626 and S(42) = 6377168878570056.\n",
    "\n",
    "<p>\n",
    "Find S(11<sup>12</sup>) and give your answer mod 10<sup>9</sup>.\n",
    "</p>\n",
    "</div>"
   ]
  },
  {
   "cell_type": "code",
   "execution_count": null,
   "metadata": {},
   "outputs": [],
   "source": []
  },
  {
   "cell_type": "markdown",
   "metadata": {},
   "source": [
    "### 295. Lenticular holes\n",
    "#### ([Back to Top](#Table-of-Contents)) ([Webpage](https://projecteuler.net/problem=295))<div class=\"problem_content\" role=\"problem\">\n",
    "<p>We call the convex area enclosed by two circles a <i>lenticular hole</i> if:\n",
    "</p><ul><li>The centres of both circles are on lattice points.</li>\n",
    "<li>The two circles intersect at two distinct lattice points.</li>\n",
    "<li>The interior of the convex area enclosed by both circles does not contain any lattice points.\n",
    "</li>\n",
    "</ul><p>Consider the circles:<br>\n",
    "C<sub>0</sub>: <var>x</var><sup>2</sup>+<var>y</var><sup>2</sup>=25<br/>\n",
    "C<sub>1</sub>: (<var>x</var>+4)<sup>2</sup>+(<var>y</var>-4)<sup>2</sup>=1<br/>\n",
    "C<sub>2</sub>: (<var>x</var>-12)<sup>2</sup>+(<var>y</var>-4)<sup>2</sup>=65\n",
    "</br></p>\n",
    "<p>\n",
    "The circles C<sub>0</sub>, C<sub>1</sub> and C<sub>2</sub> are drawn in the picture below.</p>\n",
    "<div align=\"center\"><img alt=\"p295_lenticular.gif\" src=\"project/images/p295_lenticular.gif\"/></div>\n",
    "<p>\n",
    "C<sub>0</sub> and C<sub>1</sub> form a lenticular hole, as well as C<sub>0</sub> and C<sub>2</sub>.</p>\n",
    "<p>\n",
    "We call an ordered pair of positive real numbers (r<sub>1</sub>, r<sub>2</sub>) a <i>lenticular pair</i> if there exist two circles with radii r<sub>1</sub> and r<sub>2</sub> that form a lenticular hole.\n",
    "We can verify that (1, 5) and (5, √65) are the lenticular pairs of the example above.</p>\n",
    "<p>\n",
    "Let L(N) be the number of <b>distinct</b> lenticular pairs (r<sub>1</sub>, r<sub>2</sub>) for which 0 &lt; r<sub>1</sub> ≤ r<sub>2</sub> ≤ N.<br/>\n",
    "We can verify that L(10) = 30 and L(100) = 3442.</p>\n",
    "<p>\n",
    "Find L(100 000).\n",
    "</p>\n",
    "</div>"
   ]
  },
  {
   "cell_type": "code",
   "execution_count": null,
   "metadata": {},
   "outputs": [],
   "source": []
  },
  {
   "cell_type": "markdown",
   "metadata": {},
   "source": [
    "### 296. Angular Bisector and Tangent\n",
    "#### ([Back to Top](#Table-of-Contents)) ([Webpage](https://projecteuler.net/problem=296))<div class=\"problem_content\" role=\"problem\">\n",
    "<p>\n",
    "Given is an integer sided triangle <var>ABC</var> with <var>BC</var> ≤ <var>AC</var> ≤ <var>AB</var>.<br><var>k</var> is the angular bisector of angle <var>ACB</var>.<br/><var>m</var> is the tangent at <var>C</var> to the circumscribed circle of <var>ABC</var>.<br/><var>n</var> is a line parallel to <var>m</var> through <var>B</var>.<br/>\n",
    "The intersection of <var>n</var> and <var>k</var> is called <var>E</var>.\n",
    "</br></p>\n",
    "<div align=\"center\"><img alt=\"p296_bisector.gif\" class=\"dark_img\" src=\"project/images/p296_bisector.gif\"/></div>\n",
    "<p>\n",
    "How many triangles <var>ABC</var> with a perimeter not exceeding 100 000 exist such that <var>BE</var> has integral length?\n",
    "</p>\n",
    "</div>"
   ]
  },
  {
   "cell_type": "code",
   "execution_count": null,
   "metadata": {},
   "outputs": [],
   "source": []
  },
  {
   "cell_type": "markdown",
   "metadata": {},
   "source": [
    "### 297. Zeckendorf Representation\n",
    "#### ([Back to Top](#Table-of-Contents)) ([Webpage](https://projecteuler.net/problem=297))<div class=\"problem_content\" role=\"problem\">\n",
    "<p>Each new term in the Fibonacci sequence is generated by adding the previous two terms.<br>\n",
    "Starting with 1 and 2, the first 10 terms will be: 1, 2, 3, 5, 8, 13, 21, 34, 55, 89.</br></p>\n",
    "<p>Every positive integer can be uniquely written as a sum of nonconsecutive terms of the Fibonacci sequence. For example, 100 = 3 + 8 + 89.<br/>\n",
    "Such a sum is called the <b>Zeckendorf representation</b> of the number.</p>\n",
    "<p>For any integer <var>n</var>&gt;0, let <var>z</var>(<var>n</var>) be the number of terms in the Zeckendorf representation of <var>n</var>.<br/>\n",
    "Thus, <var>z</var>(5) = 1, <var>z</var>(14) = 2, <var>z</var>(100) = 3 etc.<br/>\n",
    "Also, for 0&lt;<var>n</var>&lt;10<sup>6</sup>, ∑ <var>z</var>(<var>n</var>) = 7894453.</p>\n",
    "<p>Find ∑ <var>z</var>(<var>n</var>) for 0&lt;<var>n</var>&lt;10<sup>17</sup>.</p>\n",
    "</div>"
   ]
  },
  {
   "cell_type": "code",
   "execution_count": null,
   "metadata": {},
   "outputs": [],
   "source": []
  },
  {
   "cell_type": "markdown",
   "metadata": {},
   "source": [
    "### 298. Selective Amnesia\n",
    "#### ([Back to Top](#Table-of-Contents)) ([Webpage](https://projecteuler.net/problem=298))<div class=\"problem_content\" role=\"problem\">\n",
    "<p>Larry and Robin play a memory game involving of a sequence of random numbers between 1 and 10, inclusive, that are called out one at a time. Each player can remember up to 5 previous numbers. When the called number is in a player's memory, that player is awarded a point. If it's not, the player adds the called number to his memory, removing another number if his memory is full.</p>\n",
    "<p>Both players start with empty memories. Both players always add new missed numbers to their memory but use a different strategy in deciding which number to remove:<br>\n",
    "Larry's strategy is to remove the number that hasn't been called in the longest time.<br/>\n",
    "Robin's strategy is to remove the number that's been in the memory the longest time.</br></p>\n",
    "<p>Example game:<br/></p><center><table class=\"p298\"><tr><th>Turn</th>\n",
    "<th>Called<br/>number</th>\n",
    "<th style=\"text-align:right;\">Larry's<br/>memory</th>\n",
    "<th>Larry's<br/>score</th>\n",
    "<th style=\"text-align:right;\">Robin's<br/>memory</th>\n",
    "<th>Robin's<br/>score</th>\n",
    "</tr><tr><td>1</td>\n",
    "<td>1</td>\n",
    "<td style=\"text-align:right;\">1</td>\n",
    "<td>0</td>\n",
    "<td style=\"text-align:right;\">1</td>\n",
    "<td>0</td>\n",
    "</tr><tr><td>2</td>\n",
    "<td>2</td>\n",
    "<td style=\"text-align:right;\">1,2</td>\n",
    "<td>0</td>\n",
    "<td style=\"text-align:right;\">1,2</td>\n",
    "<td>0</td>\n",
    "</tr><tr><td>3</td>\n",
    "<td>4</td>\n",
    "<td style=\"text-align:right;\">1,2,4</td>\n",
    "<td>0</td>\n",
    "<td style=\"text-align:right;\">1,2,4</td>\n",
    "<td>0</td>\n",
    "</tr><tr><td>4</td>\n",
    "<td>6</td>\n",
    "<td style=\"text-align:right;\">1,2,4,6</td>\n",
    "<td>0</td>\n",
    "<td style=\"text-align:right;\">1,2,4,6</td>\n",
    "<td>0</td>\n",
    "</tr><tr><td>5</td>\n",
    "<td>1</td>\n",
    "<td style=\"text-align:right;\">1,2,4,6</td>\n",
    "<td>1</td>\n",
    "<td style=\"text-align:right;\">1,2,4,6</td>\n",
    "<td>1</td>\n",
    "</tr><tr><td>6</td>\n",
    "<td>8</td>\n",
    "<td style=\"text-align:right;\">1,2,4,6,8</td>\n",
    "<td>1</td>\n",
    "<td style=\"text-align:right;\">1,2,4,6,8</td>\n",
    "<td>1</td>\n",
    "</tr><tr><td>7</td>\n",
    "<td>10</td>\n",
    "<td style=\"text-align:right;\">1,4,6,8,10</td>\n",
    "<td>1</td>\n",
    "<td style=\"text-align:right;\">2,4,6,8,10</td>\n",
    "<td>1</td>\n",
    "</tr><tr><td>8</td>\n",
    "<td>2</td>\n",
    "<td style=\"text-align:right;\">1,2,6,8,10</td>\n",
    "<td>1</td>\n",
    "<td style=\"text-align:right;\">2,4,6,8,10</td>\n",
    "<td>2</td>\n",
    "</tr><tr><td>9</td>\n",
    "<td>4</td>\n",
    "<td style=\"text-align:right;\">1,2,4,8,10</td>\n",
    "<td>1</td>\n",
    "<td style=\"text-align:right;\">2,4,6,8,10</td>\n",
    "<td>3</td>\n",
    "</tr><tr><td>10</td>\n",
    "<td>1</td>\n",
    "<td style=\"text-align:right;\">1,2,4,8,10</td>\n",
    "<td>2</td>\n",
    "<td style=\"text-align:right;\">1,4,6,8,10</td>\n",
    "<td>3</td>\n",
    "</tr></table></center>\n",
    "<p>Denoting Larry's score by <var>L</var> and Robin's score by <var>R</var>, what is the expected value of |<var>L</var>-<var>R</var>| after 50 turns? Give your answer rounded to eight decimal places using the format x.xxxxxxxx .</p>\n",
    "</div>"
   ]
  },
  {
   "cell_type": "code",
   "execution_count": null,
   "metadata": {},
   "outputs": [],
   "source": []
  },
  {
   "cell_type": "markdown",
   "metadata": {},
   "source": [
    "### 299. Three similar triangles\n",
    "#### ([Back to Top](#Table-of-Contents)) ([Webpage](https://projecteuler.net/problem=299))<div class=\"problem_content\" role=\"problem\">\n",
    "<p>Four points with integer coordinates are selected:<br>A(<var>a</var>, 0), B(<var>b</var>, 0), C(0, <var>c</var>) and D(0, <var>d</var>), \n",
    "with 0 &lt; <var>a</var> &lt; <var>b</var> and 0 &lt; <var>c</var> &lt; <var>d</var>.<br/>\n",
    "Point P, also with integer coordinates, is chosen on the line AC so that the three triangles ABP, CDP and BDP are all <dfn title=\"Have equal angles\">similar</dfn>.</br></p>\n",
    "<div align=\"center\"><img alt=\"p299_ThreeSimTri.gif\" class=\"dark_img\" src=\"project/images/p299_ThreeSimTri.gif\"/></div>\n",
    "<p>It is easy to prove that the three triangles can be similar, only if <var>a</var>=<var>c</var>.</p>\n",
    "<p>So, given that <var>a</var>=<var>c</var>, we are looking for triplets (<var>a</var>,<var>b</var>,<var>d</var>) such that at least one point P (with integer coordinates) exists on AC, making the three triangles ABP, CDP and BDP all similar.</p>\n",
    "<p>For example, if (<var>a</var>,<var>b</var>,<var>d</var>)=(2,3,4), it can be easily verified that point P(1,1) satisfies the above condition. \n",
    "Note that the triplets (2,3,4) and (2,4,3) are considered as distinct, although point P(1,1) is common for both.</p>\n",
    "<p>If <var>b</var>+<var>d</var> &lt; 100, there are 92 distinct triplets (<var>a</var>,<var>b</var>,<var>d</var>) such that point P exists.<br/>\n",
    "If <var>b</var>+<var>d</var> &lt; 100 000, there are 320471 distinct triplets (<var>a</var>,<var>b</var>,<var>d</var>) such that point P exists.</p>\n",
    "<p>If <var>b</var>+<var>d</var> &lt; 100 000 000, how many distinct triplets (<var>a</var>,<var>b</var>,<var>d</var>) are there such that point P exists?</p>\n",
    "</div>"
   ]
  },
  {
   "cell_type": "code",
   "execution_count": null,
   "metadata": {},
   "outputs": [],
   "source": []
  },
  {
   "cell_type": "markdown",
   "metadata": {},
   "source": [
    "### 300. Protein folding\n",
    "#### ([Back to Top](#Table-of-Contents)) ([Webpage](https://projecteuler.net/problem=300))<div class=\"problem_content\" role=\"problem\">\n",
    "<p>In a very simplified form, we can consider proteins as strings consisting of hydrophobic (H) and polar (P) elements, e.g. HHPPHHHPHHPH. <br>\n",
    "For this problem, the orientation of a protein is important; e.g. HPP is considered distinct from PPH. Thus, there are 2<sup><var>n</var></sup> distinct proteins consisting of <var>n</var> elements.</br></p>\n",
    "<p>When one encounters these strings in nature, they are always folded in such a way that the number of H-H contact points is as large as possible, since this is energetically advantageous.<br/>\n",
    "As a result, the H-elements tend to accumulate in the inner part, with the P-elements on the outside.<br/>\n",
    "Natural proteins are folded in three dimensions of course, but we will only consider protein folding in <u>two dimensions</u>.</p>\n",
    "<p>The figure below shows two possible ways that our example protein could be folded (H-H contact points are shown with red dots).</p>\n",
    "<div align=\"center\"><img alt=\"p300_protein.gif\" src=\"project/images/p300_protein.gif\"/></div>\n",
    "<p>The folding on the left has only six H-H contact points, thus it would never occur naturally.<br/>\n",
    "On the other hand, the folding on the right has nine H-H contact points, which is optimal for this string.</p>\n",
    "<p>Assuming that H and P elements are equally likely to occur in any position along the string, the average number of H-H contact points in an optimal folding of a random protein string of length 8 turns out to be 850 / 2<sup>8</sup>=3.3203125.</p>\n",
    "<p>What is the average number of H-H contact points in an optimal folding of a random protein string of length 15?<br/>\n",
    "Give your answer using as many decimal places as necessary for an exact result.</p>\n",
    "</div>"
   ]
  },
  {
   "cell_type": "code",
   "execution_count": null,
   "metadata": {},
   "outputs": [],
   "source": []
  }
 ],
 "metadata": {
  "kernelspec": {
   "display_name": "Python 3",
   "language": "python",
   "name": "python3"
  },
  "language_info": {
   "codemirror_mode": {
    "name": "ipython",
    "version": 3
   },
   "file_extension": ".py",
   "mimetype": "text/x-python",
   "name": "python",
   "nbconvert_exporter": "python",
   "pygments_lexer": "ipython3",
   "version": "3.6.8"
  }
 },
 "nbformat": 4,
 "nbformat_minor": 2
}
