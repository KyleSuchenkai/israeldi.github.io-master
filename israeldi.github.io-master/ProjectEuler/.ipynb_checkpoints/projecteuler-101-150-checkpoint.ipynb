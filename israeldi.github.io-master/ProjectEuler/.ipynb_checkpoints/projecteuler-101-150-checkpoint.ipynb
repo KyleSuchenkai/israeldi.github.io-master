{
 "cells": [
  {
   "cell_type": "markdown",
   "metadata": {},
   "source": [
    "# Project Euler: 101-150\n",
    "### Israel Diego [(Go to Home Page)](https://israeldi.github.io/project-euler/)\n",
    " What follows are Python-based solutions to <a href=\"https://projecteuler.net\">Project Euler</a> problems. In writing the code, I have aimed for a balance between readability and being concise, for which Python is well-suited. Efficiency is only considered if necessary to get reasonable runtime. To check your answers, create an account on Project Euler, where you can submit answers for validation and track your progress.\n",
    " ## Table of Contents\n",
    " 1. [101. Optimum polynomial](#101.-Optimum-polynomial)\n",
    " 2. [102. Triangle containment](#102.-Triangle-containment)\n",
    " 3. [103. Special subset sums: optimum](#103.-Special-subset-sums:-optimum)\n",
    " 4. [104. Pandigital Fibonacci ends](#104.-Pandigital-Fibonacci-ends)\n",
    " 5. [105. Special subset sums: testing](#105.-Special-subset-sums:-testing)\n",
    " 6. [106. Special subset sums: meta-testing](#106.-Special-subset-sums:-meta-testing)\n",
    " 7. [107. Minimal network](#107.-Minimal-network)\n",
    " 8. [108. Diophantine reciprocals I](#108.-Diophantine-reciprocals-I)\n",
    " 9. [109. Darts](#109.-Darts)\n",
    " 10. [110. Diophantine reciprocals II](#110.-Diophantine-reciprocals-II)\n",
    " 11. [111. Primes with runs](#111.-Primes-with-runs)\n",
    " 12. [112. Bouncy numbers](#112.-Bouncy-numbers)\n",
    " 13. [113. Non-bouncy numbers](#113.-Non-bouncy-numbers)\n",
    " 14. [114. Counting block combinations I](#114.-Counting-block-combinations-I)\n",
    " 15. [115. Counting block combinations II](#115.-Counting-block-combinations-II)\n",
    " 16. [116. Red, green or blue tiles](#116.-Red,-green-or-blue-tiles)\n",
    " 17. [117. Red, green, and blue tiles](#117.-Red,-green,-and-blue-tiles)\n",
    " 18. [118. Pandigital prime sets](#118.-Pandigital-prime-sets)\n",
    " 19. [119. Digit power sum](#119.-Digit-power-sum)\n",
    " 20. [120. Square remainders](#120.-Square-remainders)\n",
    " 21. [121. Disc game prize fund](#121.-Disc-game-prize-fund)\n",
    " 22. [122. Efficient exponentiation](#122.-Efficient-exponentiation)\n",
    " 23. [123. Prime square remainders](#123.-Prime-square-remainders)\n",
    " 24. [124. Ordered radicals](#124.-Ordered-radicals)\n",
    " 25. [125. Palindromic sums](#125.-Palindromic-sums)\n",
    " 26. [126. Cuboid layers](#126.-Cuboid-layers)\n",
    " 27. [127. abc-hits](#127.-abc-hits)\n",
    " 28. [128. Hexagonal tile differences](#128.-Hexagonal-tile-differences)\n",
    " 29. [129. Repunit divisibility](#129.-Repunit-divisibility)\n",
    " 30. [130. Composites with prime repunit property](#130.-Composites-with-prime-repunit-property)\n",
    " 31. [131. Prime cube partnership](#131.-Prime-cube-partnership)\n",
    " 32. [132. Large repunit factors](#132.-Large-repunit-factors)\n",
    " 33. [133. Repunit nonfactors](#133.-Repunit-nonfactors)\n",
    " 34. [134. Prime pair connection](#134.-Prime-pair-connection)\n",
    " 35. [135. Same differences](#135.-Same-differences)\n",
    " 36. [136. Singleton difference](#136.-Singleton-difference)\n",
    " 37. [137. Fibonacci golden nuggets](#137.-Fibonacci-golden-nuggets)\n",
    " 38. [138. Special isosceles triangles](#138.-Special-isosceles-triangles)\n",
    " 39. [139. Pythagorean tiles](#139.-Pythagorean-tiles)\n",
    " 40. [140. Modified Fibonacci golden nuggets](#140.-Modified-Fibonacci-golden-nuggets)\n",
    " 41. [141.](#141.)\n",
    " 42. [142. Perfect Square Collection](#142.-Perfect-Square-Collection)\n",
    " 43. [143. Investigating the Torricelli point of a triangle](#143.-Investigating-the-Torricelli-point-of-a-triangle)\n",
    " 44. [144. Investigating multiple reflections of a laser beam](#144.-Investigating-multiple-reflections-of-a-laser-beam)\n",
    " 45. [145. How many reversible numbers are there below one-billion?](#145.-How-many-reversible-numbers-are-there-below-one-billion?)\n",
    " 46. [146. Investigating a Prime Pattern ](#146.-Investigating-a-Prime-Pattern-)\n",
    " 47. [147. Rectangles in cross-hatched grids](#147.-Rectangles-in-cross-hatched-grids)\n",
    " 48. [148. Exploring Pascal's triangle](#148.-Exploring-Pascal's-triangle)\n",
    " 49. [149. Searching for a maximum-sum subsequence](#149.-Searching-for-a-maximum-sum-subsequence)\n",
    " 0. [150. Searching a triangular array for a sub-triangle having minimum-sum](#150.-Searching-a-triangular-array-for-a-sub-triangle-having-minimum-sum)"
   ]
  },
  {
   "cell_type": "markdown",
   "metadata": {},
   "source": [
    "### 101. Optimum polynomial\n",
    "#### ([Back to Top](#Table-of-Contents)) ([Webpage](https://projecteuler.net/problem=101))<div class=\"problem_content\" role=\"problem\">\n",
    "<p>If we are presented with the first <var>k</var> terms of a sequence it is impossible to say with certainty the value of the next term, as there are infinitely many polynomial functions that can model the sequence.</p>\n",
    "<p>As an example, let us consider the sequence of cube numbers. This is defined by the generating function, <br><var>u</var><sub><var>n</var></sub> = <var>n</var><sup>3</sup>: 1, 8, 27, 64, 125, 216, ...</br></p>\n",
    "<p>Suppose we were only given the first two terms of this sequence. Working on the principle that \"simple is best\" we should assume a linear relationship and predict the next term to be 15 (common difference 7). Even if we were presented with the first three terms, by the same principle of simplicity, a quadratic relationship should be assumed.</p>\n",
    "<p>We shall define OP(<var>k</var>, <var>n</var>) to be the <var>n</var><sup>th</sup> term of the optimum polynomial generating function for the first <var>k</var> terms of a sequence. It should be clear that OP(<var>k</var>, <var>n</var>) will accurately generate the terms of the sequence for <var>n</var> ≤ <var>k</var>, and potentially the <i>first incorrect term</i> (FIT) will be OP(<var>k</var>, <var>k</var>+1); in which case we shall call it a <i>bad OP</i> (BOP).</p>\n",
    "<p>As a basis, if we were only given the first term of sequence, it would be most sensible to assume constancy; that is, for <var>n</var> ≥ 2, OP(1, <var>n</var>) = <var>u</var><sub>1</sub>.</p>\n",
    "<p>Hence we obtain the following OPs for the cubic sequence:</p>\n",
    "<div style=\"margin-left:50px;\">\n",
    "<table><tr><td>OP(1, <var>n</var>) = 1</td>\n",
    "<td>1, <span style=\"color:#FF0000;\"><b>1</b></span>, 1, 1, ...</td>\n",
    "</tr><tr><td>OP(2, <var>n</var>) = 7<var>n</var>−6</td>\n",
    "<td>1, 8, <span style=\"color:#FF0000;\"><b>15</b></span>, ...</td>\n",
    "</tr><tr><td>OP(3, <var>n</var>) = 6<var>n</var><sup>2</sup>−11<var>n</var>+6     </td>\n",
    "<td>1, 8, 27, <span style=\"color:#FF0000;\"><b>58</b></span>, ...</td>\n",
    "</tr><tr><td>OP(4, <var>n</var>) = <var>n</var><sup>3</sup></td>\n",
    "<td>1, 8, 27, 64, 125, ...</td>\n",
    "</tr></table></div>\n",
    "<p>Clearly no BOPs exist for <var>k</var> ≥ 4.</p>\n",
    "<p>By considering the sum of FITs generated by the BOPs (indicated in <span style=\"color:#FF0000;\"><b>red</b></span> above), we obtain 1 + 15 + 58 = 74.</p>\n",
    "<p>Consider the following tenth degree polynomial generating function:</p>\n",
    "<p style=\"text-align:center;\"><var>u</var><sub><var>n</var></sub> = 1 − <var>n</var> + <var>n</var><sup>2</sup> − <var>n</var><sup>3</sup> + <var>n</var><sup>4</sup> − <var>n</var><sup>5</sup> + <var>n</var><sup>6</sup> − <var>n</var><sup>7</sup> + <var>n</var><sup>8</sup> − <var>n</var><sup>9</sup> + <var>n</var><sup>10</sup></p>\n",
    "<p>Find the sum of FITs for the BOPs.</p>\n",
    "</div>"
   ]
  },
  {
   "cell_type": "code",
   "execution_count": null,
   "metadata": {},
   "outputs": [],
   "source": []
  },
  {
   "cell_type": "markdown",
   "metadata": {},
   "source": [
    "### 102. Triangle containment\n",
    "#### ([Back to Top](#Table-of-Contents)) ([Webpage](https://projecteuler.net/problem=102))<div class=\"problem_content\" role=\"problem\">\n",
    "<p>Three distinct points are plotted at random on a Cartesian plane, for which -1000 ≤ <i>x</i>, <i>y</i> ≤ 1000, such that a triangle is formed.</p>\n",
    "<p>Consider the following two triangles:</p>\n",
    "<p style=\"text-align:center;\">A(-340,495), B(-153,-910), C(835,-947)<br><br/>\n",
    "X(-175,41), Y(-421,-714), Z(574,-645)</br></p>\n",
    "<p>It can be verified that triangle ABC contains the origin, whereas triangle XYZ does not.</p>\n",
    "<p>Using <a href=\"project/resources/p102_triangles.txt\">triangles.txt</a> (right click and 'Save Link/Target As...'), a 27K text file containing the co-ordinates of one thousand \"random\" triangles, find the number of triangles for which the interior contains the origin.</p>\n",
    "<p class=\"info\">NOTE: The first two examples in the file represent the triangles in the example given above.</p>\n",
    "</div>"
   ]
  },
  {
   "cell_type": "code",
   "execution_count": null,
   "metadata": {},
   "outputs": [],
   "source": []
  },
  {
   "cell_type": "markdown",
   "metadata": {},
   "source": [
    "### 103. Special subset sums: optimum\n",
    "#### ([Back to Top](#Table-of-Contents)) ([Webpage](https://projecteuler.net/problem=103))<div class=\"problem_content\" role=\"problem\">\n",
    "<p>Let S(A) represent the sum of elements in set A of size <i>n</i>. We shall call it a special sum set if for any two non-empty disjoint subsets, B and C, the following properties are true:</p>\n",
    "<ol style=\"list-style-type:lower-roman;\"><li>S(B) ≠ S(C); that is, sums of subsets cannot be equal.</li>\n",
    "<li>If B contains more elements than C then S(B) &gt; S(C).</li>\n",
    "</ol><p>If S(A) is minimised for a given <i>n</i>, we shall call it an optimum special sum set. The first five optimum special sum sets are given below.</p>\n",
    "<p style=\"margin-left:50px;\"><i>n</i> = 1: {1}<br><i>n</i> = 2: {1, 2}<br/><i>n</i> = 3: {2, 3, 4}<br/><i>n</i> = 4: {3, 5, 6, 7}<br/><i>n</i> = 5: {6, 9, 11, 12, 13}</br></p>\n",
    "<p>It <i>seems</i> that for a given optimum set, A = {<i>a</i><sub>1</sub>, <i>a</i><sub>2</sub>, ... , <i>a</i><sub>n</sub>}, the next optimum set is of the form B = {<i>b</i>, <i>a</i><sub>1</sub>+<i>b</i>, <i>a</i><sub>2</sub>+<i>b</i>, ... ,<i>a</i><sub>n</sub>+<i>b</i>}, where <i>b</i> is the \"middle\" element on the previous row.</p>\n",
    "<p>By applying this \"rule\" we would expect the optimum set for <i>n</i> = 6 to be A = {11, 17, 20, 22, 23, 24}, with S(A) = 117. However, this is not the optimum set, as we have merely applied an algorithm to provide a near optimum set. The optimum set for <i>n</i> = 6 is A = {11, 18, 19, 20, 22, 25}, with S(A) = 115 and corresponding set string: 111819202225.</p>\n",
    "<p>Given that A is an optimum special sum set for <i>n</i> = 7, find its set string.</p>\n",
    "<p class=\"note\">NOTE: This problem is related to <a href=\"problem=105\">Problem 105</a> and <a href=\"problem=106\">Problem 106</a>.</p>\n",
    "</div>"
   ]
  },
  {
   "cell_type": "code",
   "execution_count": null,
   "metadata": {},
   "outputs": [],
   "source": []
  },
  {
   "cell_type": "markdown",
   "metadata": {},
   "source": [
    "### 104. Pandigital Fibonacci ends\n",
    "#### ([Back to Top](#Table-of-Contents)) ([Webpage](https://projecteuler.net/problem=104))<div class=\"problem_content\" role=\"problem\">\n",
    "<p>The Fibonacci sequence is defined by the recurrence relation:</p>\n",
    "<blockquote>F<sub><i>n</i></sub> = F<sub><i>n</i>−1</sub> + F<sub><i>n</i>−2</sub>, where F<sub>1</sub> = 1 and F<sub>2</sub> = 1.</blockquote>\n",
    "<p>It turns out that F<sub>541</sub>, which contains 113 digits, is the first Fibonacci number for which the last nine digits are 1-9 pandigital (contain all the digits 1 to 9, but not necessarily in order). And F<sub>2749</sub>, which contains 575 digits, is the first Fibonacci number for which the first nine digits are 1-9 pandigital.</p>\n",
    "<p>Given that F<sub><i>k</i></sub> is the first Fibonacci number for which the first nine digits AND the last nine digits are 1-9 pandigital, find <i>k</i>.</p>\n",
    "</div>"
   ]
  },
  {
   "cell_type": "code",
   "execution_count": null,
   "metadata": {},
   "outputs": [],
   "source": []
  },
  {
   "cell_type": "markdown",
   "metadata": {},
   "source": [
    "### 105. Special subset sums: testing\n",
    "#### ([Back to Top](#Table-of-Contents)) ([Webpage](https://projecteuler.net/problem=105))<div class=\"problem_content\" role=\"problem\">\n",
    "<p>Let S(A) represent the sum of elements in set A of size <i>n</i>. We shall call it a special sum set if for any two non-empty disjoint subsets, B and C, the following properties are true:</p>\n",
    "<ol style=\"list-style-type:lower-roman;\"><li>S(B) ≠ S(C); that is, sums of subsets cannot be equal.</li>\n",
    "<li>If B contains more elements than C then S(B) &gt; S(C).</li>\n",
    "</ol><p>For example, {81, 88, 75, 42, 87, 84, 86, 65} is not a special sum set because 65 + 87 + 88 = 75 + 81 + 84, whereas {157, 150, 164, 119, 79, 159, 161, 139, 158} satisfies both rules for all possible subset pair combinations and S(A) = 1286.</p>\n",
    "<p>Using <a href=\"project/resources/p105_sets.txt\">sets.txt</a> (right click and \"Save Link/Target As...\"), a 4K text file with one-hundred sets containing seven to twelve elements (the two examples given above are the first two sets in the file), identify all the special sum sets, A<sub>1</sub>, A<sub>2</sub>, ..., A<sub><i>k</i></sub>, and find the value of S(A<sub>1</sub>) + S(A<sub>2</sub>) + ... + S(A<sub><i>k</i></sub>).</p>\n",
    "<p class=\"note\">NOTE: This problem is related to <a href=\"problem=103\">Problem 103</a> and <a href=\"problem=106\">Problem 106</a>.</p>\n",
    "</div>"
   ]
  },
  {
   "cell_type": "code",
   "execution_count": null,
   "metadata": {},
   "outputs": [],
   "source": []
  },
  {
   "cell_type": "markdown",
   "metadata": {},
   "source": [
    "### 106. Special subset sums: meta-testing\n",
    "#### ([Back to Top](#Table-of-Contents)) ([Webpage](https://projecteuler.net/problem=106))<div class=\"problem_content\" role=\"problem\">\n",
    "<p>Let S(A) represent the sum of elements in set A of size <i>n</i>. We shall call it a special sum set if for any two non-empty disjoint subsets, B and C, the following properties are true:</p>\n",
    "<ol style=\"list-style-type:lower-roman;\"><li>S(B) ≠ S(C); that is, sums of subsets cannot be equal.</li>\n",
    "<li>If B contains more elements than C then S(B) &gt; S(C).</li>\n",
    "</ol><p>For this problem we shall assume that a given set contains <i>n</i> strictly increasing elements and it already satisfies the second rule.</p>\n",
    "<p>Surprisingly, out of the 25 possible subset pairs that can be obtained from a set for which <i>n</i> = 4, only 1 of these pairs need to be tested for equality (first rule). Similarly, when <i>n</i> = 7, only 70 out of the 966 subset pairs need to be tested.</p>\n",
    "<p>For <i>n</i> = 12, how many of the 261625 subset pairs that can be obtained need to be tested for equality?</p>\n",
    "<p class=\"note\">NOTE: This problem is related to <a href=\"problem=103\">Problem 103</a> and <a href=\"problem=105\">Problem 105</a>.</p>\n",
    "</div>"
   ]
  },
  {
   "cell_type": "code",
   "execution_count": null,
   "metadata": {},
   "outputs": [],
   "source": []
  },
  {
   "cell_type": "markdown",
   "metadata": {},
   "source": [
    "### 107. Minimal network\n",
    "#### ([Back to Top](#Table-of-Contents)) ([Webpage](https://projecteuler.net/problem=107))<div class=\"problem_content\" role=\"problem\">\n",
    "<p>The following undirected network consists of seven vertices and twelve edges with a total weight of 243.</p>\n",
    "<div style=\"text-align:center;\">\n",
    "<img alt=\"\" class=\"dark_img\" src=\"project/images/p107_1.png\"/><br/></div>\n",
    "<p>The same network can be represented by the matrix below.</p>\n",
    "<table align=\"center\" border=\"1\" cellpadding=\"5\" cellspacing=\"0\"><tr><td>    </td><td><b>A</b></td><td><b>B</b></td><td><b>C</b></td><td><b>D</b></td><td><b>E</b></td><td><b>F</b></td><td><b>G</b></td>\n",
    "</tr><tr><td><b>A</b></td><td>-</td><td>16</td><td>12</td><td>21</td><td>-</td><td>-</td><td>-</td>\n",
    "</tr><tr><td><b>B</b></td><td>16</td><td>-</td><td>-</td><td>17</td><td>20</td><td>-</td><td>-</td>\n",
    "</tr><tr><td><b>C</b></td><td>12</td><td>-</td><td>-</td><td>28</td><td>-</td><td>31</td><td>-</td>\n",
    "</tr><tr><td><b>D</b></td><td>21</td><td>17</td><td>28</td><td>-</td><td>18</td><td>19</td><td>23</td>\n",
    "</tr><tr><td><b>E</b></td><td>-</td><td>20</td><td>-</td><td>18</td><td>-</td><td>-</td><td>11</td>\n",
    "</tr><tr><td><b>F</b></td><td>-</td><td>-</td><td>31</td><td>19</td><td>-</td><td>-</td><td>27</td>\n",
    "</tr><tr><td><b>G</b></td><td>-</td><td>-</td><td>-</td><td>23</td><td>11</td><td>27</td><td>-</td>\n",
    "</tr></table><p>However, it is possible to optimise the network by removing some edges and still ensure that all points on the network remain connected. The network which achieves the maximum saving is shown below. It has a weight of 93, representing a saving of 243 − 93 = 150 from the original network.</p>\n",
    "<div style=\"text-align:center;\">\n",
    "<img alt=\"\" class=\"dark_img\" src=\"project/images/p107_2.png\"/><br/></div>\n",
    "<p>Using <a href=\"project/resources/p107_network.txt\">network.txt</a> (right click and 'Save Link/Target As...'), a 6K text file containing a network with forty vertices, and given in matrix form, find the maximum saving which can be achieved by removing redundant edges whilst ensuring that the network remains connected.</p>\n",
    "</div>"
   ]
  },
  {
   "cell_type": "code",
   "execution_count": null,
   "metadata": {},
   "outputs": [],
   "source": []
  },
  {
   "cell_type": "markdown",
   "metadata": {},
   "source": [
    "### 108. Diophantine reciprocals I\n",
    "#### ([Back to Top](#Table-of-Contents)) ([Webpage](https://projecteuler.net/problem=108))<div class=\"problem_content\" role=\"problem\">\n",
    "<p>In the following equation <var>x</var>, <var>y</var>, and <var>n</var> are positive integers.</p>\n",
    "$$\\dfrac{1}{x} + \\dfrac{1}{y} = \\dfrac{1}{n}$$\n",
    "<p>For <var>n</var> = 4 there are exactly three distinct solutions:</p>\n",
    "$$\\begin{align}\n",
    "\\dfrac{1}{5} + \\dfrac{1}{20} &amp;= \\dfrac{1}{4}\\\\\n",
    "\\dfrac{1}{6} + \\dfrac{1}{12} &amp;= \\dfrac{1}{4}\\\\\n",
    "\\dfrac{1}{8} + \\dfrac{1}{8} &amp;= \\dfrac{1}{4}\n",
    "\\end{align}\n",
    "$$\n",
    "\n",
    "<p>What is the least value of <var>n</var> for which the number of distinct solutions exceeds one-thousand?</p>\n",
    "<p class=\"note\">NOTE: This problem is an easier version of <a href=\"problem=110\">Problem 110</a>; it is strongly advised that you solve this one first.</p>\n",
    "</div>"
   ]
  },
  {
   "cell_type": "code",
   "execution_count": null,
   "metadata": {},
   "outputs": [],
   "source": []
  },
  {
   "cell_type": "markdown",
   "metadata": {},
   "source": [
    "### 109. Darts\n",
    "#### ([Back to Top](#Table-of-Contents)) ([Webpage](https://projecteuler.net/problem=109))<div class=\"problem_content\" role=\"problem\">\n",
    "<p>In the game of darts a player throws three darts at a target board which is split into twenty equal sized sections numbered one to twenty.</p>\n",
    "<div style=\"text-align:center;\">\n",
    "<img alt=\"\" class=\"dark_img\" src=\"project/images/p109.png\"/><br/></div>\n",
    "<p>The score of a dart is determined by the number of the region that the dart lands in. A dart landing outside the red/green outer ring scores zero. The black and cream regions inside this ring represent single scores. However, the red/green outer ring and middle ring score double and treble scores respectively.</p>\n",
    "<p>At the centre of the board are two concentric circles called the bull region, or bulls-eye. The outer bull is worth 25 points and the inner bull is a double, worth 50 points.</p>\n",
    "<p>There are many variations of rules but in the most popular game the players will begin with a score 301 or 501 and the first player to reduce their running total to zero is a winner. However, it is normal to play a \"doubles out\" system, which means that the player must land a double (including the double bulls-eye at the centre of the board) on their final dart to win; any other dart that would reduce their running total to one or lower means the score for that set of three darts is \"bust\".</p>\n",
    "<p>When a player is able to finish  on their current score it is called a \"checkout\" and the highest checkout is 170: T20 T20 D25 (two treble 20s and double bull).</p>\n",
    "<p>There are exactly eleven distinct ways to checkout on a score of 6:</p>\n",
    "<div style=\"text-align:center;\">\n",
    "<table align=\"center\" border=\"1\" cellpadding=\"3\" cellspacing=\"0\"><tr><td style=\"width:80px;\">D3</td>\n",
    "<td style=\"width:80px;\"> </td>\n",
    "<td style=\"width:80px;\"> </td>\n",
    "</tr><tr><td>D1</td>\n",
    "<td>D2</td>\n",
    "<td> </td>\n",
    "</tr><tr><td>S2</td>\n",
    "<td>D2</td>\n",
    "<td> </td>\n",
    "</tr><tr><td>D2</td>\n",
    "<td>D1</td>\n",
    "<td> </td>\n",
    "</tr><tr><td>S4</td>\n",
    "<td>D1</td>\n",
    "<td> </td>\n",
    "</tr><tr><td>S1</td>\n",
    "<td>S1</td>\n",
    "<td>D2</td>\n",
    "</tr><tr><td>S1</td>\n",
    "<td>T1</td>\n",
    "<td>D1</td>\n",
    "</tr><tr><td>S1</td>\n",
    "<td>S3</td>\n",
    "<td>D1</td>\n",
    "</tr><tr><td>D1</td>\n",
    "<td>D1</td>\n",
    "<td>D1</td>\n",
    "</tr><tr><td>D1</td>\n",
    "<td>S2</td>\n",
    "<td>D1</td>\n",
    "</tr><tr><td>S2</td>\n",
    "<td>S2</td>\n",
    "<td>D1</td>\n",
    "</tr></table></div>\n",
    "<p>Note that D1 D2 is considered <b>different</b> to D2 D1 as they finish on different doubles. However, the combination S1 T1 D1 is considered the <b>same</b> as T1 S1 D1.</p>\n",
    "<p>In addition we shall not include misses in considering combinations; for example, D3 is the <b>same</b> as 0 D3 and 0 0 D3.</p>\n",
    "<p>Incredibly there are 42336 distinct ways of checking out in total.</p>\n",
    "<p>How many distinct ways can a player checkout with a score less than 100?</p>\n",
    "</div>"
   ]
  },
  {
   "cell_type": "code",
   "execution_count": null,
   "metadata": {},
   "outputs": [],
   "source": []
  },
  {
   "cell_type": "markdown",
   "metadata": {},
   "source": [
    "### 110. Diophantine reciprocals II\n",
    "#### ([Back to Top](#Table-of-Contents)) ([Webpage](https://projecteuler.net/problem=110))<div class=\"problem_content\" role=\"problem\">\n",
    "<p>In the following equation <var>x</var>, <var>y</var>, and <var>n</var> are positive integers.</p>\n",
    "<div style=\"text-align:center;\">\n",
    "<table align=\"center\"><tr><td><div style=\"text-align:center;\">1<br><span style=\"border-top:1px solid #000;\"><var>x</var></span></br></div></td>\n",
    "<td> + </td>\n",
    "<td><div style=\"text-align:center;\">1<br/><span style=\"border-top:1px solid #000;\"><var>y</var></span></div></td>\n",
    "<td> = </td>\n",
    "<td><div style=\"text-align:center;\">1<br/><span style=\"border-top:1px solid #000;\"><var>n</var></span></div></td>\n",
    "</tr></table></div>\n",
    "<p>It can be verified that when <var>n</var> = 1260 there are 113 distinct solutions and this is the least value of <var>n</var> for which the total number of distinct solutions exceeds one hundred.</p>\n",
    "<p>What is the least value of <var>n</var> for which the number of distinct solutions exceeds four million?</p>\n",
    "<p class=\"note\">NOTE: This problem is a much more difficult version of <a href=\"problem=108\">Problem 108</a> and as it is well beyond the limitations of a brute force approach it requires a clever implementation.</p>\n",
    "</div>"
   ]
  },
  {
   "cell_type": "code",
   "execution_count": null,
   "metadata": {},
   "outputs": [],
   "source": []
  },
  {
   "cell_type": "markdown",
   "metadata": {},
   "source": [
    "### 111. Primes with runs\n",
    "#### ([Back to Top](#Table-of-Contents)) ([Webpage](https://projecteuler.net/problem=111))<div class=\"problem_content\" role=\"problem\">\n",
    "<p>Considering 4-digit primes containing repeated digits it is clear that they cannot all be the same: 1111 is divisible by 11, 2222 is divisible by 22, and so on. But there are nine 4-digit primes containing three ones:</p>\n",
    "<p style=\"text-align:center;\">1117, 1151, 1171, 1181, 1511, 1811, 2111, 4111, 8111</p>\n",
    "<p>We shall say that M(<i>n</i>, <i>d</i>) represents the maximum number of repeated digits for an <i>n</i>-digit prime where <i>d</i> is the repeated digit, N(<i>n</i>, <i>d</i>) represents the number of such primes, and S(<i>n</i>, <i>d</i>) represents the sum of these primes.</p>\n",
    "<p>So M(4, 1) = 3 is the maximum number of repeated digits for a 4-digit prime where one is the repeated digit, there are N(4, 1) = 9 such primes, and the sum of these primes is S(4, 1) = 22275. It turns out that for <i>d</i> = 0, it is only possible to have M(4, 0) = 2 repeated digits, but there are N(4, 0) = 13 such cases.</p>\n",
    "<p>In the same way we obtain the following results for 4-digit primes.</p>\n",
    "<div style=\"text-align:center;\">\n",
    "<table align=\"center\" border=\"1\" cellpadding=\"5\" cellspacing=\"0\"><tr><td><b>Digit, <i>d</i></b></td>\n",
    "<td><b>M(4, <i>d</i>)</b></td>\n",
    "<td><b>N(4, <i>d</i>)</b></td>\n",
    "<td><b>S(4, <i>d</i>)</b></td>\n",
    "</tr><tr><td>0</td>\n",
    "<td>2</td>\n",
    "<td>13</td>\n",
    "<td>67061</td>\n",
    "</tr><tr><td>1</td>\n",
    "<td>3</td>\n",
    "<td>9</td>\n",
    "<td>22275</td>\n",
    "</tr><tr><td>2</td>\n",
    "<td>3</td>\n",
    "<td>1</td>\n",
    "<td>2221</td>\n",
    "</tr><tr><td>3</td>\n",
    "<td>3</td>\n",
    "<td>12</td>\n",
    "<td>46214</td>\n",
    "</tr><tr><td>4</td>\n",
    "<td>3</td>\n",
    "<td>2</td>\n",
    "<td>8888</td>\n",
    "</tr><tr><td>5</td>\n",
    "<td>3</td>\n",
    "<td>1</td>\n",
    "<td>5557</td>\n",
    "</tr><tr><td>6</td>\n",
    "<td>3</td>\n",
    "<td>1</td>\n",
    "<td>6661</td>\n",
    "</tr><tr><td>7</td>\n",
    "<td>3</td>\n",
    "<td>9</td>\n",
    "<td>57863</td>\n",
    "</tr><tr><td>8</td>\n",
    "<td>3</td>\n",
    "<td>1</td>\n",
    "<td>8887</td>\n",
    "</tr><tr><td>9</td>\n",
    "<td>3</td>\n",
    "<td>7</td>\n",
    "<td>48073</td>\n",
    "</tr></table></div>\n",
    "<p>For <i>d</i> = 0 to 9, the sum of all S(4, <i>d</i>) is 273700.</p>\n",
    "<p>Find the sum of all S(10, <i>d</i>).</p>\n",
    "</div>"
   ]
  },
  {
   "cell_type": "code",
   "execution_count": null,
   "metadata": {},
   "outputs": [],
   "source": []
  },
  {
   "cell_type": "markdown",
   "metadata": {},
   "source": [
    "### 112. Bouncy numbers\n",
    "#### ([Back to Top](#Table-of-Contents)) ([Webpage](https://projecteuler.net/problem=112))<div class=\"problem_content\" role=\"problem\">\n",
    "<p>Working from left-to-right if no digit is exceeded by the digit to its left it is called an increasing number; for example, 134468.</p>\n",
    "<p>Similarly if no digit is exceeded by the digit to its right it is called a decreasing number; for example, 66420.</p>\n",
    "<p>We shall call a positive integer that is neither increasing nor decreasing a \"bouncy\" number; for example, 155349.</p>\n",
    "<p>Clearly there cannot be any bouncy numbers below one-hundred, but just over half of the numbers below one-thousand (525) are bouncy. In fact, the least number for which the proportion of bouncy numbers first reaches 50% is 538.</p>\n",
    "<p>Surprisingly, bouncy numbers become more and more common and by the time we reach 21780 the proportion of bouncy numbers is equal to 90%.</p>\n",
    "<p>Find the least number for which the proportion of bouncy numbers is exactly 99%.</p>\n",
    "</div>"
   ]
  },
  {
   "cell_type": "code",
   "execution_count": null,
   "metadata": {},
   "outputs": [],
   "source": []
  },
  {
   "cell_type": "markdown",
   "metadata": {},
   "source": [
    "### 113. Non-bouncy numbers\n",
    "#### ([Back to Top](#Table-of-Contents)) ([Webpage](https://projecteuler.net/problem=113))<div class=\"problem_content\" role=\"problem\">\n",
    "<p>Working from left-to-right if no digit is exceeded by the digit to its left it is called an increasing number; for example, 134468.</p>\n",
    "<p>Similarly if no digit is exceeded by the digit to its right it is called a decreasing number; for example, 66420.</p>\n",
    "<p>We shall call a positive integer that is neither increasing nor decreasing a \"bouncy\" number; for example, 155349.</p>\n",
    "<p>As <i>n</i> increases, the proportion of bouncy numbers below <i>n</i> increases such that there are only 12951 numbers below one-million that are not bouncy and only 277032 non-bouncy numbers below 10<sup>10</sup>.</p>\n",
    "<p>How many numbers below a googol (10<sup>100</sup>) are not bouncy?</p>\n",
    "</div>"
   ]
  },
  {
   "cell_type": "code",
   "execution_count": null,
   "metadata": {},
   "outputs": [],
   "source": []
  },
  {
   "cell_type": "markdown",
   "metadata": {},
   "source": [
    "### 114. Counting block combinations I\n",
    "#### ([Back to Top](#Table-of-Contents)) ([Webpage](https://projecteuler.net/problem=114))<div class=\"problem_content\" role=\"problem\">\n",
    "<p>A row measuring seven units in length has red blocks with a minimum length of three units placed on it, such that any two red blocks (which are allowed to be different lengths) are separated by at least one grey square. There are exactly seventeen ways of doing this.</p>\n",
    "<div style=\"text-align:center;\">\n",
    "<img alt=\"p114.png\" src=\"project/images/p114.png\"/></div>\n",
    "<p>How many ways can a row measuring fifty units in length be filled?</p>\n",
    "<p class=\"note\">NOTE: Although the example above does not lend itself to the possibility, in general it is permitted to mix block sizes. For example, on a row measuring eight units in length you could use red (3), grey (1), and red (4).</p>\n",
    "</div>"
   ]
  },
  {
   "cell_type": "code",
   "execution_count": null,
   "metadata": {},
   "outputs": [],
   "source": []
  },
  {
   "cell_type": "markdown",
   "metadata": {},
   "source": [
    "### 115. Counting block combinations II\n",
    "#### ([Back to Top](#Table-of-Contents)) ([Webpage](https://projecteuler.net/problem=115))<div class=\"problem_content\" role=\"problem\">\n",
    "<p class=\"note\">NOTE: This is a more difficult version of <a href=\"problem=114\">Problem 114</a>.</p>\n",
    "<p>A row measuring <i>n</i> units in length has red blocks with a minimum length of <i>m</i> units placed on it, such that any two red blocks (which are allowed to be different lengths) are separated by at least one black square.</p>\n",
    "<p>Let the fill-count function, F(<i>m</i>, <i>n</i>), represent the number of ways that a row can be filled.</p>\n",
    "<p>For example, F(3, 29) = 673135 and F(3, 30) = 1089155.</p>\n",
    "<p>That is, for <i>m</i> = 3, it can be seen that <i>n</i> = 30 is the smallest value for which the fill-count function first exceeds one million.</p>\n",
    "<p>In the same way, for <i>m</i> = 10, it can be verified that F(10, 56) = 880711 and F(10, 57) = 1148904, so <i>n</i> = 57 is the least value for which the fill-count function first exceeds one million.</p>\n",
    "<p>For <i>m</i> = 50, find the least value of <i>n</i> for which the fill-count function first exceeds one million.</p>\n",
    "</div>"
   ]
  },
  {
   "cell_type": "code",
   "execution_count": null,
   "metadata": {},
   "outputs": [],
   "source": []
  },
  {
   "cell_type": "markdown",
   "metadata": {},
   "source": [
    "### 116. Red, green or blue tiles\n",
    "#### ([Back to Top](#Table-of-Contents)) ([Webpage](https://projecteuler.net/problem=116))<div class=\"problem_content\" role=\"problem\">\n",
    "<p>A row of five grey square tiles is to have a number of its tiles replaced with coloured oblong tiles chosen from red (length two), green (length three), or blue (length four).</p>\n",
    "<p>If red tiles are chosen there are exactly seven ways this can be done.</p>\n",
    "<div style=\"text-align:center;\">\n",
    "<img alt=\"png116_1.png\" src=\"project/images/p116_1.png\"/></div>\n",
    "<p>If green tiles are chosen there are three ways.</p>\n",
    "<div style=\"text-align:center;\">\n",
    "<img alt=\"png116_2.png\" src=\"project/images/p116_2.png\"/></div>\n",
    "<p>And if blue tiles are chosen there are two ways.</p>\n",
    "<div style=\"text-align:center;\">\n",
    "<img alt=\"png116_3.png\" src=\"project/images/p116_3.png\"/></div>\n",
    "<p>Assuming that colours cannot be mixed there are 7 + 3 + 2 = 12 ways of replacing the grey tiles in a row measuring five units in length.</p>\n",
    "<p>How many different ways can the grey tiles in a row measuring fifty units in length be replaced if colours cannot be mixed and at least one coloured tile must be used?</p>\n",
    "<p class=\"note\">NOTE: This is related to <a href=\"problem=117\">Problem 117</a>.</p>\n",
    "</div>"
   ]
  },
  {
   "cell_type": "code",
   "execution_count": null,
   "metadata": {},
   "outputs": [],
   "source": []
  },
  {
   "cell_type": "markdown",
   "metadata": {},
   "source": [
    "### 117. Red, green, and blue tiles\n",
    "#### ([Back to Top](#Table-of-Contents)) ([Webpage](https://projecteuler.net/problem=117))<div class=\"problem_content\" role=\"problem\">\n",
    "<p>Using a combination of grey square tiles and oblong tiles chosen from: red tiles (measuring two units), green tiles (measuring three units), and blue tiles (measuring four units), it is possible to tile a row measuring five units in length in exactly fifteen different ways.</p>\n",
    "<div style=\"text-align:center;\">\n",
    "<img alt=\"png117.png\" src=\"project/images/p117.png\"/></div>\n",
    "<p>How many ways can a row measuring fifty units in length be tiled?</p>\n",
    "<p class=\"note\">NOTE: This is related to <a href=\"problem=116\">Problem 116</a>.</p>\n",
    "</div>"
   ]
  },
  {
   "cell_type": "code",
   "execution_count": null,
   "metadata": {},
   "outputs": [],
   "source": []
  },
  {
   "cell_type": "markdown",
   "metadata": {},
   "source": [
    "### 118. Pandigital prime sets\n",
    "#### ([Back to Top](#Table-of-Contents)) ([Webpage](https://projecteuler.net/problem=118))<div class=\"problem_content\" role=\"problem\">\n",
    "<p>Using all of the digits 1 through 9 and concatenating them freely to form decimal integers, different sets can be formed. Interestingly with the set {2,5,47,89,631}, all of the elements belonging to it are prime.</p>\n",
    "<p>How many distinct sets containing each of the digits one through nine exactly once contain only prime elements?</p>\n",
    "</div>"
   ]
  },
  {
   "cell_type": "code",
   "execution_count": null,
   "metadata": {},
   "outputs": [],
   "source": []
  },
  {
   "cell_type": "markdown",
   "metadata": {},
   "source": [
    "### 119. Digit power sum\n",
    "#### ([Back to Top](#Table-of-Contents)) ([Webpage](https://projecteuler.net/problem=119))<div class=\"problem_content\" role=\"problem\">\n",
    "<p>The number 512 is interesting because it is equal to the sum of its digits raised to some power: 5 + 1 + 2 = 8, and 8<sup>3</sup> = 512. Another example of a number with this property is 614656 = 28<sup>4</sup>.</p>\n",
    "<p>We shall define <i>a</i><sub>n</sub> to be the <i>n</i>th term of this sequence and insist that a number must contain at least two digits to have a sum.</p>\n",
    "<p>You are given that <i>a</i><sub>2</sub> = 512 and <i>a</i><sub>10</sub> = 614656.</p>\n",
    "<p>Find <i>a</i><sub>30</sub>.</p>\n",
    "</div>"
   ]
  },
  {
   "cell_type": "code",
   "execution_count": null,
   "metadata": {},
   "outputs": [],
   "source": []
  },
  {
   "cell_type": "markdown",
   "metadata": {},
   "source": [
    "### 120. Square remainders\n",
    "#### ([Back to Top](#Table-of-Contents)) ([Webpage](https://projecteuler.net/problem=120))<div class=\"problem_content\" role=\"problem\">\n",
    "<p>Let <i>r</i> be the remainder when (<i>a</i>−1)<sup><i>n</i></sup> + (<i>a</i>+1)<sup><i>n</i></sup> is divided by <i>a</i><sup>2</sup>.</p>\n",
    "<p>For example, if <i>a</i> = 7 and <i>n</i> = 3, then <i>r</i> = 42: 6<sup>3</sup> + 8<sup>3</sup> = 728 ≡ 42 mod 49. And as <i>n</i> varies, so too will <i>r</i>, but for <i>a</i> = 7 it turns out that <i>r</i><sub>max</sub> = 42.</p>\n",
    "<p>For 3 ≤ <i>a</i> ≤ 1000, find <span style=\"font-family:'times new roman';font-size:13pt;\">∑</span> <i>r</i><sub>max</sub>.</p>\n",
    "</div>"
   ]
  },
  {
   "cell_type": "code",
   "execution_count": null,
   "metadata": {},
   "outputs": [],
   "source": []
  },
  {
   "cell_type": "markdown",
   "metadata": {},
   "source": [
    "### 121. Disc game prize fund\n",
    "#### ([Back to Top](#Table-of-Contents)) ([Webpage](https://projecteuler.net/problem=121))<div class=\"problem_content\" role=\"problem\">\n",
    "<p>A bag contains one red disc and one blue disc. In a game of chance a player takes a disc at random and its colour is noted. After each turn the disc is returned to the bag, an extra red disc is added, and another disc is taken at random.</p>\n",
    "<p>The player pays £1 to play and wins if they have taken more blue discs than red discs at the end of the game.</p>\n",
    "<p>If the game is played for four turns, the probability of a player winning is exactly 11/120, and so the maximum prize fund the banker should allocate for winning in this game would be £10 before they would expect to incur a loss. Note that any payout will be a whole number of pounds and also includes the original £1 paid to play the game, so in the example given the player actually wins £9.</p>\n",
    "<p>Find the maximum prize fund that should be allocated to a single game in which fifteen turns are played.</p>\n",
    "</div>"
   ]
  },
  {
   "cell_type": "code",
   "execution_count": null,
   "metadata": {},
   "outputs": [],
   "source": []
  },
  {
   "cell_type": "markdown",
   "metadata": {},
   "source": [
    "### 122. Efficient exponentiation\n",
    "#### ([Back to Top](#Table-of-Contents)) ([Webpage](https://projecteuler.net/problem=122))<div class=\"problem_content\" role=\"problem\">\n",
    "<p>The most naive way of computing <i>n</i><sup>15</sup> requires fourteen multiplications:</p>\n",
    "<p style=\"margin-left:100px;\"><i>n</i> × <i>n</i> × ... × <i>n</i> = <i>n</i><sup>15</sup></p>\n",
    "<p>But using a \"binary\" method you can compute it in six multiplications:</p>\n",
    "<p style=\"margin-left:100px;\"><i>n</i> × <i>n</i> = <i>n</i><sup>2</sup><br><i>n</i><sup>2</sup> × <i>n</i><sup>2</sup> = <i>n</i><sup>4</sup><br/><i>n</i><sup>4</sup> × <i>n</i><sup>4</sup> = <i>n</i><sup>8</sup><br/><i>n</i><sup>8</sup> × <i>n</i><sup>4</sup> = <i>n</i><sup>12</sup><br/><i>n</i><sup>12</sup> × <i>n</i><sup>2</sup> = <i>n</i><sup>14</sup><br/><i>n</i><sup>14</sup> × <i>n</i> = <i>n</i><sup>15</sup></br></p>\n",
    "<p>However it is yet possible to compute it in only five multiplications:</p>\n",
    "<p style=\"margin-left:100px;\"><i>n</i> × <i>n</i> = <i>n</i><sup>2</sup><br/><i>n</i><sup>2</sup> × <i>n</i> = <i>n</i><sup>3</sup><br/><i>n</i><sup>3</sup> × <i>n</i><sup>3</sup> = <i>n</i><sup>6</sup><br/><i>n</i><sup>6</sup> × <i>n</i><sup>6</sup> = <i>n</i><sup>12</sup><br/><i>n</i><sup>12</sup> × <i>n</i><sup>3</sup> = <i>n</i><sup>15</sup></p>\n",
    "<p>We shall define m(<i>k</i>) to be the minimum number of multiplications to compute <i>n</i><sup><i>k</i></sup>; for example m(15) = 5.</p>\n",
    "<p>For 1 ≤ <i>k</i> ≤ 200, find <span style=\"font-family:'times new roman';font-size:13pt;\">∑</span> m(<i>k</i>).</p>\n",
    "</div>"
   ]
  },
  {
   "cell_type": "code",
   "execution_count": null,
   "metadata": {},
   "outputs": [],
   "source": []
  },
  {
   "cell_type": "markdown",
   "metadata": {},
   "source": [
    "### 123. Prime square remainders\n",
    "#### ([Back to Top](#Table-of-Contents)) ([Webpage](https://projecteuler.net/problem=123))<div class=\"problem_content\" role=\"problem\">\n",
    "<p>Let <i>p</i><sub>n</sub> be the <i>n</i>th prime: 2, 3, 5, 7, 11, ..., and let <i>r</i> be the remainder when (<i>p</i><sub>n</sub>−1)<sup><i>n</i></sup> + (<i>p</i><sub>n</sub>+1)<sup><i>n</i></sup> is divided by <i>p</i><sub>n</sub><sup>2</sup>.</p>\n",
    "<p>For example, when <i>n</i> = 3, <i>p</i><sub>3</sub> = 5, and 4<sup>3</sup> + 6<sup>3</sup> = 280 ≡ 5 mod 25.</p>\n",
    "<p>The least value of <i>n</i> for which the remainder first exceeds 10<sup>9</sup> is 7037.</p>\n",
    "<p>Find the least value of <i>n</i> for which the remainder first exceeds 10<sup>10</sup>.</p>\n",
    "</div>"
   ]
  },
  {
   "cell_type": "code",
   "execution_count": null,
   "metadata": {},
   "outputs": [],
   "source": []
  },
  {
   "cell_type": "markdown",
   "metadata": {},
   "source": [
    "### 124. Ordered radicals\n",
    "#### ([Back to Top](#Table-of-Contents)) ([Webpage](https://projecteuler.net/problem=124))<div class=\"problem_content\" role=\"problem\">\n",
    "<p>The radical of <i>n</i>, rad(<i>n</i>), is the product of the distinct prime factors of <i>n</i>. For example, 504 = 2<sup>3</sup> × 3<sup>2</sup> × 7, so rad(504) = 2 × 3 × 7 = 42.</p>\n",
    "<p>If we calculate rad(<i>n</i>) for <i>1</i> ≤ <i>n</i> ≤ 10, then sort them on rad(<i>n</i>), and sorting on <i>n</i> if the radical values are equal, we get:</p>\n",
    "<table align=\"center\" border=\"0\" cellpadding=\"2\" cellspacing=\"0\"><tr><td colspan=\"2\"><div style=\"text-align:center;\"><b>Unsorted</b></div></td>\n",
    "<td> </td>\n",
    "<td colspan=\"3\"><div style=\"text-align:center;\"><b>Sorted</b></div></td>\n",
    "</tr><tr><td><div style=\"text-align:center;\"><img alt=\"\" height=\"1\" src=\"images/spacer.gif\" width=\"50\"/><br><b><i>n</i></b></br></div></td>\n",
    "<td><div style=\"text-align:center;\"><img alt=\"\" height=\"1\" src=\"images/spacer.gif\" width=\"50\"/><br/><b>rad(<i>n</i>)</b></div></td>\n",
    "<td><img alt=\"\" height=\"1\" src=\"images/spacer.gif\" width=\"50\"/><br/></td>\n",
    "<td><div style=\"text-align:center;\"><img alt=\"\" height=\"1\" src=\"images/spacer.gif\" width=\"50\"/><br/><b><i>n</i></b></div></td>\n",
    "<td><div style=\"text-align:center;\"><img alt=\"\" height=\"1\" src=\"images/spacer.gif\" width=\"50\"/><br/><b>rad(<i>n</i>)</b></div></td>\n",
    "<td><div style=\"text-align:center;\"><img alt=\"\" height=\"1\" src=\"images/spacer.gif\" width=\"50\"/><br/><b>k</b></div></td>\n",
    "</tr><tr><td><div style=\"text-align:center;\">1</div></td><td><div style=\"text-align:center;\">1</div></td>\n",
    "<td> </td>\n",
    "<td><div style=\"text-align:center;\">1</div></td><td><div style=\"text-align:center;\">1</div></td><td><div style=\"text-align:center;\">1</div></td>\n",
    "</tr><tr><td><div style=\"text-align:center;\">2</div></td><td><div style=\"text-align:center;\">2</div></td>\n",
    "<td> </td>\n",
    "<td><div style=\"text-align:center;\">2</div></td><td><div style=\"text-align:center;\">2</div></td><td><div style=\"text-align:center;\">2</div></td>\n",
    "</tr><tr><td><div style=\"text-align:center;\">3</div></td><td><div style=\"text-align:center;\">3</div></td>\n",
    "<td> </td>\n",
    "<td><div style=\"text-align:center;\">4</div></td><td><div style=\"text-align:center;\">2</div></td><td><div style=\"text-align:center;\">3</div></td>\n",
    "</tr><tr><td><div style=\"text-align:center;\">4</div></td><td><div style=\"text-align:center;\">2</div></td>\n",
    "<td> </td>\n",
    "<td><div style=\"text-align:center;\">8</div></td><td><div style=\"text-align:center;\">2</div></td><td><div style=\"text-align:center;\">4</div></td>\n",
    "</tr><tr><td><div style=\"text-align:center;\">5</div></td><td><div style=\"text-align:center;\">5</div></td>\n",
    "<td> </td>\n",
    "<td><div style=\"text-align:center;\">3</div></td><td><div style=\"text-align:center;\">3</div></td><td><div style=\"text-align:center;\">5</div></td>\n",
    "</tr><tr><td><div style=\"text-align:center;\">6</div></td><td><div style=\"text-align:center;\">6</div></td>\n",
    "<td> </td>\n",
    "<td><div style=\"text-align:center;\">9</div></td><td><div style=\"text-align:center;\">3</div></td><td><div style=\"text-align:center;\">6</div></td>\n",
    "</tr><tr><td><div style=\"text-align:center;\">7</div></td><td><div style=\"text-align:center;\">7</div></td>\n",
    "<td> </td>\n",
    "<td><div style=\"text-align:center;\">5</div></td><td><div style=\"text-align:center;\">5</div></td><td><div style=\"text-align:center;\">7</div></td>\n",
    "</tr><tr><td><div style=\"text-align:center;\">8</div></td><td><div style=\"text-align:center;\">2</div></td>\n",
    "<td> </td>\n",
    "<td><div style=\"text-align:center;\">6</div></td><td><div style=\"text-align:center;\">6</div></td><td><div style=\"text-align:center;\">8</div></td>\n",
    "</tr><tr><td><div style=\"text-align:center;\">9</div></td><td><div style=\"text-align:center;\">3</div></td>\n",
    "<td> </td>\n",
    "<td><div style=\"text-align:center;\">7</div></td><td><div style=\"text-align:center;\">7</div></td><td><div style=\"text-align:center;\">9</div></td>\n",
    "</tr><tr><td><div style=\"text-align:center;\">10</div></td><td><div style=\"text-align:center;\">10</div></td>\n",
    "<td> </td>\n",
    "<td><div style=\"text-align:center;\">10</div></td><td><div style=\"text-align:center;\">10</div></td><td><div style=\"text-align:center;\">10</div></td>\n",
    "</tr></table><p>Let E(<i>k</i>) be the <i>k</i>th element in the sorted <i>n</i> column; for example, E(4) = 8 and E(6) = 9.</p>\n",
    "<p>If rad(<i>n</i>) is sorted for 1 ≤ <i>n</i> ≤ 100000, find E(10000).</p>\n",
    "</div>"
   ]
  },
  {
   "cell_type": "code",
   "execution_count": null,
   "metadata": {},
   "outputs": [],
   "source": []
  },
  {
   "cell_type": "markdown",
   "metadata": {},
   "source": [
    "### 125. Palindromic sums\n",
    "#### ([Back to Top](#Table-of-Contents)) ([Webpage](https://projecteuler.net/problem=125))<div class=\"problem_content\" role=\"problem\">\n",
    "<p>The palindromic number 595 is interesting because it can be written as the sum of consecutive squares: 6<sup>2</sup> + 7<sup>2</sup> + 8<sup>2</sup> + 9<sup>2</sup> + 10<sup>2</sup> + 11<sup>2</sup> + 12<sup>2</sup>.</p>\n",
    "<p>There are exactly eleven palindromes below one-thousand that can be written as consecutive square sums, and the sum of these palindromes is 4164. Note that 1 = 0<sup>2</sup> + 1<sup>2</sup> has not been included as this problem is concerned with the squares of positive integers.</p>\n",
    "<p>Find the sum of all the numbers less than 10<sup>8</sup> that are both palindromic and can be written as the sum of consecutive squares.</p>\n",
    "</div>"
   ]
  },
  {
   "cell_type": "code",
   "execution_count": null,
   "metadata": {},
   "outputs": [],
   "source": []
  },
  {
   "cell_type": "markdown",
   "metadata": {},
   "source": [
    "### 126. Cuboid layers\n",
    "#### ([Back to Top](#Table-of-Contents)) ([Webpage](https://projecteuler.net/problem=126))<div class=\"problem_content\" role=\"problem\">\n",
    "<p>The minimum number of cubes to cover every visible face on a cuboid measuring 3 x 2 x 1 is twenty-two.</p>\n",
    "<div style=\"text-align:center;\">\n",
    "<img alt=\"\" class=\"dark_img\" src=\"project/images/p126.png\"/><br/></div>\n",
    "<p>If we then add a second layer to this solid it would require forty-six cubes to cover every visible face, the third layer would require seventy-eight cubes, and the fourth layer would require one-hundred and eighteen cubes to cover every visible face.</p>\n",
    "<p>However, the first layer on a cuboid measuring 5 x 1 x 1 also requires twenty-two cubes; similarly the first layer on cuboids measuring 5 x 3 x 1, 7 x 2 x 1, and 11 x 1 x 1 all contain forty-six cubes.</p>\n",
    "<p>We shall define C(<i>n</i>) to represent the number of cuboids that contain <i>n</i> cubes in one of its layers. So C(22) = 2, C(46) = 4, C(78) = 5, and C(118) = 8.</p>\n",
    "<p>It turns out that 154 is the least value of <i>n</i> for which C(<i>n</i>) = 10.</p>\n",
    "<p>Find the least value of <i>n</i> for which C(<i>n</i>) = 1000.</p>\n",
    "</div>"
   ]
  },
  {
   "cell_type": "code",
   "execution_count": null,
   "metadata": {},
   "outputs": [],
   "source": []
  },
  {
   "cell_type": "markdown",
   "metadata": {},
   "source": [
    "### 127. abc-hits\n",
    "#### ([Back to Top](#Table-of-Contents)) ([Webpage](https://projecteuler.net/problem=127))<div class=\"problem_content\" role=\"problem\">\n",
    "<p>The radical of <i>n</i>, rad(<i>n</i>), is the product of distinct prime factors of <i>n</i>. For example, 504 = 2<sup>3</sup> × 3<sup>2</sup> × 7, so rad(504) = 2 × 3 × 7 = 42.</p>\n",
    "<p>We shall define the triplet of positive integers (<i>a</i>, <i>b</i>, <i>c</i>) to be an abc-hit if:</p>\n",
    "<ol><li>GCD(<i>a,</i> <i>b</i>) = GCD(<i>a</i>, <i>c</i>) = GCD(<i>b</i>, <i>c</i>) = 1</li>\n",
    "<li><i>a</i> &lt; <i>b</i></li>\n",
    "<li><i>a</i> + <i>b</i> = <i>c</i></li>\n",
    "<li>rad(<i>abc</i>) &lt; <i>c</i></li>\n",
    "</ol><p>For example, (5, 27, 32) is an abc-hit, because:</p>\n",
    "<ol><li>GCD(5, 27) = GCD(5, 32) = GCD(27, 32) = 1</li>\n",
    "<li>5 &lt; 27</li>\n",
    "<li>5 + 27 = 32</li>\n",
    "<li>rad(4320) = 30 &lt; 32</li>\n",
    "</ol><p>It turns out that abc-hits are quite rare and there are only thirty-one abc-hits for <i>c</i> &lt; 1000, with ∑<i>c</i> = 12523.</p>\n",
    "<p>Find ∑<i>c</i> for <i>c</i> &lt; 120000.</p>\n",
    "</div>"
   ]
  },
  {
   "cell_type": "code",
   "execution_count": null,
   "metadata": {},
   "outputs": [],
   "source": []
  },
  {
   "cell_type": "markdown",
   "metadata": {},
   "source": [
    "### 128. Hexagonal tile differences\n",
    "#### ([Back to Top](#Table-of-Contents)) ([Webpage](https://projecteuler.net/problem=128))<div class=\"problem_content\" role=\"problem\">\n",
    "<p>A hexagonal tile with number 1 is surrounded by a ring of six hexagonal tiles, starting at \"12 o'clock\" and numbering the tiles 2 to 7 in an anti-clockwise direction.</p>\n",
    "<p>New rings are added in the same fashion, with the next rings being numbered 8 to 19, 20 to 37, 38 to 61, and so on. The diagram below shows the first three rings.</p>\n",
    "<div style=\"text-align:center;\">\n",
    "<img alt=\"\" class=\"dark_img\" src=\"project/images/p128.png\"/></div>\n",
    "<p>By finding the difference between tile <i>n</i> and each of its six neighbours we shall define PD(<i>n</i>) to be the number of those differences which are prime.</p>\n",
    "<p>For example, working clockwise around tile 8 the differences are 12, 29, 11, 6, 1, and 13. So PD(8) = 3.</p>\n",
    "<p>In the same way, the differences around tile 17 are 1, 17, 16, 1, 11, and 10, hence PD(17) = 2.</p>\n",
    "<p>It can be shown that the maximum value of PD(<i>n</i>) is 3.</p>\n",
    "<p>If all of the tiles for which PD(<i>n</i>) = 3 are listed in ascending order to form a sequence, the 10th tile would be 271.</p>\n",
    "<p>Find the 2000th tile in this sequence.</p>\n",
    "</div>"
   ]
  },
  {
   "cell_type": "code",
   "execution_count": null,
   "metadata": {},
   "outputs": [],
   "source": []
  },
  {
   "cell_type": "markdown",
   "metadata": {},
   "source": [
    "### 129. Repunit divisibility\n",
    "#### ([Back to Top](#Table-of-Contents)) ([Webpage](https://projecteuler.net/problem=129))<div class=\"problem_content\" role=\"problem\">\n",
    "<p>A number consisting entirely of ones is called a repunit. We shall define R(<i>k</i>) to be a repunit of length <i>k</i>; for example, R(6) = 111111.</p>\n",
    "<p>Given that <i>n</i> is a positive integer and GCD(<i>n</i>, 10) = 1, it can be shown that there always exists a value, <i>k</i>, for which R(<i>k</i>) is divisible by <i>n</i>, and let A(<i>n</i>) be the least such value of <i>k</i>; for example, A(7) = 6 and A(41) = 5.</p>\n",
    "<p>The least value of <i>n</i> for which A(<i>n</i>) first exceeds ten is 17.</p>\n",
    "<p>Find the least value of <i>n</i> for which A(<i>n</i>) first exceeds one-million.</p>\n",
    "</div>"
   ]
  },
  {
   "cell_type": "code",
   "execution_count": null,
   "metadata": {},
   "outputs": [],
   "source": []
  },
  {
   "cell_type": "markdown",
   "metadata": {},
   "source": [
    "### 130. Composites with prime repunit property\n",
    "#### ([Back to Top](#Table-of-Contents)) ([Webpage](https://projecteuler.net/problem=130))<div class=\"problem_content\" role=\"problem\">\n",
    "<p>A number consisting entirely of ones is called a repunit. We shall define R(<i>k</i>) to be a repunit of length <i>k</i>; for example, R(6) = 111111.</p>\n",
    "<p>Given that <i>n</i> is a positive integer and GCD(<i>n</i>, 10) = 1, it can be shown that there always exists a value, <i>k</i>, for which R(<i>k</i>) is divisible by <i>n</i>, and let A(<i>n</i>) be the least such value of <i>k</i>; for example, A(7) = 6 and A(41) = 5.</p>\n",
    "<p>You are given that for all primes, <i>p</i> &gt; 5, that <i>p</i> − 1 is divisible by A(<i>p</i>). For example, when <i>p</i> = 41, A(41) = 5, and 40 is divisible by 5.</p>\n",
    "<p>However, there are rare composite values for which this is also true; the first five examples being 91, 259, 451, 481, and 703.</p>\n",
    "<p>Find the sum of the first twenty-five composite values of <i>n</i> for which<br>GCD(<i>n</i>, 10) = 1 and <i>n</i> − 1 is divisible by A(<i>n</i>).</br></p>\n",
    "</div>"
   ]
  },
  {
   "cell_type": "code",
   "execution_count": null,
   "metadata": {},
   "outputs": [],
   "source": []
  },
  {
   "cell_type": "markdown",
   "metadata": {},
   "source": [
    "### 131. Prime cube partnership\n",
    "#### ([Back to Top](#Table-of-Contents)) ([Webpage](https://projecteuler.net/problem=131))<div class=\"problem_content\" role=\"problem\">\n",
    "<p>There are some prime values, <i>p</i>, for which there exists a positive integer, <i>n</i>, such that the expression <i>n</i><sup>3</sup> + <i>n</i><sup>2</sup><i>p</i> is a perfect cube.</p>\n",
    "<p>For example, when <i>p</i> = 19, 8<sup>3</sup> + 8<sup>2</sup>×19 = 12<sup>3</sup>.</p>\n",
    "<p>What is perhaps most surprising is that for each prime with this property the value of <i>n</i> is unique, and there are only four such primes below one-hundred.</p>\n",
    "<p>How many primes below one million have this remarkable property?</p>\n",
    "</div>"
   ]
  },
  {
   "cell_type": "code",
   "execution_count": null,
   "metadata": {},
   "outputs": [],
   "source": []
  },
  {
   "cell_type": "markdown",
   "metadata": {},
   "source": [
    "### 132. Large repunit factors\n",
    "#### ([Back to Top](#Table-of-Contents)) ([Webpage](https://projecteuler.net/problem=132))<div class=\"problem_content\" role=\"problem\">\n",
    "<p>A number consisting entirely of ones is called a repunit. We shall define R(<i>k</i>) to be a repunit of length <i>k</i>.</p>\n",
    "<p>For example, R(10) = 1111111111 = 11×41×271×9091, and the sum of these prime factors is 9414.</p>\n",
    "<p>Find the sum of the first forty prime factors of R(10<sup>9</sup>).</p>\n",
    "</div>"
   ]
  },
  {
   "cell_type": "code",
   "execution_count": null,
   "metadata": {},
   "outputs": [],
   "source": []
  },
  {
   "cell_type": "markdown",
   "metadata": {},
   "source": [
    "### 133. Repunit nonfactors\n",
    "#### ([Back to Top](#Table-of-Contents)) ([Webpage](https://projecteuler.net/problem=133))<div class=\"problem_content\" role=\"problem\">\n",
    "<p>A number consisting entirely of ones is called a repunit. We shall define R(<var>k</var>) to be a repunit of length <var>k</var>; for example, R(6) = 111111.</p>\n",
    "<p>Let us consider repunits of the form R(10<sup><var>n</var></sup>).</p>\n",
    "<p>Although R(10), R(100), or R(1000) are not divisible by 17, R(10000) is divisible by 17. Yet there is no value of <var>n</var> for which R(10<sup><var>n</var></sup>) will divide by 19. In fact, it is remarkable that 11, 17, 41, and 73 are the only four primes below one-hundred that can  be a factor of R(10<sup><var>n</var></sup>).</p>\n",
    "<p>Find the sum of all the primes below one-hundred thousand that will never be a factor of R(10<sup><var>n</var></sup>).</p>\n",
    "</div>"
   ]
  },
  {
   "cell_type": "code",
   "execution_count": null,
   "metadata": {},
   "outputs": [],
   "source": []
  },
  {
   "cell_type": "markdown",
   "metadata": {},
   "source": [
    "### 134. Prime pair connection\n",
    "#### ([Back to Top](#Table-of-Contents)) ([Webpage](https://projecteuler.net/problem=134))<div class=\"problem_content\" role=\"problem\">\n",
    "<p>Consider the consecutive primes <i>p</i><sub>1</sub> = 19 and <i>p</i><sub>2</sub> = 23. It can be verified that 1219 is the smallest number such that the last digits are formed by <i>p</i><sub>1</sub> whilst also being divisible by <i>p</i><sub>2</sub>.</p>\n",
    "<p>In fact, with the exception of <i>p</i><sub>1</sub> = 3 and <i>p</i><sub>2</sub> = 5, for every pair of consecutive primes, <i>p</i><sub>2</sub> &gt; <i>p</i><sub>1</sub>, there exist values of <i>n</i> for which the last digits are formed by <i>p</i><sub>1</sub> and <i>n</i> is divisible by <i>p</i><sub>2</sub>. Let <i>S</i> be the smallest of these values of <i>n</i>.</p>\n",
    "<p>Find ∑ <i>S</i> for every pair of consecutive primes with 5 ≤ <i>p</i><sub>1</sub> ≤ 1000000.</p>\n",
    "</div>"
   ]
  },
  {
   "cell_type": "code",
   "execution_count": null,
   "metadata": {},
   "outputs": [],
   "source": []
  },
  {
   "cell_type": "markdown",
   "metadata": {},
   "source": [
    "### 135. Same differences\n",
    "#### ([Back to Top](#Table-of-Contents)) ([Webpage](https://projecteuler.net/problem=135))<div class=\"problem_content\" role=\"problem\">\n",
    "<p>Given the positive integers, <i>x</i>, <i>y</i>, and <i>z</i>, are consecutive terms of an arithmetic progression, the least value of the positive integer, <i>n</i>, for which the equation, <i>x</i><sup>2</sup> − <i>y</i><sup>2</sup> − <i>z</i><sup>2</sup> = <i>n</i>, has exactly two solutions is <i>n</i> = 27:</p>\n",
    "<p style=\"text-align:center;\">34<sup>2</sup> − 27<sup>2</sup> − 20<sup>2</sup> = 12<sup>2</sup> − 9<sup>2</sup> − 6<sup>2</sup> = 27</p>\n",
    "<p>It turns out that <i>n</i> = 1155 is the least value which has exactly ten solutions.</p>\n",
    "<p>How many values of <i>n</i> less than one million have exactly ten distinct solutions?</p>\n",
    "</div>"
   ]
  },
  {
   "cell_type": "code",
   "execution_count": null,
   "metadata": {},
   "outputs": [],
   "source": []
  },
  {
   "cell_type": "markdown",
   "metadata": {},
   "source": [
    "### 136. Singleton difference\n",
    "#### ([Back to Top](#Table-of-Contents)) ([Webpage](https://projecteuler.net/problem=136))<div class=\"problem_content\" role=\"problem\">\n",
    "<p>The positive integers, <i>x</i>, <i>y</i>, and <i>z</i>, are consecutive terms of an arithmetic progression. Given that <i>n</i> is a positive integer, the equation, <i>x</i><sup>2</sup> − <i>y</i><sup>2</sup> − <i>z</i><sup>2</sup> = <i>n</i>, has exactly one solution when <i>n</i> = 20:</p>\n",
    "<p style=\"text-align:center;\">13<sup>2</sup> − 10<sup>2</sup> − 7<sup>2</sup> = 20</p>\n",
    "<p>In fact there are twenty-five values of <i>n</i> below one hundred for which the equation has a unique solution.</p>\n",
    "<p>How many values of <i>n</i> less than fifty million have exactly one solution?</p>\n",
    "</div>"
   ]
  },
  {
   "cell_type": "code",
   "execution_count": null,
   "metadata": {},
   "outputs": [],
   "source": []
  },
  {
   "cell_type": "markdown",
   "metadata": {},
   "source": [
    "### 137. Fibonacci golden nuggets\n",
    "#### ([Back to Top](#Table-of-Contents)) ([Webpage](https://projecteuler.net/problem=137))<div class=\"problem_content\" role=\"problem\">\n",
    "<p>Consider the infinite polynomial series A<sub>F</sub>(<i>x</i>) = <i>x</i>F<sub>1</sub> + <i>x</i><sup>2</sup>F<sub>2</sub> + <i>x</i><sup>3</sup>F<sub>3</sub> + ..., where F<sub><i>k</i></sub> is the <i>k</i>th term in the Fibonacci sequence: 1, 1, 2, 3, 5, 8, ... ; that is, F<sub><i>k</i></sub> = F<sub><i>k</i>−1</sub> + F<sub><i>k</i>−2</sub>, F<sub>1</sub> = 1 and F<sub>2</sub> = 1.</p>\n",
    "<p>For this problem we shall be interested in values of <i>x</i> for which A<sub>F</sub>(<i>x</i>) is a positive integer.</p>\n",
    "<table border=\"0\" cellpadding=\"0\" cellspacing=\"0\"><tr><td>Surprisingly A<sub>F</sub>(1/2)</td>\n",
    "<td> = </td>\n",
    "<td>(1/2).1 + (1/2)<sup>2</sup>.1 + (1/2)<sup>3</sup>.2 + (1/2)<sup>4</sup>.3 + (1/2)<sup>5</sup>.5 + ...</td>\n",
    "</tr><tr><td> </td>\n",
    "<td> = </td>\n",
    "<td>1/2 + 1/4 + 2/8 + 3/16 + 5/32 + ...</td>\n",
    "</tr><tr><td> </td>\n",
    "<td> = </td>\n",
    "<td>2</td>\n",
    "</tr></table><p>The corresponding values of <i>x</i> for the first five natural numbers are shown below.</p>\n",
    "<table class=\"grid\" style=\"margin:0 auto;\"><tr><th><b><i>x</i></b></th><th width=\"50\"><b>A<sub>F</sub>(<i>x</i>)</b></th>\n",
    "</tr><tr><td>√2−1</td><td>1</td>\n",
    "</tr><tr><td>1/2</td><td>2</td>\n",
    "</tr><tr><td>(√13−2)/3</td><td>3</td>\n",
    "</tr><tr><td>(√89−5)/8</td><td>4</td>\n",
    "</tr><tr><td>(√34−3)/5</td><td>5</td>\n",
    "</tr></table><p>We shall call A<sub>F</sub>(<i>x</i>) a golden nugget if <i>x</i> is rational, because they become increasingly rarer; for example, the 10th golden nugget is 74049690.</p>\n",
    "<p>Find the 15th golden nugget.</p>\n",
    "</div>"
   ]
  },
  {
   "cell_type": "code",
   "execution_count": null,
   "metadata": {},
   "outputs": [],
   "source": []
  },
  {
   "cell_type": "markdown",
   "metadata": {},
   "source": [
    "### 138. Special isosceles triangles\n",
    "#### ([Back to Top](#Table-of-Contents)) ([Webpage](https://projecteuler.net/problem=138))<div class=\"problem_content\" role=\"problem\">\n",
    "<p>Consider the isosceles triangle with base length, <i>b</i> = 16, and legs, L = 17.</p>\n",
    "<div style=\"text-align:center;\">\n",
    "<img alt=\"\" class=\"dark_img\" height=\"228\" src=\"project/images/p138.png\" width=\"230\"/></div>\n",
    "<p>By using the Pythagorean theorem it can be seen that the height of the triangle, <i>h</i> = √(17<sup>2</sup> − 8<sup>2</sup>) = 15, which is one less than the base length.</p>\n",
    "<p>With <i>b</i> = 272 and L = 305, we get <i>h</i> = 273, which is one more than the base length, and this is the second smallest isosceles triangle with the property that <i>h</i> = <i>b</i> ± 1.</p>\n",
    "<p>Find ∑ L for the twelve smallest isosceles triangles for which <i>h</i> = <i>b</i> ± 1 and <i>b</i>, L are positive integers.</p>\n",
    "</div>"
   ]
  },
  {
   "cell_type": "code",
   "execution_count": null,
   "metadata": {},
   "outputs": [],
   "source": []
  },
  {
   "cell_type": "markdown",
   "metadata": {},
   "source": [
    "### 139. Pythagorean tiles\n",
    "#### ([Back to Top](#Table-of-Contents)) ([Webpage](https://projecteuler.net/problem=139))<div class=\"problem_content\" role=\"problem\">\n",
    "<p>Let (<i>a</i>, <i>b</i>, <i>c</i>) represent the three sides of a right angle triangle with integral length sides. It is possible to place four such triangles together to form a square with length <i>c</i>.</p>\n",
    "<p>For example, (3, 4, 5) triangles can be placed together to form a 5 by 5 square with a 1 by 1 hole in the middle and it can be seen that the 5 by 5 square can be tiled with twenty-five 1 by 1 squares.</p>\n",
    "<div style=\"text-align:center;\">\n",
    "<img alt=\"\" class=\"dark_img\" src=\"project/images/p139.png\"/></div>\n",
    "<p>However, if (5, 12, 13) triangles were used then the hole would measure 7 by 7 and these could not be used to tile the 13 by 13 square.</p>\n",
    "<p>Given that the perimeter of the right triangle is less than one-hundred million, how many Pythagorean triangles would allow such a tiling to take place?</p>\n",
    "</div>"
   ]
  },
  {
   "cell_type": "code",
   "execution_count": null,
   "metadata": {},
   "outputs": [],
   "source": []
  },
  {
   "cell_type": "markdown",
   "metadata": {},
   "source": [
    "### 140. Modified Fibonacci golden nuggets\n",
    "#### ([Back to Top](#Table-of-Contents)) ([Webpage](https://projecteuler.net/problem=140))<div class=\"problem_content\" role=\"problem\">\n",
    "<p>Consider the infinite polynomial series A<sub>G</sub>(<i>x</i>) = <i>x</i>G<sub>1</sub> + <i>x</i><sup>2</sup>G<sub>2</sub> + <i>x</i><sup>3</sup>G<sub>3</sub> + ..., where G<sub><i>k</i></sub> is the <i>k</i>th term of the second order recurrence relation G<sub><i>k</i></sub> = G<sub><i>k</i>−1</sub> + G<sub><i>k</i>−2</sub>, G<sub>1</sub> = 1 and G<sub>2</sub> = 4; that is, 1, 4, 5, 9, 14, 23, ... .</p>\n",
    "<p>For this problem we shall be concerned with values of <i>x</i> for which A<sub>G</sub>(<i>x</i>) is a positive integer.</p>\n",
    "<p>The corresponding values of <i>x</i> for the first five natural numbers are shown below.</p>\n",
    "<table class=\"grid\" style=\"margin:0 auto;\"><tr><th><b><i>x</i></b></th><th width=\"50\"><b>A<sub>G</sub>(<i>x</i>)</b></th>\n",
    "</tr><tr><td>(√5−1)/4</td><td>1</td>\n",
    "</tr><tr><td>2/5</td><td>2</td>\n",
    "</tr><tr><td>(√22−2)/6</td><td>3</td>\n",
    "</tr><tr><td>(√137−5)/14</td><td>4</td>\n",
    "</tr><tr><td>1/2</td><td>5</td>\n",
    "</tr></table><p>We shall call A<sub>G</sub>(<i>x</i>) a golden nugget if <i>x</i> is rational, because they become increasingly rarer; for example, the 20th golden nugget is 211345365.</p>\n",
    "<p>Find the sum of the first thirty golden nuggets.</p>\n",
    "</div>"
   ]
  },
  {
   "cell_type": "code",
   "execution_count": null,
   "metadata": {},
   "outputs": [],
   "source": []
  },
  {
   "cell_type": "markdown",
   "metadata": {},
   "source": [
    "### 141. \n",
    "#### ([Back to Top](#Table-of-Contents)) ([Webpage](https://projecteuler.net/problem=141))<div class=\"problem_content\" role=\"problem\">\n",
    "<p>A positive integer, <i>n</i>, is divided by <i>d</i> and the quotient and remainder are <i>q</i> and <i>r</i> respectively. In addition <i>d</i>, <i>q</i>, and <i>r</i> are consecutive positive integer terms in a geometric sequence, but not necessarily in that order.</p>\n",
    "<p>For example, 58 divided by 6 has quotient 9 and remainder 4. It can also be seen that 4, 6, 9 are consecutive terms in a geometric sequence (common ratio 3/2).<br>\n",
    "We will call such numbers, <i>n</i>, progressive.</br></p>\n",
    "<p>Some progressive numbers, such as 9 and 10404 = 102<sup>2</sup>, happen to also be perfect squares.<br/> The sum of all progressive perfect squares below one hundred thousand is 124657.</p>\n",
    "<p>Find the sum of all progressive perfect squares below one trillion (10<sup>12</sup>).</p>\n",
    "</div>"
   ]
  },
  {
   "cell_type": "code",
   "execution_count": null,
   "metadata": {},
   "outputs": [],
   "source": []
  },
  {
   "cell_type": "markdown",
   "metadata": {},
   "source": [
    "### 142. Perfect Square Collection\n",
    "#### ([Back to Top](#Table-of-Contents)) ([Webpage](https://projecteuler.net/problem=142))<div class=\"problem_content\" role=\"problem\">\n",
    "<p>Find the smallest x + y + z with integers x &gt; y &gt; z &gt; 0 such that x + y, x − y, x + z, x − z, y + z, y − z are all perfect squares.</p>\n",
    "</div>"
   ]
  },
  {
   "cell_type": "code",
   "execution_count": null,
   "metadata": {},
   "outputs": [],
   "source": []
  },
  {
   "cell_type": "markdown",
   "metadata": {},
   "source": [
    "### 143. Investigating the Torricelli point of a triangle\n",
    "#### ([Back to Top](#Table-of-Contents)) ([Webpage](https://projecteuler.net/problem=143))<div class=\"problem_content\" role=\"problem\">\n",
    "<p>Let ABC be a triangle with all interior angles being less than 120 degrees. Let X be any point inside the triangle and let XA = p, XC = q, and XB = r.</p>\n",
    "<p>Fermat challenged Torricelli to find the position of X such that p + q + r was minimised.</p>\n",
    "<p>Torricelli was able to prove that if equilateral triangles AOB, BNC and AMC are constructed on each side of triangle ABC, the circumscribed circles of AOB, BNC, and AMC will intersect at a single point, T, inside the triangle. Moreover he proved that T, called the Torricelli/Fermat point, minimises p + q + r. Even more remarkable, it can be shown that when the sum is minimised, AN = BM = CO = p + q + r and that AN, BM and CO also intersect at T.</p>\n",
    "<div style=\"text-align:center;\"><img alt=\"\" class=\"dark_img\" src=\"project/images/p143_torricelli.png\"/></div>\n",
    "<p>If the sum is minimised and a, b, c, p, q and r are all positive integers we shall call triangle ABC a Torricelli triangle. For example, a = 399, b = 455, c = 511 is an example of a Torricelli triangle, with p + q + r = 784.</p>\n",
    "<p>Find the sum of all distinct values of p + q + r ≤ 120000 for Torricelli triangles.</p>\n",
    "</div>"
   ]
  },
  {
   "cell_type": "code",
   "execution_count": null,
   "metadata": {},
   "outputs": [],
   "source": []
  },
  {
   "cell_type": "markdown",
   "metadata": {},
   "source": [
    "### 144. Investigating multiple reflections of a laser beam\n",
    "#### ([Back to Top](#Table-of-Contents)) ([Webpage](https://projecteuler.net/problem=144))<div class=\"problem_content\" role=\"problem\">\n",
    "<p>In laser physics, a \"white cell\" is a mirror system that acts as a delay line for the laser beam. The beam enters the cell, bounces around on the mirrors, and eventually works its way back out.</p>\n",
    "<p>The specific white cell we will be considering is an ellipse with the equation 4<i>x</i><sup>2</sup> + <i>y</i><sup>2</sup> = 100</p>\n",
    "<p>The section corresponding to −0.01 ≤ <i>x</i> ≤ +0.01 at the top is missing, allowing the light to enter and exit through the hole.</p>\n",
    "<div style=\"text-align:center;\"><img alt=\"\" class=\"dark_img\" src=\"project/images/p144_1.png\" style=\"margin:10px 20px;\"/><img alt=\"\" class=\"dark_img\" src=\"project/images/p144_2.gif\" style=\"margin:10px 20px;\"/></div>\n",
    "<p>The light beam in this problem starts at the point (0.0,10.1) just outside the white cell, and the beam first impacts the mirror at (1.4,-9.6).</p>\n",
    "<p>Each time the laser beam hits the surface of the ellipse, it follows the usual law of reflection \"angle of incidence equals angle of reflection.\" That is, both the incident and reflected beams make the same angle with the normal line at the point of incidence.</p>\n",
    "<p>In the figure on the left, the red line shows the first two points of contact between the laser beam and the wall of the white cell; the blue line shows the line tangent to the ellipse at the point of incidence of the first bounce.</p><p>The slope <i>m</i> of the tangent line at any point (<i>x</i>,<i>y</i>) of the given ellipse is: <i>m</i> = −4<i>x</i>/<i>y</i></p><p>The normal line is perpendicular to this tangent line at the point of incidence.</p>\n",
    "<p>The animation on the right shows the first 10 reflections of the beam.</p>\n",
    "<p>How many times does the beam hit the internal surface of the white cell before exiting?</p>\n",
    "</div>"
   ]
  },
  {
   "cell_type": "code",
   "execution_count": null,
   "metadata": {},
   "outputs": [],
   "source": []
  },
  {
   "cell_type": "markdown",
   "metadata": {},
   "source": [
    "### 145. How many reversible numbers are there below one-billion?\n",
    "#### ([Back to Top](#Table-of-Contents)) ([Webpage](https://projecteuler.net/problem=145))<div class=\"problem_content\" role=\"problem\">\n",
    "<p>Some positive integers <i>n</i> have the property that the sum [ <i>n</i> + reverse(<i>n</i>) ] consists entirely of odd (decimal) digits. For instance, 36 + 63 = 99 and 409 + 904 = 1313. We will call such numbers <em>reversible</em>; so 36, 63, 409, and 904 are reversible. Leading zeroes are not allowed in either <i>n</i> or reverse(<i>n</i>).</p>\n",
    "<p>There are 120 reversible numbers below one-thousand.</p>\n",
    "<p>How many reversible numbers are there below one-billion (10<sup>9</sup>)?</p>\n",
    "</div>"
   ]
  },
  {
   "cell_type": "code",
   "execution_count": null,
   "metadata": {},
   "outputs": [],
   "source": []
  },
  {
   "cell_type": "markdown",
   "metadata": {},
   "source": [
    "### 146. Investigating a Prime Pattern \n",
    "#### ([Back to Top](#Table-of-Contents)) ([Webpage](https://projecteuler.net/problem=146))<div class=\"problem_content\" role=\"problem\">\n",
    "<p>The smallest positive integer <i>n</i> for which the numbers <i>n</i><sup>2</sup>+1, <i>n</i><sup>2</sup>+3, <i>n</i><sup>2</sup>+7, <i>n</i><sup>2</sup>+9, <i>n</i><sup>2</sup>+13, and <i>n</i><sup>2</sup>+27 are consecutive primes is 10. The sum of all such integers <i>n</i> below one-million is 1242490.</p>\n",
    "<p>What is the sum of all such integers <i>n</i> below 150 million?</p>\n",
    "</div>"
   ]
  },
  {
   "cell_type": "code",
   "execution_count": null,
   "metadata": {},
   "outputs": [],
   "source": []
  },
  {
   "cell_type": "markdown",
   "metadata": {},
   "source": [
    "### 147. Rectangles in cross-hatched grids\n",
    "#### ([Back to Top](#Table-of-Contents)) ([Webpage](https://projecteuler.net/problem=147))<div class=\"problem_content\" role=\"problem\">\n",
    "<p>In a 3x2 cross-hatched grid, a total of 37 different rectangles could be situated within that grid as indicated in the sketch.</p>\n",
    "<div style=\"text-align:center;\"><img alt=\"\" class=\"dark_img\" src=\"project/images/p147.png\"/></div>\n",
    "<p>There are 5 grids smaller than 3x2, vertical and horizontal dimensions being important, i.e. 1x1, 2x1, 3x1, 1x2 and 2x2. If each of them is cross-hatched, the following number of different rectangles could be situated within those smaller grids:</p>\n",
    "<table class=\"grid\" style=\"margin:0 auto;\"><tr><td style=\"width:50px;\">1x1</td><td style=\"width:50px;\">1</td></tr><tr><td>2x1</td><td>4</td></tr><tr><td>3x1</td><td>8</td></tr><tr><td>1x2</td><td>4</td></tr><tr><td>2x2</td><td>18</td></tr></table><p>Adding those to the 37 of the 3x2 grid, a total of 72 different rectangles could be situated within 3x2 and smaller grids.</p>\n",
    "<p>How many different rectangles could be situated within 47x43 and smaller grids?</p>\n",
    "</div>"
   ]
  },
  {
   "cell_type": "code",
   "execution_count": null,
   "metadata": {},
   "outputs": [],
   "source": []
  },
  {
   "cell_type": "markdown",
   "metadata": {},
   "source": [
    "### 148. Exploring Pascal's triangle\n",
    "#### ([Back to Top](#Table-of-Contents)) ([Webpage](https://projecteuler.net/problem=148))<div class=\"problem_content\" role=\"problem\">\n",
    "<p>We can easily verify that none of the entries in the first seven rows of Pascal's triangle are divisible by 7:</p>\n",
    "<table align=\"center\" border=\"0\" cellpadding=\"0\" cellspacing=\"0\"><tr><td> </td>\n",
    "<td> </td>\n",
    "<td> </td>\n",
    "<td> </td>\n",
    "<td> </td>\n",
    "<td> </td>\n",
    "<td> 1</td>\n",
    "</tr><tr><td> </td>\n",
    "<td> </td>\n",
    "<td> </td>\n",
    "<td> </td>\n",
    "<td> </td>\n",
    "<td> 1</td>\n",
    "<td> </td>\n",
    "<td> 1</td>\n",
    "</tr><tr><td> </td>\n",
    "<td> </td>\n",
    "<td> </td>\n",
    "<td> </td>\n",
    "<td> 1</td>\n",
    "<td> </td>\n",
    "<td> 2</td>\n",
    "<td> </td>\n",
    "<td> 1</td>\n",
    "</tr><tr><td> </td>\n",
    "<td> </td>\n",
    "<td> </td>\n",
    "<td> 1</td>\n",
    "<td> </td>\n",
    "<td> 3</td>\n",
    "<td> </td>\n",
    "<td> 3</td>\n",
    "<td> </td>\n",
    "<td> 1</td>\n",
    "</tr><tr><td> </td>\n",
    "<td> </td>\n",
    "<td> 1</td>\n",
    "<td> </td>\n",
    "<td> 4</td>\n",
    "<td> </td>\n",
    "<td> 6</td>\n",
    "<td> </td>\n",
    "<td> 4</td>\n",
    "<td> </td>\n",
    "<td> 1</td>\n",
    "</tr><tr><td> </td>\n",
    "<td> 1</td>\n",
    "<td> </td>\n",
    "<td> 5</td>\n",
    "<td> </td>\n",
    "<td>10</td>\n",
    "<td> </td>\n",
    "<td>10</td>\n",
    "<td> </td>\n",
    "<td> 5</td>\n",
    "<td> </td>\n",
    "<td> 1</td>\n",
    "</tr><tr><td>1</td>\n",
    "<td> </td>\n",
    "<td> 6</td>\n",
    "<td> </td>\n",
    "<td>15</td>\n",
    "<td> </td>\n",
    "<td>20</td>\n",
    "<td> </td>\n",
    "<td>15</td>\n",
    "<td> </td>\n",
    "<td> 6</td>\n",
    "<td> </td>\n",
    "<td> 1</td>\n",
    "</tr></table><p>However, if we check the first one hundred rows, we will find that only 2361 of the 5050 entries are <i>not</i> divisible by 7.</p>\n",
    "<p>Find the number of entries which are <i>not</i> divisible by 7 in the first one billion (10<sup>9</sup>) rows of Pascal's triangle.</p>\n",
    "</div>"
   ]
  },
  {
   "cell_type": "code",
   "execution_count": null,
   "metadata": {},
   "outputs": [],
   "source": []
  },
  {
   "cell_type": "markdown",
   "metadata": {},
   "source": [
    "### 149. Searching for a maximum-sum subsequence\n",
    "#### ([Back to Top](#Table-of-Contents)) ([Webpage](https://projecteuler.net/problem=149))<div class=\"problem_content\" role=\"problem\">\n",
    "<p>Looking at the table below, it is easy to verify that the maximum possible sum of adjacent numbers in any direction (horizontal, vertical, diagonal or anti-diagonal) <span style=\"white-space:nowrap;\">is 16 (= 8 + 7 + 1).</span></p>\n",
    "<div style=\"text-align:center;\">\n",
    "<table border=\"1\" cellpadding=\"6\" cellspacing=\"0\" style=\"margin:auto;\"><tbody align=\"right\"><tr><td>−2</td><td>5</td><td>3</td><td>2</td></tr><tr><td>9</td><td>−6</td><td>5</td><td>1</td></tr><tr><td>3</td><td>2</td><td>7</td><td>3</td></tr><tr><td>−1</td><td>8</td><td>−4</td><td>  8</td></tr></tbody></table></div>\n",
    "<p>Now, let us repeat the search, but on a much larger scale:</p>\n",
    "<p>First, generate four million pseudo-random numbers using a specific form of what is known as a \"Lagged Fibonacci Generator\":</p>\n",
    "<p>For 1 ≤ <i>k</i> ≤ 55, <i>s</i><sub><i>k</i></sub> = [100003 − 200003<i>k</i> + 300007<i>k</i><sup>3</sup>] (modulo 1000000) − 500000.<br>\n",
    "For 56 ≤ <i>k</i> ≤ 4000000, <i>s</i><sub><i>k</i></sub> = [<i>s</i><sub><i>k−24</i></sub> + <i>s</i><sub><i>k−55</i></sub> + 1000000] (modulo 1000000) − 500000.</br></p>\n",
    "<p>Thus, <i>s</i><sub>10</sub> = −393027 and <i>s</i><sub>100</sub> = 86613.</p>\n",
    "<p>The terms of <i>s</i> are then arranged in a 2000×2000 table, using the first 2000 numbers to fill the first row (sequentially), the next 2000 numbers to fill the second row, and so on.</p>\n",
    "<p>Finally, find the greatest sum of (any number of) adjacent entries in any direction (horizontal, vertical, diagonal or anti-diagonal).</p>\n",
    "</div>"
   ]
  },
  {
   "cell_type": "code",
   "execution_count": null,
   "metadata": {},
   "outputs": [],
   "source": []
  },
  {
   "cell_type": "markdown",
   "metadata": {},
   "source": [
    "### 150. Searching a triangular array for a sub-triangle having minimum-sum\n",
    "#### ([Back to Top](#Table-of-Contents)) ([Webpage](https://projecteuler.net/problem=150))<div class=\"problem_content\" role=\"problem\">\n",
    "<p>In a triangular array of positive and negative integers, we wish to find a sub-triangle such that the sum of the numbers it contains is the smallest possible.</p>\n",
    "<p>In the example below, it can be easily verified that the marked triangle satisfies this condition having a sum of −42.</p>\n",
    "<div style=\"text-align:center;\">\n",
    "<img alt=\"\" class=\"dark_img\" src=\"project/images/p150.gif\"/></div>\n",
    "<p>We wish to make such a triangular array with one thousand rows, so we generate 500500 pseudo-random numbers <span style=\"font-style:italic;\">s<sub>k</sub></span> in the range ±2<sup>19</sup>, using a type of random number generator (known as a Linear Congruential Generator) as follows:</p>\n",
    "<p style=\"margin-left:50px;\"><span style=\"font-style:italic;\">t</span> := 0\n",
    "<br>\n",
    "for k = 1 up to k = 500500:\n",
    "<br/>\n",
    "    <span style=\"font-style:italic;\">t</span> := (615949*<span style=\"font-style:italic;\">t</span> + 797807) modulo 2<sup>20</sup><br/>\n",
    "    <span style=\"font-style:italic;\">s<sub>k</sub></span> := <span style=\"font-style:italic;\">t</span>−2<sup>19</sup></br></p>\n",
    "<p>Thus: <span style=\"font-style:italic;\">s<sub>1</sub></span> = 273519, <span style=\"font-style:italic;\">s<sub>2</sub></span> = −153582, <span style=\"font-style:italic;\">s<sub>3</sub></span> = 450905 etc</p>\n",
    "<p>Our triangular array is then formed using the pseudo-random numbers thus:</p>\n",
    "<div style=\"text-align:center;font-style:italic;\">\n",
    "s<sub>1</sub><br/>\n",
    "s<sub>2</sub>  s<sub>3</sub><br/>\n",
    "s<sub>4</sub>  s<sub>5</sub>  s<sub>6</sub>  \n",
    "<br/>\n",
    "s<sub>7</sub>  s<sub>8</sub>  s<sub>9</sub>  s<sub>10</sub><br/>\n",
    "...\n",
    "</div>\n",
    "<p>Sub-triangles can start at any element of the array and extend down as far as we like (taking-in the two elements directly below it from the next row, the three elements directly below from the row after that, and so on).\n",
    "<br/>\n",
    "The \"sum of a sub-triangle\" is defined as the sum of all the elements it contains.\n",
    "<br/>\n",
    "Find the smallest possible sub-triangle sum.</p>\n",
    "</div>"
   ]
  },
  {
   "cell_type": "code",
   "execution_count": null,
   "metadata": {},
   "outputs": [],
   "source": []
  }
 ],
 "metadata": {
  "kernelspec": {
   "display_name": "Python 3",
   "language": "python",
   "name": "python3"
  },
  "language_info": {
   "codemirror_mode": {
    "name": "ipython",
    "version": 3
   },
   "file_extension": ".py",
   "mimetype": "text/x-python",
   "name": "python",
   "nbconvert_exporter": "python",
   "pygments_lexer": "ipython3",
   "version": "3.6.8"
  }
 },
 "nbformat": 4,
 "nbformat_minor": 2
}
