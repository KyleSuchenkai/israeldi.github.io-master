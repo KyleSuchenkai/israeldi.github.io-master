{
 "cells": [
  {
   "cell_type": "markdown",
   "metadata": {},
   "source": [
    "# Project Euler: 51-100\n",
    "### Israel Diego [(Go to Home Page)](https://israeldi.github.io/project-euler/)\n",
    " What follows are Python-based solutions to <a href=\"https://projecteuler.net\">Project Euler</a> problems. In writing the code, I have aimed for a balance between readability and being concise, for which Python is well-suited. Efficiency is only considered if necessary to get reasonable runtime. To check your answers, create an account on Project Euler, where you can submit answers for validation and track your progress.\n",
    " ## Table of Contents\n",
    " 1. [51. Prime digit replacements](#51.-Prime-digit-replacements)\n",
    " 2. [52. Permuted multiples](#52.-Permuted-multiples)\n",
    " 3. [53. Combinatoric selections](#53.-Combinatoric-selections)\n",
    " 4. [54. Poker hands](#54.-Poker-hands)\n",
    " 5. [55. Lychrel numbers](#55.-Lychrel-numbers)\n",
    " 6. [56. Powerful digit sum](#56.-Powerful-digit-sum)\n",
    " 7. [57. Square root convergents](#57.-Square-root-convergents)\n",
    " 8. [58. Spiral primes](#58.-Spiral-primes)\n",
    " 9. [59. XOR decryption](#59.-XOR-decryption)\n",
    " 10. [60. Prime pair sets](#60.-Prime-pair-sets)\n",
    " 11. [61. Cyclical figurate numbers](#61.-Cyclical-figurate-numbers)\n",
    " 12. [62. Cubic permutations](#62.-Cubic-permutations)\n",
    " 13. [63. Powerful digit counts](#63.-Powerful-digit-counts)\n",
    " 14. [64. Odd period square roots](#64.-Odd-period-square-roots)\n",
    " 15. [65. Convergents of e](#65.-Convergents-of-e)\n",
    " 16. [66. Diophantine equation](#66.-Diophantine-equation)\n",
    " 17. [67. Maximum path sum II](#67.-Maximum-path-sum-II)\n",
    " 18. [68. Magic 5-gon ring](#68.-Magic-5-gon-ring)\n",
    " 19. [69. Totient maximum](#69.-Totient-maximum)\n",
    " 20. [70. Totient permutation](#70.-Totient-permutation)\n",
    " 21. [71. Ordered fractions](#71.-Ordered-fractions)\n",
    " 22. [72. Counting fractions](#72.-Counting-fractions)\n",
    " 23. [73. Counting fractions in a range](#73.-Counting-fractions-in-a-range)\n",
    " 24. [74. Digit factorial chains](#74.-Digit-factorial-chains)\n",
    " 25. [75. Singular integer right triangles](#75.-Singular-integer-right-triangles)\n",
    " 26. [76. Counting summations](#76.-Counting-summations)\n",
    " 27. [77. Prime summations](#77.-Prime-summations)\n",
    " 28. [78. Coin partitions](#78.-Coin-partitions)\n",
    " 29. [79. Passcode derivation](#79.-Passcode-derivation)\n",
    " 30. [80. Square root digital expansion](#80.-Square-root-digital-expansion)\n",
    " 31. [81. Path sum: two ways](#81.-Path-sum:-two-ways)\n",
    " 32. [82. Path sum: three ways](#82.-Path-sum:-three-ways)\n",
    " 33. [83. Path sum: four ways](#83.-Path-sum:-four-ways)\n",
    " 34. [84. Monopoly odds](#84.-Monopoly-odds)\n",
    " 35. [85. Counting rectangles](#85.-Counting-rectangles)\n",
    " 36. [86. Cuboid route](#86.-Cuboid-route)\n",
    " 37. [87. Prime power triples](#87.-Prime-power-triples)\n",
    " 38. [88. Product-sum numbers](#88.-Product-sum-numbers)\n",
    " 39. [89. Roman numerals](#89.-Roman-numerals)\n",
    " 40. [90. Cube digit pairs](#90.-Cube-digit-pairs)\n",
    " 41. [91. Right triangles with integer coordinates](#91.-Right-triangles-with-integer-coordinates)\n",
    " 42. [92. Square digit chains](#92.-Square-digit-chains)\n",
    " 43. [93. Arithmetic expressions](#93.-Arithmetic-expressions)\n",
    " 44. [94. Almost equilateral triangles](#94.-Almost-equilateral-triangles)\n",
    " 45. [95. Amicable chains](#95.-Amicable-chains)\n",
    " 46. [96. Su Doku](#96.-Su-Doku)\n",
    " 47. [97. Large non-Mersenne prime](#97.-Large-non-Mersenne-prime)\n",
    " 48. [98. Anagramic squares](#98.-Anagramic-squares)\n",
    " 49. [99. Largest exponential](#99.-Largest-exponential)\n",
    " 0. [100. Arranged probability](#100.-Arranged-probability)"
   ]
  },
  {
   "cell_type": "markdown",
   "metadata": {},
   "source": [
    "### 51. Prime digit replacements\n",
    "#### ([Back to Top](#Table-of-Contents)) ([Webpage](https://projecteuler.net/problem=51))<div class=\"problem_content\" role=\"problem\">\n",
    "<p>By replacing the 1<sup>st</sup> digit of the 2-digit number *3, it turns out that six of the nine possible values: 13, 23, 43, 53, 73, and 83, are all prime.</p>\n",
    "<p>By replacing the 3<sup>rd</sup> and 4<sup>th</sup> digits of 56**3 with the same digit, this 5-digit number is the first example having seven primes among the ten generated numbers, yielding the family: 56003, 56113, 56333, 56443, 56663, 56773, and 56993. Consequently 56003, being the first member of this family, is the smallest prime with this property.</p>\n",
    "<p>Find the smallest prime which, by replacing part of the number (not necessarily adjacent digits) with the same digit, is part of an eight prime value family.</p>\n",
    "</div>"
   ]
  },
  {
   "cell_type": "code",
   "execution_count": null,
   "metadata": {},
   "outputs": [],
   "source": []
  },
  {
   "cell_type": "markdown",
   "metadata": {},
   "source": [
    "### 52. Permuted multiples\n",
    "#### ([Back to Top](#Table-of-Contents)) ([Webpage](https://projecteuler.net/problem=52))<div class=\"problem_content\" role=\"problem\">\n",
    "<p>It can be seen that the number, 125874, and its double, 251748, contain exactly the same digits, but in a different order.</p>\n",
    "<p>Find the smallest positive integer, <i>x</i>, such that 2<i>x</i>, 3<i>x</i>, 4<i>x</i>, 5<i>x</i>, and 6<i>x</i>, contain the same digits.</p>\n",
    "</div>"
   ]
  },
  {
   "cell_type": "code",
   "execution_count": null,
   "metadata": {},
   "outputs": [],
   "source": []
  },
  {
   "cell_type": "markdown",
   "metadata": {},
   "source": [
    "### 53. Combinatoric selections\n",
    "#### ([Back to Top](#Table-of-Contents)) ([Webpage](https://projecteuler.net/problem=53))<div class=\"problem_content\" role=\"problem\">\n",
    "<p>There are exactly ten ways of selecting three from five, 12345:</p>\n",
    "<p style=\"text-align:center;\">123, 124, 125, 134, 135, 145, 234, 235, 245, and 345</p>\n",
    "<p>In combinatorics, we use the notation, $^{5}C_{3} = 10$.</p>\n",
    "<p>In general, $^{n}C_{r} = \\dfrac{n!}{r!(n-r)!}$, where $r \\le n$, $n! = n \\times (n-1) \\times ... \\times 3 \\times 2 \\times 1$, and $0! = 1$.\n",
    "</p>\n",
    "<p>It is not until $n = 23$, that a value exceeds one-million: $^{23}C_{10} = 1144066$.</p>\n",
    "<p>How many, not necessarily distinct, values of $^{n}C_{r}$ for $1 \\le n \\le 100$, are greater than one-million?</p>\n",
    "</div>"
   ]
  },
  {
   "cell_type": "code",
   "execution_count": null,
   "metadata": {},
   "outputs": [],
   "source": []
  },
  {
   "cell_type": "markdown",
   "metadata": {},
   "source": [
    "### 54. Poker hands\n",
    "#### ([Back to Top](#Table-of-Contents)) ([Webpage](https://projecteuler.net/problem=54))<div class=\"problem_content\" role=\"problem\">\n",
    "<p>In the card game poker, a hand consists of five cards and are ranked, from lowest to highest, in the following way:</p>\n",
    "<ul><li><b>High Card</b>: Highest value card.</li>\n",
    "<li><b>One Pair</b>: Two cards of the same value.</li>\n",
    "<li><b>Two Pairs</b>: Two different pairs.</li>\n",
    "<li><b>Three of a Kind</b>: Three cards of the same value.</li>\n",
    "<li><b>Straight</b>: All cards are consecutive values.</li>\n",
    "<li><b>Flush</b>: All cards of the same suit.</li>\n",
    "<li><b>Full House</b>: Three of a kind and a pair.</li>\n",
    "<li><b>Four of a Kind</b>: Four cards of the same value.</li>\n",
    "<li><b>Straight Flush</b>: All cards are consecutive values of same suit.</li>\n",
    "<li><b>Royal Flush</b>: Ten, Jack, Queen, King, Ace, in same suit.</li>\n",
    "</ul><p>The cards are valued in the order:<br>2, 3, 4, 5, 6, 7, 8, 9, 10, Jack, Queen, King, Ace.</br></p>\n",
    "<p>If two players have the same ranked hands then the rank made up of the highest value wins; for example, a pair of eights beats a pair of fives (see example 1 below). But if two ranks tie, for example, both players have a pair of queens, then highest cards in each hand are compared (see example 4 below); if the highest cards tie then the next highest cards are compared, and so on.</p>\n",
    "<p>Consider the following five hands dealt to two players:</p>\n",
    "<div style=\"text-align:center;\">\n",
    "<table><tr><td><b>Hand</b></td><td> </td><td><b>Player 1</b></td><td> </td><td><b>Player 2</b></td><td> </td><td><b>Winner</b></td>\n",
    "</tr><tr><td style=\"vertical-align:top;\"><b>1</b></td><td> </td><td>5H 5C 6S 7S KD<br/><div class=\"note\">Pair of Fives</div></td><td> </td><td>2C 3S 8S 8D TD<br/><div class=\"note\">Pair of Eights</div></td><td> </td><td style=\"vertical-align:top;\">Player 2</td>\n",
    "</tr><tr><td style=\"vertical-align:top;\"><b>2</b></td><td> </td><td>5D 8C 9S JS AC<br/><div class=\"note\">Highest card Ace</div></td><td> </td><td>2C 5C 7D 8S QH<br/><div class=\"note\">Highest card Queen</div></td><td> </td><td style=\"vertical-align:top;\">Player 1</td>\n",
    "</tr><tr><td style=\"vertical-align:top;\"><b>3</b></td><td> </td><td>2D 9C AS AH AC<br/><div class=\"note\">Three Aces</div></td><td> </td><td>3D 6D 7D TD QD<br/><div class=\"note\">Flush  with Diamonds</div></td><td> </td><td style=\"vertical-align:top;\">Player 2</td>\n",
    "</tr><tr><td style=\"vertical-align:top;\"><b>4</b></td><td> </td><td>4D 6S 9H QH QC<br/><div class=\"note\">Pair of Queens<br/>Highest card Nine</div></td><td> </td><td>3D 6D 7H QD QS<br/><div class=\"note\">Pair of Queens<br/>Highest card Seven</div></td><td> </td><td style=\"vertical-align:top;\">Player 1</td>\n",
    "</tr><tr><td style=\"vertical-align:top;\"><b>5</b></td><td> </td><td>2H 2D 4C 4D 4S<br/><div class=\"note\">Full House<br/>With Three Fours</div></td><td> </td><td>3C 3D 3S 9S 9D<br/><div class=\"note\">Full House<br/>with Three Threes</div></td><td> </td><td style=\"vertical-align:top;\">Player 1</td>\n",
    "</tr></table></div>\n",
    "<p>The file, <a href=\"project/resources/p054_poker.txt\">poker.txt</a>, contains one-thousand random hands dealt to two players. Each line of the file contains ten cards (separated by a single space): the first five are Player 1's cards and the last five are Player 2's cards. You can assume that all hands are valid (no invalid characters or repeated cards), each player's hand is in no specific order, and in each hand there is a clear winner.</p>\n",
    "<p>How many hands does Player 1 win?</p>\n",
    "</div>"
   ]
  },
  {
   "cell_type": "code",
   "execution_count": null,
   "metadata": {},
   "outputs": [],
   "source": []
  },
  {
   "cell_type": "markdown",
   "metadata": {},
   "source": [
    "### 55. Lychrel numbers\n",
    "#### ([Back to Top](#Table-of-Contents)) ([Webpage](https://projecteuler.net/problem=55))<div class=\"problem_content\" role=\"problem\">\n",
    "<p>If we take 47, reverse and add, 47 + 74 = 121, which is palindromic.</p>\n",
    "<p>Not all numbers produce palindromes so quickly. For example,</p>\n",
    "<p style=\"margin-left:50px;\">349 + 943 = 1292,<br>\n",
    "1292 + 2921 = 4213<br/>\n",
    "4213 + 3124 = 7337</br></p>\n",
    "<p>That is, 349 took three iterations to arrive at a palindrome.</p>\n",
    "<p>Although no one has proved it yet, it is thought that some numbers, like 196, never produce a palindrome. A number that never forms a palindrome through the reverse and add process is called a Lychrel number. Due to the theoretical nature of these numbers, and for the purpose of this problem, we shall assume that a number is Lychrel until proven otherwise. In addition you are given that for every number below ten-thousand, it will either (i) become a palindrome in less than fifty iterations, or, (ii) no one, with all the computing power that exists, has managed so far to map it to a palindrome. In fact, 10677 is the first number to be shown to require over fifty iterations before producing a palindrome: 4668731596684224866951378664 (53 iterations, 28-digits).</p>\n",
    "<p>Surprisingly, there are palindromic numbers that are themselves Lychrel numbers; the first example is 4994.</p>\n",
    "<p>How many Lychrel numbers are there below ten-thousand?</p>\n",
    "<p class=\"note\">NOTE: Wording was modified slightly on 24 April 2007 to emphasise the theoretical nature of Lychrel numbers.</p>\n",
    "</div>"
   ]
  },
  {
   "cell_type": "code",
   "execution_count": null,
   "metadata": {},
   "outputs": [],
   "source": []
  },
  {
   "cell_type": "markdown",
   "metadata": {},
   "source": [
    "### 56. Powerful digit sum\n",
    "#### ([Back to Top](#Table-of-Contents)) ([Webpage](https://projecteuler.net/problem=56))<div class=\"problem_content\" role=\"problem\">\n",
    "<p>A googol (10<sup>100</sup>) is a massive number: one followed by one-hundred zeros; 100<sup>100</sup> is almost unimaginably large: one followed by two-hundred zeros. Despite their size, the sum of the digits in each number is only 1.</p>\n",
    "<p>Considering natural numbers of the form, <i>a<sup>b</sup></i>, where <i>a, b</i> &lt; 100, what is the maximum digital sum?</p>\n",
    "</div>"
   ]
  },
  {
   "cell_type": "code",
   "execution_count": null,
   "metadata": {},
   "outputs": [],
   "source": []
  },
  {
   "cell_type": "markdown",
   "metadata": {},
   "source": [
    "### 57. Square root convergents\n",
    "#### ([Back to Top](#Table-of-Contents)) ([Webpage](https://projecteuler.net/problem=57))<div class=\"problem_content\" role=\"problem\">\n",
    "<p>It is possible to show that the square root of two can be expressed as an infinite continued fraction.</p>\n",
    "<p style=\"text-align:center;\">√ 2 = 1 + 1/(2 + 1/(2 + 1/(2 + ... ))) = 1.414213...</p>\n",
    "<p>By expanding this for the first four iterations, we get:</p>\n",
    "<p>1 + 1/2 = 3/2 = 1.5<br>\n",
    "1 + 1/(2 + 1/2) = 7/5 = 1.4<br/>\n",
    "1 + 1/(2 + 1/(2 + 1/2)) = 17/12 = 1.41666...<br/>\n",
    "1 + 1/(2 + 1/(2 + 1/(2 + 1/2))) = 41/29 = 1.41379...<br/></br></p>\n",
    "<p>The next three expansions are 99/70, 239/169, and 577/408, but the eighth expansion, 1393/985, is the first example where the number of digits in the numerator exceeds the number of digits in the denominator.</p>\n",
    "<p>In the first one-thousand expansions, how many fractions contain a numerator with more digits than denominator?</p>\n",
    "</div>"
   ]
  },
  {
   "cell_type": "code",
   "execution_count": null,
   "metadata": {},
   "outputs": [],
   "source": []
  },
  {
   "cell_type": "markdown",
   "metadata": {},
   "source": [
    "### 58. Spiral primes\n",
    "#### ([Back to Top](#Table-of-Contents)) ([Webpage](https://projecteuler.net/problem=58))<div class=\"problem_content\" role=\"problem\">\n",
    "<p>Starting with 1 and spiralling anticlockwise in the following way, a square spiral with side length 7 is formed.</p>\n",
    "<p style=\"text-align:center;font-family:'courier new';\"><span style=\"color:#ff0000;font-family:'courier new';\"><b>37</b></span> 36 35 34 33 32 <span style=\"color:#ff0000;font-family:'courier new';\"><b>31</b></span><br>\n",
    "38 <span style=\"color:#ff0000;font-family:'courier new';\"><b>17</b></span> 16 15 14 <span style=\"color:#ff0000;font-family:'courier new';\"><b>13</b></span> 30<br/>\n",
    "39 18 <span style=\"color:#ff0000;font-family:'courier new';\"> <b>5</b></span>  4 <span style=\"color:#ff0000;font-family:'courier new';\"> <b>3</b></span> 12 29<br/>\n",
    "40 19  6  1  2 11 28<br/>\n",
    "41 20 <span style=\"color:#ff0000;font-family:'courier new';\"> <b>7</b></span>  8  9 10 27<br/>\n",
    "42 21 22 23 24 25 26<br/><span style=\"color:#ff0000;font-family:'courier new';\"><b>43</b></span> 44 45 46 47 48 49</br></p>\n",
    "<p>It is interesting to note that the odd squares lie along the bottom right diagonal, but what is more interesting is that 8 out of the 13 numbers lying along both diagonals are prime; that is, a ratio of 8/13 ≈ 62%.</p>\n",
    "<p>If one complete new layer is wrapped around the spiral above, a square spiral with side length 9 will be formed. If this process is continued, what is the side length of the square spiral for which the ratio of primes along both diagonals first falls below 10%?</p>\n",
    "</div>"
   ]
  },
  {
   "cell_type": "code",
   "execution_count": null,
   "metadata": {},
   "outputs": [],
   "source": []
  },
  {
   "cell_type": "markdown",
   "metadata": {},
   "source": [
    "### 59. XOR decryption\n",
    "#### ([Back to Top](#Table-of-Contents)) ([Webpage](https://projecteuler.net/problem=59))<div class=\"problem_content\" role=\"problem\">\n",
    "<p>Each character on a computer is assigned a unique code and the preferred standard is ASCII (American Standard Code for Information Interchange). For example, uppercase A = 65, asterisk (*) = 42, and lowercase k = 107.</p>\n",
    "<p>A modern encryption method is to take a text file, convert the bytes to ASCII, then XOR each byte with a given value, taken from a secret key. The advantage with the XOR function is that using the same encryption key on the cipher text, restores the plain text; for example, 65 XOR 42 = 107, then 107 XOR 42 = 65.</p>\n",
    "<p>For unbreakable encryption, the key is the same length as the plain text message, and the key is made up of random bytes. The user would keep the encrypted message and the encryption key in different locations, and without both \"halves\", it is impossible to decrypt the message.</p>\n",
    "<p>Unfortunately, this method is impractical for most users, so the modified method is to use a password as a key. If the password is shorter than the message, which is likely, the key is repeated cyclically throughout the message. The balance for this method is using a sufficiently long password key for security, but short enough to be memorable.</p>\n",
    "<p>Your task has been made easy, as the encryption key consists of three lower case characters. Using <a href=\"project/resources/p059_cipher.txt\">p059_cipher.txt</a> (right click and 'Save Link/Target As...'), a file containing the encrypted ASCII codes, and the knowledge that the plain text must contain common English words, decrypt the message and find the sum of the ASCII values in the original text.</p>\n",
    "</div>"
   ]
  },
  {
   "cell_type": "code",
   "execution_count": null,
   "metadata": {},
   "outputs": [],
   "source": []
  },
  {
   "cell_type": "markdown",
   "metadata": {},
   "source": [
    "### 60. Prime pair sets\n",
    "#### ([Back to Top](#Table-of-Contents)) ([Webpage](https://projecteuler.net/problem=60))<div class=\"problem_content\" role=\"problem\">\n",
    "<p>The primes 3, 7, 109, and 673, are quite remarkable. By taking any two primes and concatenating them in any order the result will always be prime. For example, taking 7 and 109, both 7109 and 1097 are prime. The sum of these four primes, 792, represents the lowest sum for a set of four primes with this property.</p>\n",
    "<p>Find the lowest sum for a set of five primes for which any two primes concatenate to produce another prime.</p>\n",
    "</div>"
   ]
  },
  {
   "cell_type": "code",
   "execution_count": null,
   "metadata": {},
   "outputs": [],
   "source": []
  },
  {
   "cell_type": "markdown",
   "metadata": {},
   "source": [
    "### 61. Cyclical figurate numbers\n",
    "#### ([Back to Top](#Table-of-Contents)) ([Webpage](https://projecteuler.net/problem=61))<div class=\"problem_content\" role=\"problem\">\n",
    "<p>Triangle, square, pentagonal, hexagonal, heptagonal, and octagonal numbers are all figurate (polygonal) numbers and are generated by the following formulae:</p>\n",
    "<table><tr><td>Triangle</td>\n",
    "<td> </td>\n",
    "<td>P<sub>3,<i>n</i></sub>=<i>n</i>(<i>n</i>+1)/2</td>\n",
    "<td> </td>\n",
    "<td>1, 3, 6, 10, 15, ...</td>\n",
    "</tr><tr><td>Square</td>\n",
    "<td> </td>\n",
    "<td>P<sub>4,<i>n</i></sub>=<i>n</i><sup>2</sup></td>\n",
    "<td> </td>\n",
    "<td>1, 4, 9, 16, 25, ...</td>\n",
    "</tr><tr><td>Pentagonal</td>\n",
    "<td> </td>\n",
    "<td>P<sub>5,<i>n</i></sub>=<i>n</i>(3<i>n</i>−1)/2</td>\n",
    "<td> </td>\n",
    "<td>1, 5, 12, 22, 35, ...</td>\n",
    "</tr><tr><td>Hexagonal</td>\n",
    "<td> </td>\n",
    "<td>P<sub>6,<i>n</i></sub>=<i>n</i>(2<i>n</i>−1)</td>\n",
    "<td> </td>\n",
    "<td>1, 6, 15, 28, 45, ...</td>\n",
    "</tr><tr><td>Heptagonal</td>\n",
    "<td> </td>\n",
    "<td>P<sub>7,<i>n</i></sub>=<i>n</i>(5<i>n</i>−3)/2</td>\n",
    "<td> </td>\n",
    "<td>1, 7, 18, 34, 55, ...</td>\n",
    "</tr><tr><td>Octagonal</td>\n",
    "<td> </td>\n",
    "<td>P<sub>8,<i>n</i></sub>=<i>n</i>(3<i>n</i>−2)</td>\n",
    "<td> </td>\n",
    "<td>1, 8, 21, 40, 65, ...</td>\n",
    "</tr></table><p>The ordered set of three 4-digit numbers: 8128, 2882, 8281, has three interesting properties.</p>\n",
    "<ol><li>The set is cyclic, in that the last two digits of each number is the first two digits of the next number (including the last number with the first).</li>\n",
    "<li>Each polygonal type: triangle (P<sub>3,127</sub>=8128), square (P<sub>4,91</sub>=8281), and pentagonal (P<sub>5,44</sub>=2882), is represented by a different number in the set.</li>\n",
    "<li>This is the only set of 4-digit numbers with this property.</li>\n",
    "</ol><p>Find the sum of the only ordered set of six cyclic 4-digit numbers for which each polygonal type: triangle, square, pentagonal, hexagonal, heptagonal, and octagonal, is represented by a different number in the set.</p>\n",
    "</div>"
   ]
  },
  {
   "cell_type": "code",
   "execution_count": null,
   "metadata": {},
   "outputs": [],
   "source": []
  },
  {
   "cell_type": "markdown",
   "metadata": {},
   "source": [
    "### 62. Cubic permutations\n",
    "#### ([Back to Top](#Table-of-Contents)) ([Webpage](https://projecteuler.net/problem=62))<div class=\"problem_content\" role=\"problem\">\n",
    "<p>The cube, 41063625 (345<sup>3</sup>), can be permuted to produce two other cubes: 56623104 (384<sup>3</sup>) and 66430125 (405<sup>3</sup>). In fact, 41063625 is the smallest cube which has exactly three permutations of its digits which are also cube.</p>\n",
    "<p>Find the smallest cube for which exactly five permutations of its digits are cube.</p>\n",
    "</div>"
   ]
  },
  {
   "cell_type": "code",
   "execution_count": null,
   "metadata": {},
   "outputs": [],
   "source": []
  },
  {
   "cell_type": "markdown",
   "metadata": {},
   "source": [
    "### 63. Powerful digit counts\n",
    "#### ([Back to Top](#Table-of-Contents)) ([Webpage](https://projecteuler.net/problem=63))<div class=\"problem_content\" role=\"problem\">\n",
    "<p>The 5-digit number, 16807=7<sup>5</sup>, is also a fifth power. Similarly, the 9-digit number, 134217728=8<sup>9</sup>, is a ninth power.</p>\n",
    "<p>How many <i>n</i>-digit positive integers exist which are also an <i>n</i>th power?</p>\n",
    "</div>"
   ]
  },
  {
   "cell_type": "code",
   "execution_count": null,
   "metadata": {},
   "outputs": [],
   "source": []
  },
  {
   "cell_type": "markdown",
   "metadata": {},
   "source": [
    "### 64. Odd period square roots\n",
    "#### ([Back to Top](#Table-of-Contents)) ([Webpage](https://projecteuler.net/problem=64))<div class=\"problem_content\" role=\"problem\">\n",
    "<p>All square roots are periodic when written as continued fractions and can be written in the form:</p>\n",
    "\n",
    "$\\displaystyle \\quad \\quad \\sqrt{N}=a_0+\\frac 1 {a_1+\\frac 1 {a_2+ \\frac 1 {a3+ \\dots}}}$\n",
    "\n",
    "<p>For example, let us consider $\\sqrt{23}:$</p>\n",
    "$\\quad \\quad \\sqrt{23}=4+\\sqrt{23}-4=4+\\frac 1 {\\frac 1 {\\sqrt{23}-4}}=4+\\frac 1  {1+\\frac{\\sqrt{23}-3}7}$\n",
    "\n",
    "<p>If we continue we would get the following expansion:</p>\n",
    "\n",
    "$\\displaystyle \\quad \\quad \\sqrt{23}=4+\\frac 1 {1+\\frac 1 {3+ \\frac 1 {1+\\frac 1 {8+ \\dots}}}}$\n",
    "\n",
    "<p>The process can be summarised as follows:</p>\n",
    "<p>\n",
    "$\\quad \\quad a_0=4, \\frac 1 {\\sqrt{23}-4}=\\frac {\\sqrt{23}+4} 7=1+\\frac {\\sqrt{23}-3} 7$<br>\n",
    "$\\quad \\quad a_1=1, \\frac 7 {\\sqrt{23}-3}=\\frac {7(\\sqrt{23}+3)} {14}=3+\\frac {\\sqrt{23}-3} 2$<br/>\n",
    "$\\quad \\quad a_2=3, \\frac 2 {\\sqrt{23}-3}=\\frac {2(\\sqrt{23}+3)} {14}=1+\\frac {\\sqrt{23}-4} 7$<br/>\n",
    "$\\quad \\quad a_3=1, \\frac 7 {\\sqrt{23}-4}=\\frac {7(\\sqrt{23}+4)} 7=8+\\sqrt{23}-4$<br/>\n",
    "$\\quad \\quad a_4=8, \\frac 1 {\\sqrt{23}-4}=\\frac {\\sqrt{23}+4} 7=1+\\frac {\\sqrt{23}-3} 7$<br/>\n",
    "$\\quad \\quad a_5=1, \\frac 7 {\\sqrt{23}-3}=\\frac {7 (\\sqrt{23}+3)} {14}=3+\\frac {\\sqrt{23}-3} 2$<br/>\n",
    "\n",
    "$\\quad \\quad a_6=3, \\frac 2 {\\sqrt{23}-3}=\\frac {2(\\sqrt{23}+3)} {14}=1+\\frac {\\sqrt{23}-4} 7$<br/>\n",
    "$\\quad \\quad a_7=1, \\frac 7 {\\sqrt{23}-4}=\\frac {7(\\sqrt{23}+4)} {7}=8+\\sqrt{23}-4$<br/></br></p>\n",
    "<p>It can be seen that the sequence is repeating. For conciseness, we use the notation $\\sqrt{23}=[4;(1,3,1,8)]$, to indicate that the block (1,3,1,8) repeats indefinitely.</p>\n",
    "<p>The first ten continued fraction representations of (irrational) square roots are:</p>\n",
    "<p>\n",
    "$\\quad \\quad \\sqrt{2}=[1;(2)]$, period=$1$<br/>\n",
    "$\\quad \\quad \\sqrt{3}=[1;(1,2)]$, period=$2$<br/>\n",
    "$\\quad \\quad \\sqrt{5}=[2;(4)]$, period=$1$<br/>\n",
    "$\\quad \\quad \\sqrt{6}=[2;(2,4)]$, period=$2$<br/>\n",
    "$\\quad \\quad \\sqrt{7}=[2;(1,1,1,4)]$, period=$4$<br/>\n",
    "$\\quad \\quad \\sqrt{8}=[2;(1,4)]$, period=$2$<br/>\n",
    "$\\quad \\quad \\sqrt{10}=[3;(6)]$, period=$1$<br/>\n",
    "$\\quad \\quad \\sqrt{11}=[3;(3,6)]$, period=$2$<br/>\n",
    "$\\quad \\quad \\sqrt{12}=[3;(2,6)]$, period=$2$<br/>\n",
    "$\\quad \\quad \\sqrt{13}=[3;(1,1,1,1,6)]$, period=$5$\n",
    "</p>\n",
    "<p>Exactly four continued fractions, for $N \\le 13$, have an odd period.</p>\n",
    "<p>How many continued fractions for $N \\le 10\\,000$ have an odd period?</p>\n",
    "</div>"
   ]
  },
  {
   "cell_type": "code",
   "execution_count": null,
   "metadata": {},
   "outputs": [],
   "source": []
  },
  {
   "cell_type": "markdown",
   "metadata": {},
   "source": [
    "### 65. Convergents of e\n",
    "#### ([Back to Top](#Table-of-Contents)) ([Webpage](https://projecteuler.net/problem=65))<div class=\"problem_content\" role=\"problem\">\n",
    "<p>The square root of 2 can be written as an infinite continued fraction.</p>\n",
    "<p>$\\sqrt{2} = 1 + \\dfrac{1}{2 + \\dfrac{1}{2 + \\dfrac{1}{2 + \\dfrac{1}{2 + ...}}}}$</p>\n",
    "<p>The infinite continued fraction can be written, $\\sqrt{2} = [1; (2)]$, $(2)$ indicates that 2 repeats <i>ad infinitum</i>. In a similar way, $\\sqrt{23} = [4; (1, 3, 1, 8)]$.</p>\n",
    "<p>It turns out that the sequence of partial values of continued fractions for square roots provide the best rational approximations. Let us consider the convergents for $\\sqrt{2}$.</p>\n",
    "<p>$\n",
    "1 + \\dfrac{1}{2} = \\dfrac{3}{2}\\\\\n",
    "1 + \\dfrac{1}{2 + \\dfrac{1}{2}} = \\dfrac{7}{5}\\\\\n",
    "1 + \\dfrac{1}{2 + \\dfrac{1}{2 + \\dfrac{1}{2}}} = \\dfrac{17}{12}\\\\\n",
    "1 + \\dfrac{1}{2 + \\dfrac{1}{2 + \\dfrac{1}{2 + \\dfrac{1}{2}}}} = \\dfrac{41}{29}\n",
    "$</p>\n",
    "<p>Hence the sequence of the first ten convergents for $\\sqrt{2}$ are:</p>\n",
    "<p>$1, \\dfrac{3}{2}, \\dfrac{7}{5}, \\dfrac{17}{12}, \\dfrac{41}{29}, \\dfrac{99}{70}, \\dfrac{239}{169}, \\dfrac{577}{408}, \\dfrac{1393}{985}, \\dfrac{3363}{2378}, ...$</p>\n",
    "<p>What is most surprising is that the important mathematical constant,<br>$e = [2; 1, 2, 1, 1, 4, 1, 1, 6, 1, ... , 1, 2k, 1, ...]$.</br></p>\n",
    "<p>The first ten terms in the sequence of convergents for <i>e</i> are:</p>\n",
    "<p>$2, 3, \\dfrac{8}{3}, \\dfrac{11}{4}, \\dfrac{19}{7}, \\dfrac{87}{32}, \\dfrac{106}{39}, \\dfrac{193}{71}, \\dfrac{1264}{465}, \\dfrac{1457}{536}, ...$</p>\n",
    "<p>The sum of digits in the numerator of the 10<sup>th</sup> convergent is $1 + 4 + 5 + 7 = 17$.</p>\n",
    "<p>Find the sum of digits in the numerator of the 100<sup>th</sup> convergent of the continued fraction for $e$.</p>\n",
    "</div>"
   ]
  },
  {
   "cell_type": "code",
   "execution_count": null,
   "metadata": {},
   "outputs": [],
   "source": []
  },
  {
   "cell_type": "markdown",
   "metadata": {},
   "source": [
    "### 66. Diophantine equation\n",
    "#### ([Back to Top](#Table-of-Contents)) ([Webpage](https://projecteuler.net/problem=66))<div class=\"problem_content\" role=\"problem\">\n",
    "<p>Consider quadratic Diophantine equations of the form:</p>\n",
    "<p style=\"text-align:center;\"><i>x</i><sup>2</sup> – D<i>y</i><sup>2</sup> = 1</p>\n",
    "<p>For example, when D=13, the minimal solution in <i>x</i> is 649<sup>2</sup> – 13×180<sup>2</sup> = 1.</p>\n",
    "<p>It can be assumed that there are no solutions in positive integers when D is square.</p>\n",
    "<p>By finding minimal solutions in <i>x</i> for D = {2, 3, 5, 6, 7}, we obtain the following:</p>\n",
    "<p style=\"margin-left:20px;\">3<sup>2</sup> – 2×2<sup>2</sup> = 1<br>\n",
    "2<sup>2</sup> – 3×1<sup>2</sup> = 1<br/><span style=\"color:#dd0000;font-weight:bold;\">9</span><sup>2</sup> – 5×4<sup>2</sup> = 1<br/>\n",
    "5<sup>2</sup> – 6×2<sup>2</sup> = 1<br/>\n",
    "8<sup>2</sup> – 7×3<sup>2</sup> = 1</br></p>\n",
    "<p>Hence, by considering minimal solutions in <i>x</i> for D ≤ 7, the largest <i>x</i> is obtained when D=5.</p>\n",
    "<p>Find the value of D ≤ 1000 in minimal solutions of <i>x</i> for which the largest value of <i>x</i> is obtained.</p>\n",
    "</div>"
   ]
  },
  {
   "cell_type": "code",
   "execution_count": null,
   "metadata": {},
   "outputs": [],
   "source": []
  },
  {
   "cell_type": "markdown",
   "metadata": {},
   "source": [
    "### 67. Maximum path sum II\n",
    "#### ([Back to Top](#Table-of-Contents)) ([Webpage](https://projecteuler.net/problem=67))<div class=\"problem_content\" role=\"problem\">\n",
    "<p>By starting at the top of the triangle below and moving to adjacent numbers on the row below, the maximum total from top to bottom is 23.</p>\n",
    "<p style=\"text-align:center;font-family:'courier new';font-size:12pt;\"><span style=\"color:#ff0000;\"><b>3</b></span><br><span style=\"color:#ff0000;\"><b>7</b></span> 4<br/>\n",
    "2 <span style=\"color:#ff0000;\"><b>4</b></span> 6<br/>\n",
    "8 5 <span style=\"color:#ff0000;\"><b>9</b></span> 3</br></p>\n",
    "<p>That is, 3 + 7 + 4 + 9 = 23.</p>\n",
    "<p>Find the maximum total from top to bottom in <a href=\"project/resources/p067_triangle.txt\">triangle.txt</a> (right click and 'Save Link/Target As...'), a 15K text file containing a triangle with one-hundred rows.</p>\n",
    "<p class=\"note\"><b>NOTE:</b> This is a much more difficult version of <a href=\"problem=18\">Problem 18</a>. It is not possible to try every route to solve this problem, as there are 2<sup>99</sup> altogether! If you could check one trillion (10<sup>12</sup>) routes every second it would take over twenty billion years to check them all. There is an efficient algorithm to solve it. ;o)</p>\n",
    "</div>"
   ]
  },
  {
   "cell_type": "code",
   "execution_count": null,
   "metadata": {},
   "outputs": [],
   "source": []
  },
  {
   "cell_type": "markdown",
   "metadata": {},
   "source": [
    "### 68. Magic 5-gon ring\n",
    "#### ([Back to Top](#Table-of-Contents)) ([Webpage](https://projecteuler.net/problem=68))<div class=\"problem_content\" role=\"problem\">\n",
    "<p>Consider the following \"magic\" 3-gon ring, filled with the numbers 1 to 6, and each line adding to nine.</p>\n",
    "<div style=\"text-align:center;\">\n",
    "<img alt=\"\" class=\"dark_img\" src=\"project/images/p068_1.png\"/><br/></div>\n",
    "<p>Working <b>clockwise</b>, and starting from the group of three with the numerically lowest external node (4,3,2 in this example), each solution can be described uniquely. For example, the above solution can be described by the set: 4,3,2; 6,2,1; 5,1,3.</p>\n",
    "<p>It is possible to complete the ring with four different totals: 9, 10, 11, and 12. There are eight solutions in total.</p>\n",
    "<div style=\"text-align:center;\">\n",
    "<table cellpadding=\"0\" cellspacing=\"0\" width=\"400\"><tr><td width=\"100\"><b>Total</b></td><td width=\"300\"><b>Solution Set</b></td>\n",
    "</tr><tr><td>9</td><td>4,2,3; 5,3,1; 6,1,2</td>\n",
    "</tr><tr><td>9</td><td>4,3,2; 6,2,1; 5,1,3</td>\n",
    "</tr><tr><td>10</td><td>2,3,5; 4,5,1; 6,1,3</td>\n",
    "</tr><tr><td>10</td><td>2,5,3; 6,3,1; 4,1,5</td>\n",
    "</tr><tr><td>11</td><td>1,4,6; 3,6,2; 5,2,4</td>\n",
    "</tr><tr><td>11</td><td>1,6,4; 5,4,2; 3,2,6</td>\n",
    "</tr><tr><td>12</td><td>1,5,6; 2,6,4; 3,4,5</td>\n",
    "</tr><tr><td>12</td><td>1,6,5; 3,5,4; 2,4,6</td>\n",
    "</tr></table></div>\n",
    "<p>By concatenating each group it is possible to form 9-digit strings; the maximum string for a 3-gon ring is 432621513.</p>\n",
    "<p>Using the numbers 1 to 10, and depending on arrangements, it is possible to form 16- and 17-digit strings. What is the maximum <b>16-digit</b> string for a \"magic\" 5-gon ring?</p>\n",
    "<div style=\"text-align:center;\">\n",
    "<img alt=\"\" class=\"dark_img\" src=\"project/images/p068_2.png\"/><br/></div>\n",
    "</div>"
   ]
  },
  {
   "cell_type": "code",
   "execution_count": null,
   "metadata": {},
   "outputs": [],
   "source": []
  },
  {
   "cell_type": "markdown",
   "metadata": {},
   "source": [
    "### 69. Totient maximum\n",
    "#### ([Back to Top](#Table-of-Contents)) ([Webpage](https://projecteuler.net/problem=69))<div class=\"problem_content\" role=\"problem\">\n",
    "<p>Euler's Totient function, φ(<i>n</i>) [sometimes called the phi function], is used to determine the number of numbers less than <i>n</i> which are relatively prime to <i>n</i>. For example, as 1, 2, 4, 5, 7, and 8, are all less than nine and relatively prime to nine, φ(9)=6.</p>\n",
    "<div style=\"margin-left:100px;\">\n",
    "<table border=\"1\"><tr><td><b><i>n</i></b></td>\n",
    "<td><b>Relatively Prime</b></td>\n",
    "<td><b>φ(<i>n</i>)</b></td>\n",
    "<td><b><i>n</i>/φ(<i>n</i>)</b></td>\n",
    "</tr><tr><td>2</td>\n",
    "<td>1</td>\n",
    "<td>1</td>\n",
    "<td>2</td>\n",
    "</tr><tr><td>3</td>\n",
    "<td>1,2</td>\n",
    "<td>2</td>\n",
    "<td>1.5</td>\n",
    "</tr><tr><td>4</td>\n",
    "<td>1,3</td>\n",
    "<td>2</td>\n",
    "<td>2</td>\n",
    "</tr><tr><td>5</td>\n",
    "<td>1,2,3,4</td>\n",
    "<td>4</td>\n",
    "<td>1.25</td>\n",
    "</tr><tr><td>6</td>\n",
    "<td>1,5</td>\n",
    "<td>2</td>\n",
    "<td>3</td>\n",
    "</tr><tr><td>7</td>\n",
    "<td>1,2,3,4,5,6</td>\n",
    "<td>6</td>\n",
    "<td>1.1666...</td>\n",
    "</tr><tr><td>8</td>\n",
    "<td>1,3,5,7</td>\n",
    "<td>4</td>\n",
    "<td>2</td>\n",
    "</tr><tr><td>9</td>\n",
    "<td>1,2,4,5,7,8</td>\n",
    "<td>6</td>\n",
    "<td>1.5</td>\n",
    "</tr><tr><td>10</td>\n",
    "<td>1,3,7,9</td>\n",
    "<td>4</td>\n",
    "<td>2.5</td>\n",
    "</tr></table></div>\n",
    "<p>It can be seen that <i>n</i>=6 produces a maximum <i>n</i>/φ(<i>n</i>) for <i>n</i> ≤ 10.</p>\n",
    "<p>Find the value of <i>n</i> ≤ 1,000,000 for which <i>n</i>/φ(<i>n</i>) is a maximum.</p>\n",
    "</div>"
   ]
  },
  {
   "cell_type": "code",
   "execution_count": null,
   "metadata": {},
   "outputs": [],
   "source": []
  },
  {
   "cell_type": "markdown",
   "metadata": {},
   "source": [
    "### 70. Totient permutation\n",
    "#### ([Back to Top](#Table-of-Contents)) ([Webpage](https://projecteuler.net/problem=70))<div class=\"problem_content\" role=\"problem\">\n",
    "<p>Euler's Totient function, φ(<var>n</var>) [sometimes called the phi function], is used to determine the number of positive numbers less than or equal to <var>n</var> which are relatively prime to <var>n</var>. For example, as 1, 2, 4, 5, 7, and 8, are all less than nine and relatively prime to nine, φ(9)=6.<br>The number 1 is considered to be relatively prime to every positive number, so φ(1)=1. </br></p>\n",
    "<p>Interestingly, φ(87109)=79180, and it can be seen that 87109 is a permutation of 79180.</p>\n",
    "<p>Find the value of <var>n</var>, 1 &lt; <var>n</var> &lt; 10<sup>7</sup>, for which φ(<var>n</var>) is a permutation of <var>n</var> and the ratio <var>n</var>/φ(<var>n</var>) produces a minimum.</p>\n",
    "</div>"
   ]
  },
  {
   "cell_type": "code",
   "execution_count": null,
   "metadata": {},
   "outputs": [],
   "source": []
  },
  {
   "cell_type": "markdown",
   "metadata": {},
   "source": [
    "### 71. Ordered fractions\n",
    "#### ([Back to Top](#Table-of-Contents)) ([Webpage](https://projecteuler.net/problem=71))<div class=\"problem_content\" role=\"problem\">\n",
    "<p>Consider the fraction, <i>n/d</i>, where <i>n</i> and <i>d</i> are positive integers. If <i>n</i>&lt;<i>d</i> and HCF(<i>n,d</i>)=1, it is called a reduced proper fraction.</p>\n",
    "<p>If we list the set of reduced proper fractions for <i>d</i> ≤ 8 in ascending order of size, we get:</p>\n",
    "<p style=\"text-align:center;font-size:90%;\">1/8, 1/7, 1/6, 1/5, 1/4, 2/7, 1/3, 3/8, <b>2/5</b>, 3/7, 1/2, 4/7, 3/5, 5/8, 2/3, 5/7, 3/4, 4/5, 5/6, 6/7, 7/8</p>\n",
    "<p>It can be seen that 2/5 is the fraction immediately to the left of 3/7.</p>\n",
    "<p>By listing the set of reduced proper fractions for <i>d</i> ≤ 1,000,000 in ascending order of size, find the numerator of the fraction immediately to the left of 3/7.</p>\n",
    "</div>"
   ]
  },
  {
   "cell_type": "code",
   "execution_count": null,
   "metadata": {},
   "outputs": [],
   "source": []
  },
  {
   "cell_type": "markdown",
   "metadata": {},
   "source": [
    "### 72. Counting fractions\n",
    "#### ([Back to Top](#Table-of-Contents)) ([Webpage](https://projecteuler.net/problem=72))<div class=\"problem_content\" role=\"problem\">\n",
    "<p>Consider the fraction, <i>n/d</i>, where <i>n</i> and <i>d</i> are positive integers. If <i>n</i>&lt;<i>d</i> and HCF(<i>n,d</i>)=1, it is called a reduced proper fraction.</p>\n",
    "<p>If we list the set of reduced proper fractions for <i>d</i> ≤ 8 in ascending order of size, we get:</p>\n",
    "<p style=\"text-align:center;font-size:90%;\">1/8, 1/7, 1/6, 1/5, 1/4, 2/7, 1/3, 3/8, 2/5, 3/7, 1/2, 4/7, 3/5, 5/8, 2/3, 5/7, 3/4, 4/5, 5/6, 6/7, 7/8</p>\n",
    "<p>It can be seen that there are 21 elements in this set.</p>\n",
    "<p>How many elements would be contained in the set of reduced proper fractions for <i>d</i> ≤ 1,000,000?</p>\n",
    "</div>"
   ]
  },
  {
   "cell_type": "code",
   "execution_count": null,
   "metadata": {},
   "outputs": [],
   "source": []
  },
  {
   "cell_type": "markdown",
   "metadata": {},
   "source": [
    "### 73. Counting fractions in a range\n",
    "#### ([Back to Top](#Table-of-Contents)) ([Webpage](https://projecteuler.net/problem=73))<div class=\"problem_content\" role=\"problem\">\n",
    "<p>Consider the fraction, <i>n/d</i>, where <i>n</i> and <i>d</i> are positive integers. If <i>n</i>&lt;<i>d</i> and HCF(<i>n,d</i>)=1, it is called a reduced proper fraction.</p>\n",
    "<p>If we list the set of reduced proper fractions for <i>d</i> ≤ 8 in ascending order of size, we get:</p>\n",
    "<p style=\"text-align:center;font-size:90%;\">1/8, 1/7, 1/6, 1/5, 1/4, 2/7, 1/3, <b>3/8, 2/5, 3/7</b>, 1/2, 4/7, 3/5, 5/8, 2/3, 5/7, 3/4, 4/5, 5/6, 6/7, 7/8</p>\n",
    "<p>It can be seen that there are 3 fractions between 1/3 and 1/2.</p>\n",
    "<p>How many fractions lie between 1/3 and 1/2 in the sorted set of reduced proper fractions for <i>d</i> ≤ 12,000?</p>\n",
    "</div>"
   ]
  },
  {
   "cell_type": "code",
   "execution_count": null,
   "metadata": {},
   "outputs": [],
   "source": []
  },
  {
   "cell_type": "markdown",
   "metadata": {},
   "source": [
    "### 74. Digit factorial chains\n",
    "#### ([Back to Top](#Table-of-Contents)) ([Webpage](https://projecteuler.net/problem=74))<div class=\"problem_content\" role=\"problem\">\n",
    "<p>The number 145 is well known for the property that the sum of the factorial of its digits is equal to 145:</p>\n",
    "<p style=\"margin-left:50px;\">1! + 4! + 5! = 1 + 24 + 120 = 145</p>\n",
    "<p>Perhaps less well known is 169, in that it produces the longest chain of numbers that link back to 169; it turns out that there are only three such loops that exist:</p>\n",
    "<p style=\"margin-left:50px;\">169 → 363601 → 1454 → 169<br>\n",
    "871 → 45361 → 871<br/>\n",
    "872 → 45362 → 872</br></p>\n",
    "<p>It is not difficult to prove that EVERY starting number will eventually get stuck in a loop. For example,</p>\n",
    "<p style=\"margin-left:50px;\">69 → 363600 → 1454 → 169 → 363601 (→ 1454)<br/>\n",
    "78 → 45360 → 871 → 45361 (→ 871)<br/>\n",
    "540 → 145 (→ 145)</p>\n",
    "<p>Starting with 69 produces a chain of five non-repeating terms, but the longest non-repeating chain with a starting number below one million is sixty terms.</p>\n",
    "<p>How many chains, with a starting number below one million, contain exactly sixty non-repeating terms?</p>\n",
    "</div>"
   ]
  },
  {
   "cell_type": "code",
   "execution_count": null,
   "metadata": {},
   "outputs": [],
   "source": []
  },
  {
   "cell_type": "markdown",
   "metadata": {},
   "source": [
    "### 75. Singular integer right triangles\n",
    "#### ([Back to Top](#Table-of-Contents)) ([Webpage](https://projecteuler.net/problem=75))<div class=\"problem_content\" role=\"problem\">\n",
    "<p>It turns out that 12 cm is the smallest length of wire that can be bent to form an integer sided right angle triangle in exactly one way, but there are many more examples.</p>\n",
    "<p style=\"margin-left:50px;\"><b>12 cm</b>: (3,4,5)<br><b>24 cm</b>: (6,8,10)<br/><b>30 cm</b>: (5,12,13)<br/><b>36 cm</b>: (9,12,15)<br/><b>40 cm</b>: (8,15,17)<br/><b>48 cm</b>: (12,16,20)</br></p>\n",
    "<p>In contrast, some lengths of wire, like 20 cm, cannot be bent to form an integer sided right angle triangle, and other lengths allow more than one solution to be found; for example, using 120 cm it is possible to form exactly three different integer sided right angle triangles.</p>\n",
    "<p style=\"margin-left:50px;\"><b>120 cm</b>: (30,40,50), (20,48,52), (24,45,51)</p>\n",
    "<p>Given that L is the length of the wire, for how many values of L ≤ 1,500,000 can exactly one integer sided right angle triangle be formed?</p>\n",
    "</div>"
   ]
  },
  {
   "cell_type": "code",
   "execution_count": null,
   "metadata": {},
   "outputs": [],
   "source": []
  },
  {
   "cell_type": "markdown",
   "metadata": {},
   "source": [
    "### 76. Counting summations\n",
    "#### ([Back to Top](#Table-of-Contents)) ([Webpage](https://projecteuler.net/problem=76))<div class=\"problem_content\" role=\"problem\">\n",
    "<p>It is possible to write five as a sum in exactly six different ways:</p>\n",
    "<p style=\"margin-left:50px;\">4 + 1<br>\n",
    "3 + 2<br/>\n",
    "3 + 1 + 1<br/>\n",
    "2 + 2 + 1<br/>\n",
    "2 + 1 + 1 + 1<br/>\n",
    "1 + 1 + 1 + 1 + 1</br></p>\n",
    "<p>How many different ways can one hundred be written as a sum of at least two positive integers?</p>\n",
    "</div>"
   ]
  },
  {
   "cell_type": "code",
   "execution_count": null,
   "metadata": {},
   "outputs": [],
   "source": []
  },
  {
   "cell_type": "markdown",
   "metadata": {},
   "source": [
    "### 77. Prime summations\n",
    "#### ([Back to Top](#Table-of-Contents)) ([Webpage](https://projecteuler.net/problem=77))<div class=\"problem_content\" role=\"problem\">\n",
    "<p>It is possible to write ten as the sum of primes in exactly five different ways:</p>\n",
    "<p style=\"margin-left:50px;\">7 + 3<br>\n",
    "5 + 5<br/>\n",
    "5 + 3 + 2<br/>\n",
    "3 + 3 + 2 + 2<br/>\n",
    "2 + 2 + 2 + 2 + 2</br></p>\n",
    "<p>What is the first value which can be written as the sum of primes in over five thousand different ways?</p>\n",
    "</div>"
   ]
  },
  {
   "cell_type": "code",
   "execution_count": null,
   "metadata": {},
   "outputs": [],
   "source": []
  },
  {
   "cell_type": "markdown",
   "metadata": {},
   "source": [
    "### 78. Coin partitions\n",
    "#### ([Back to Top](#Table-of-Contents)) ([Webpage](https://projecteuler.net/problem=78))<div class=\"problem_content\" role=\"problem\">\n",
    "<p>Let p(<i>n</i>) represent the number of different ways in which <i>n</i> coins can be separated into piles. For example, five coins can be separated into piles in exactly seven different ways, so p(5)=7.</p>\n",
    "<div style=\"text-align:center;\">\n",
    "<table cellpadding=\"10\" cellspacing=\"0\"><tr><td>OOOOO</td>\n",
    "</tr><tr><td>OOOO   O</td>\n",
    "</tr><tr><td>OOO   OO</td>\n",
    "</tr><tr><td>OOO   O   O</td>\n",
    "</tr><tr><td>OO   OO   O</td>\n",
    "</tr><tr><td>OO   O   O   O</td>\n",
    "</tr><tr><td>O   O   O   O   O</td>\n",
    "</tr></table></div>\n",
    "<p>Find the least value of <i>n</i> for which p(<i>n</i>) is divisible by one million.</p>\n",
    "</div>"
   ]
  },
  {
   "cell_type": "code",
   "execution_count": null,
   "metadata": {},
   "outputs": [],
   "source": []
  },
  {
   "cell_type": "markdown",
   "metadata": {},
   "source": [
    "### 79. Passcode derivation\n",
    "#### ([Back to Top](#Table-of-Contents)) ([Webpage](https://projecteuler.net/problem=79))<div class=\"problem_content\" role=\"problem\">\n",
    "<p>A common security method used for online banking is to ask the user for three random characters from a passcode. For example, if the passcode was 531278, they may ask for the 2nd, 3rd, and 5th characters; the expected reply would be: 317.</p>\n",
    "<p>The text file, <a href=\"project/resources/p079_keylog.txt\">keylog.txt</a>, contains fifty successful login attempts.</p>\n",
    "<p>Given that the three characters are always asked for in order, analyse the file so as to determine the shortest possible secret passcode of unknown length.</p>\n",
    "</div>"
   ]
  },
  {
   "cell_type": "code",
   "execution_count": null,
   "metadata": {},
   "outputs": [],
   "source": []
  },
  {
   "cell_type": "markdown",
   "metadata": {},
   "source": [
    "### 80. Square root digital expansion\n",
    "#### ([Back to Top](#Table-of-Contents)) ([Webpage](https://projecteuler.net/problem=80))<div class=\"problem_content\" role=\"problem\">\n",
    "<p>It is well known that if the square root of a natural number is not an integer, then it is irrational. The decimal expansion of such square roots is infinite without any repeating pattern at all.</p>\n",
    "<p>The square root of two is 1.41421356237309504880..., and the digital sum of the first one hundred decimal digits is 475.</p>\n",
    "<p>For the first one hundred natural numbers, find the total of the digital sums of the first one hundred decimal digits for all the irrational square roots.</p>\n",
    "</div>"
   ]
  },
  {
   "cell_type": "code",
   "execution_count": null,
   "metadata": {},
   "outputs": [],
   "source": []
  },
  {
   "cell_type": "markdown",
   "metadata": {},
   "source": [
    "### 81. Path sum: two ways\n",
    "#### ([Back to Top](#Table-of-Contents)) ([Webpage](https://projecteuler.net/problem=81))<div class=\"problem_content\" role=\"problem\">\n",
    "<p>In the 5 by 5 matrix below, the minimal path sum from the top left to the bottom right, by <b>only moving to the right and down</b>, is indicated in bold red and is equal to 2427.</p>\n",
    "<div style=\"text-align:center;\">\n",
    "$$\n",
    "\\begin{pmatrix}\n",
    "\\color{red}{131} &amp; 673 &amp; 234 &amp; 103 &amp; 18\\\\\n",
    "\\color{red}{201} &amp; \\color{red}{96} &amp; \\color{red}{342} &amp; 965 &amp; 150\\\\\n",
    "630 &amp; 803 &amp; \\color{red}{746} &amp; \\color{red}{422} &amp; 111\\\\\n",
    "537 &amp; 699 &amp; 497 &amp; \\color{red}{121} &amp; 956\\\\\n",
    "805 &amp; 732 &amp; 524 &amp; \\color{red}{37} &amp; \\color{red}{331}\n",
    "\\end{pmatrix}\n",
    "$$\n",
    "</div>\n",
    "<p>Find the minimal path sum, in <a href=\"project/resources/p081_matrix.txt\">matrix.txt</a> (right click and \"Save Link/Target As...\"), a 31K text file containing a 80 by 80 matrix, from the top left to the bottom right by only moving right and down.</p>\n",
    "</div>"
   ]
  },
  {
   "cell_type": "code",
   "execution_count": null,
   "metadata": {},
   "outputs": [],
   "source": []
  },
  {
   "cell_type": "markdown",
   "metadata": {},
   "source": [
    "### 82. Path sum: three ways\n",
    "#### ([Back to Top](#Table-of-Contents)) ([Webpage](https://projecteuler.net/problem=82))<div class=\"problem_content\" role=\"problem\">\n",
    "<p class=\"small_notice\">NOTE: This problem is a more challenging version of <a href=\"problem=81\">Problem 81</a>.</p>\n",
    "<p>The minimal path sum in the 5 by 5 matrix below, by starting in any cell in the left column and finishing in any cell in the right column, and only moving up, down, and right, is indicated in red and bold; the sum is equal to 994.</p>\n",
    "<div style=\"text-align:center;\">\n",
    "$$\n",
    "\\begin{pmatrix}\n",
    "131 &amp; 673 &amp; \\color{red}{234} &amp; \\color{red}{103} &amp; \\color{red}{18}\\\\\n",
    "\\color{red}{201} &amp; \\color{red}{96} &amp; \\color{red}{342} &amp; 965 &amp; 150\\\\\n",
    "630 &amp; 803 &amp; 746 &amp; 422 &amp; 111\\\\\n",
    "537 &amp; 699 &amp; 497 &amp; 121 &amp; 956\\\\\n",
    "805 &amp; 732 &amp; 524 &amp; 37 &amp; 331\n",
    "\\end{pmatrix}\n",
    "$$\n",
    "</div>\n",
    "<p>Find the minimal path sum, in <a href=\"project/resources/p082_matrix.txt\">matrix.txt</a> (right click and \"Save Link/Target As...\"), a 31K text file containing a 80 by 80 matrix, from the left column to the right column.</p>\n",
    "</div>"
   ]
  },
  {
   "cell_type": "code",
   "execution_count": null,
   "metadata": {},
   "outputs": [],
   "source": []
  },
  {
   "cell_type": "markdown",
   "metadata": {},
   "source": [
    "### 83. Path sum: four ways\n",
    "#### ([Back to Top](#Table-of-Contents)) ([Webpage](https://projecteuler.net/problem=83))<div class=\"problem_content\" role=\"problem\">\n",
    "<p class=\"small_notice\">NOTE: This problem is a significantly more challenging version of <a href=\"problem=81\">Problem 81</a>.</p>\n",
    "<p>In the 5 by 5 matrix below, the minimal path sum from the top left to the bottom right, by moving left, right, up, and down, is indicated in bold red and is equal to 2297.</p>\n",
    "<div style=\"text-align:center;\">\n",
    "$$\n",
    "\\begin{pmatrix}\n",
    "\\color{red}{131} &amp; 673 &amp; \\color{red}{234} &amp; \\color{red}{103} &amp; \\color{red}{18}\\\\\n",
    "\\color{red}{201} &amp; \\color{red}{96} &amp; \\color{red}{342} &amp; 965 &amp; \\color{red}{150}\\\\\n",
    "630 &amp; 803 &amp; 746 &amp; \\color{red}{422} &amp; \\color{red}{111}\\\\\n",
    "537 &amp; 699 &amp; 497 &amp; \\color{red}{121} &amp; 956\\\\\n",
    "805 &amp; 732 &amp; 524 &amp; \\color{red}{37} &amp; \\color{red}{331}\n",
    "\\end{pmatrix}\n",
    "$$\n",
    "</div>\n",
    "<p>Find the minimal path sum, in <a href=\"project/resources/p083_matrix.txt\">matrix.txt</a> (right click and \n",
    "\"Save Link/Target As...\"), a 31K text file containing a 80 by 80 matrix, from the top left to the bottom right by moving left, right, up, and down.</p>\n",
    "</div>"
   ]
  },
  {
   "cell_type": "code",
   "execution_count": null,
   "metadata": {},
   "outputs": [],
   "source": []
  },
  {
   "cell_type": "markdown",
   "metadata": {},
   "source": [
    "### 84. Monopoly odds\n",
    "#### ([Back to Top](#Table-of-Contents)) ([Webpage](https://projecteuler.net/problem=84))<div class=\"problem_content\" role=\"problem\">\n",
    "<p>In the game, <i>Monopoly</i>, the standard board is set up in the following way:</p>\n",
    "<div style=\"text-align:center;\">\n",
    "<table align=\"center\" border=\"0\" cellpadding=\"5\" cellspacing=\"1\" style=\"background-color:#333333;color:#333;\"><tr><td style=\"background-color:#ffffff;\">GO</td>\n",
    "<td style=\"background-color:#ffffff;\">A1</td>\n",
    "<td style=\"background-color:#ffffff;\">CC1</td>\n",
    "<td style=\"background-color:#ffffff;\">A2</td>\n",
    "<td style=\"background-color:#ffffff;\">T1</td>\n",
    "<td style=\"background-color:#ffffff;\">R1</td>\n",
    "<td style=\"background-color:#ffffff;\">B1</td>\n",
    "<td style=\"background-color:#ffffff;\">CH1</td>\n",
    "<td style=\"background-color:#ffffff;\">B2</td>\n",
    "<td style=\"background-color:#ffffff;\">B3</td>\n",
    "<td style=\"background-color:#ffffff;\">JAIL</td>\n",
    "</tr><tr><td style=\"background-color:#ffffff;\">H2</td>\n",
    "<td colspan=\"9\"> </td>\n",
    "<td style=\"background-color:#ffffff;\">C1</td>\n",
    "</tr><tr><td style=\"background-color:#ffffff;\">T2</td>\n",
    "<td colspan=\"9\"> </td>\n",
    "<td style=\"background-color:#ffffff;\">U1</td>\n",
    "</tr><tr><td style=\"background-color:#ffffff;\">H1</td>\n",
    "<td colspan=\"9\"> </td>\n",
    "<td style=\"background-color:#ffffff;\">C2</td>\n",
    "</tr><tr><td style=\"background-color:#ffffff;\">CH3</td>\n",
    "<td colspan=\"9\"> </td>\n",
    "<td style=\"background-color:#ffffff;\">C3</td>\n",
    "</tr><tr><td style=\"background-color:#ffffff;\">R4</td>\n",
    "<td colspan=\"9\"> </td>\n",
    "<td style=\"background-color:#ffffff;\">R2</td>\n",
    "</tr><tr><td style=\"background-color:#ffffff;\">G3</td>\n",
    "<td colspan=\"9\"> </td>\n",
    "<td style=\"background-color:#ffffff;\">D1</td>\n",
    "</tr><tr><td style=\"background-color:#ffffff;\">CC3</td>\n",
    "<td colspan=\"9\"> </td>\n",
    "<td style=\"background-color:#ffffff;\">CC2</td>\n",
    "</tr><tr><td style=\"background-color:#ffffff;\">G2</td>\n",
    "<td colspan=\"9\"> </td>\n",
    "<td style=\"background-color:#ffffff;\">D2</td>\n",
    "</tr><tr><td style=\"background-color:#ffffff;\">G1</td>\n",
    "<td colspan=\"9\"> </td>\n",
    "<td style=\"background-color:#ffffff;\">D3</td>\n",
    "</tr><tr><td style=\"background-color:#ffffff;\">G2J</td>\n",
    "<td style=\"background-color:#ffffff;\">F3</td>\n",
    "<td style=\"background-color:#ffffff;\">U2</td>\n",
    "<td style=\"background-color:#ffffff;\">F2</td>\n",
    "<td style=\"background-color:#ffffff;\">F1</td>\n",
    "<td style=\"background-color:#ffffff;\">R3</td>\n",
    "<td style=\"background-color:#ffffff;\">E3</td>\n",
    "<td style=\"background-color:#ffffff;\">E2</td>\n",
    "<td style=\"background-color:#ffffff;\">CH2</td>\n",
    "<td style=\"background-color:#ffffff;\">E1</td>\n",
    "<td style=\"background-color:#ffffff;\">FP</td>\n",
    "</tr></table></div>\n",
    "<p>A player starts on the GO square and adds the scores on two 6-sided dice to determine the number of squares they advance in a clockwise direction. Without any further rules we would expect to visit each square with equal probability: 2.5%. However, landing on G2J (Go To Jail), CC (community chest), and CH (chance) changes this distribution.</p>\n",
    "<p>In addition to G2J, and one card from each of CC and CH, that orders the player to go directly to jail, if a player rolls three consecutive doubles, they do not advance the result of their 3rd roll. Instead they proceed directly to jail.</p>\n",
    "<p>At the beginning of the game, the CC and CH cards are shuffled. When a player lands on CC or CH they take a card from the top of the respective pile and, after following the instructions, it is returned to the bottom of the pile. There are sixteen cards in each pile, but for the purpose of this problem we are only concerned with cards that order a movement; any instruction not concerned with movement will be ignored and the player will remain on the CC/CH square.</p>\n",
    "<ul><li>Community Chest (2/16 cards):\n",
    "<ol><li>Advance to GO</li>\n",
    "<li>Go to JAIL</li>\n",
    "</ol></li>\n",
    "<li>Chance (10/16 cards):\n",
    "<ol><li>Advance to GO</li>\n",
    "<li>Go to JAIL</li>\n",
    "<li>Go to C1</li>\n",
    "<li>Go to E3</li>\n",
    "<li>Go to H2</li>\n",
    "<li>Go to R1</li>\n",
    "<li>Go to next R (railway company)</li>\n",
    "<li>Go to next R</li>\n",
    "<li>Go to next U (utility company)</li>\n",
    "<li>Go back 3 squares.</li>\n",
    "</ol></li>\n",
    "</ul><p>The heart of this problem concerns the likelihood of visiting a particular square. That is, the probability of finishing at that square after a roll. For this reason it should be clear that, with the exception of G2J for which the probability of finishing on it is zero, the CH squares will have the lowest probabilities, as 5/8 request a movement to another square, and it is the final square that the player finishes at on each roll that we are interested in. We shall make no distinction between \"Just Visiting\" and being sent to JAIL, and we shall also ignore the rule about requiring a double to \"get out of jail\", assuming that they pay to get out on their next turn.</p>\n",
    "<p>By starting at GO and numbering the squares sequentially from 00 to 39 we can concatenate these two-digit numbers to produce strings that correspond with sets of squares.</p>\n",
    "<p>Statistically it can be shown that the three most popular squares, in order, are JAIL (6.24%) = Square 10, E3 (3.18%) = Square 24, and GO (3.09%) = Square 00. So these three most popular squares can be listed with the six-digit modal string: 102400.</p>\n",
    "<p>If, instead of using two 6-sided dice, two 4-sided dice are used, find the six-digit modal string.</p>\n",
    "</div>"
   ]
  },
  {
   "cell_type": "code",
   "execution_count": null,
   "metadata": {},
   "outputs": [],
   "source": []
  },
  {
   "cell_type": "markdown",
   "metadata": {},
   "source": [
    "### 85. Counting rectangles\n",
    "#### ([Back to Top](#Table-of-Contents)) ([Webpage](https://projecteuler.net/problem=85))<div class=\"problem_content\" role=\"problem\">\n",
    "<p>By counting carefully it can be seen that a rectangular grid measuring 3 by 2 contains eighteen rectangles:</p>\n",
    "<div style=\"text-align:center;\">\n",
    "<img alt=\"\" class=\"dark_img\" src=\"project/images/p085.png\"/></div>\n",
    "<p>Although there exists no rectangular grid that contains exactly two million rectangles, find the area of the grid with the nearest solution.</p>\n",
    "</div>"
   ]
  },
  {
   "cell_type": "code",
   "execution_count": null,
   "metadata": {},
   "outputs": [],
   "source": []
  },
  {
   "cell_type": "markdown",
   "metadata": {},
   "source": [
    "### 86. Cuboid route\n",
    "#### ([Back to Top](#Table-of-Contents)) ([Webpage](https://projecteuler.net/problem=86))<div class=\"problem_content\" role=\"problem\">\n",
    "<p>A spider, S, sits in one corner of a cuboid room, measuring 6 by 5 by 3, and a fly, F, sits in the opposite corner. By travelling on the surfaces of the room the shortest \"straight line\" distance from S to F is 10 and the path is shown on the diagram.</p>\n",
    "<div style=\"text-align:center;\">\n",
    "<img alt=\"\" class=\"dark_img\" src=\"project/images/p086.png\"/><br/></div>\n",
    "<p>However, there are up to three \"shortest\" path candidates for any given cuboid and the shortest route doesn't always have integer length.</p>\n",
    "<p>It can be shown that there are exactly 2060 distinct cuboids, ignoring rotations, with integer dimensions, up to a maximum size of M by M by M, for which the shortest route has integer length when M = 100. This is the least value of M for which the number of solutions first exceeds two thousand; the number of solutions when M = 99 is 1975.</p>\n",
    "<p>Find the least value of M such that the number of solutions first exceeds one million.</p>\n",
    "</div>"
   ]
  },
  {
   "cell_type": "code",
   "execution_count": null,
   "metadata": {},
   "outputs": [],
   "source": []
  },
  {
   "cell_type": "markdown",
   "metadata": {},
   "source": [
    "### 87. Prime power triples\n",
    "#### ([Back to Top](#Table-of-Contents)) ([Webpage](https://projecteuler.net/problem=87))<div class=\"problem_content\" role=\"problem\">\n",
    "<p>The smallest number expressible as the sum of a prime square, prime cube, and prime fourth power is 28. In fact, there are exactly four numbers below fifty that can be expressed in such a way:</p>\n",
    "<p style=\"margin-left:50px;\">28 = 2<sup>2</sup> + 2<sup>3</sup> + 2<sup>4</sup><br>\n",
    "33 = 3<sup>2</sup> + 2<sup>3</sup> + 2<sup>4</sup><br/>\n",
    "49 = 5<sup>2</sup> + 2<sup>3</sup> + 2<sup>4</sup><br/>\n",
    "47 = 2<sup>2</sup> + 3<sup>3</sup> + 2<sup>4</sup></br></p>\n",
    "<p>How many numbers below fifty million can be expressed as the sum of a prime square, prime cube, and prime fourth power?</p>\n",
    "</div>"
   ]
  },
  {
   "cell_type": "code",
   "execution_count": null,
   "metadata": {},
   "outputs": [],
   "source": []
  },
  {
   "cell_type": "markdown",
   "metadata": {},
   "source": [
    "### 88. Product-sum numbers\n",
    "#### ([Back to Top](#Table-of-Contents)) ([Webpage](https://projecteuler.net/problem=88))<div class=\"problem_content\" role=\"problem\">\n",
    "<p>A natural number, N, that can be written as the sum and product of a given set of at least two natural numbers, {<i>a</i><sub>1</sub>, <i>a</i><sub>2</sub>, ... , <i>a</i><sub><i>k</i></sub>} is called a product-sum number: N = <i>a</i><sub>1</sub> + <i>a</i><sub>2</sub> + ... + <i>a</i><sub><i>k</i></sub> = <i>a</i><sub>1</sub> × <i>a</i><sub>2</sub> × ... × <i>a</i><sub><i>k</i></sub>.</p>\n",
    "<p>For example, 6 = 1 + 2 + 3 = 1 × 2 × 3.</p>\n",
    "<p>For a given set of size, <i>k</i>, we shall call the smallest N with this property a minimal product-sum number. The minimal product-sum numbers for sets of size, <i>k</i> = 2, 3, 4, 5, and 6 are as follows.</p>\n",
    "<p style=\"margin-left:50px;\"><i>k</i>=2: 4 = 2 × 2 = 2 + 2<br><i>k</i>=3: 6 = 1 × 2 × 3 = 1 + 2 + 3<br/><i>k</i>=4: 8 = 1 × 1 × 2 × 4 = 1 + 1 + 2 + 4<br/><i>k</i>=5: 8 = 1 × 1 × 2 × 2 × 2  = 1 + 1 + 2 + 2 + 2<br/><i>k</i>=6: 12 = 1 × 1 × 1 × 1 × 2 × 6 = 1 + 1 + 1 + 1 + 2 + 6</br></p>\n",
    "<p>Hence for 2≤<i>k</i>≤6, the sum of all the minimal product-sum numbers is 4+6+8+12 = 30; note that 8 is only counted once in the sum.</p>\n",
    "<p>In fact, as the complete set of minimal product-sum numbers for 2≤<i>k</i>≤12 is {4, 6, 8, 12, 15, 16}, the sum is 61.</p>\n",
    "<p>What is the sum of all the minimal product-sum numbers for 2≤<i>k</i>≤12000?</p>\n",
    "</div>"
   ]
  },
  {
   "cell_type": "code",
   "execution_count": null,
   "metadata": {},
   "outputs": [],
   "source": []
  },
  {
   "cell_type": "markdown",
   "metadata": {},
   "source": [
    "### 89. Roman numerals\n",
    "#### ([Back to Top](#Table-of-Contents)) ([Webpage](https://projecteuler.net/problem=89))<div class=\"problem_content\" role=\"problem\">\n",
    "<p>For a number written in Roman numerals to be considered valid there are basic rules which must be followed. Even though the rules allow some numbers to be expressed in more than one way there is always a \"best\" way of writing a particular number.</p>\n",
    "<p>For example, it would appear that there are at least six ways of writing the number sixteen:</p>\n",
    "<p style=\"margin-left:50px;font-family:'courier new', monospace;\">IIIIIIIIIIIIIIII<br>\n",
    "VIIIIIIIIIII<br/>\n",
    "VVIIIIII<br/>\n",
    "XIIIIII<br/>\n",
    "VVVI<br/>\n",
    "XVI</br></p>\n",
    "<p>However, according to the rules only <span style=\"font-family:'courier new', monospace;\">XIIIIII</span> and <span style=\"font-family:'courier new', monospace;\">XVI</span> are valid, and the last example is considered to be the most efficient, as it uses the least number of numerals.</p>\n",
    "<p>The 11K text file, <a href=\"project/resources/p089_roman.txt\">roman.txt</a> (right click and 'Save Link/Target As...'), contains one thousand numbers written in valid, but not necessarily minimal, Roman numerals; see <a href=\"about=roman_numerals\">About... Roman Numerals</a> for the definitive rules for this problem.</p>\n",
    "<p>Find the number of characters saved by writing each of these in their minimal form.</p>\n",
    "<p class=\"note\">Note: You can assume that all the Roman numerals in the file contain no more than four consecutive identical units.</p>\n",
    "</div>"
   ]
  },
  {
   "cell_type": "code",
   "execution_count": null,
   "metadata": {},
   "outputs": [],
   "source": []
  },
  {
   "cell_type": "markdown",
   "metadata": {},
   "source": [
    "### 90. Cube digit pairs\n",
    "#### ([Back to Top](#Table-of-Contents)) ([Webpage](https://projecteuler.net/problem=90))<div class=\"problem_content\" role=\"problem\">\n",
    "<p>Each of the six faces on a cube has a different digit (0 to 9) written on it; the same is done to a second cube. By placing the two cubes side-by-side in different positions we can form a variety of 2-digit numbers.</p>\n",
    "<p>For example, the square number 64 could be formed:</p>\n",
    "<div style=\"text-align:center;\">\n",
    "<img alt=\"\" class=\"dark_img\" src=\"project/images/p090.png\"/><br/></div>\n",
    "<p>In fact, by carefully choosing the digits on both cubes it is possible to display all of the square numbers below one-hundred: 01, 04, 09, 16, 25, 36, 49, 64, and 81.</p>\n",
    "<p>For example, one way this can be achieved is by placing {0, 5, 6, 7, 8, 9} on one cube and {1, 2, 3, 4, 8, 9} on the other cube.</p>\n",
    "<p>However, for this problem we shall allow the 6 or 9 to be turned upside-down so that an arrangement like {0, 5, 6, 7, 8, 9} and {1, 2, 3, 4, 6, 7} allows for all nine square numbers to be displayed; otherwise it would be impossible to obtain 09.</p>\n",
    "<p>In determining a distinct arrangement we are interested in the digits on each cube, not the order.</p>\n",
    "<p style=\"margin-left:50px;\">{1, 2, 3, 4, 5, 6} is equivalent to {3, 6, 4, 1, 2, 5}<br/>\n",
    "{1, 2, 3, 4, 5, 6} is distinct from {1, 2, 3, 4, 5, 9}</p>\n",
    "<p>But because we are allowing 6 and 9 to be reversed, the two distinct sets in the last example both represent the extended set {1, 2, 3, 4, 5, 6, 9} for the purpose of forming 2-digit numbers.</p>\n",
    "<p>How many distinct arrangements of the two cubes allow for all of the square numbers to be displayed?</p>\n",
    "</div>"
   ]
  },
  {
   "cell_type": "code",
   "execution_count": null,
   "metadata": {},
   "outputs": [],
   "source": []
  },
  {
   "cell_type": "markdown",
   "metadata": {},
   "source": [
    "### 91. Right triangles with integer coordinates\n",
    "#### ([Back to Top](#Table-of-Contents)) ([Webpage](https://projecteuler.net/problem=91))<div class=\"problem_content\" role=\"problem\">\n",
    "<p>The points P (<i>x</i><sub>1</sub>, <i>y</i><sub>1</sub>) and Q (<i>x</i><sub>2</sub>, <i>y</i><sub>2</sub>) are plotted at integer co-ordinates and are joined to the origin, O(0,0), to form ΔOPQ.</p>\n",
    "<div style=\"text-align:center;\">\n",
    "<img alt=\"\" class=\"dark_img\" src=\"project/images/p091_1.png\"/><br/></div>\n",
    "<p>There are exactly fourteen triangles containing a right angle that can be formed when each co-ordinate lies between 0 and 2 inclusive; that is,<br/>0 ≤ <i>x</i><sub>1</sub>, <i>y</i><sub>1</sub>, <i>x</i><sub>2</sub>, <i>y</i><sub>2</sub> ≤ 2.</p>\n",
    "<div style=\"text-align:center;\">\n",
    "<img alt=\"\" src=\"project/images/p091_2.png\"/><br/></div>\n",
    "<p>Given that 0 ≤ <i>x</i><sub>1</sub>, <i>y</i><sub>1</sub>, <i>x</i><sub>2</sub>, <i>y</i><sub>2</sub> ≤ 50, how many right triangles can be formed?</p>\n",
    "</div>"
   ]
  },
  {
   "cell_type": "code",
   "execution_count": null,
   "metadata": {},
   "outputs": [],
   "source": []
  },
  {
   "cell_type": "markdown",
   "metadata": {},
   "source": [
    "### 92. Square digit chains\n",
    "#### ([Back to Top](#Table-of-Contents)) ([Webpage](https://projecteuler.net/problem=92))<div class=\"problem_content\" role=\"problem\">\n",
    "<p>A number chain is created by continuously adding the square of the digits in a number to form a new number until it has been seen before.</p>\n",
    "<p>For example,</p>\n",
    "<p style=\"margin-left:50px;\">44 → 32 → 13 → 10 → <b>1</b> → <b>1</b><br>\n",
    "85 → <b>89</b> → 145 → 42 → 20 → 4 → 16 → 37 → 58 → <b>89</b></br></p>\n",
    "<p>Therefore any chain that arrives at 1 or 89 will become stuck in an endless loop. What is most amazing is that EVERY starting number will eventually arrive at 1 or 89.</p>\n",
    "<p>How many starting numbers below ten million will arrive at 89?</p>\n",
    "</div>"
   ]
  },
  {
   "cell_type": "code",
   "execution_count": null,
   "metadata": {},
   "outputs": [],
   "source": []
  },
  {
   "cell_type": "markdown",
   "metadata": {},
   "source": [
    "### 93. Arithmetic expressions\n",
    "#### ([Back to Top](#Table-of-Contents)) ([Webpage](https://projecteuler.net/problem=93))<div class=\"problem_content\" role=\"problem\">\n",
    "<p>By using each of the digits from the set, {1, 2, 3, 4}, exactly once, and making use of the four arithmetic operations (+, −, *, /) and brackets/parentheses, it is possible to form different positive integer targets.</p>\n",
    "<p>For example,</p>\n",
    "<p style=\"margin-left:50px;font-family:'courier new';\">8 = (4 * (1 + 3)) / 2<br>\n",
    "14 = 4 * (3 + 1 / 2)<br/>\n",
    "19 = 4 * (2 + 3) − 1<br/>\n",
    "36 = 3 * 4 * (2 + 1)</br></p>\n",
    "<p>Note that concatenations of the digits, like 12 + 34, are not allowed.</p>\n",
    "<p>Using the set, {1, 2, 3, 4}, it is possible to obtain thirty-one different target numbers of which 36 is the maximum, and each of the numbers 1 to 28 can be obtained before encountering the first non-expressible number.</p>\n",
    "<p>Find the set of four distinct digits, <i>a</i> &lt; <i>b</i> &lt; <i>c</i> &lt; <i>d</i>, for which the longest set of consecutive positive integers, 1 to <i>n</i>, can be obtained, giving your answer as a string: <i>abcd</i>.</p>\n",
    "</div>"
   ]
  },
  {
   "cell_type": "code",
   "execution_count": null,
   "metadata": {},
   "outputs": [],
   "source": []
  },
  {
   "cell_type": "markdown",
   "metadata": {},
   "source": [
    "### 94. Almost equilateral triangles\n",
    "#### ([Back to Top](#Table-of-Contents)) ([Webpage](https://projecteuler.net/problem=94))<div class=\"problem_content\" role=\"problem\">\n",
    "<p>It is easily proved that no equilateral triangle exists with integral length sides and integral area. However, the <i>almost equilateral triangle</i> 5-5-6 has an area of 12 square units.</p>\n",
    "<p>We shall define an <i>almost equilateral triangle</i> to be a triangle for which two sides are equal and the third differs by no more than one unit.</p>\n",
    "<p>Find the sum of the perimeters of all <i>almost equilateral triangles</i> with integral side lengths and area and whose perimeters do not exceed one billion (1,000,000,000).</p>\n",
    "</div>"
   ]
  },
  {
   "cell_type": "code",
   "execution_count": null,
   "metadata": {},
   "outputs": [],
   "source": []
  },
  {
   "cell_type": "markdown",
   "metadata": {},
   "source": [
    "### 95. Amicable chains\n",
    "#### ([Back to Top](#Table-of-Contents)) ([Webpage](https://projecteuler.net/problem=95))<div class=\"problem_content\" role=\"problem\">\n",
    "<p>The proper divisors of a number are all the divisors excluding the number itself. For example, the proper divisors of 28 are 1, 2, 4, 7, and 14. As the sum of these divisors is equal to 28, we call it a perfect number.</p>\n",
    "<p>Interestingly the sum of the proper divisors of 220 is 284 and the sum of the proper divisors of 284 is 220, forming a chain of two numbers. For this reason, 220 and 284 are called an amicable pair.</p>\n",
    "<p>Perhaps less well known are longer chains. For example, starting with 12496, we form a chain of five numbers:</p>\n",
    "<p style=\"text-align:center;\">12496 → 14288 → 15472 → 14536 → 14264 (→ 12496 → ...)</p>\n",
    "<p>Since this chain returns to its starting point, it is called an amicable chain.</p>\n",
    "<p>Find the smallest member of the longest amicable chain with no element exceeding one million.</p>\n",
    "</div>"
   ]
  },
  {
   "cell_type": "code",
   "execution_count": null,
   "metadata": {},
   "outputs": [],
   "source": []
  },
  {
   "cell_type": "markdown",
   "metadata": {},
   "source": [
    "### 96. Su Doku\n",
    "#### ([Back to Top](#Table-of-Contents)) ([Webpage](https://projecteuler.net/problem=96))<div class=\"problem_content\" role=\"problem\">\n",
    "<p>Su Doku (Japanese meaning <i>number place</i>) is the name given to a popular puzzle concept. Its origin is unclear, but credit must be attributed to Leonhard Euler who invented a similar, and much more difficult, puzzle idea called Latin Squares. The objective of Su Doku puzzles, however, is to replace the blanks (or zeros) in a 9 by 9 grid in such that each row, column, and 3 by 3 box contains each of the digits 1 to 9. Below is an example of a typical starting puzzle grid and its solution grid.</p>\n",
    "<div style=\"text-align:center;\">\n",
    "<table align=\"center\" border=\"0\" cellpadding=\"0\" cellspacing=\"0\"><tr><td>\n",
    "<table border=\"1\" cellpadding=\"5\" cellspacing=\"0\"><tr><td style=\"font-family:'courier new';font-size:14pt;\">0 0 3<br>9 0 0<br/>0 0 1</br></td>\n",
    "<td style=\"font-family:'courier new';font-size:14pt;\">0 2 0<br/>3 0 5<br/>8 0 6</td>\n",
    "<td style=\"font-family:'courier new';font-size:14pt;\">6 0 0<br/>0 0 1<br/>4 0 0</td>\n",
    "</tr><tr><td style=\"font-family:'courier new';font-size:14pt;\">0 0 8<br/>7 0 0<br/>0 0 6</td>\n",
    "<td style=\"font-family:'courier new';font-size:14pt;\">1 0 2<br/>0 0 0<br/>7 0 8</td>\n",
    "<td style=\"font-family:'courier new';font-size:14pt;\">9 0 0<br/>0 0 8<br/>2 0 0</td>\n",
    "</tr><tr><td style=\"font-family:'courier new';font-size:14pt;\">0 0 2<br/>8 0 0<br/>0 0 5</td>\n",
    "<td style=\"font-family:'courier new';font-size:14pt;\">6 0 9<br/>2 0 3<br/>0 1 0</td>\n",
    "<td style=\"font-family:'courier new';font-size:14pt;\">5 0 0<br/>0 0 9<br/>3 0 0</td>\n",
    "</tr></table></td>\n",
    "<td width=\"50\"><img alt=\"\" height=\"1\" src=\"images/spacer.gif\" width=\"50\"/><br/></td>\n",
    "<td>\n",
    "<table border=\"1\" cellpadding=\"5\" cellspacing=\"0\"><tr><td style=\"font-family:'courier new';font-size:14pt;\">4 8 3<br/>9 6 7<br/>2 5 1</td>\n",
    "<td style=\"font-family:'courier new';font-size:14pt;\">9 2 1<br/>3 4 5<br/>8 7 6</td>\n",
    "<td style=\"font-family:'courier new';font-size:14pt;\">6 5 7<br/>8 2 1<br/>4 9 3</td>\n",
    "</tr><tr><td style=\"font-family:'courier new';font-size:14pt;\">5 4 8<br/>7 2 9<br/>1 3 6</td>\n",
    "<td style=\"font-family:'courier new';font-size:14pt;\">1 3 2<br/>5 6 4<br/>7 9 8</td>\n",
    "<td style=\"font-family:'courier new';font-size:14pt;\">9 7 6<br/>1 3 8<br/>2 4 5</td>\n",
    "</tr><tr><td style=\"font-family:'courier new';font-size:14pt;\">3 7 2<br/>8 1 4<br/>6 9 5</td>\n",
    "<td style=\"font-family:'courier new';font-size:14pt;\">6 8 9<br/>2 5 3<br/>4 1 7</td>\n",
    "<td style=\"font-family:'courier new';font-size:14pt;\">5 1 4<br/>7 6 9<br/>3 8 2</td>\n",
    "</tr></table></td>\n",
    "</tr></table></div>\n",
    "<p>A well constructed Su Doku puzzle has a unique solution and can be solved by logic, although it may be necessary to employ \"guess and test\" methods in order to eliminate options (there is much contested opinion over this). The complexity of the search determines the difficulty of the puzzle; the example above is considered <i>easy</i> because it can be solved by straight forward direct deduction.</p>\n",
    "<p>The 6K text file, <a href=\"project/resources/p096_sudoku.txt\">sudoku.txt</a> (right click and 'Save Link/Target As...'), contains fifty different Su Doku puzzles ranging in difficulty, but all with unique solutions (the first puzzle in the file is the example above).</p>\n",
    "<p>By solving all fifty puzzles find the sum of the 3-digit numbers found in the top left corner of each solution grid; for example, 483 is the 3-digit number found in the top left corner of the solution grid above.</p>\n",
    "</div>"
   ]
  },
  {
   "cell_type": "code",
   "execution_count": null,
   "metadata": {},
   "outputs": [],
   "source": []
  },
  {
   "cell_type": "markdown",
   "metadata": {},
   "source": [
    "### 97. Large non-Mersenne prime\n",
    "#### ([Back to Top](#Table-of-Contents)) ([Webpage](https://projecteuler.net/problem=97))<div class=\"problem_content\" role=\"problem\">\n",
    "<p>The first known prime found to exceed one million digits was discovered in 1999, and is a Mersenne prime of the form 2<sup>6972593</sup>−1; it contains exactly 2,098,960 digits. Subsequently other Mersenne primes, of the form 2<sup><i>p</i></sup>−1, have been found which contain more digits.</p>\n",
    "<p>However, in 2004 there was found a massive non-Mersenne prime which contains 2,357,207 digits: 28433×2<sup>7830457</sup>+1.</p>\n",
    "<p>Find the last ten digits of this prime number.</p>\n",
    "</div>"
   ]
  },
  {
   "cell_type": "code",
   "execution_count": null,
   "metadata": {},
   "outputs": [],
   "source": []
  },
  {
   "cell_type": "markdown",
   "metadata": {},
   "source": [
    "### 98. Anagramic squares\n",
    "#### ([Back to Top](#Table-of-Contents)) ([Webpage](https://projecteuler.net/problem=98))<div class=\"problem_content\" role=\"problem\">\n",
    "<p>By replacing each of the letters in the word CARE with 1, 2, 9, and 6 respectively, we form a square number: 1296 = 36<sup>2</sup>. What is remarkable is that, by using the same digital substitutions, the anagram, RACE, also forms a square number: 9216 = 96<sup>2</sup>. We shall call CARE (and RACE) a square anagram word pair and specify further that leading zeroes are not permitted, neither may a different letter have the same digital value as another letter.</p>\n",
    "<p>Using <a href=\"project/resources/p098_words.txt\">words.txt</a> (right click and 'Save Link/Target As...'), a 16K text file containing nearly two-thousand common English words, find all the square anagram word pairs (a palindromic word is NOT considered to be an anagram of itself).</p>\n",
    "<p>What is the largest square number formed by any member of such a pair?</p>\n",
    "<p class=\"info\">NOTE: All anagrams formed must be contained in the given text file.</p>\n",
    "</div>"
   ]
  },
  {
   "cell_type": "code",
   "execution_count": null,
   "metadata": {},
   "outputs": [],
   "source": []
  },
  {
   "cell_type": "markdown",
   "metadata": {},
   "source": [
    "### 99. Largest exponential\n",
    "#### ([Back to Top](#Table-of-Contents)) ([Webpage](https://projecteuler.net/problem=99))<div class=\"problem_content\" role=\"problem\">\n",
    "<p>Comparing two numbers written in index form like 2<sup>11</sup> and 3<sup>7</sup> is not difficult, as any calculator would confirm that 2<sup>11</sup> = 2048 &lt; 3<sup>7</sup> = 2187.</p>\n",
    "<p>However, confirming that 632382<sup>518061</sup> &gt; 519432<sup>525806</sup> would be much more difficult, as both numbers contain over three million digits.</p>\n",
    "<p>Using <a href=\"project/resources/p099_base_exp.txt\">base_exp.txt</a> (right click and 'Save Link/Target As...'), a 22K text file containing one thousand lines with a base/exponent pair on each line, determine which line number has the greatest numerical value.</p>\n",
    "<p class=\"info\">NOTE: The first two lines in the file represent the numbers in the example given above.</p>\n",
    "</div>"
   ]
  },
  {
   "cell_type": "code",
   "execution_count": null,
   "metadata": {},
   "outputs": [],
   "source": []
  },
  {
   "cell_type": "markdown",
   "metadata": {},
   "source": [
    "### 100. Arranged probability\n",
    "#### ([Back to Top](#Table-of-Contents)) ([Webpage](https://projecteuler.net/problem=100))<div class=\"problem_content\" role=\"problem\">\n",
    "<p>If a box contains twenty-one coloured discs, composed of fifteen blue discs and six red discs, and two discs were taken at random, it can be seen that the probability of taking two blue discs, P(BB) = (15/21)×(14/20) = 1/2.</p>\n",
    "<p>The next such arrangement, for which there is exactly 50% chance of taking two blue discs at random, is a box containing eighty-five blue discs and thirty-five red discs.</p>\n",
    "<p>By finding the first arrangement to contain over 10<sup>12</sup> = 1,000,000,000,000 discs in total, determine the number of blue discs that the box would contain.</p>\n",
    "</div>"
   ]
  },
  {
   "cell_type": "code",
   "execution_count": null,
   "metadata": {},
   "outputs": [],
   "source": []
  }
 ],
 "metadata": {
  "kernelspec": {
   "display_name": "Python 3",
   "language": "python",
   "name": "python3"
  },
  "language_info": {
   "codemirror_mode": {
    "name": "ipython",
    "version": 3
   },
   "file_extension": ".py",
   "mimetype": "text/x-python",
   "name": "python",
   "nbconvert_exporter": "python",
   "pygments_lexer": "ipython3",
   "version": "3.6.8"
  }
 },
 "nbformat": 4,
 "nbformat_minor": 2
}
