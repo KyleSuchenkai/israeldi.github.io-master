{
 "cells": [
  {
   "cell_type": "markdown",
   "metadata": {},
   "source": [
    "# Project Euler Notebook Generator"
   ]
  },
  {
   "cell_type": "code",
   "execution_count": 109,
   "metadata": {},
   "outputs": [],
   "source": [
    "import urllib.request\n",
    "from bs4 import BeautifulSoup\n",
    "from IPython.display import display, Markdown, Latex, HTML\n",
    "import nbformat as nb"
   ]
  },
  {
   "cell_type": "code",
   "execution_count": 151,
   "metadata": {},
   "outputs": [],
   "source": [
    "import os\n",
    "from base64 import encodestring\n",
    "\n",
    "from IPython.nbformat.v4.nbbase import (\n",
    "    new_code_cell, new_markdown_cell, new_notebook,\n",
    "    new_output, new_raw_cell\n",
    ")\n",
    "\n",
    "# Initial problem number\n",
    "num = 300\n",
    "num_notebooks = 3\n",
    "\n",
    "for _ in range(num_notebooks):\n",
    "    init_num = num + 1\n",
    "    toc = ['# Project Euler: ' + str(init_num) + '-' + str(init_num + 49) + '\\n',\n",
    "           '### Israel Diego [(Go to Home Page)](https://israeldi.github.io/project-euler/)', \n",
    "           '\\n What follows are Python-based solutions to <a href=\\\"https://projecteuler.net\\\">Project Euler</a> problems. ',\n",
    "           'In writing the code, I have aimed for a balance between readability and being concise, for which Python is ',\n",
    "           'well-suited. Efficiency is only considered if necessary to get reasonable runtime. To check your answers, ',\n",
    "           'create an account on Project Euler, where you can submit answers for validation and track your progress.']\n",
    "    toc = str(''.join(toc))\n",
    "    toc = toc + \"\\n ## Table of Contents\"\n",
    "\n",
    "    cells = []\n",
    "    for num in range(init_num, init_num + 50):\n",
    "        # Extract problem from project euler page\n",
    "        response = urllib.request.urlopen('https://projecteuler.net/problem=' + str(num))\n",
    "        parsed = BeautifulSoup(response, 'html.parser')\n",
    "        title = parsed.h2.string\n",
    "        problem = str(parsed.find('div', {'class': 'problem_content'}))\n",
    "        \n",
    "        # Check if title is NoneType\n",
    "        if title is None:\n",
    "            title = ''\n",
    "            toc = toc + '\\n ' + str(num % 50) + '. [' + str(num) + '.](#' + str(num) + '.)'\n",
    "        else:\n",
    "            # Update toc\n",
    "            toc = toc + '\\n ' + str(num % 50) + '. [' + str(num) + '. ' + title + '](#' + str(num) + '.-' + title.replace(' ', '-') + ')'\n",
    "\n",
    "        # create new markdown cell\n",
    "        cells.append(new_markdown_cell(\n",
    "            source=('### ' + str(num) + '. ' + title)\n",
    "                     + '\\n#### ([Back to Top](#Table-of-Contents)) ([Webpage](https://projecteuler.net/problem='+str(num)+'))'\n",
    "                     + str(problem),\n",
    "        ))\n",
    "\n",
    "        cells.append(new_code_cell(\n",
    "        source='',\n",
    "        ))\n",
    "\n",
    "    # Insert our finished Toc\n",
    "    cells.insert(0, new_markdown_cell(\n",
    "        source=toc,\n",
    "    ))\n",
    "\n",
    "    nb0 = new_notebook(cells=cells,\n",
    "        metadata={\n",
    "            'language': 'python',\n",
    "        }\n",
    "    )\n",
    "\n",
    "    import nbformat as nbf\n",
    "    import codecs\n",
    "    f = codecs.open('projecteuler-' + str(init_num) + '-' + str(init_num + 49) + '.ipynb', encoding='utf-8', mode='w')\n",
    "    nbf.write(nb0, f, 4)\n",
    "    f.close()"
   ]
  },
  {
   "cell_type": "code",
   "execution_count": null,
   "metadata": {},
   "outputs": [],
   "source": []
  }
 ],
 "metadata": {
  "kernelspec": {
   "display_name": "Python 3",
   "language": "python",
   "name": "python3"
  },
  "language_info": {
   "codemirror_mode": {
    "name": "ipython",
    "version": 3
   },
   "file_extension": ".py",
   "mimetype": "text/x-python",
   "name": "python",
   "nbconvert_exporter": "python",
   "pygments_lexer": "ipython3",
   "version": "3.6.8"
  }
 },
 "nbformat": 4,
 "nbformat_minor": 1
}
