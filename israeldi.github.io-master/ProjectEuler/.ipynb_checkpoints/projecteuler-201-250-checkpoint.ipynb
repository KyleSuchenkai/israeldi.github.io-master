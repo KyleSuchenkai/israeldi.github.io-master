{
 "cells": [
  {
   "cell_type": "markdown",
   "metadata": {},
   "source": [
    "# Project Euler: 201-250\n",
    "### Israel Diego [(Go to Home Page)](https://israeldi.github.io/project-euler/)\n",
    " What follows are Python-based solutions to <a href=\"https://projecteuler.net\">Project Euler</a> problems. In writing the code, I have aimed for a balance between readability and being concise, for which Python is well-suited. Efficiency is only considered if necessary to get reasonable runtime. To check your answers, create an account on Project Euler, where you can submit answers for validation and track your progress.\n",
    " ## Table of Contents\n",
    " 1. [201. Subsets with a unique sum](#201.-Subsets-with-a-unique-sum)\n",
    " 2. [202. Laserbeam](#202.-Laserbeam)\n",
    " 3. [203. Squarefree Binomial Coefficients](#203.-Squarefree-Binomial-Coefficients)\n",
    " 4. [204. Generalised Hamming Numbers](#204.-Generalised-Hamming-Numbers)\n",
    " 5. [205. Dice Game](#205.-Dice-Game)\n",
    " 6. [206. Concealed Square](#206.-Concealed-Square)\n",
    " 7. [207. Integer partition equations](#207.-Integer-partition-equations)\n",
    " 8. [208. Robot Walks](#208.-Robot-Walks)\n",
    " 9. [209. Circular Logic](#209.-Circular-Logic)\n",
    " 10. [210. Obtuse Angled Triangles](#210.-Obtuse-Angled-Triangles)\n",
    " 11. [211. Divisor Square Sum](#211.-Divisor-Square-Sum)\n",
    " 12. [212. Combined Volume of Cuboids](#212.-Combined-Volume-of-Cuboids)\n",
    " 13. [213. Flea Circus](#213.-Flea-Circus)\n",
    " 14. [214. Totient Chains](#214.-Totient-Chains)\n",
    " 15. [215. Crack-free Walls](#215.-Crack-free-Walls)\n",
    " 16. [216.](#216.)\n",
    " 17. [217. Balanced Numbers](#217.-Balanced-Numbers)\n",
    " 18. [218. Perfect right-angled triangles](#218.-Perfect-right-angled-triangles)\n",
    " 19. [219. Skew-cost coding](#219.-Skew-cost-coding)\n",
    " 20. [220. Heighway Dragon](#220.-Heighway-Dragon)\n",
    " 21. [221. Alexandrian Integers](#221.-Alexandrian-Integers)\n",
    " 22. [222. Sphere Packing](#222.-Sphere-Packing)\n",
    " 23. [223. Almost right-angled triangles I](#223.-Almost-right-angled-triangles-I)\n",
    " 24. [224. Almost right-angled triangles II](#224.-Almost-right-angled-triangles-II)\n",
    " 25. [225. Tribonacci non-divisors](#225.-Tribonacci-non-divisors)\n",
    " 26. [226. A Scoop of Blancmange](#226.-A-Scoop-of-Blancmange)\n",
    " 27. [227. The Chase](#227.-The-Chase)\n",
    " 28. [228. Minkowski Sums](#228.-Minkowski-Sums)\n",
    " 29. [229. Four Representations using Squares](#229.-Four-Representations-using-Squares)\n",
    " 30. [230. Fibonacci Words](#230.-Fibonacci-Words)\n",
    " 31. [231. The prime factorisation of binomial coefficients](#231.-The-prime-factorisation-of-binomial-coefficients)\n",
    " 32. [232. The Race](#232.-The-Race)\n",
    " 33. [233. Lattice points on a circle](#233.-Lattice-points-on-a-circle)\n",
    " 34. [234. Semidivisible numbers](#234.-Semidivisible-numbers)\n",
    " 35. [235. An Arithmetic Geometric sequence](#235.-An-Arithmetic-Geometric-sequence)\n",
    " 36. [236. Luxury Hampers](#236.-Luxury-Hampers)\n",
    " 37. [237. Tours on a 4 x n playing board](#237.-Tours-on-a-4-x-n-playing-board)\n",
    " 38. [238. Infinite string tour](#238.-Infinite-string-tour)\n",
    " 39. [239. Twenty-two Foolish Primes](#239.-Twenty-two-Foolish-Primes)\n",
    " 40. [240. Top Dice](#240.-Top-Dice)\n",
    " 41. [241. Perfection Quotients](#241.-Perfection-Quotients)\n",
    " 42. [242. Odd Triplets](#242.-Odd-Triplets)\n",
    " 43. [243. Resilience](#243.-Resilience)\n",
    " 44. [244. Sliders](#244.-Sliders)\n",
    " 45. [245. Coresilience](#245.-Coresilience)\n",
    " 46. [246. Tangents to an ellipse](#246.-Tangents-to-an-ellipse)\n",
    " 47. [247. Squares under a hyperbola](#247.-Squares-under-a-hyperbola)\n",
    " 48. [248. Numbers for which Euler’s totient function equals 13!](#248.-Numbers-for-which-Euler’s-totient-function-equals-13!)\n",
    " 49. [249. Prime Subset Sums](#249.-Prime-Subset-Sums)\n",
    " 0. [250. 250250](#250.-250250)"
   ]
  },
  {
   "cell_type": "markdown",
   "metadata": {},
   "source": [
    "### 201. Subsets with a unique sum\n",
    "#### ([Back to Top](#Table-of-Contents)) ([Webpage](https://projecteuler.net/problem=201))<div class=\"problem_content\" role=\"problem\">\n",
    "<p>For any set A of numbers, let sum(A) be the sum of the elements of A.<br>\n",
    "Consider the set B = {1,3,6,8,10,11}.<br/> There are 20 subsets of B containing three elements, and their sums are:</br></p>\n",
    "<p style=\"margin-left:100px;\">\n",
    "sum({1,3,6}) = 10,<br/>\n",
    "sum({1,3,8}) = 12,<br/>\n",
    "sum({1,3,10}) = 14,<br/>\n",
    "sum({1,3,11}) = 15,<br/>\n",
    "sum({1,6,8}) = 15,<br/>\n",
    "sum({1,6,10}) = 17,<br/>\n",
    "sum({1,6,11}) = 18,<br/>\n",
    "sum({1,8,10}) = 19,<br/>\n",
    "sum({1,8,11}) = 20,<br/>\n",
    "sum({1,10,11}) = 22,<br/>\n",
    "sum({3,6,8}) = 17,<br/>\n",
    "sum({3,6,10}) = 19,<br/>\n",
    "sum({3,6,11}) = 20,<br/>\n",
    "sum({3,8,10}) = 21,<br/>\n",
    "sum({3,8,11}) = 22,<br/>\n",
    "sum({3,10,11}) = 24,<br/>\n",
    "sum({6,8,10}) = 24,<br/>\n",
    "sum({6,8,11}) = 25,<br/>\n",
    "sum({6,10,11}) = 27,<br/>\n",
    "sum({8,10,11}) = 29.</p>\n",
    "<p>Some of these sums occur more than once, others are unique.<br/>\n",
    "For a set A, let U(A,k) be the set of unique sums of k-element subsets of A, in our example we find U(B,3) = {10,12,14,18,21,25,27,29} and sum(U(B,3)) = 156.</p>\n",
    "<p>Now consider the 100-element set S = {1<sup>2</sup>, 2<sup>2</sup>, ... , 100<sup>2</sup>}.<br/>\n",
    "S has 100891344545564193334812497256 50-element subsets.</p>\n",
    "<p>Determine the sum of all integers which are the sum of exactly one of the 50-element subsets of S, i.e. find sum(U(S,50)).</p>\n",
    "</div>"
   ]
  },
  {
   "cell_type": "code",
   "execution_count": null,
   "metadata": {},
   "outputs": [],
   "source": []
  },
  {
   "cell_type": "markdown",
   "metadata": {},
   "source": [
    "### 202. Laserbeam\n",
    "#### ([Back to Top](#Table-of-Contents)) ([Webpage](https://projecteuler.net/problem=202))<div class=\"problem_content\" role=\"problem\">\n",
    "<p>Three mirrors are arranged in the shape of an equilateral triangle, with their reflective surfaces pointing inwards. There is an infinitesimal gap at each vertex of the triangle through which a laser beam may pass.</p>\n",
    "<p>Label the vertices A, B and C. There are 2 ways in which a laser beam may enter vertex C, bounce off 11 surfaces, then exit through the same vertex: one way is shown below; the other is the reverse of that.</p>\n",
    "<div style=\"text-align:center;\">\n",
    "<img alt=\"\" class=\"dark_img\" src=\"project/images/p201_laserbeam.gif\"/></div>\n",
    "<p>There are 80840 ways in which a laser beam may enter vertex C, bounce off 1000001 surfaces, then exit through the same vertex.</p>\n",
    "<p>In how many ways can a laser beam enter at vertex C, bounce off 12017639147 surfaces, then exit through the same vertex?</p>\n",
    "</div>"
   ]
  },
  {
   "cell_type": "code",
   "execution_count": null,
   "metadata": {},
   "outputs": [],
   "source": []
  },
  {
   "cell_type": "markdown",
   "metadata": {},
   "source": [
    "### 203. Squarefree Binomial Coefficients\n",
    "#### ([Back to Top](#Table-of-Contents)) ([Webpage](https://projecteuler.net/problem=203))<div class=\"problem_content\" role=\"problem\">\n",
    "<p>The binomial coefficients <sup>n</sup>C<sub>k</sub> can be arranged in triangular form, Pascal's triangle, like this:</p>\n",
    "<div style=\"text-align:center;\">\n",
    "<table align=\"center\"><tr><td colspan=\"7\"></td><td>1</td><td colspan=\"7\"></td></tr><tr><td colspan=\"6\"></td><td>1</td><td></td><td>1</td><td colspan=\"6\"></td></tr><tr><td colspan=\"5\"></td><td>1</td><td></td><td>2</td><td></td><td>1</td><td colspan=\"5\"></td></tr><tr><td colspan=\"4\"></td><td>1</td><td></td><td>3</td><td></td><td>3</td><td></td><td>1</td><td colspan=\"4\"></td></tr><tr><td colspan=\"3\"></td><td>1</td><td></td><td>4</td><td></td><td>6</td><td></td><td>4</td><td></td><td>1</td><td colspan=\"3\"></td></tr><tr><td colspan=\"2\"></td><td>1</td><td></td><td>5</td><td></td><td>10</td><td></td><td>10</td><td></td><td>5</td><td></td><td>1</td><td colspan=\"2\"></td></tr><tr><td colspan=\"1\"></td><td>1</td><td></td><td>6</td><td></td><td>15</td><td></td><td>20</td><td></td><td>15</td><td></td><td>6</td><td></td><td>1</td><td colspan=\"1\"></td></tr><tr><td>1</td><td></td><td>7</td><td></td><td>21</td><td></td><td>35</td><td></td><td>35</td><td></td><td>21</td><td></td><td>7</td><td></td><td>1</td></tr></table>\n",
    ".........\n",
    "</div>\n",
    "<p>It can be seen that the first eight rows of Pascal's triangle contain twelve distinct numbers: 1, 2, 3, 4, 5, 6, 7, 10, 15, 20, 21 and 35.</p>\n",
    "<p>A positive integer <var>n</var> is called squarefree if no square of a prime divides <var>n</var>.\n",
    "Of the twelve distinct numbers in the first eight rows of Pascal's triangle, all except 4 and 20 are squarefree.\n",
    "The sum of the distinct squarefree numbers in the first eight rows is 105.</p>\n",
    "<p>Find the sum of the distinct squarefree numbers in the first 51 rows of Pascal's triangle.</p>\n",
    "</div>"
   ]
  },
  {
   "cell_type": "code",
   "execution_count": null,
   "metadata": {},
   "outputs": [],
   "source": []
  },
  {
   "cell_type": "markdown",
   "metadata": {},
   "source": [
    "### 204. Generalised Hamming Numbers\n",
    "#### ([Back to Top](#Table-of-Contents)) ([Webpage](https://projecteuler.net/problem=204))<div class=\"problem_content\" role=\"problem\">\n",
    "<p>A Hamming number is a positive number which has no prime factor larger than 5.<br>\n",
    "So the first few Hamming numbers are 1, 2, 3, 4, 5, 6, 8, 9, 10, 12, 15.<br/>\n",
    "There are 1105 Hamming numbers not exceeding 10<sup>8</sup>.</br></p>\n",
    "<p>We will call a positive number a generalised Hamming number of type <var>n</var>, if it has no prime factor larger than <var>n</var>.<br/>\n",
    "Hence the Hamming numbers are the generalised Hamming numbers of type 5.</p>\n",
    "<p>How many generalised Hamming numbers of type 100 are there which don't exceed 10<sup>9</sup>?</p>\n",
    "</div>"
   ]
  },
  {
   "cell_type": "code",
   "execution_count": null,
   "metadata": {},
   "outputs": [],
   "source": []
  },
  {
   "cell_type": "markdown",
   "metadata": {},
   "source": [
    "### 205. Dice Game\n",
    "#### ([Back to Top](#Table-of-Contents)) ([Webpage](https://projecteuler.net/problem=205))<div class=\"problem_content\" role=\"problem\">\n",
    "<p>Peter has nine four-sided (pyramidal) dice, each with faces numbered 1, 2, 3, 4.<br>\n",
    "Colin has six six-sided (cubic) dice, each with faces numbered 1, 2, 3, 4, 5, 6.</br></p>\n",
    "<p>Peter and Colin roll their dice and compare totals: the highest total wins. The result is a draw if the totals are equal.</p>\n",
    "<p>What is the probability that Pyramidal Pete beats Cubic Colin? Give your answer rounded to seven decimal places in the form 0.abcdefg</p>\n",
    "</div>"
   ]
  },
  {
   "cell_type": "code",
   "execution_count": null,
   "metadata": {},
   "outputs": [],
   "source": []
  },
  {
   "cell_type": "markdown",
   "metadata": {},
   "source": [
    "### 206. Concealed Square\n",
    "#### ([Back to Top](#Table-of-Contents)) ([Webpage](https://projecteuler.net/problem=206))<div class=\"problem_content\" role=\"problem\">\n",
    "<p>Find the unique positive integer whose square has the form 1_2_3_4_5_6_7_8_9_0,<br> where each “_” is a single digit.</br></p>\n",
    "</div>"
   ]
  },
  {
   "cell_type": "code",
   "execution_count": null,
   "metadata": {},
   "outputs": [],
   "source": []
  },
  {
   "cell_type": "markdown",
   "metadata": {},
   "source": [
    "### 207. Integer partition equations\n",
    "#### ([Back to Top](#Table-of-Contents)) ([Webpage](https://projecteuler.net/problem=207))<div class=\"problem_content\" role=\"problem\">\n",
    "<p>For some positive integers <var>k</var>, there exists an integer partition of the form   4<sup>t</sup> = 2<sup>t</sup> + <var>k</var>,<br>\n",
    "where 4<sup>t</sup>, 2<sup>t</sup>, and <var>k</var> are all positive integers and <var>t</var> is a real number.</br></p>\n",
    "<p>The first two such partitions are 4<sup>1</sup> = 2<sup>1</sup> + 2 and 4<sup>1.5849625...</sup> = 2<sup>1.5849625...</sup> + 6.</p>\n",
    "<p>Partitions where <var>t</var> is also an integer are called <i>perfect</i>.<br/> \n",
    "For any <var>m</var> ≥ 1 let P(<var>m</var>) be the proportion of such partitions that are perfect with <var>k</var> ≤ <var>m</var>.<br/>\n",
    "Thus P(6) = 1/2.</p>\n",
    "<p>In the following table are listed some values of P(<var>m</var>)</p>\n",
    "<p>   P(5) = 1/1<br/>\n",
    "   P(10) = 1/2<br/>\n",
    "   P(15) = 2/3<br/>\n",
    "   P(20) = 1/2<br/>\n",
    "   P(25) = 1/2<br/>\n",
    "   P(30) = 2/5<br/>\n",
    "   ...<br/>\n",
    "   P(180) = 1/4<br/>\n",
    "   P(185) = 3/13</p>\n",
    "<p>Find the smallest <var>m</var> for which P(<var>m</var>) &lt; 1/12345</p>\n",
    "</div>"
   ]
  },
  {
   "cell_type": "code",
   "execution_count": null,
   "metadata": {},
   "outputs": [],
   "source": []
  },
  {
   "cell_type": "markdown",
   "metadata": {},
   "source": [
    "### 208. Robot Walks\n",
    "#### ([Back to Top](#Table-of-Contents)) ([Webpage](https://projecteuler.net/problem=208))<div class=\"problem_content\" role=\"problem\">\n",
    "<p>A robot moves in a series of one-fifth circular arcs (72°), with a free choice of a clockwise or an anticlockwise arc for each step, but no turning on the spot.</p>\n",
    "<p>One of 70932 possible closed paths of 25 arcs starting northward is</p>\n",
    "<div style=\"text-align:center;\">\n",
    "<img alt=\"\" class=\"dark_img\" src=\"project/images/p208_robotwalk.gif\"/></div>\n",
    "<p>Given that the robot starts facing North, how many journeys of 70 arcs in length can it take that return it, after the final arc, to its starting position?<br>\n",
    "(Any arc may be traversed multiple times.) \n",
    "</br></p>\n",
    "</div>"
   ]
  },
  {
   "cell_type": "code",
   "execution_count": null,
   "metadata": {},
   "outputs": [],
   "source": []
  },
  {
   "cell_type": "markdown",
   "metadata": {},
   "source": [
    "### 209. Circular Logic\n",
    "#### ([Back to Top](#Table-of-Contents)) ([Webpage](https://projecteuler.net/problem=209))<div class=\"problem_content\" role=\"problem\">\n",
    "<p>A <var>k</var>-input <i>binary truth table</i> is a map from <var>k</var> input bits\n",
    "(binary digits, 0 [false] or 1 [true]) to 1 output bit. For example, the 2-input binary truth tables for the logical AND and XOR functions are:</p>\n",
    "<div style=\"float:left;margin:10px 50px;text-align:center;\">\n",
    "<table class=\"grid\"><tr><th style=\"width:50px;\"><var>x</var></th>\n",
    "<th style=\"width:50px;\"><var>y</var></th>\n",
    "<th><var>x</var> AND <var>y</var></th></tr><tr><td align=\"center\">0</td><td align=\"center\">0</td><td align=\"center\">0</td></tr><tr><td align=\"center\">0</td><td align=\"center\">1</td><td align=\"center\">0</td></tr><tr><td align=\"center\">1</td><td align=\"center\">0</td><td align=\"center\">0</td></tr><tr><td align=\"center\">1</td><td align=\"center\">1</td><td align=\"center\">1</td></tr></table></div>\n",
    "<div style=\"float:left;margin:10px 50px;text-align:center;\">\n",
    "<table class=\"grid\"><tr><th style=\"width:50px;\"><var>x</var></th>\n",
    "<th style=\"width:50px;\"><var>y</var></th>\n",
    "<th><var>x</var> XOR <var>y</var></th></tr><tr><td align=\"center\">0</td><td align=\"center\">0</td><td align=\"center\">0</td></tr><tr><td align=\"center\">0</td><td align=\"center\">1</td><td align=\"center\">1</td></tr><tr><td align=\"center\">1</td><td align=\"center\">0</td><td align=\"center\">1</td></tr><tr><td align=\"center\">1</td><td align=\"center\">1</td><td align=\"center\">0</td></tr></table></div>\n",
    "<br clear=\"all\"><p>How many 6-input binary truth tables, τ, satisfy the formula</p>\n",
    "<div style=\"text-align:center;\">\n",
    "τ(<var>a</var>, <var>b</var>, <var>c</var>, <var>d</var>, <var>e</var>, <var>f</var>) AND τ(<var>b</var>, <var>c</var>, <var>d</var>, <var>e</var>, <var>f</var>, <var>a</var> XOR (<var>b</var> AND <var>c</var>)) = 0\n",
    "</div><br/><p>for all 6-bit inputs (<var>a</var>, <var>b</var>, <var>c</var>, <var>d</var>, <var>e</var>, <var>f</var>)?\n",
    "</p>\n",
    "</br></div>"
   ]
  },
  {
   "cell_type": "code",
   "execution_count": null,
   "metadata": {},
   "outputs": [],
   "source": []
  },
  {
   "cell_type": "markdown",
   "metadata": {},
   "source": [
    "### 210. Obtuse Angled Triangles\n",
    "#### ([Back to Top](#Table-of-Contents)) ([Webpage](https://projecteuler.net/problem=210))<div class=\"problem_content\" role=\"problem\">\n",
    "Consider the set S(r) of points (x,y) with integer coordinates satisfying |x| + |y| ≤ r. <br>\n",
    "Let O be the point (0,0) and C the point (r/4,r/4). <br/>\n",
    "Let N(r) be the number of points B in S(r), so that the triangle OBC has an obtuse angle, i.e. the largest angle α satisfies 90°&lt;α&lt;180°.<br/>\n",
    "So, for example, N(4)=24 and N(8)=100.\n",
    "<p>\n",
    "What is N(1,000,000,000)?\n",
    "</p>\n",
    "</br></div>"
   ]
  },
  {
   "cell_type": "code",
   "execution_count": null,
   "metadata": {},
   "outputs": [],
   "source": []
  },
  {
   "cell_type": "markdown",
   "metadata": {},
   "source": [
    "### 211. Divisor Square Sum\n",
    "#### ([Back to Top](#Table-of-Contents)) ([Webpage](https://projecteuler.net/problem=211))<div class=\"problem_content\" role=\"problem\">\n",
    "<p>For a positive integer <var>n</var>, let σ<sub>2</sub>(<var>n</var>) be the sum of the squares of its divisors. For example,</p>\n",
    "<div style=\"text-align:center;\">σ<sub>2</sub>(10) = 1 + 4 + 25 + 100 = 130.</div>\n",
    "<p>Find the sum of all <var>n</var>, 0 &lt; <var>n</var> &lt; 64,000,000 such that σ<sub>2</sub>(<var>n</var>) is a perfect square.</p>\n",
    "</div>"
   ]
  },
  {
   "cell_type": "code",
   "execution_count": null,
   "metadata": {},
   "outputs": [],
   "source": []
  },
  {
   "cell_type": "markdown",
   "metadata": {},
   "source": [
    "### 212. Combined Volume of Cuboids\n",
    "#### ([Back to Top](#Table-of-Contents)) ([Webpage](https://projecteuler.net/problem=212))<div class=\"problem_content\" role=\"problem\">\n",
    "<p>An <span style=\"font-style:italic;\">axis-aligned cuboid</span>, specified by parameters { (x<sub>0</sub>,y<sub>0</sub>,z<sub>0</sub>), (dx,dy,dz) }, consists of all points (X,Y,Z) such that x<sub>0</sub> ≤ X ≤ x<sub>0</sub>+dx, y<sub>0</sub> ≤ Y ≤ y<sub>0</sub>+dy and z<sub>0</sub> ≤ Z ≤ z<sub>0</sub>+dz.  The volume of the cuboid is the product, dx × dy × dz.  The <span style=\"font-style:italic;\">combined volume</span> of a collection of cuboids is the volume of their union and will be less than the sum of the individual volumes if any cuboids overlap.</p>\n",
    "<p>Let C<sub>1</sub>,...,C<sub>50000</sub> be a collection of 50000 axis-aligned cuboids such that C<sub><var>n</var></sub> has parameters</p>\n",
    "<p style=\"margin-left:40px;\">x<sub>0</sub> = S<sub>6<var>n</var>-5</sub> modulo 10000<br>y<sub>0</sub> = S<sub>6<var>n</var>-4</sub> modulo 10000<br/>z<sub>0</sub> = S<sub>6<var>n</var>-3</sub> modulo 10000<br/>dx = 1 + (S<sub>6<var>n</var>-2</sub> modulo 399)<br/>dy = 1 + (S<sub>6<var>n</var>-1</sub> modulo 399)<br/>dz = 1 + (S<sub>6<var>n</var></sub> modulo 399)</br></p>\n",
    "<p>where S<sub>1</sub>,...,S<sub>300000</sub> come from the \"Lagged Fibonacci Generator\":</p>\n",
    "<p style=\"margin-left:40px;\">For 1 ≤ <var>k</var> ≤ 55, S<sub><var>k</var></sub> = [100003 - 200003<var>k</var> + 300007<var>k</var><sup>3</sup>]   (modulo 1000000)<br/>For 56 ≤ <var>k</var>, S<sub><var>k</var></sub> = [S<sub><var>k</var>-24</sub> + S<sub><var>k</var>-55</sub>]   (modulo 1000000)</p>\n",
    "<p>Thus, C<sub>1</sub> has parameters {(7,53,183),(94,369,56)}, C<sub>2</sub> has parameters {(2383,3563,5079),(42,212,344)}, and so on.</p>\n",
    "<p>The combined volume of the first 100 cuboids, C<sub>1</sub>,...,C<sub>100</sub>, is 723581599.</p>\n",
    "<p>What is the combined volume of all 50000 cuboids, C<sub>1</sub>,...,C<sub>50000</sub> ?</p>\n",
    "</div>"
   ]
  },
  {
   "cell_type": "code",
   "execution_count": null,
   "metadata": {},
   "outputs": [],
   "source": []
  },
  {
   "cell_type": "markdown",
   "metadata": {},
   "source": [
    "### 213. Flea Circus\n",
    "#### ([Back to Top](#Table-of-Contents)) ([Webpage](https://projecteuler.net/problem=213))<div class=\"problem_content\" role=\"problem\">\n",
    "<p>A 30×30 grid of squares contains 900 fleas, initially one flea per square.<br>\n",
    "When a bell is rung, each flea jumps to an adjacent square at random (usually 4 possibilities, except for fleas on the edge of the grid or at the corners).</br></p>\n",
    "<p>What is the expected number of unoccupied squares after 50 rings of the bell? Give your answer rounded to six decimal places.</p>\n",
    "</div>"
   ]
  },
  {
   "cell_type": "code",
   "execution_count": null,
   "metadata": {},
   "outputs": [],
   "source": []
  },
  {
   "cell_type": "markdown",
   "metadata": {},
   "source": [
    "### 214. Totient Chains\n",
    "#### ([Back to Top](#Table-of-Contents)) ([Webpage](https://projecteuler.net/problem=214))<div class=\"problem_content\" role=\"problem\">\n",
    "<p>Let φ be Euler's totient function, i.e. for a natural number <var>n</var>,\n",
    "φ(<var>n</var>) is the number of <var>k</var>, 1 ≤ <var>k</var> ≤ <var>n</var>, for which gcd(<var>k</var>,<var>n</var>) = 1.</p>\n",
    "<p>By iterating φ, each positive integer generates a decreasing chain of numbers ending in 1.<br>\n",
    "E.g. if we start with 5 the sequence 5,4,2,1 is generated.<br/>\n",
    "Here is a listing of all chains with length 4:</br></p>\n",
    "<div style=\"text-align:right;margin-right:350px;\">\n",
    "5,4,2,1<br/>\n",
    "7,6,2,1<br/>\n",
    "8,4,2,1<br/>\n",
    "9,6,2,1<br/>\n",
    "10,4,2,1<br/>\n",
    "12,4,2,1<br/>\n",
    "14,6,2,1<br/>\n",
    "18,6,2,1</div>\n",
    "<p>Only two of these chains start with a prime, their sum is 12.</p>\n",
    "<p>What is the sum of all primes less than 40000000 which generate a chain of length 25?</p>\n",
    "</div>"
   ]
  },
  {
   "cell_type": "code",
   "execution_count": null,
   "metadata": {},
   "outputs": [],
   "source": []
  },
  {
   "cell_type": "markdown",
   "metadata": {},
   "source": [
    "### 215. Crack-free Walls\n",
    "#### ([Back to Top](#Table-of-Contents)) ([Webpage](https://projecteuler.net/problem=215))<div class=\"problem_content\" role=\"problem\">\n",
    "<p>Consider the problem of building a wall out of 2×1 and 3×1 bricks (horizontal×vertical dimensions) such that, for extra strength, the gaps between horizontally-adjacent bricks never line up in consecutive layers, i.e. never form a \"running crack\".</p>\n",
    "<p>For example, the following 9×3 wall is not acceptable due to the running crack shown in red:</p>\n",
    "<div style=\"text-align:center;\">\n",
    "<img alt=\"\" class=\"dark_img\" src=\"project/images/p215_crackfree.gif\"/></div>\n",
    "<p>There are eight ways of forming a crack-free 9×3 wall, written W(9,3) = 8.</p>\n",
    "<p>Calculate W(32,10).</p>\n",
    "</div>"
   ]
  },
  {
   "cell_type": "code",
   "execution_count": null,
   "metadata": {},
   "outputs": [],
   "source": []
  },
  {
   "cell_type": "markdown",
   "metadata": {},
   "source": [
    "### 216. \n",
    "#### ([Back to Top](#Table-of-Contents)) ([Webpage](https://projecteuler.net/problem=216))<div class=\"problem_content\" role=\"problem\">\n",
    "<p>Consider numbers <var>t</var>(<var>n</var>) of the form <var>t</var>(<var>n</var>) = 2<var>n</var><sup>2</sup>-1 with <var>n</var> &gt; 1.<br>\n",
    "The first such numbers are 7, 17, 31, 49, 71, 97, 127 and 161.<br/>\n",
    "It turns out that only 49 = 7*7 and 161 = 7*23 are not prime.<br/>\n",
    "For <var>n</var> ≤ 10000 there are 2202 numbers <var>t</var>(<var>n</var>)  that are prime.</br></p>\n",
    "<p>How many numbers <var>t</var>(<var>n</var>) are prime for <var>n</var> ≤ 50,000,000 ?</p>\n",
    "</div>"
   ]
  },
  {
   "cell_type": "code",
   "execution_count": null,
   "metadata": {},
   "outputs": [],
   "source": []
  },
  {
   "cell_type": "markdown",
   "metadata": {},
   "source": [
    "### 217. Balanced Numbers\n",
    "#### ([Back to Top](#Table-of-Contents)) ([Webpage](https://projecteuler.net/problem=217))<div class=\"problem_content\" role=\"problem\">\n",
    "<p>\n",
    "A positive integer with <var>k</var> (decimal) digits is called balanced if its first ⌈<sup><var>k</var></sup>/<sub>2</sub>⌉ digits sum to the same value as its last ⌈<sup><var>k</var></sup>/<sub>2</sub>⌉ digits, where ⌈<var>x</var>⌉, pronounced <span style=\"font-style:italic;\">ceiling</span> of <var>x</var>, is the smallest integer ≥ <var>x</var>, thus ⌈π⌉ = 4 and ⌈5⌉ = 5.</p>\n",
    "<p>So, for example, all palindromes are balanced, as is 13722.</p>\n",
    "<p>Let T(<var>n</var>) be the sum of all balanced numbers less than 10<sup><var>n</var></sup>. <br>\n",
    "Thus: T(1) = 45, T(2) = 540 and T(5) = 334795890. </br></p>\n",
    "<p>Find T(47) mod 3<sup>15</sup></p>\n",
    "</div>"
   ]
  },
  {
   "cell_type": "code",
   "execution_count": null,
   "metadata": {},
   "outputs": [],
   "source": []
  },
  {
   "cell_type": "markdown",
   "metadata": {},
   "source": [
    "### 218. Perfect right-angled triangles\n",
    "#### ([Back to Top](#Table-of-Contents)) ([Webpage](https://projecteuler.net/problem=218))<div class=\"problem_content\" role=\"problem\">\n",
    "<p>Consider the right angled triangle with sides a=7, b=24 and c=25.\n",
    "The area of this triangle is 84, which is divisible by the perfect numbers 6 and 28.<br>\n",
    "Moreover it is a primitive right angled triangle as gcd(a,b)=1 and gcd(b,c)=1.<br/>\n",
    "Also c is a perfect square.</br></p>\n",
    "<p>We will call a right angled triangle perfect if<br/>\n",
    "-it is a primitive right angled triangle<br/>\n",
    "-its hypotenuse is a perfect square</p>\n",
    "<p>We will call a right angled triangle super-perfect if<br/>\n",
    "-it is a perfect right angled triangle and<br/>\n",
    "-its area is a multiple of the perfect numbers 6 and 28.\n",
    "</p>\n",
    "<p>How many perfect right-angled triangles with c≤10<sup>16</sup> exist that are not super-perfect?</p>\n",
    "</div>"
   ]
  },
  {
   "cell_type": "code",
   "execution_count": null,
   "metadata": {},
   "outputs": [],
   "source": []
  },
  {
   "cell_type": "markdown",
   "metadata": {},
   "source": [
    "### 219. Skew-cost coding\n",
    "#### ([Back to Top](#Table-of-Contents)) ([Webpage](https://projecteuler.net/problem=219))<div class=\"problem_content\" role=\"problem\">\n",
    "<p>Let <span style=\"font-weight:bold;\">A</span> and <span style=\"font-weight:bold;\">B</span> be bit strings (sequences of 0's and 1's).<br>\n",
    "If <span style=\"font-weight:bold;\">A</span> is equal to the <span style=\"text-decoration:underline;\">left</span>most length(<span style=\"font-weight:bold;\">A</span>) bits of <span style=\"font-weight:bold;\">B</span>, then <span style=\"font-weight:bold;\">A</span> is said to be a <span style=\"font-style:italic;\">prefix</span> of <span style=\"font-weight:bold;\">B</span>.<br/>\n",
    "For example, 00110 is a prefix of <span style=\"text-decoration:underline;\">00110</span>1001, but not of 00111 or 100110.</br></p>\n",
    "<p>A <span style=\"font-style:italic;\">prefix-free code of size</span> <var>n</var> is a collection of <var>n</var> distinct bit strings such that no string is a prefix of any other.  For example, this is a prefix-free code of size 6:</p>\n",
    "<p style=\"text-align:center;\">0000, 0001, 001, 01, 10, 11</p>\n",
    "<p>Now suppose that it costs one penny to transmit a '0' bit, but four pence to transmit a '1'.<br/>\n",
    "Then the total cost of the prefix-free code shown above is 35 pence, which happens to be the cheapest possible for the skewed pricing scheme in question.<br/>\n",
    "In short, we write Cost(6) = 35.</p>\n",
    "<p>What is Cost(10<sup>9</sup>) ?</p>\n",
    "</div>"
   ]
  },
  {
   "cell_type": "code",
   "execution_count": null,
   "metadata": {},
   "outputs": [],
   "source": []
  },
  {
   "cell_type": "markdown",
   "metadata": {},
   "source": [
    "### 220. Heighway Dragon\n",
    "#### ([Back to Top](#Table-of-Contents)) ([Webpage](https://projecteuler.net/problem=220))<div class=\"problem_content\" role=\"problem\">\n",
    "<p>Let <b><i>D</i></b><sub>0</sub> be the two-letter string \"Fa\".  For n≥1, derive <b><i>D</i></b><sub>n</sub> from <b><i>D</i></b><sub>n-1</sub> by the string-rewriting rules:</p>\n",
    "<p style=\"margin-left:40px;\">\"a\" → \"aRbFR\"<br>\n",
    "\"b\" → \"LFaLb\"</br></p>\n",
    "<p>Thus, <b><i>D</i></b><sub>0</sub> = \"Fa\", <b><i>D</i></b><sub>1</sub> = \"FaRbFR\", <b><i>D</i></b><sub>2</sub> = \"FaRbFRRLFaLbFR\", and so on.</p>\n",
    "<p>These strings can be interpreted as instructions to a computer graphics program, with \"F\" meaning \"draw forward one unit\", \"L\" meaning \"turn left 90 degrees\", \"R\" meaning \"turn right 90 degrees\", and \"a\" and \"b\" being ignored.  The initial position of the computer cursor is (0,0), pointing up towards (0,1).</p>\n",
    "<p>Then <b><i>D</i></b><sub>n</sub> is an exotic drawing known as the <i>Heighway Dragon</i> of order <i>n</i>.  For example, <b><i>D</i></b><sub>10</sub> is shown below; counting each \"F\" as one step, the highlighted spot at (18,16) is the position reached after 500 steps.</p>\n",
    "<div style=\"text-align:center;\">\n",
    "<img alt=\"\" class=\"dark_img\" src=\"project/images/p220.gif\"/></div>\n",
    "<p>What is the position of the cursor after 10<sup>12</sup> steps in <b><i>D</i></b><sub>50</sub> ?<br/>\n",
    "Give your answer in the form <i>x</i>,<i>y</i> with no spaces.</p>\n",
    "</div>"
   ]
  },
  {
   "cell_type": "code",
   "execution_count": null,
   "metadata": {},
   "outputs": [],
   "source": []
  },
  {
   "cell_type": "markdown",
   "metadata": {},
   "source": [
    "### 221. Alexandrian Integers\n",
    "#### ([Back to Top](#Table-of-Contents)) ([Webpage](https://projecteuler.net/problem=221))<div class=\"problem_content\" role=\"problem\">\n",
    "<p>We shall call a positive integer <var>A</var> an \"Alexandrian integer\", if there exist integers <var>p</var>, <var>q</var>, <var>r</var> such that:</p>\n",
    "<table class=\"formula\" style=\"margin-left:50px;\"><tr><td>\n",
    "<var>A</var> = <var>p</var> · <var>q</var> · <var>r</var>    and  \n",
    "   </td>\n",
    "<td>\n",
    "<table class=\"frac\"><tr><td>1</td></tr><tr><td class=\"overline\"><var>A</var></td></tr></table></td>\n",
    "<td>=</td>\n",
    "<td>\n",
    "<table class=\"frac\"><tr><td>1</td></tr><tr><td class=\"overline\"><var>p</var></td></tr></table></td>\n",
    "<td>+</td>\n",
    "<td>\n",
    "<table class=\"frac\"><tr><td>1</td></tr><tr><td class=\"overline\"><var>q</var></td></tr></table></td>\n",
    "<td>+</td>\n",
    "<td>\n",
    "<table class=\"frac\"><tr><td>1</td></tr><tr><td class=\"overline\"><var>r</var></td></tr></table></td>\n",
    "</tr></table><p>For example, 630 is an Alexandrian integer (<var>p</var> = 5, <var>q</var> = −7, <var>r</var> = −18).\n",
    "In fact, 630 is the 6<sup>th</sup> Alexandrian integer,  the first 6 Alexandrian integers being: 6, 42, 120, 156, 420 and 630.</p>\n",
    "<p>Find the 150000<sup>th</sup> Alexandrian integer.</p>\n",
    "</div>"
   ]
  },
  {
   "cell_type": "code",
   "execution_count": null,
   "metadata": {},
   "outputs": [],
   "source": []
  },
  {
   "cell_type": "markdown",
   "metadata": {},
   "source": [
    "### 222. Sphere Packing\n",
    "#### ([Back to Top](#Table-of-Contents)) ([Webpage](https://projecteuler.net/problem=222))<div class=\"problem_content\" role=\"problem\">\n",
    "<p>What is the length of the shortest pipe, of internal radius 50mm, that can fully contain 21 balls of radii 30mm, 31mm, ..., 50mm?</p>\n",
    "<p>Give your answer in micrometres (10<sup>-6</sup> m) rounded to the nearest integer.</p>\n",
    "</div>"
   ]
  },
  {
   "cell_type": "code",
   "execution_count": null,
   "metadata": {},
   "outputs": [],
   "source": []
  },
  {
   "cell_type": "markdown",
   "metadata": {},
   "source": [
    "### 223. Almost right-angled triangles I\n",
    "#### ([Back to Top](#Table-of-Contents)) ([Webpage](https://projecteuler.net/problem=223))<div class=\"problem_content\" role=\"problem\">\n",
    "<p>Let us call an integer sided triangle with sides <var>a</var> ≤ <var>b</var> ≤ <var>c</var> <i>barely acute</i> if the sides satisfy <br><var>a</var><sup>2</sup> + <var>b</var><sup>2</sup> = <var>c</var><sup>2</sup> + 1.</br></p>\n",
    "<p>How many barely acute triangles are there with perimeter ≤ 25,000,000?</p>\n",
    "</div>"
   ]
  },
  {
   "cell_type": "code",
   "execution_count": null,
   "metadata": {},
   "outputs": [],
   "source": []
  },
  {
   "cell_type": "markdown",
   "metadata": {},
   "source": [
    "### 224. Almost right-angled triangles II\n",
    "#### ([Back to Top](#Table-of-Contents)) ([Webpage](https://projecteuler.net/problem=224))<div class=\"problem_content\" role=\"problem\">\n",
    "<p>Let us call an integer sided triangle with sides <var>a</var> ≤ <var>b</var> ≤ <var>c</var> <i>barely obtuse</i> if the sides satisfy <br><var>a</var><sup>2</sup> + <var>b</var><sup>2</sup> = <var>c</var><sup>2</sup> - 1.</br></p>\n",
    "<p>How many barely obtuse triangles are there with perimeter ≤ 75,000,000?</p>\n",
    "</div>"
   ]
  },
  {
   "cell_type": "code",
   "execution_count": null,
   "metadata": {},
   "outputs": [],
   "source": []
  },
  {
   "cell_type": "markdown",
   "metadata": {},
   "source": [
    "### 225. Tribonacci non-divisors\n",
    "#### ([Back to Top](#Table-of-Contents)) ([Webpage](https://projecteuler.net/problem=225))<div class=\"problem_content\" role=\"problem\">\n",
    "<p>\n",
    "The sequence 1, 1, 1, 3, 5, 9, 17, 31, 57, 105, 193, 355, 653, 1201 ...<br>\n",
    "is defined by T<sub>1</sub> = T<sub>2</sub> = T<sub>3</sub> = 1 and T<sub><var>n</var></sub> = T<sub><var>n</var>-1</sub> + T<sub><var>n</var>-2</sub> + T<sub><var>n</var>-3</sub>.\n",
    "</br></p>\n",
    "<p>\n",
    "It can be shown that 27 does not divide any terms of this sequence.<br/>In fact, 27 is the first odd number with this property.</p>\n",
    "<p>\n",
    "Find the 124<sup>th</sup> odd number that does not divide any terms of the above sequence.</p>\n",
    "</div>"
   ]
  },
  {
   "cell_type": "code",
   "execution_count": null,
   "metadata": {},
   "outputs": [],
   "source": []
  },
  {
   "cell_type": "markdown",
   "metadata": {},
   "source": [
    "### 226. A Scoop of Blancmange\n",
    "#### ([Back to Top](#Table-of-Contents)) ([Webpage](https://projecteuler.net/problem=226))<div class=\"problem_content\" role=\"problem\">\n",
    "<p>The <i>blancmange curve</i> is the set of points $(x, y)$ such that $0 \\le x \\le 1$ and $y = \\sum \\limits_{n = 0}^{\\infty} {\\dfrac{s(2^n x)}{2^n}}$, where $s(x)$ is the distance from $x$ to the nearest integer.</p>\n",
    "<p>The area under the blancmange curve is equal to ½, shown in pink in the diagram below.</p>\n",
    "<div style=\"text-align:center;\">\n",
    "<img alt=\"blancmange curve\" class=\"dark_img\" src=\"project/images/p226_scoop2.gif\"/></div>\n",
    "<p>Let <var>C</var> be the circle with centre $\\left ( \\frac{1}{4}, \\frac{1}{2} \\right )$ and radius $\\frac{1}{4}$, shown in black in the diagram.</p>\n",
    "<p>What area under the blancmange curve is enclosed by <var>C</var>?<br>Give your answer rounded to eight decimal places in the form <i>0.abcdefgh</i></br></p>\n",
    "</div>"
   ]
  },
  {
   "cell_type": "code",
   "execution_count": null,
   "metadata": {},
   "outputs": [],
   "source": []
  },
  {
   "cell_type": "markdown",
   "metadata": {},
   "source": [
    "### 227. The Chase\n",
    "#### ([Back to Top](#Table-of-Contents)) ([Webpage](https://projecteuler.net/problem=227))<div class=\"problem_content\" role=\"problem\">\n",
    "<p>\"<i>The Chase</i>\" is a game played with two dice and an even number of players.</p>\n",
    "<p>The players sit around a table; the game begins with two opposite players having one die each. On each turn, the two players with a die roll it.<br>\n",
    "If a player rolls a 1, he passes the die to his neighbour on the left; if he rolls a 6, he passes the die to his neighbour on the right; otherwise, he keeps the die for the next turn.<br/>\n",
    "The game ends when one player has both dice after they have been rolled and passed; that player has then lost.</br></p>\n",
    "<p>In a game with 100 players, what is the expected number of turns the game lasts?</p>\n",
    "<p>Give your answer rounded to ten significant digits.</p>\n",
    "</div>"
   ]
  },
  {
   "cell_type": "code",
   "execution_count": null,
   "metadata": {},
   "outputs": [],
   "source": []
  },
  {
   "cell_type": "markdown",
   "metadata": {},
   "source": [
    "### 228. Minkowski Sums\n",
    "#### ([Back to Top](#Table-of-Contents)) ([Webpage](https://projecteuler.net/problem=228))<div class=\"problem_content\" role=\"problem\">\n",
    "<p>Let <var>S</var><sub>n</sub> be the regular <var>n</var>-sided polygon – or <i>shape</i> – whose vertices \n",
    "\n",
    "<var>v</var><sub><var>k</var></sub> (<var>k</var> = 1,2,…,<var>n</var>) have coordinates:</p>\n",
    "<table><tr><td width=\"40\"></td>\n",
    "<td><var>x</var><sub><var>k</var></sub>   =  \n",
    "        cos( <sup>2<var>k</var>-1</sup>/<sub><var>n</var></sub> ×180° )</td>\n",
    "</tr><tr><td width=\"40\"></td>\n",
    "<td><var>y</var><sub><var>k</var></sub>   =  \n",
    "        sin( <sup>2<var>k</var>-1</sup>/<sub><var>n</var></sub> ×180° )</td>\n",
    "</tr></table><p>Each <var>S</var><sub><var>n</var></sub> is to be interpreted as a filled shape consisting of all points on the perimeter and in the interior.</p>\n",
    "<p>The <i>Minkowski sum</i>, <var>S</var>+<var>T</var>, of two shapes <var>S</var> and <var>T</var> is the result of \n",
    "\n",
    "adding every point in <var>S</var> to every point in <var>T</var>, where point addition is performed coordinate-wise: \n",
    "\n",
    "(<var>u</var>, <var>v</var>) + (<var>x</var>, <var>y</var>) = (<var>u</var>+<var>x</var>, <var>v</var>+<var>y</var>).</p>\n",
    "<p>For example, the sum of <var>S</var><sub>3</sub> and <var>S</var><sub>4</sub> is the six-sided shape shown in pink below:</p>\n",
    "<div style=\"text-align:center;\">\n",
    "<img alt=\"picture showing S_3 + S_4\" class=\"dark_img\" src=\"project/images/p228.png\"/></div>\n",
    "<p>How many sides does <var>S</var><sub>1864</sub> + <var>S</var><sub>1865</sub> + … + <var>S</var><sub>1909</sub> have?</p>\n",
    "</div>"
   ]
  },
  {
   "cell_type": "code",
   "execution_count": null,
   "metadata": {},
   "outputs": [],
   "source": []
  },
  {
   "cell_type": "markdown",
   "metadata": {},
   "source": [
    "### 229. Four Representations using Squares\n",
    "#### ([Back to Top](#Table-of-Contents)) ([Webpage](https://projecteuler.net/problem=229))<div class=\"problem_content\" role=\"problem\">\n",
    "<p>Consider the number 3600. It is very special, because</p>\n",
    "<div style=\"margin-left:200px;\">\n",
    "3600 = 48<sup>2</sup> +     36<sup>2</sup><br><br/>\n",
    "3600 = 20<sup>2</sup> + 2×40<sup>2</sup><br/><br/>\n",
    "3600 = 30<sup>2</sup> + 3×30<sup>2</sup><br/><br/>\n",
    "3600 = 45<sup>2</sup> + 7×15<sup>2</sup><br/><br/></br></div>\n",
    "<p>Similarly, we find that 88201 = 99<sup>2</sup> + 280<sup>2</sup> = 287<sup>2</sup> + 2×54<sup>2</sup> = 283<sup>2</sup> + 3×52<sup>2</sup> = 197<sup>2</sup> + 7×84<sup>2</sup>.</p>\n",
    "<p>In 1747, Euler proved which numbers are representable as a sum of two squares.\n",
    "We are interested in the numbers <var>n</var> which admit representations of all of the following four types:</p>\n",
    "<div style=\"margin-left:200px;\">\n",
    "<var>n</var> = <var>a<sub>1</sub></var><sup>2</sup> +   <var>b<sub>1</sub></var><sup>2</sup><br/><br/><var>n</var> = <var>a<sub>2</sub></var><sup>2</sup> + 2 <var>b<sub>2</sub></var><sup>2</sup><br/><br/><var>n</var> = <var>a<sub>3</sub></var><sup>2</sup> + 3 <var>b<sub>3</sub></var><sup>2</sup><br/><br/><var>n</var> = <var>a<sub>7</sub></var><sup>2</sup> + 7 <var>b<sub>7</sub></var><sup>2</sup>,\n",
    "</div>\n",
    "<p>where the <var>a</var><sub><var>k</var></sub> and <var>b</var><sub><var>k</var></sub> are positive integers.</p>\n",
    "<p>There are 75373 such numbers that do not exceed 10<sup>7</sup>.<br/>\n",
    "\n",
    "How many such numbers are there that do not exceed 2×10<sup>9</sup>?</p>\n",
    "</div>"
   ]
  },
  {
   "cell_type": "code",
   "execution_count": null,
   "metadata": {},
   "outputs": [],
   "source": []
  },
  {
   "cell_type": "markdown",
   "metadata": {},
   "source": [
    "### 230. Fibonacci Words\n",
    "#### ([Back to Top](#Table-of-Contents)) ([Webpage](https://projecteuler.net/problem=230))<div class=\"problem_content\" role=\"problem\">\n",
    "<p>For any two strings of digits, A and B, we define F<sub>A,B</sub> to be the sequence (A,B,AB,BAB,ABBAB,...) in which each term is the concatenation of the previous two.</p>\n",
    "<p>Further, we define D<sub>A,B</sub>(<var>n</var>) to be the <var>n</var><sup>th</sup> digit in the first term of F<sub>A,B</sub> that contains at least <var>n</var> digits.</p>\n",
    "<p>Example:</p>\n",
    "<p>Let A=1415926535, B=8979323846. We wish to find D<sub>A,B</sub>(35), say.</p>\n",
    "<p>The first few terms of F<sub>A,B</sub> are:<br>\n",
    "1415926535<br/>\n",
    "8979323846<br/>\n",
    "14159265358979323846<br/>\n",
    "897932384614159265358979323846<br/>\n",
    "1415926535897932384689793238461415<span style=\"color:#FF0000;\"><b>9</b></span>265358979323846<br/></br></p>\n",
    "<p>Then D<sub>A,B</sub>(35) is the 35<sup>th</sup> digit in the fifth term, which is 9.</p>\n",
    "<p>Now we use for A the first 100 digits of π behind the decimal point:</p>\n",
    "<p>14159265358979323846264338327950288419716939937510 <br/>\n",
    "58209749445923078164062862089986280348253421170679 </p>\n",
    "<p>and for B the next hundred digits:</p>\n",
    "<p>82148086513282306647093844609550582231725359408128 <br/>\n",
    "48111745028410270193852110555964462294895493038196 .</p>\n",
    "<p>Find ∑<sub><var>n</var> = 0,1,...,17</sub>   10<sup><var>n</var></sup>× D<sub>A,B</sub>((127+19<var>n</var>)×7<sup><var>n</var></sup>) .</p>\n",
    "</div>"
   ]
  },
  {
   "cell_type": "code",
   "execution_count": null,
   "metadata": {},
   "outputs": [],
   "source": []
  },
  {
   "cell_type": "markdown",
   "metadata": {},
   "source": [
    "### 231. The prime factorisation of binomial coefficients\n",
    "#### ([Back to Top](#Table-of-Contents)) ([Webpage](https://projecteuler.net/problem=231))<div class=\"problem_content\" role=\"problem\">\n",
    "<p>The binomial coefficient <sup>10</sup>C<sub>3</sub> = 120.<br>\n",
    "120 = 2<sup>3</sup> × 3 × 5 = 2 × 2 × 2 × 3 × 5, and 2 + 2 + 2 + 3 + 5 = 14.<br/>\n",
    "So the sum of the terms in the prime factorisation of <sup>10</sup>C<sub>3</sub> is 14.\n",
    "<br/><br/>\n",
    "Find the sum of the terms in the prime factorisation of <sup>20000000</sup>C<sub>15000000</sub>.\n",
    "</br></p>\n",
    "</div>"
   ]
  },
  {
   "cell_type": "code",
   "execution_count": null,
   "metadata": {},
   "outputs": [],
   "source": []
  },
  {
   "cell_type": "markdown",
   "metadata": {},
   "source": [
    "### 232. The Race\n",
    "#### ([Back to Top](#Table-of-Contents)) ([Webpage](https://projecteuler.net/problem=232))<div class=\"problem_content\" role=\"problem\">\n",
    "<p>Two players share an unbiased coin and take it in turns to play \"The Race\". On Player 1's turn, he tosses the coin once: if it comes up Heads, he scores one point; if it comes up Tails, he scores nothing. On Player 2's turn, she chooses a positive integer <var>T</var> and tosses the coin <var>T</var> times: if it comes up all Heads, she scores 2<sup><var>T</var>-1</sup> points; otherwise, she scores nothing. Player 1 goes first. The winner is the first to 100 or more points.</p>\n",
    "<p>On each turn Player 2 selects the number, <var>T</var>, of coin tosses that maximises the probability of her winning.</p>\n",
    "<p>What is the probability that Player 2 wins?</p>\n",
    "<p>Give your answer rounded to eight decimal places in the form 0.<i>abcdefgh</i> .</p>\n",
    "</div>"
   ]
  },
  {
   "cell_type": "code",
   "execution_count": null,
   "metadata": {},
   "outputs": [],
   "source": []
  },
  {
   "cell_type": "markdown",
   "metadata": {},
   "source": [
    "### 233. Lattice points on a circle\n",
    "#### ([Back to Top](#Table-of-Contents)) ([Webpage](https://projecteuler.net/problem=233))<div class=\"problem_content\" role=\"problem\">\n",
    "<p>Let <var>f</var>(<var>N</var>) be the number of points with integer coordinates that are on a circle passing through (0,0), (<var>N</var>,0),(0,<var>N</var>), and (<var>N</var>,<var>N</var>).</p>\n",
    "<p>It can be shown that <var>f</var>(10000) = 36.</p>\n",
    "<p>What is the sum of all positive integers <var>N</var> ≤ 10<sup>11</sup> such that <var>f</var>(<var>N</var>) = 420 ?</p>\n",
    "</div>"
   ]
  },
  {
   "cell_type": "code",
   "execution_count": null,
   "metadata": {},
   "outputs": [],
   "source": []
  },
  {
   "cell_type": "markdown",
   "metadata": {},
   "source": [
    "### 234. Semidivisible numbers\n",
    "#### ([Back to Top](#Table-of-Contents)) ([Webpage](https://projecteuler.net/problem=234))<div class=\"problem_content\" role=\"problem\">\n",
    "<p>For an integer <var>n</var> ≥ 4, we define the <i>lower prime square root</i> of <var>n</var>, denoted by lps(<var>n</var>), as the largest prime ≤ √<var>n</var> and the <i>upper prime square root</i> of <var>n</var>, ups(<var>n</var>), as the smallest prime ≥ √<var>n</var>.</p>\n",
    "<p>So, for example, lps(4) = 2 = ups(4), lps(1000) = 31, ups(1000) = 37.<br>\n",
    "Let us call an integer <var>n</var> ≥ 4 <i>semidivisible</i>, if one of lps(<var>n</var>) and ups(<var>n</var>) divides <var>n</var>, but not both.</br></p>\n",
    "<p>The sum of the semidivisible numbers not exceeding 15 is 30, the numbers are 8, 10 and 12.<br/> 15 is not semidivisible because it is a multiple of both lps(15) = 3 and ups(15) = 5.<br/>\n",
    "As a further example, the sum of the 92 semidivisible numbers up to 1000 is 34825.</p>\n",
    "<p>What is the sum of all semidivisible numbers not exceeding 999966663333 ?</p>\n",
    "</div>"
   ]
  },
  {
   "cell_type": "code",
   "execution_count": null,
   "metadata": {},
   "outputs": [],
   "source": []
  },
  {
   "cell_type": "markdown",
   "metadata": {},
   "source": [
    "### 235. An Arithmetic Geometric sequence\n",
    "#### ([Back to Top](#Table-of-Contents)) ([Webpage](https://projecteuler.net/problem=235))<div class=\"problem_content\" role=\"problem\">\n",
    "<p>\n",
    "Given is the arithmetic-geometric sequence u(<var>k</var>) = (900-3<var>k</var>)<var>r</var><sup><var>k</var>-1</sup>.<br>\n",
    "Let s(<var>n</var>) = Σ<sub><var>k</var>=1...<var>n</var></sub>u(<var>k</var>).\n",
    "</br></p>\n",
    "<p>\n",
    "Find the value of <var>r</var> for which s(5000) = -600,000,000,000.\n",
    "</p>\n",
    "<p>\n",
    "Give your answer rounded to 12 places behind the decimal point.\n",
    "</p>\n",
    "</div>"
   ]
  },
  {
   "cell_type": "code",
   "execution_count": null,
   "metadata": {},
   "outputs": [],
   "source": []
  },
  {
   "cell_type": "markdown",
   "metadata": {},
   "source": [
    "### 236. Luxury Hampers\n",
    "#### ([Back to Top](#Table-of-Contents)) ([Webpage](https://projecteuler.net/problem=236))<div class=\"problem_content\" role=\"problem\">\n",
    "<p>Suppliers 'A' and 'B' provided the following numbers of products for the luxury hamper market:</p>\n",
    "<p></p><center><table class=\"p236\"><tr><th>Product</th><th style=\"text-align:center;\">'A'</th><th style=\"text-align:center;\">'B'</th></tr><tr><td>Beluga Caviar</td><td>5248</td><td>640</td></tr><tr><td>Christmas Cake</td><td>1312</td><td>1888</td></tr><tr><td>Gammon Joint</td><td>2624</td><td>3776</td></tr><tr><td>Vintage Port</td><td>5760</td><td>3776</td></tr><tr><td>Champagne Truffles</td><td>3936</td><td>5664</td></tr></table></center>\n",
    "<p>Although the suppliers try very hard to ship their goods in perfect condition, there is inevitably some spoilage - <i>i.e.</i> products gone bad.</p>\n",
    "<p>The suppliers compare their performance using two types of statistic:</p><ul><li>The five <i>per-product spoilage rates</i> for each supplier are equal to the number of products gone bad divided by the number of products supplied, for each of the five products in turn.</li>\n",
    "<li>The <i>overall spoilage rate</i> for each supplier is equal to the total number of products gone bad divided by the total number of products provided by that supplier.</li></ul><p>To their surprise, the suppliers found that each of the five per-product spoilage rates was worse (higher) for 'B' than for 'A' by the same factor (ratio of spoilage rates), <var>m</var>&gt;1; and yet, paradoxically, the overall spoilage rate was worse for 'A' than for 'B', also by a factor of <var>m</var>.</p>\n",
    "<p>There are thirty-five <var>m</var>&gt;1 for which this surprising result could have occurred, the smallest of which is 1476/1475.</p>\n",
    "<p>What's the largest possible value of <var>m</var>?<br>\n",
    "Give your answer as a fraction reduced to its lowest terms, in the form <var>u</var>/<var>v</var>.</br></p>\n",
    "</div>"
   ]
  },
  {
   "cell_type": "code",
   "execution_count": null,
   "metadata": {},
   "outputs": [],
   "source": []
  },
  {
   "cell_type": "markdown",
   "metadata": {},
   "source": [
    "### 237. Tours on a 4 x n playing board\n",
    "#### ([Back to Top](#Table-of-Contents)) ([Webpage](https://projecteuler.net/problem=237))<div class=\"problem_content\" role=\"problem\">\n",
    "<p>Let T(<i>n</i>) be the number of tours over a 4 × <i>n</i> playing board such that:</p>\n",
    "<ul><li>The tour starts in the top left corner.</li>\n",
    "<li>The tour consists of moves that are up, down, left, or right one square.</li>\n",
    "<li>The tour visits each square exactly once.</li>\n",
    "<li>The tour ends in the bottom left corner.</li>\n",
    "</ul><p>The diagram shows one tour over a 4 × 10 board:</p>\n",
    "<div style=\"text-align:center;\">\n",
    "<img alt=\"\" class=\"dark_img\" src=\"project/images/p237.gif\"/></div>\n",
    "<p>T(10) is 2329. What is T(10<sup>12</sup>) modulo 10<sup>8</sup>?</p>\n",
    "</div>"
   ]
  },
  {
   "cell_type": "code",
   "execution_count": null,
   "metadata": {},
   "outputs": [],
   "source": []
  },
  {
   "cell_type": "markdown",
   "metadata": {},
   "source": [
    "### 238. Infinite string tour\n",
    "#### ([Back to Top](#Table-of-Contents)) ([Webpage](https://projecteuler.net/problem=238))<div class=\"problem_content\" role=\"problem\">\n",
    "<p>Create a sequence of numbers using the \"Blum Blum Shub\" pseudo-random number generator:</p>\n",
    "<center><table class=\"p238\"><tr><td style=\"text-align:right;\"><var>s</var><sub>0</sub></td>\n",
    "<td>=</td>\n",
    "<td>14025256</td>\n",
    "</tr><tr><td><var>s</var><sub><var>n</var>+1</sub></td>\n",
    "<td>=</td>\n",
    "<td><var>s</var><sub><var>n</var></sub><sup>2</sup> mod 20300713</td>\n",
    "</tr></table></center>\n",
    "<p>Concatenate these numbers  <var>s</var><sub>0</sub><var>s</var><sub>1</sub><var>s</var><sub>2</sub>… to create a string <var>w</var> of infinite length.<br>\n",
    "Then, <var>w</var> = <span style=\"font-family:'courier new';font-size:12pt;color:#3333ff;\">14025256741014958470038053646…</span></br></p>\n",
    "<p>For a positive integer <var>k</var>, if no substring of <var>w</var> exists with a sum of digits equal to <var>k</var>, <var>p</var>(<var>k</var>) is defined to be zero. If at least one substring of <var>w</var> exists with a sum of digits equal to <var>k</var>, we define <var>p</var>(<var>k</var>) = <var>z</var>, where <var>z</var> is the starting position of the earliest such substring.</p>\n",
    "<p>For instance:</p>\n",
    "<p>The substrings <span style=\"font-family:'courier new';font-size:12pt;color:#3333ff;\">1</span>, <span style=\"font-family:'courier new';font-size:12pt;color:#3333ff;\">14</span>, <span style=\"font-family:'courier new';font-size:12pt;color:#3333ff;\">1402</span>, … <br/>\n",
    "with respective sums of digits equal to 1, 5, 7, …<br/>\n",
    "start at position <b>1</b>, hence <var>p</var>(1) = <var>p</var>(5) = <var>p</var>(7) = … = <b>1</b>.</p>\n",
    "<p>The substrings <span style=\"font-family:'courier new';font-size:12pt;color:#3333ff;\">4</span>, <span style=\"font-family:'courier new';font-size:12pt;color:#3333ff;\">402</span>, <span style=\"font-family:'courier new';font-size:12pt;color:#3333ff;\">4025</span>, …<br/>\n",
    "with respective sums of digits equal to 4, 6, 11, …<br/>\n",
    "start at position <b>2</b>, hence <var>p</var>(4) = <var>p</var>(6) = <var>p</var>(11) = … = <b>2</b>.</p>\n",
    "<p>The substrings <span style=\"font-family:'courier new';font-size:12pt;color:#3333ff;\">02</span>, <span style=\"font-family:'courier new';font-size:12pt;color:#3333ff;\">0252</span>, …<br/>\n",
    "with respective sums of digits equal to 2, 9, …<br/>\n",
    "start at position <b>3</b>, hence <var>p</var>(2) = <var>p</var>(9) = … = <b>3</b>.</p><p>\n",
    "</p><p>Note that substring <span style=\"font-family:'courier new';font-size:12pt;color:#3333ff;\">025</span> starting at position <b>3</b>, has a sum of digits equal to 7, but there was an earlier substring (starting at position <b>1</b>) with a sum of digits equal to 7, so <var>p</var>(7) = 1, <i>not</i> 3.</p>\n",
    "<p>We can verify that, for 0 &lt; <var>k</var> ≤ 10<sup>3</sup>, ∑ <var>p</var>(<var>k</var>) = 4742.</p>\n",
    "<p>Find ∑ <var>p</var>(<var>k</var>), for 0 &lt; <var>k</var> ≤ 2·10<sup>15</sup>.</p>\n",
    "</div>"
   ]
  },
  {
   "cell_type": "code",
   "execution_count": null,
   "metadata": {},
   "outputs": [],
   "source": []
  },
  {
   "cell_type": "markdown",
   "metadata": {},
   "source": [
    "### 239. Twenty-two Foolish Primes\n",
    "#### ([Back to Top](#Table-of-Contents)) ([Webpage](https://projecteuler.net/problem=239))<div class=\"problem_content\" role=\"problem\">\n",
    "<p>A set of disks numbered 1 through 100 are placed in a line in random order.</p>\n",
    "<p>What is the probability that we have a partial derangement such that exactly 22 prime number discs are found away from their natural positions?<br>\n",
    "(Any number of non-prime disks may also be found in or out of their natural positions.)</br></p>\n",
    "<p>Give your answer rounded to 12 places behind the decimal point in the form 0.abcdefghijkl.</p>\n",
    "</div>"
   ]
  },
  {
   "cell_type": "code",
   "execution_count": null,
   "metadata": {},
   "outputs": [],
   "source": []
  },
  {
   "cell_type": "markdown",
   "metadata": {},
   "source": [
    "### 240. Top Dice\n",
    "#### ([Back to Top](#Table-of-Contents)) ([Webpage](https://projecteuler.net/problem=240))<div class=\"problem_content\" role=\"problem\">\n",
    "<p>There are 1111 ways in which five 6-sided dice (sides numbered 1 to 6) can be rolled so that the top three sum to 15. Some examples are:\n",
    "\n",
    "<br><br/>\n",
    "D<sub>1</sub>,D<sub>2</sub>,D<sub>3</sub>,D<sub>4</sub>,D<sub>5</sub> = 4,3,6,3,5\n",
    "<br/>\n",
    "D<sub>1</sub>,D<sub>2</sub>,D<sub>3</sub>,D<sub>4</sub>,D<sub>5</sub> = 4,3,3,5,6\n",
    "<br/>\n",
    "D<sub>1</sub>,D<sub>2</sub>,D<sub>3</sub>,D<sub>4</sub>,D<sub>5</sub> = 3,3,3,6,6\n",
    "<br/>\n",
    "D<sub>1</sub>,D<sub>2</sub>,D<sub>3</sub>,D<sub>4</sub>,D<sub>5</sub> = 6,6,3,3,3\n",
    "<br/><br/>\n",
    "In how many ways can twenty 12-sided dice (sides numbered 1 to 12) be rolled so that the top ten sum to 70?</br></p>\n",
    "</div>"
   ]
  },
  {
   "cell_type": "code",
   "execution_count": null,
   "metadata": {},
   "outputs": [],
   "source": []
  },
  {
   "cell_type": "markdown",
   "metadata": {},
   "source": [
    "### 241. Perfection Quotients\n",
    "#### ([Back to Top](#Table-of-Contents)) ([Webpage](https://projecteuler.net/problem=241))<div class=\"problem_content\" role=\"problem\">\n",
    "<p>For a positive integer <var>n</var>, let σ(<var>n</var>) be the sum of all divisors of <var>n</var>, so e.g. σ(6) = 1 + 2 + 3 + 6 = 12.\n",
    "</p>\n",
    "<p>A perfect number, as you probably know, is a number with σ(<var>n</var>) = 2<var>n</var>.</p>\n",
    "<table><tr><td>Let us define the <b>perfection quotient</b> of a positive integer as</td><td><var>p</var>(<var>n</var>)</td><td>= </td>\n",
    "<td><div style=\"text-align:center;\"><span style=\"border-bottom:1px solid #000;\">σ(<var>n</var>)</span><br><var>n</var></br></div></td>\n",
    "<td>.</td>\n",
    "</tr></table><p>Find the sum of all positive integers <var>n</var> ≤ 10<sup>18</sup> for which <var>p</var>(<var>n</var>) has the form <var>k</var> + <sup>1</sup>⁄<sub>2</sub>, where <var>k</var> is an integer.</p>\n",
    "</div>"
   ]
  },
  {
   "cell_type": "code",
   "execution_count": null,
   "metadata": {},
   "outputs": [],
   "source": []
  },
  {
   "cell_type": "markdown",
   "metadata": {},
   "source": [
    "### 242. Odd Triplets\n",
    "#### ([Back to Top](#Table-of-Contents)) ([Webpage](https://projecteuler.net/problem=242))<div class=\"problem_content\" role=\"problem\">\n",
    "<p>Given the set {1,2,...,<var>n</var>}, we define <var>f</var>(<var>n</var>,<var>k</var>) as the number of its <var>k</var>-element subsets with an odd sum of elements. For example, <var>f</var>(5,3) = 4, since the set {1,2,3,4,5} has four 3-element subsets having an odd sum of elements, i.e.: {1,2,4}, {1,3,5}, {2,3,4} and {2,4,5}.</p>\n",
    "<p>When all three values <var>n</var>, <var>k</var> and <var>f</var>(<var>n</var>,<var>k</var>) are odd, we say that they make <br>\n",
    "an <i>odd-triplet</i> [<var>n</var>,<var>k</var>,<var>f</var>(<var>n</var>,<var>k</var>)].</br></p>\n",
    "<p>There are exactly five odd-triplets with <var>n</var> ≤ 10, namely:<br/>\n",
    "[1,1,<var>f</var>(1,1) = 1], [5,1,<var>f</var>(5,1) = 3], [5,5,<var>f</var>(5,5) = 1], [9,1,<var>f</var>(9,1) = 5] and [9,9,<var>f</var>(9,9) = 1].</p>\n",
    "<p>How many odd-triplets are there with <var>n</var> ≤ 10<sup>12</sup> ?</p>\n",
    "</div>"
   ]
  },
  {
   "cell_type": "code",
   "execution_count": null,
   "metadata": {},
   "outputs": [],
   "source": []
  },
  {
   "cell_type": "markdown",
   "metadata": {},
   "source": [
    "### 243. Resilience\n",
    "#### ([Back to Top](#Table-of-Contents)) ([Webpage](https://projecteuler.net/problem=243))<div class=\"problem_content\" role=\"problem\">\n",
    "<p> </p>\n",
    "<p>A positive fraction whose numerator is less than its denominator is called a proper fraction.<br>\n",
    "For any denominator, <var>d</var>, there will be <var>d</var>−1 proper fractions; for example, with <var>d</var> = 12:<br/><sup>1</sup>/<sub>12</sub> , <sup>2</sup>/<sub>12</sub> , <sup>3</sup>/<sub>12</sub> , <sup>4</sup>/<sub>12</sub> , <sup>5</sup>/<sub>12</sub> , <sup>6</sup>/<sub>12</sub> , <sup>7</sup>/<sub>12</sub> , <sup>8</sup>/<sub>12</sub> , <sup>9</sup>/<sub>12</sub> , <sup>10</sup>/<sub>12</sub> , <sup>11</sup>/<sub>12</sub> .\n",
    "</br></p>\n",
    "<p>We shall call a fraction that cannot be cancelled down a <i>resilient fraction</i>.<br/>\n",
    "Furthermore we shall define the <i>resilience</i> of a denominator, <var>R</var>(<var>d</var>), to be the ratio of its proper fractions that are resilient; for example, <var>R</var>(12) = <sup>4</sup>/<sub>11</sub> .<br/>\n",
    "In fact, <var>d</var> = 12 is the smallest denominator having a resilience <var>R</var>(<var>d</var>) &lt; <sup>4</sup>/<sub>10</sub> .</p>\n",
    "<p>Find the smallest denominator <var>d</var>, having a resilience <var>R</var>(<var>d</var>) &lt; <sup>15499</sup>/<sub>94744</sub> .</p>\n",
    "</div>"
   ]
  },
  {
   "cell_type": "code",
   "execution_count": null,
   "metadata": {},
   "outputs": [],
   "source": []
  },
  {
   "cell_type": "markdown",
   "metadata": {},
   "source": [
    "### 244. Sliders\n",
    "#### ([Back to Top](#Table-of-Contents)) ([Webpage](https://projecteuler.net/problem=244))<div class=\"problem_content\" role=\"problem\">\n",
    "<p>You probably know the game <i>Fifteen Puzzle</i>. Here, instead of numbered tiles, we have seven red tiles and eight blue tiles.</p>\n",
    "<p>A move is denoted by the uppercase initial of the direction (Left, Right, Up, Down) in which the tile is slid, e.g. starting from configuration (<b>S</b>), by the sequence <b>LULUR</b> we reach the configuration (<b>E</b>):</p>\n",
    "<p></p><div style=\"text-align:center;\">\n",
    "<table align=\"center\" border=\"0\" cellpadding=\"2\" cellspacing=\"0\"><tr><td width=\"25\">(<b>S</b>)</td><td width=\"100\"><img alt=\"p244_start.gif\" class=\"dark_img\" src=\"project/images/p244_start.gif\"/></td><td width=\"25\">, (<b>E</b>)</td><td width=\"100\"><img alt=\"p244_example.gif\" class=\"dark_img\" src=\"project/images/p244_example.gif\"/></td>\n",
    "</tr></table></div>\n",
    "<p>For each path, its checksum is calculated by (pseudocode):\n",
    "</p><div style=\"margin-left:100px;\">\n",
    "checksum = 0<br>\n",
    "checksum = (checksum × 243 + <var>m</var><sub>1</sub>) mod 100 000 007<br/>\n",
    "checksum = (checksum × 243 + <var>m</var><sub>2</sub>) mod 100 000 007<br/>\n",
    "   …<br/>\n",
    "checksum = (checksum × 243 + <var>m</var><sub><var>n</var></sub>) mod 100 000 007<br/></br></div>\n",
    "where <var>m</var><sub><var>k</var></sub> is the ASCII value of the <var>k</var><sup><var>th</var></sup> letter in the move sequence and the ASCII values for the moves are:\n",
    "\n",
    "<div style=\"text-align:center;\">\n",
    "<table align=\"center\" border=\"1\" cellpadding=\"2\" cellspacing=\"0\"><tr><td width=\"30\"><b>L</b></td><td width=\"30\">76</td></tr><tr><td><b>R</b></td><td>82</td></tr><tr><td><b>U</b></td><td>85</td></tr><tr><td><b>D</b></td><td>68</td></tr></table></div>\n",
    "<p>For the sequence <b>LULUR</b> given above, the checksum would be 19761398.</p>\n",
    "<p>Now, starting from configuration (<b>S</b>),\n",
    "find all shortest ways to reach configuration (<b>T</b>).</p>\n",
    "<p></p><div style=\"text-align:center;\">\n",
    "<table align=\"center\" border=\"0\" cellpadding=\"2\" cellspacing=\"0\"><tr><td width=\"25\">(<b>S</b>)</td><td width=\"100\"><img alt=\"p244_start.gif\" class=\"dark_img\" src=\"project/images/p244_start.gif\"/></td><td width=\"25\">, (<b>T</b>)</td><td width=\"100\"><img alt=\"p244_target.gif\" class=\"dark_img\" src=\"project/images/p244_target.gif\"/></td>\n",
    "</tr></table></div>\n",
    "<p>What is the sum of all checksums for the paths having the minimal length?</p>\n",
    "</div>"
   ]
  },
  {
   "cell_type": "code",
   "execution_count": null,
   "metadata": {},
   "outputs": [],
   "source": []
  },
  {
   "cell_type": "markdown",
   "metadata": {},
   "source": [
    "### 245. Coresilience\n",
    "#### ([Back to Top](#Table-of-Contents)) ([Webpage](https://projecteuler.net/problem=245))<div class=\"problem_content\" role=\"problem\">\n",
    "<p>We shall call a fraction that cannot be cancelled down a resilient fraction.<br> Furthermore we shall define the resilience of a denominator, <var>R</var>(<var>d</var>), to be the ratio of its proper fractions that are resilient; for example, <var>R</var>(12) = <sup>4</sup>⁄<sub>11</sub>.</br></p>\n",
    "<table><tr><td>The resilience of a number <var>d</var> &gt; 1 is then</td>\n",
    "<td><div style=\"text-align:center;\">φ(<var>d</var>)<br/><span style=\"border-top:1px solid #000;\"><var>d</var> − 1</span></div></td>\n",
    "<td>, where φ is Euler's totient function.</td>\n",
    "</tr></table><table><tr><td>We further define the <b>coresilience</b> of a number <var>n</var> &gt; 1 as <var>C</var>(<var>n</var>)</td><td>= </td>\n",
    "<td><div style=\"text-align:center;\"><span style=\"border-bottom:1px solid #000;\"><var>n</var> − φ(<var>n</var>)</span><br/><var>n</var> − 1</div></td><td>.</td>\n",
    "</tr></table><table><tr><td>The coresilience of a prime <var>p</var> is <var>C</var>(<var>p</var>)</td>\n",
    "<td>= </td>\n",
    "<td><div style=\"text-align:center;\">1<br/><span style=\"border-top:1px solid #000;\"><var>p</var> − 1</span></div></td><td>.</td>\n",
    "</tr></table><p>Find the sum of all <b>composite</b> integers 1 &lt; <var>n</var> ≤ 2×10<sup>11</sup>, for which <var>C</var>(<var>n</var>) is a <dfn title=\"A fraction with numerator 1\">unit fraction</dfn>.\n",
    "</p>\n",
    "</div>"
   ]
  },
  {
   "cell_type": "code",
   "execution_count": null,
   "metadata": {},
   "outputs": [],
   "source": []
  },
  {
   "cell_type": "markdown",
   "metadata": {},
   "source": [
    "### 246. Tangents to an ellipse\n",
    "#### ([Back to Top](#Table-of-Contents)) ([Webpage](https://projecteuler.net/problem=246))<div class=\"problem_content\" role=\"problem\">\n",
    "<p>\n",
    "A definition for an ellipse is:<br>\n",
    "Given a circle c with centre M and radius r and a point G such that d(G,M)&lt;r, the locus of the points that are equidistant from c and G form an ellipse.\n",
    "</br></p>\n",
    "The construction of the points of the ellipse is shown below.\n",
    "\n",
    "<div style=\"text-align:center;\">\n",
    "<img alt=\"\" class=\"dark_img\" src=\"project/images/p246_anim.gif\"/></div>\n",
    "<p>\n",
    "Given are the points M(-2000,1500) and G(8000,1500).<br/> \n",
    "Given is also the circle c with centre M and radius 15000.<br/>\n",
    "The locus of the points that are equidistant from G and c form an ellipse e.<br/>\n",
    "From a point P outside e the two tangents t<sub>1</sub> and t<sub>2</sub> to the ellipse are drawn.<br/>\n",
    "Let the points where t<sub>1</sub> and t<sub>2</sub> touch the ellipse be R and S.\n",
    "</p>\n",
    "<div style=\"text-align:center;\">\n",
    "<img alt=\"\" class=\"dark_img\" src=\"project/images/p246_ellipse.gif\"/></div>\n",
    "<p>\n",
    "For how many lattice points P is angle RPS greater than 45 degrees?\n",
    "</p>\n",
    "</div>"
   ]
  },
  {
   "cell_type": "code",
   "execution_count": null,
   "metadata": {},
   "outputs": [],
   "source": []
  },
  {
   "cell_type": "markdown",
   "metadata": {},
   "source": [
    "### 247. Squares under a hyperbola\n",
    "#### ([Back to Top](#Table-of-Contents)) ([Webpage](https://projecteuler.net/problem=247))<div class=\"problem_content\" role=\"problem\">\n",
    "<p>Consider the region constrained by 1 ≤ <var>x</var> and 0 ≤ <var>y</var> ≤ <sup>1</sup>/<sub><var>x</var></sub>.\n",
    "</p><p>\n",
    "Let S<sub>1</sub> be the largest square that can fit under the curve.<br>\n",
    "Let S<sub>2</sub> be the largest square that fits in the remaining area, and so on. <br/>\n",
    "Let the <i>index</i> of S<sub><var>n</var></sub> be the pair (left, below) indicating the number of squares to the left of S<sub><var>n</var></sub> and the number of squares below S<sub><var>n</var></sub>.\n",
    "</br></p>\n",
    "<div style=\"text-align:center;\">\n",
    "<img alt=\"\" class=\"dark_img\" src=\"project/images/p247_hypersquares.gif\"/></div>\n",
    "<p>\n",
    "The diagram shows some such squares labelled by number. <br/>\n",
    "S<sub>2</sub> has one square to its left and none below, so the index of S<sub>2</sub> is (1,0).<br/>\n",
    "It can be seen that the index of S<sub>32</sub> is (1,1) as is the index of S<sub>50</sub>. <br/>\n",
    "50 is the largest <var>n</var> for which the index of S<sub><var>n</var></sub> is (1,1).\n",
    "</p>\n",
    "<p>\n",
    "What is the largest <var>n</var> for which the index of S<sub><var>n</var></sub> is (3,3)?\n",
    "</p>\n",
    "</div>"
   ]
  },
  {
   "cell_type": "code",
   "execution_count": null,
   "metadata": {},
   "outputs": [],
   "source": []
  },
  {
   "cell_type": "markdown",
   "metadata": {},
   "source": [
    "### 248. Numbers for which Euler’s totient function equals 13!\n",
    "#### ([Back to Top](#Table-of-Contents)) ([Webpage](https://projecteuler.net/problem=248))<div class=\"problem_content\" role=\"problem\">\n",
    "<p>The first number n for which φ(n)=13! is 6227180929.</p>\n",
    "<p>Find the 150,000<sup>th</sup> such number.</p>\n",
    "</div>"
   ]
  },
  {
   "cell_type": "code",
   "execution_count": null,
   "metadata": {},
   "outputs": [],
   "source": []
  },
  {
   "cell_type": "markdown",
   "metadata": {},
   "source": [
    "### 249. Prime Subset Sums\n",
    "#### ([Back to Top](#Table-of-Contents)) ([Webpage](https://projecteuler.net/problem=249))<div class=\"problem_content\" role=\"problem\">\n",
    "<p>Let <var>S</var> = {2, 3, 5, ..., 4999} be the set of prime numbers less than 5000.</p>\n",
    "<p>Find the number of subsets of <var>S</var>, the sum of whose elements is a prime number.<br>\n",
    "Enter the rightmost 16 digits as your answer.</br></p>\n",
    "</div>"
   ]
  },
  {
   "cell_type": "code",
   "execution_count": null,
   "metadata": {},
   "outputs": [],
   "source": []
  },
  {
   "cell_type": "markdown",
   "metadata": {},
   "source": [
    "### 250. 250250\n",
    "#### ([Back to Top](#Table-of-Contents)) ([Webpage](https://projecteuler.net/problem=250))<div class=\"problem_content\" role=\"problem\">\n",
    "<p>Find the number of non-empty subsets of {1<sup>1</sup>, 2<sup>2</sup>, 3<sup>3</sup>,..., 250250<sup>250250</sup>}, the sum of whose elements is divisible by 250. Enter the rightmost 16 digits as your answer.</p>\n",
    "</div>"
   ]
  },
  {
   "cell_type": "code",
   "execution_count": null,
   "metadata": {},
   "outputs": [],
   "source": []
  }
 ],
 "metadata": {
  "kernelspec": {
   "display_name": "Python 3",
   "language": "python",
   "name": "python3"
  },
  "language_info": {
   "codemirror_mode": {
    "name": "ipython",
    "version": 3
   },
   "file_extension": ".py",
   "mimetype": "text/x-python",
   "name": "python",
   "nbconvert_exporter": "python",
   "pygments_lexer": "ipython3",
   "version": "3.6.8"
  }
 },
 "nbformat": 4,
 "nbformat_minor": 2
}
